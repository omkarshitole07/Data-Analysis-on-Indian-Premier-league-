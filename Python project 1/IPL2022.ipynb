{
  "nbformat": 4,
  "nbformat_minor": 0,
  "metadata": {
    "colab": {
      "provenance": [],
      "collapsed_sections": []
    },
    "kernelspec": {
      "name": "python3",
      "display_name": "Python 3"
    },
    "language_info": {
      "name": "python"
    }
  },
  "cells": [
    {
      "cell_type": "markdown",
      "source": [
        "**Problem Statement: Analysing two data set IPL Ball By Ball of year 2021 and 2022 for the purpose of determining the chances of the team to win **"
      ],
      "metadata": {
        "id": "60FO9zRfkjdm"
      }
    },
    {
      "cell_type": "markdown",
      "source": [
        "**Mounting Drive with Colab**"
      ],
      "metadata": {
        "id": "EuIuaewtF7_c"
      }
    },
    {
      "cell_type": "code",
      "execution_count": 86,
      "metadata": {
        "colab": {
          "base_uri": "https://localhost:8080/"
        },
        "id": "Fm5zC6GXEtjG",
        "outputId": "05d6f38f-74ed-4fb1-8fe6-b7dfd22ff603"
      },
      "outputs": [
        {
          "output_type": "stream",
          "name": "stdout",
          "text": [
            "Drive already mounted at /content/drive; to attempt to forcibly remount, call drive.mount(\"/content/drive\", force_remount=True).\n"
          ]
        }
      ],
      "source": [
        "from google.colab import drive\n",
        "drive.mount('/content/drive')\n"
      ]
    },
    {
      "cell_type": "markdown",
      "source": [
        "Importing Libraries "
      ],
      "metadata": {
        "id": "P_ja8vvUGNwz"
      }
    },
    {
      "cell_type": "markdown",
      "source": [
        "**Problem Statement**:\n",
        "In this python notebook, analysis of IPL matches played in 2022 is done using python packages like pandas, matplotlib and seaborn. We have conducted an exploratory data analysis on two different datasets, for the purpose of determining what factors may have an impact on a teams chances of winning. The factors we chose to analyze are as follows: Win rate, number of games played, result of the pre-game coin toss, and the venue. We were also curious to know about additional factors, such as: highest performing players."
      ],
      "metadata": {
        "id": "6JN_yX4n6nd8"
      }
    },
    {
      "cell_type": "code",
      "source": [
        "import pandas as pd                               # For data manipulation and analysis.\n",
        "import seaborn as sns                             # Provides a high level interface for drawing attractive and informative statistical graphics.\n",
        "from statistics import mean, median, mode, stdev  # To calculate mathematical statistics of numeric data.\n",
        "import matplotlib.pyplot as plt                   # Plotting library for Python programming language and it's numerical mathematics extension NumPy.\n",
        "import numpy as np                                # Implemennts milti-dimensional array and matrices.\n",
        "import math as m                                  # This module provides access to the mathematical functions.\n",
        "import plotly.express as px                       # Functions that can create entire figures at once.\n",
        "%matplotlib inline"
      ],
      "metadata": {
        "id": "hAwT7mfoFS8M"
      },
      "execution_count": 87,
      "outputs": []
    },
    {
      "cell_type": "code",
      "source": [
        "import os\n",
        "path = '/content/drive/MyDrive/py midterm'\n",
        "os.chdir(path)\n",
        "import omkar as om"
      ],
      "metadata": {
        "id": "AnfmW1S61XRw"
      },
      "execution_count": 88,
      "outputs": []
    },
    {
      "cell_type": "code",
      "source": [
        "B_B=pd.read_csv('/content/drive/MyDrive/py midterm/IPL_Ball_by_Ball_2022.csv')\n",
        "M_D=pd.read_csv('/content/drive/MyDrive/py midterm/IPL_Matches_2022.csv')\n"
      ],
      "metadata": {
        "id": "3NIicCesGiNd"
      },
      "execution_count": 89,
      "outputs": []
    },
    {
      "cell_type": "markdown",
      "source": [
        "**DataSet**"
      ],
      "metadata": {
        "id": "V0ZWxpt19Ji_"
      }
    },
    {
      "cell_type": "code",
      "source": [
        "B_B"
      ],
      "metadata": {
        "id": "8b_5viSga0yB",
        "colab": {
          "base_uri": "https://localhost:8080/",
          "height": 658
        },
        "outputId": "cc4f7a0f-e05c-4fc6-f1e7-7bd9ff4b139b"
      },
      "execution_count": 90,
      "outputs": [
        {
          "output_type": "execute_result",
          "data": {
            "text/plain": [
              "            ID  innings  overs  ballnumber       batter          bowler  \\\n",
              "0      1312200        1      0           1  YBK Jaiswal  Mohammed Shami   \n",
              "1      1312200        1      0           2  YBK Jaiswal  Mohammed Shami   \n",
              "2      1312200        1      0           3   JC Buttler  Mohammed Shami   \n",
              "3      1312200        1      0           4  YBK Jaiswal  Mohammed Shami   \n",
              "4      1312200        1      0           5  YBK Jaiswal  Mohammed Shami   \n",
              "...        ...      ...    ...         ...          ...             ...   \n",
              "17907  1304047        2     17           5      SS Iyer        DJ Bravo   \n",
              "17908  1304047        2     17           6   SP Jackson        DJ Bravo   \n",
              "17909  1304047        2     18           1   SP Jackson        AF Milne   \n",
              "17910  1304047        2     18           2      SS Iyer        AF Milne   \n",
              "17911  1304047        2     18           3      SS Iyer        AF Milne   \n",
              "\n",
              "       non-striker extra_type  batsman_run  extras_run  total_run  \\\n",
              "0       JC Buttler        NaN            0           0          0   \n",
              "1       JC Buttler    legbyes            0           1          1   \n",
              "2      YBK Jaiswal        NaN            1           0          1   \n",
              "3       JC Buttler        NaN            0           0          0   \n",
              "4       JC Buttler        NaN            0           0          0   \n",
              "...            ...        ...          ...         ...        ...   \n",
              "17907   SP Jackson        NaN            1           0          1   \n",
              "17908      SS Iyer        NaN            1           0          1   \n",
              "17909      SS Iyer        NaN            1           0          1   \n",
              "17910   SP Jackson        NaN            2           0          2   \n",
              "17911   SP Jackson        NaN            4           0          4   \n",
              "\n",
              "       non_boundary  isWicketDelivery player_out kind fielders_involved  \\\n",
              "0                 0                 0        NaN  NaN               NaN   \n",
              "1                 0                 0        NaN  NaN               NaN   \n",
              "2                 0                 0        NaN  NaN               NaN   \n",
              "3                 0                 0        NaN  NaN               NaN   \n",
              "4                 0                 0        NaN  NaN               NaN   \n",
              "...             ...               ...        ...  ...               ...   \n",
              "17907             0                 0        NaN  NaN               NaN   \n",
              "17908             0                 0        NaN  NaN               NaN   \n",
              "17909             0                 0        NaN  NaN               NaN   \n",
              "17910             0                 0        NaN  NaN               NaN   \n",
              "17911             0                 0        NaN  NaN               NaN   \n",
              "\n",
              "                 BattingTeam  \n",
              "0           Rajasthan Royals  \n",
              "1           Rajasthan Royals  \n",
              "2           Rajasthan Royals  \n",
              "3           Rajasthan Royals  \n",
              "4           Rajasthan Royals  \n",
              "...                      ...  \n",
              "17907  Kolkata Knight Riders  \n",
              "17908  Kolkata Knight Riders  \n",
              "17909  Kolkata Knight Riders  \n",
              "17910  Kolkata Knight Riders  \n",
              "17911  Kolkata Knight Riders  \n",
              "\n",
              "[17912 rows x 17 columns]"
            ],
            "text/html": [
              "\n",
              "  <div id=\"df-d168f9c6-12af-41e3-90bb-2fa0447ecba4\">\n",
              "    <div class=\"colab-df-container\">\n",
              "      <div>\n",
              "<style scoped>\n",
              "    .dataframe tbody tr th:only-of-type {\n",
              "        vertical-align: middle;\n",
              "    }\n",
              "\n",
              "    .dataframe tbody tr th {\n",
              "        vertical-align: top;\n",
              "    }\n",
              "\n",
              "    .dataframe thead th {\n",
              "        text-align: right;\n",
              "    }\n",
              "</style>\n",
              "<table border=\"1\" class=\"dataframe\">\n",
              "  <thead>\n",
              "    <tr style=\"text-align: right;\">\n",
              "      <th></th>\n",
              "      <th>ID</th>\n",
              "      <th>innings</th>\n",
              "      <th>overs</th>\n",
              "      <th>ballnumber</th>\n",
              "      <th>batter</th>\n",
              "      <th>bowler</th>\n",
              "      <th>non-striker</th>\n",
              "      <th>extra_type</th>\n",
              "      <th>batsman_run</th>\n",
              "      <th>extras_run</th>\n",
              "      <th>total_run</th>\n",
              "      <th>non_boundary</th>\n",
              "      <th>isWicketDelivery</th>\n",
              "      <th>player_out</th>\n",
              "      <th>kind</th>\n",
              "      <th>fielders_involved</th>\n",
              "      <th>BattingTeam</th>\n",
              "    </tr>\n",
              "  </thead>\n",
              "  <tbody>\n",
              "    <tr>\n",
              "      <th>0</th>\n",
              "      <td>1312200</td>\n",
              "      <td>1</td>\n",
              "      <td>0</td>\n",
              "      <td>1</td>\n",
              "      <td>YBK Jaiswal</td>\n",
              "      <td>Mohammed Shami</td>\n",
              "      <td>JC Buttler</td>\n",
              "      <td>NaN</td>\n",
              "      <td>0</td>\n",
              "      <td>0</td>\n",
              "      <td>0</td>\n",
              "      <td>0</td>\n",
              "      <td>0</td>\n",
              "      <td>NaN</td>\n",
              "      <td>NaN</td>\n",
              "      <td>NaN</td>\n",
              "      <td>Rajasthan Royals</td>\n",
              "    </tr>\n",
              "    <tr>\n",
              "      <th>1</th>\n",
              "      <td>1312200</td>\n",
              "      <td>1</td>\n",
              "      <td>0</td>\n",
              "      <td>2</td>\n",
              "      <td>YBK Jaiswal</td>\n",
              "      <td>Mohammed Shami</td>\n",
              "      <td>JC Buttler</td>\n",
              "      <td>legbyes</td>\n",
              "      <td>0</td>\n",
              "      <td>1</td>\n",
              "      <td>1</td>\n",
              "      <td>0</td>\n",
              "      <td>0</td>\n",
              "      <td>NaN</td>\n",
              "      <td>NaN</td>\n",
              "      <td>NaN</td>\n",
              "      <td>Rajasthan Royals</td>\n",
              "    </tr>\n",
              "    <tr>\n",
              "      <th>2</th>\n",
              "      <td>1312200</td>\n",
              "      <td>1</td>\n",
              "      <td>0</td>\n",
              "      <td>3</td>\n",
              "      <td>JC Buttler</td>\n",
              "      <td>Mohammed Shami</td>\n",
              "      <td>YBK Jaiswal</td>\n",
              "      <td>NaN</td>\n",
              "      <td>1</td>\n",
              "      <td>0</td>\n",
              "      <td>1</td>\n",
              "      <td>0</td>\n",
              "      <td>0</td>\n",
              "      <td>NaN</td>\n",
              "      <td>NaN</td>\n",
              "      <td>NaN</td>\n",
              "      <td>Rajasthan Royals</td>\n",
              "    </tr>\n",
              "    <tr>\n",
              "      <th>3</th>\n",
              "      <td>1312200</td>\n",
              "      <td>1</td>\n",
              "      <td>0</td>\n",
              "      <td>4</td>\n",
              "      <td>YBK Jaiswal</td>\n",
              "      <td>Mohammed Shami</td>\n",
              "      <td>JC Buttler</td>\n",
              "      <td>NaN</td>\n",
              "      <td>0</td>\n",
              "      <td>0</td>\n",
              "      <td>0</td>\n",
              "      <td>0</td>\n",
              "      <td>0</td>\n",
              "      <td>NaN</td>\n",
              "      <td>NaN</td>\n",
              "      <td>NaN</td>\n",
              "      <td>Rajasthan Royals</td>\n",
              "    </tr>\n",
              "    <tr>\n",
              "      <th>4</th>\n",
              "      <td>1312200</td>\n",
              "      <td>1</td>\n",
              "      <td>0</td>\n",
              "      <td>5</td>\n",
              "      <td>YBK Jaiswal</td>\n",
              "      <td>Mohammed Shami</td>\n",
              "      <td>JC Buttler</td>\n",
              "      <td>NaN</td>\n",
              "      <td>0</td>\n",
              "      <td>0</td>\n",
              "      <td>0</td>\n",
              "      <td>0</td>\n",
              "      <td>0</td>\n",
              "      <td>NaN</td>\n",
              "      <td>NaN</td>\n",
              "      <td>NaN</td>\n",
              "      <td>Rajasthan Royals</td>\n",
              "    </tr>\n",
              "    <tr>\n",
              "      <th>...</th>\n",
              "      <td>...</td>\n",
              "      <td>...</td>\n",
              "      <td>...</td>\n",
              "      <td>...</td>\n",
              "      <td>...</td>\n",
              "      <td>...</td>\n",
              "      <td>...</td>\n",
              "      <td>...</td>\n",
              "      <td>...</td>\n",
              "      <td>...</td>\n",
              "      <td>...</td>\n",
              "      <td>...</td>\n",
              "      <td>...</td>\n",
              "      <td>...</td>\n",
              "      <td>...</td>\n",
              "      <td>...</td>\n",
              "      <td>...</td>\n",
              "    </tr>\n",
              "    <tr>\n",
              "      <th>17907</th>\n",
              "      <td>1304047</td>\n",
              "      <td>2</td>\n",
              "      <td>17</td>\n",
              "      <td>5</td>\n",
              "      <td>SS Iyer</td>\n",
              "      <td>DJ Bravo</td>\n",
              "      <td>SP Jackson</td>\n",
              "      <td>NaN</td>\n",
              "      <td>1</td>\n",
              "      <td>0</td>\n",
              "      <td>1</td>\n",
              "      <td>0</td>\n",
              "      <td>0</td>\n",
              "      <td>NaN</td>\n",
              "      <td>NaN</td>\n",
              "      <td>NaN</td>\n",
              "      <td>Kolkata Knight Riders</td>\n",
              "    </tr>\n",
              "    <tr>\n",
              "      <th>17908</th>\n",
              "      <td>1304047</td>\n",
              "      <td>2</td>\n",
              "      <td>17</td>\n",
              "      <td>6</td>\n",
              "      <td>SP Jackson</td>\n",
              "      <td>DJ Bravo</td>\n",
              "      <td>SS Iyer</td>\n",
              "      <td>NaN</td>\n",
              "      <td>1</td>\n",
              "      <td>0</td>\n",
              "      <td>1</td>\n",
              "      <td>0</td>\n",
              "      <td>0</td>\n",
              "      <td>NaN</td>\n",
              "      <td>NaN</td>\n",
              "      <td>NaN</td>\n",
              "      <td>Kolkata Knight Riders</td>\n",
              "    </tr>\n",
              "    <tr>\n",
              "      <th>17909</th>\n",
              "      <td>1304047</td>\n",
              "      <td>2</td>\n",
              "      <td>18</td>\n",
              "      <td>1</td>\n",
              "      <td>SP Jackson</td>\n",
              "      <td>AF Milne</td>\n",
              "      <td>SS Iyer</td>\n",
              "      <td>NaN</td>\n",
              "      <td>1</td>\n",
              "      <td>0</td>\n",
              "      <td>1</td>\n",
              "      <td>0</td>\n",
              "      <td>0</td>\n",
              "      <td>NaN</td>\n",
              "      <td>NaN</td>\n",
              "      <td>NaN</td>\n",
              "      <td>Kolkata Knight Riders</td>\n",
              "    </tr>\n",
              "    <tr>\n",
              "      <th>17910</th>\n",
              "      <td>1304047</td>\n",
              "      <td>2</td>\n",
              "      <td>18</td>\n",
              "      <td>2</td>\n",
              "      <td>SS Iyer</td>\n",
              "      <td>AF Milne</td>\n",
              "      <td>SP Jackson</td>\n",
              "      <td>NaN</td>\n",
              "      <td>2</td>\n",
              "      <td>0</td>\n",
              "      <td>2</td>\n",
              "      <td>0</td>\n",
              "      <td>0</td>\n",
              "      <td>NaN</td>\n",
              "      <td>NaN</td>\n",
              "      <td>NaN</td>\n",
              "      <td>Kolkata Knight Riders</td>\n",
              "    </tr>\n",
              "    <tr>\n",
              "      <th>17911</th>\n",
              "      <td>1304047</td>\n",
              "      <td>2</td>\n",
              "      <td>18</td>\n",
              "      <td>3</td>\n",
              "      <td>SS Iyer</td>\n",
              "      <td>AF Milne</td>\n",
              "      <td>SP Jackson</td>\n",
              "      <td>NaN</td>\n",
              "      <td>4</td>\n",
              "      <td>0</td>\n",
              "      <td>4</td>\n",
              "      <td>0</td>\n",
              "      <td>0</td>\n",
              "      <td>NaN</td>\n",
              "      <td>NaN</td>\n",
              "      <td>NaN</td>\n",
              "      <td>Kolkata Knight Riders</td>\n",
              "    </tr>\n",
              "  </tbody>\n",
              "</table>\n",
              "<p>17912 rows × 17 columns</p>\n",
              "</div>\n",
              "      <button class=\"colab-df-convert\" onclick=\"convertToInteractive('df-d168f9c6-12af-41e3-90bb-2fa0447ecba4')\"\n",
              "              title=\"Convert this dataframe to an interactive table.\"\n",
              "              style=\"display:none;\">\n",
              "        \n",
              "  <svg xmlns=\"http://www.w3.org/2000/svg\" height=\"24px\"viewBox=\"0 0 24 24\"\n",
              "       width=\"24px\">\n",
              "    <path d=\"M0 0h24v24H0V0z\" fill=\"none\"/>\n",
              "    <path d=\"M18.56 5.44l.94 2.06.94-2.06 2.06-.94-2.06-.94-.94-2.06-.94 2.06-2.06.94zm-11 1L8.5 8.5l.94-2.06 2.06-.94-2.06-.94L8.5 2.5l-.94 2.06-2.06.94zm10 10l.94 2.06.94-2.06 2.06-.94-2.06-.94-.94-2.06-.94 2.06-2.06.94z\"/><path d=\"M17.41 7.96l-1.37-1.37c-.4-.4-.92-.59-1.43-.59-.52 0-1.04.2-1.43.59L10.3 9.45l-7.72 7.72c-.78.78-.78 2.05 0 2.83L4 21.41c.39.39.9.59 1.41.59.51 0 1.02-.2 1.41-.59l7.78-7.78 2.81-2.81c.8-.78.8-2.07 0-2.86zM5.41 20L4 18.59l7.72-7.72 1.47 1.35L5.41 20z\"/>\n",
              "  </svg>\n",
              "      </button>\n",
              "      \n",
              "  <style>\n",
              "    .colab-df-container {\n",
              "      display:flex;\n",
              "      flex-wrap:wrap;\n",
              "      gap: 12px;\n",
              "    }\n",
              "\n",
              "    .colab-df-convert {\n",
              "      background-color: #E8F0FE;\n",
              "      border: none;\n",
              "      border-radius: 50%;\n",
              "      cursor: pointer;\n",
              "      display: none;\n",
              "      fill: #1967D2;\n",
              "      height: 32px;\n",
              "      padding: 0 0 0 0;\n",
              "      width: 32px;\n",
              "    }\n",
              "\n",
              "    .colab-df-convert:hover {\n",
              "      background-color: #E2EBFA;\n",
              "      box-shadow: 0px 1px 2px rgba(60, 64, 67, 0.3), 0px 1px 3px 1px rgba(60, 64, 67, 0.15);\n",
              "      fill: #174EA6;\n",
              "    }\n",
              "\n",
              "    [theme=dark] .colab-df-convert {\n",
              "      background-color: #3B4455;\n",
              "      fill: #D2E3FC;\n",
              "    }\n",
              "\n",
              "    [theme=dark] .colab-df-convert:hover {\n",
              "      background-color: #434B5C;\n",
              "      box-shadow: 0px 1px 3px 1px rgba(0, 0, 0, 0.15);\n",
              "      filter: drop-shadow(0px 1px 2px rgba(0, 0, 0, 0.3));\n",
              "      fill: #FFFFFF;\n",
              "    }\n",
              "  </style>\n",
              "\n",
              "      <script>\n",
              "        const buttonEl =\n",
              "          document.querySelector('#df-d168f9c6-12af-41e3-90bb-2fa0447ecba4 button.colab-df-convert');\n",
              "        buttonEl.style.display =\n",
              "          google.colab.kernel.accessAllowed ? 'block' : 'none';\n",
              "\n",
              "        async function convertToInteractive(key) {\n",
              "          const element = document.querySelector('#df-d168f9c6-12af-41e3-90bb-2fa0447ecba4');\n",
              "          const dataTable =\n",
              "            await google.colab.kernel.invokeFunction('convertToInteractive',\n",
              "                                                     [key], {});\n",
              "          if (!dataTable) return;\n",
              "\n",
              "          const docLinkHtml = 'Like what you see? Visit the ' +\n",
              "            '<a target=\"_blank\" href=https://colab.research.google.com/notebooks/data_table.ipynb>data table notebook</a>'\n",
              "            + ' to learn more about interactive tables.';\n",
              "          element.innerHTML = '';\n",
              "          dataTable['output_type'] = 'display_data';\n",
              "          await google.colab.output.renderOutput(dataTable, element);\n",
              "          const docLink = document.createElement('div');\n",
              "          docLink.innerHTML = docLinkHtml;\n",
              "          element.appendChild(docLink);\n",
              "        }\n",
              "      </script>\n",
              "    </div>\n",
              "  </div>\n",
              "  "
            ]
          },
          "metadata": {},
          "execution_count": 90
        }
      ]
    },
    {
      "cell_type": "code",
      "source": [
        "M_D               "
      ],
      "metadata": {
        "id": "PGG26uHJWhmt",
        "colab": {
          "base_uri": "https://localhost:8080/",
          "height": 1000
        },
        "outputId": "47b1b7d4-872b-496d-ac08-ddd9680035e8"
      },
      "execution_count": 91,
      "outputs": [
        {
          "output_type": "execute_result",
          "data": {
            "text/plain": [
              "         ID       City        Date  Season  MatchNumber  \\\n",
              "0   1312200  Ahmedabad  2022-05-29    2022        Final   \n",
              "1   1312199  Ahmedabad  2022-05-27    2022  Qualifier 2   \n",
              "2   1312198    Kolkata  2022-05-25    2022   Eliminator   \n",
              "3   1312197    Kolkata  2022-05-24    2022  Qualifier 1   \n",
              "4   1304116     Mumbai  2022-05-22    2022           70   \n",
              "..      ...        ...         ...     ...          ...   \n",
              "69  1304051       Pune  2022-03-29    2022            5   \n",
              "70  1304050     Mumbai  2022-03-28    2022            4   \n",
              "71  1304049     Mumbai  2022-03-27    2022            3   \n",
              "72  1304048     Mumbai  2022-03-27    2022            2   \n",
              "73  1304047     Mumbai  2022-03-26    2022            1   \n",
              "\n",
              "                          Team1                  Team2  \\\n",
              "0              Rajasthan Royals         Gujarat Titans   \n",
              "1   Royal Challengers Bangalore       Rajasthan Royals   \n",
              "2   Royal Challengers Bangalore   Lucknow Super Giants   \n",
              "3              Rajasthan Royals         Gujarat Titans   \n",
              "4           Sunrisers Hyderabad           Punjab Kings   \n",
              "..                          ...                    ...   \n",
              "69             Rajasthan Royals    Sunrisers Hyderabad   \n",
              "70         Lucknow Super Giants         Gujarat Titans   \n",
              "71  Royal Challengers Bangalore           Punjab Kings   \n",
              "72               Mumbai Indians         Delhi Capitals   \n",
              "73          Chennai Super Kings  Kolkata Knight Riders   \n",
              "\n",
              "                                            Venue             TossWinner  \\\n",
              "0                Narendra Modi Stadium, Ahmedabad       Rajasthan Royals   \n",
              "1                Narendra Modi Stadium, Ahmedabad       Rajasthan Royals   \n",
              "2                           Eden Gardens, Kolkata   Lucknow Super Giants   \n",
              "3                           Eden Gardens, Kolkata         Gujarat Titans   \n",
              "4                        Wankhede Stadium, Mumbai    Sunrisers Hyderabad   \n",
              "..                                            ...                    ...   \n",
              "69  Maharashtra Cricket Association Stadium, Pune    Sunrisers Hyderabad   \n",
              "70                       Wankhede Stadium, Mumbai         Gujarat Titans   \n",
              "71             Dr DY Patil Sports Academy, Mumbai           Punjab Kings   \n",
              "72                      Brabourne Stadium, Mumbai         Delhi Capitals   \n",
              "73                       Wankhede Stadium, Mumbai  Kolkata Knight Riders   \n",
              "\n",
              "   TossDecision SuperOver                  WinningTeam    WonBy  Margin  \\\n",
              "0           bat         N               Gujarat Titans  Wickets       7   \n",
              "1         field         N             Rajasthan Royals  Wickets       7   \n",
              "2         field         N  Royal Challengers Bangalore     Runs      14   \n",
              "3         field         N               Gujarat Titans  Wickets       7   \n",
              "4           bat         N                 Punjab Kings  Wickets       5   \n",
              "..          ...       ...                          ...      ...     ...   \n",
              "69        field         N             Rajasthan Royals     Runs      61   \n",
              "70        field         N               Gujarat Titans  Wickets       5   \n",
              "71        field         N                 Punjab Kings  Wickets       5   \n",
              "72        field         N               Delhi Capitals  Wickets       4   \n",
              "73        field         N        Kolkata Knight Riders  Wickets       6   \n",
              "\n",
              "    method Player_of_Match                                       Team1Players  \\\n",
              "0      NaN       HH Pandya  ['YBK Jaiswal', 'JC Buttler', 'SV Samson', 'D ...   \n",
              "1      NaN      JC Buttler  ['V Kohli', 'F du Plessis', 'RM Patidar', 'GJ ...   \n",
              "2      NaN      RM Patidar  ['V Kohli', 'F du Plessis', 'RM Patidar', 'GJ ...   \n",
              "3      NaN       DA Miller  ['YBK Jaiswal', 'JC Buttler', 'SV Samson', 'D ...   \n",
              "4      NaN   Harpreet Brar  ['PK Garg', 'Abhishek Sharma', 'RA Tripathi', ...   \n",
              "..     ...             ...                                                ...   \n",
              "69     NaN       SV Samson  ['JC Buttler', 'YBK Jaiswal', 'SV Samson', 'D ...   \n",
              "70     NaN  Mohammed Shami  ['KL Rahul', 'Q de Kock', 'E Lewis', 'MK Pande...   \n",
              "71     NaN        OF Smith  ['F du Plessis', 'Anuj Rawat', 'V Kohli', 'KD ...   \n",
              "72     NaN   Kuldeep Yadav  ['RG Sharma', 'Ishan Kishan', 'Anmolpreet Sing...   \n",
              "73     NaN        UT Yadav  ['RD Gaikwad', 'DP Conway', 'RV Uthappa', 'AT ...   \n",
              "\n",
              "                                         Team2Players        Umpire1  \\\n",
              "0   ['WP Saha', 'Shubman Gill', 'MS Wade', 'HH Pan...    CB Gaffaney   \n",
              "1   ['YBK Jaiswal', 'JC Buttler', 'SV Samson', 'D ...    CB Gaffaney   \n",
              "2   ['Q de Kock', 'KL Rahul', 'M Vohra', 'DJ Hooda...  J Madanagopal   \n",
              "3   ['WP Saha', 'Shubman Gill', 'MS Wade', 'HH Pan...   BNJ Oxenford   \n",
              "4   ['JM Bairstow', 'S Dhawan', 'M Shahrukh Khan',...   AK Chaudhary   \n",
              "..                                                ...            ...   \n",
              "69  ['KS Williamson', 'Abhishek Sharma', 'RA Tripa...   BNJ Oxenford   \n",
              "70  ['Shubman Gill', 'MS Wade', 'V Shankar', 'HH P...      PG Pathak   \n",
              "71  ['MA Agarwal', 'S Dhawan', 'PBB Rajapaksa', 'L...    Nitin Menon   \n",
              "72  ['PP Shaw', 'TL Seifert', 'Mandeep Singh', 'RR...      RJ Tucker   \n",
              "73  ['AM Rahane', 'VR Iyer', 'N Rana', 'SS Iyer', ...   AK Chaudhary   \n",
              "\n",
              "          Umpire2  \n",
              "0     Nitin Menon  \n",
              "1     Nitin Menon  \n",
              "2        MA Gough  \n",
              "3       VK Sharma  \n",
              "4   NA Patwardhan  \n",
              "..            ...  \n",
              "69      UV Gandhe  \n",
              "70      VK Sharma  \n",
              "71       YC Barde  \n",
              "72     HAS Khalid  \n",
              "73    Nitin Menon  \n",
              "\n",
              "[74 rows x 20 columns]"
            ],
            "text/html": [
              "\n",
              "  <div id=\"df-46928b14-23db-45ce-9f64-1ddd0aaecfe8\">\n",
              "    <div class=\"colab-df-container\">\n",
              "      <div>\n",
              "<style scoped>\n",
              "    .dataframe tbody tr th:only-of-type {\n",
              "        vertical-align: middle;\n",
              "    }\n",
              "\n",
              "    .dataframe tbody tr th {\n",
              "        vertical-align: top;\n",
              "    }\n",
              "\n",
              "    .dataframe thead th {\n",
              "        text-align: right;\n",
              "    }\n",
              "</style>\n",
              "<table border=\"1\" class=\"dataframe\">\n",
              "  <thead>\n",
              "    <tr style=\"text-align: right;\">\n",
              "      <th></th>\n",
              "      <th>ID</th>\n",
              "      <th>City</th>\n",
              "      <th>Date</th>\n",
              "      <th>Season</th>\n",
              "      <th>MatchNumber</th>\n",
              "      <th>Team1</th>\n",
              "      <th>Team2</th>\n",
              "      <th>Venue</th>\n",
              "      <th>TossWinner</th>\n",
              "      <th>TossDecision</th>\n",
              "      <th>SuperOver</th>\n",
              "      <th>WinningTeam</th>\n",
              "      <th>WonBy</th>\n",
              "      <th>Margin</th>\n",
              "      <th>method</th>\n",
              "      <th>Player_of_Match</th>\n",
              "      <th>Team1Players</th>\n",
              "      <th>Team2Players</th>\n",
              "      <th>Umpire1</th>\n",
              "      <th>Umpire2</th>\n",
              "    </tr>\n",
              "  </thead>\n",
              "  <tbody>\n",
              "    <tr>\n",
              "      <th>0</th>\n",
              "      <td>1312200</td>\n",
              "      <td>Ahmedabad</td>\n",
              "      <td>2022-05-29</td>\n",
              "      <td>2022</td>\n",
              "      <td>Final</td>\n",
              "      <td>Rajasthan Royals</td>\n",
              "      <td>Gujarat Titans</td>\n",
              "      <td>Narendra Modi Stadium, Ahmedabad</td>\n",
              "      <td>Rajasthan Royals</td>\n",
              "      <td>bat</td>\n",
              "      <td>N</td>\n",
              "      <td>Gujarat Titans</td>\n",
              "      <td>Wickets</td>\n",
              "      <td>7</td>\n",
              "      <td>NaN</td>\n",
              "      <td>HH Pandya</td>\n",
              "      <td>['YBK Jaiswal', 'JC Buttler', 'SV Samson', 'D ...</td>\n",
              "      <td>['WP Saha', 'Shubman Gill', 'MS Wade', 'HH Pan...</td>\n",
              "      <td>CB Gaffaney</td>\n",
              "      <td>Nitin Menon</td>\n",
              "    </tr>\n",
              "    <tr>\n",
              "      <th>1</th>\n",
              "      <td>1312199</td>\n",
              "      <td>Ahmedabad</td>\n",
              "      <td>2022-05-27</td>\n",
              "      <td>2022</td>\n",
              "      <td>Qualifier 2</td>\n",
              "      <td>Royal Challengers Bangalore</td>\n",
              "      <td>Rajasthan Royals</td>\n",
              "      <td>Narendra Modi Stadium, Ahmedabad</td>\n",
              "      <td>Rajasthan Royals</td>\n",
              "      <td>field</td>\n",
              "      <td>N</td>\n",
              "      <td>Rajasthan Royals</td>\n",
              "      <td>Wickets</td>\n",
              "      <td>7</td>\n",
              "      <td>NaN</td>\n",
              "      <td>JC Buttler</td>\n",
              "      <td>['V Kohli', 'F du Plessis', 'RM Patidar', 'GJ ...</td>\n",
              "      <td>['YBK Jaiswal', 'JC Buttler', 'SV Samson', 'D ...</td>\n",
              "      <td>CB Gaffaney</td>\n",
              "      <td>Nitin Menon</td>\n",
              "    </tr>\n",
              "    <tr>\n",
              "      <th>2</th>\n",
              "      <td>1312198</td>\n",
              "      <td>Kolkata</td>\n",
              "      <td>2022-05-25</td>\n",
              "      <td>2022</td>\n",
              "      <td>Eliminator</td>\n",
              "      <td>Royal Challengers Bangalore</td>\n",
              "      <td>Lucknow Super Giants</td>\n",
              "      <td>Eden Gardens, Kolkata</td>\n",
              "      <td>Lucknow Super Giants</td>\n",
              "      <td>field</td>\n",
              "      <td>N</td>\n",
              "      <td>Royal Challengers Bangalore</td>\n",
              "      <td>Runs</td>\n",
              "      <td>14</td>\n",
              "      <td>NaN</td>\n",
              "      <td>RM Patidar</td>\n",
              "      <td>['V Kohli', 'F du Plessis', 'RM Patidar', 'GJ ...</td>\n",
              "      <td>['Q de Kock', 'KL Rahul', 'M Vohra', 'DJ Hooda...</td>\n",
              "      <td>J Madanagopal</td>\n",
              "      <td>MA Gough</td>\n",
              "    </tr>\n",
              "    <tr>\n",
              "      <th>3</th>\n",
              "      <td>1312197</td>\n",
              "      <td>Kolkata</td>\n",
              "      <td>2022-05-24</td>\n",
              "      <td>2022</td>\n",
              "      <td>Qualifier 1</td>\n",
              "      <td>Rajasthan Royals</td>\n",
              "      <td>Gujarat Titans</td>\n",
              "      <td>Eden Gardens, Kolkata</td>\n",
              "      <td>Gujarat Titans</td>\n",
              "      <td>field</td>\n",
              "      <td>N</td>\n",
              "      <td>Gujarat Titans</td>\n",
              "      <td>Wickets</td>\n",
              "      <td>7</td>\n",
              "      <td>NaN</td>\n",
              "      <td>DA Miller</td>\n",
              "      <td>['YBK Jaiswal', 'JC Buttler', 'SV Samson', 'D ...</td>\n",
              "      <td>['WP Saha', 'Shubman Gill', 'MS Wade', 'HH Pan...</td>\n",
              "      <td>BNJ Oxenford</td>\n",
              "      <td>VK Sharma</td>\n",
              "    </tr>\n",
              "    <tr>\n",
              "      <th>4</th>\n",
              "      <td>1304116</td>\n",
              "      <td>Mumbai</td>\n",
              "      <td>2022-05-22</td>\n",
              "      <td>2022</td>\n",
              "      <td>70</td>\n",
              "      <td>Sunrisers Hyderabad</td>\n",
              "      <td>Punjab Kings</td>\n",
              "      <td>Wankhede Stadium, Mumbai</td>\n",
              "      <td>Sunrisers Hyderabad</td>\n",
              "      <td>bat</td>\n",
              "      <td>N</td>\n",
              "      <td>Punjab Kings</td>\n",
              "      <td>Wickets</td>\n",
              "      <td>5</td>\n",
              "      <td>NaN</td>\n",
              "      <td>Harpreet Brar</td>\n",
              "      <td>['PK Garg', 'Abhishek Sharma', 'RA Tripathi', ...</td>\n",
              "      <td>['JM Bairstow', 'S Dhawan', 'M Shahrukh Khan',...</td>\n",
              "      <td>AK Chaudhary</td>\n",
              "      <td>NA Patwardhan</td>\n",
              "    </tr>\n",
              "    <tr>\n",
              "      <th>...</th>\n",
              "      <td>...</td>\n",
              "      <td>...</td>\n",
              "      <td>...</td>\n",
              "      <td>...</td>\n",
              "      <td>...</td>\n",
              "      <td>...</td>\n",
              "      <td>...</td>\n",
              "      <td>...</td>\n",
              "      <td>...</td>\n",
              "      <td>...</td>\n",
              "      <td>...</td>\n",
              "      <td>...</td>\n",
              "      <td>...</td>\n",
              "      <td>...</td>\n",
              "      <td>...</td>\n",
              "      <td>...</td>\n",
              "      <td>...</td>\n",
              "      <td>...</td>\n",
              "      <td>...</td>\n",
              "      <td>...</td>\n",
              "    </tr>\n",
              "    <tr>\n",
              "      <th>69</th>\n",
              "      <td>1304051</td>\n",
              "      <td>Pune</td>\n",
              "      <td>2022-03-29</td>\n",
              "      <td>2022</td>\n",
              "      <td>5</td>\n",
              "      <td>Rajasthan Royals</td>\n",
              "      <td>Sunrisers Hyderabad</td>\n",
              "      <td>Maharashtra Cricket Association Stadium, Pune</td>\n",
              "      <td>Sunrisers Hyderabad</td>\n",
              "      <td>field</td>\n",
              "      <td>N</td>\n",
              "      <td>Rajasthan Royals</td>\n",
              "      <td>Runs</td>\n",
              "      <td>61</td>\n",
              "      <td>NaN</td>\n",
              "      <td>SV Samson</td>\n",
              "      <td>['JC Buttler', 'YBK Jaiswal', 'SV Samson', 'D ...</td>\n",
              "      <td>['KS Williamson', 'Abhishek Sharma', 'RA Tripa...</td>\n",
              "      <td>BNJ Oxenford</td>\n",
              "      <td>UV Gandhe</td>\n",
              "    </tr>\n",
              "    <tr>\n",
              "      <th>70</th>\n",
              "      <td>1304050</td>\n",
              "      <td>Mumbai</td>\n",
              "      <td>2022-03-28</td>\n",
              "      <td>2022</td>\n",
              "      <td>4</td>\n",
              "      <td>Lucknow Super Giants</td>\n",
              "      <td>Gujarat Titans</td>\n",
              "      <td>Wankhede Stadium, Mumbai</td>\n",
              "      <td>Gujarat Titans</td>\n",
              "      <td>field</td>\n",
              "      <td>N</td>\n",
              "      <td>Gujarat Titans</td>\n",
              "      <td>Wickets</td>\n",
              "      <td>5</td>\n",
              "      <td>NaN</td>\n",
              "      <td>Mohammed Shami</td>\n",
              "      <td>['KL Rahul', 'Q de Kock', 'E Lewis', 'MK Pande...</td>\n",
              "      <td>['Shubman Gill', 'MS Wade', 'V Shankar', 'HH P...</td>\n",
              "      <td>PG Pathak</td>\n",
              "      <td>VK Sharma</td>\n",
              "    </tr>\n",
              "    <tr>\n",
              "      <th>71</th>\n",
              "      <td>1304049</td>\n",
              "      <td>Mumbai</td>\n",
              "      <td>2022-03-27</td>\n",
              "      <td>2022</td>\n",
              "      <td>3</td>\n",
              "      <td>Royal Challengers Bangalore</td>\n",
              "      <td>Punjab Kings</td>\n",
              "      <td>Dr DY Patil Sports Academy, Mumbai</td>\n",
              "      <td>Punjab Kings</td>\n",
              "      <td>field</td>\n",
              "      <td>N</td>\n",
              "      <td>Punjab Kings</td>\n",
              "      <td>Wickets</td>\n",
              "      <td>5</td>\n",
              "      <td>NaN</td>\n",
              "      <td>OF Smith</td>\n",
              "      <td>['F du Plessis', 'Anuj Rawat', 'V Kohli', 'KD ...</td>\n",
              "      <td>['MA Agarwal', 'S Dhawan', 'PBB Rajapaksa', 'L...</td>\n",
              "      <td>Nitin Menon</td>\n",
              "      <td>YC Barde</td>\n",
              "    </tr>\n",
              "    <tr>\n",
              "      <th>72</th>\n",
              "      <td>1304048</td>\n",
              "      <td>Mumbai</td>\n",
              "      <td>2022-03-27</td>\n",
              "      <td>2022</td>\n",
              "      <td>2</td>\n",
              "      <td>Mumbai Indians</td>\n",
              "      <td>Delhi Capitals</td>\n",
              "      <td>Brabourne Stadium, Mumbai</td>\n",
              "      <td>Delhi Capitals</td>\n",
              "      <td>field</td>\n",
              "      <td>N</td>\n",
              "      <td>Delhi Capitals</td>\n",
              "      <td>Wickets</td>\n",
              "      <td>4</td>\n",
              "      <td>NaN</td>\n",
              "      <td>Kuldeep Yadav</td>\n",
              "      <td>['RG Sharma', 'Ishan Kishan', 'Anmolpreet Sing...</td>\n",
              "      <td>['PP Shaw', 'TL Seifert', 'Mandeep Singh', 'RR...</td>\n",
              "      <td>RJ Tucker</td>\n",
              "      <td>HAS Khalid</td>\n",
              "    </tr>\n",
              "    <tr>\n",
              "      <th>73</th>\n",
              "      <td>1304047</td>\n",
              "      <td>Mumbai</td>\n",
              "      <td>2022-03-26</td>\n",
              "      <td>2022</td>\n",
              "      <td>1</td>\n",
              "      <td>Chennai Super Kings</td>\n",
              "      <td>Kolkata Knight Riders</td>\n",
              "      <td>Wankhede Stadium, Mumbai</td>\n",
              "      <td>Kolkata Knight Riders</td>\n",
              "      <td>field</td>\n",
              "      <td>N</td>\n",
              "      <td>Kolkata Knight Riders</td>\n",
              "      <td>Wickets</td>\n",
              "      <td>6</td>\n",
              "      <td>NaN</td>\n",
              "      <td>UT Yadav</td>\n",
              "      <td>['RD Gaikwad', 'DP Conway', 'RV Uthappa', 'AT ...</td>\n",
              "      <td>['AM Rahane', 'VR Iyer', 'N Rana', 'SS Iyer', ...</td>\n",
              "      <td>AK Chaudhary</td>\n",
              "      <td>Nitin Menon</td>\n",
              "    </tr>\n",
              "  </tbody>\n",
              "</table>\n",
              "<p>74 rows × 20 columns</p>\n",
              "</div>\n",
              "      <button class=\"colab-df-convert\" onclick=\"convertToInteractive('df-46928b14-23db-45ce-9f64-1ddd0aaecfe8')\"\n",
              "              title=\"Convert this dataframe to an interactive table.\"\n",
              "              style=\"display:none;\">\n",
              "        \n",
              "  <svg xmlns=\"http://www.w3.org/2000/svg\" height=\"24px\"viewBox=\"0 0 24 24\"\n",
              "       width=\"24px\">\n",
              "    <path d=\"M0 0h24v24H0V0z\" fill=\"none\"/>\n",
              "    <path d=\"M18.56 5.44l.94 2.06.94-2.06 2.06-.94-2.06-.94-.94-2.06-.94 2.06-2.06.94zm-11 1L8.5 8.5l.94-2.06 2.06-.94-2.06-.94L8.5 2.5l-.94 2.06-2.06.94zm10 10l.94 2.06.94-2.06 2.06-.94-2.06-.94-.94-2.06-.94 2.06-2.06.94z\"/><path d=\"M17.41 7.96l-1.37-1.37c-.4-.4-.92-.59-1.43-.59-.52 0-1.04.2-1.43.59L10.3 9.45l-7.72 7.72c-.78.78-.78 2.05 0 2.83L4 21.41c.39.39.9.59 1.41.59.51 0 1.02-.2 1.41-.59l7.78-7.78 2.81-2.81c.8-.78.8-2.07 0-2.86zM5.41 20L4 18.59l7.72-7.72 1.47 1.35L5.41 20z\"/>\n",
              "  </svg>\n",
              "      </button>\n",
              "      \n",
              "  <style>\n",
              "    .colab-df-container {\n",
              "      display:flex;\n",
              "      flex-wrap:wrap;\n",
              "      gap: 12px;\n",
              "    }\n",
              "\n",
              "    .colab-df-convert {\n",
              "      background-color: #E8F0FE;\n",
              "      border: none;\n",
              "      border-radius: 50%;\n",
              "      cursor: pointer;\n",
              "      display: none;\n",
              "      fill: #1967D2;\n",
              "      height: 32px;\n",
              "      padding: 0 0 0 0;\n",
              "      width: 32px;\n",
              "    }\n",
              "\n",
              "    .colab-df-convert:hover {\n",
              "      background-color: #E2EBFA;\n",
              "      box-shadow: 0px 1px 2px rgba(60, 64, 67, 0.3), 0px 1px 3px 1px rgba(60, 64, 67, 0.15);\n",
              "      fill: #174EA6;\n",
              "    }\n",
              "\n",
              "    [theme=dark] .colab-df-convert {\n",
              "      background-color: #3B4455;\n",
              "      fill: #D2E3FC;\n",
              "    }\n",
              "\n",
              "    [theme=dark] .colab-df-convert:hover {\n",
              "      background-color: #434B5C;\n",
              "      box-shadow: 0px 1px 3px 1px rgba(0, 0, 0, 0.15);\n",
              "      filter: drop-shadow(0px 1px 2px rgba(0, 0, 0, 0.3));\n",
              "      fill: #FFFFFF;\n",
              "    }\n",
              "  </style>\n",
              "\n",
              "      <script>\n",
              "        const buttonEl =\n",
              "          document.querySelector('#df-46928b14-23db-45ce-9f64-1ddd0aaecfe8 button.colab-df-convert');\n",
              "        buttonEl.style.display =\n",
              "          google.colab.kernel.accessAllowed ? 'block' : 'none';\n",
              "\n",
              "        async function convertToInteractive(key) {\n",
              "          const element = document.querySelector('#df-46928b14-23db-45ce-9f64-1ddd0aaecfe8');\n",
              "          const dataTable =\n",
              "            await google.colab.kernel.invokeFunction('convertToInteractive',\n",
              "                                                     [key], {});\n",
              "          if (!dataTable) return;\n",
              "\n",
              "          const docLinkHtml = 'Like what you see? Visit the ' +\n",
              "            '<a target=\"_blank\" href=https://colab.research.google.com/notebooks/data_table.ipynb>data table notebook</a>'\n",
              "            + ' to learn more about interactive tables.';\n",
              "          element.innerHTML = '';\n",
              "          dataTable['output_type'] = 'display_data';\n",
              "          await google.colab.output.renderOutput(dataTable, element);\n",
              "          const docLink = document.createElement('div');\n",
              "          docLink.innerHTML = docLinkHtml;\n",
              "          element.appendChild(docLink);\n",
              "        }\n",
              "      </script>\n",
              "    </div>\n",
              "  </div>\n",
              "  "
            ]
          },
          "metadata": {},
          "execution_count": 91
        }
      ]
    },
    {
      "cell_type": "markdown",
      "source": [
        "**Checking the Datatype of the columns**"
      ],
      "metadata": {
        "id": "5nt9Tt9ioTmN"
      }
    },
    {
      "cell_type": "code",
      "source": [
        "print(B_B.dtypes)                                                      # DataType of each column."
      ],
      "metadata": {
        "id": "SsoHTGOuoWI_",
        "outputId": "3fcb480b-d930-4d46-d408-0fe93a4fbe4e",
        "colab": {
          "base_uri": "https://localhost:8080/"
        }
      },
      "execution_count": 92,
      "outputs": [
        {
          "output_type": "stream",
          "name": "stdout",
          "text": [
            "ID                    int64\n",
            "innings               int64\n",
            "overs                 int64\n",
            "ballnumber            int64\n",
            "batter               object\n",
            "bowler               object\n",
            "non-striker          object\n",
            "extra_type           object\n",
            "batsman_run           int64\n",
            "extras_run            int64\n",
            "total_run             int64\n",
            "non_boundary          int64\n",
            "isWicketDelivery      int64\n",
            "player_out           object\n",
            "kind                 object\n",
            "fielders_involved    object\n",
            "BattingTeam          object\n",
            "dtype: object\n"
          ]
        }
      ]
    },
    {
      "cell_type": "code",
      "source": [
        "print(M_D.dtypes)"
      ],
      "metadata": {
        "id": "Ku6l18v2ooKo",
        "outputId": "fb286398-5c3a-4cb5-fb80-835730dac27f",
        "colab": {
          "base_uri": "https://localhost:8080/"
        }
      },
      "execution_count": 93,
      "outputs": [
        {
          "output_type": "stream",
          "name": "stdout",
          "text": [
            "ID                   int64\n",
            "City                object\n",
            "Date                object\n",
            "Season               int64\n",
            "MatchNumber         object\n",
            "Team1               object\n",
            "Team2               object\n",
            "Venue               object\n",
            "TossWinner          object\n",
            "TossDecision        object\n",
            "SuperOver           object\n",
            "WinningTeam         object\n",
            "WonBy               object\n",
            "Margin               int64\n",
            "method             float64\n",
            "Player_of_Match     object\n",
            "Team1Players        object\n",
            "Team2Players        object\n",
            "Umpire1             object\n",
            "Umpire2             object\n",
            "dtype: object\n"
          ]
        }
      ]
    },
    {
      "cell_type": "markdown",
      "source": [
        "**Understanging the DataSetbold text**"
      ],
      "metadata": {
        "id": "X3xc2cJ8nexM"
      }
    },
    {
      "cell_type": "markdown",
      "source": [],
      "metadata": {
        "id": "lr4eOF8ikfnb"
      }
    },
    {
      "cell_type": "code",
      "source": [
        "B_B.shape                         #The shape of a DataSet is a tuple of array dimensions that tells the number of rows and columns of a given DataFrame."
      ],
      "metadata": {
        "id": "1wAbbZhydV2A",
        "outputId": "8461820e-28d9-42a2-aaae-fa96690e92f2",
        "colab": {
          "base_uri": "https://localhost:8080/"
        }
      },
      "execution_count": 94,
      "outputs": [
        {
          "output_type": "execute_result",
          "data": {
            "text/plain": [
              "(17912, 17)"
            ]
          },
          "metadata": {},
          "execution_count": 94
        }
      ]
    },
    {
      "cell_type": "code",
      "source": [
        "M_D.shape"
      ],
      "metadata": {
        "id": "XaJQ9CMTdaWF",
        "outputId": "d15e7a78-9e07-4bba-b479-4af2632bd6f6",
        "colab": {
          "base_uri": "https://localhost:8080/"
        }
      },
      "execution_count": 95,
      "outputs": [
        {
          "output_type": "execute_result",
          "data": {
            "text/plain": [
              "(74, 20)"
            ]
          },
          "metadata": {},
          "execution_count": 95
        }
      ]
    },
    {
      "cell_type": "code",
      "source": [
        "B_B.columns                      # The columns of a DataSet tells the name of all columns names "
      ],
      "metadata": {
        "id": "jFMfZYoWdkO4",
        "outputId": "a676640f-0447-4f94-8c3b-c48235ff348c",
        "colab": {
          "base_uri": "https://localhost:8080/"
        }
      },
      "execution_count": 96,
      "outputs": [
        {
          "output_type": "execute_result",
          "data": {
            "text/plain": [
              "Index(['ID', 'innings', 'overs', 'ballnumber', 'batter', 'bowler',\n",
              "       'non-striker', 'extra_type', 'batsman_run', 'extras_run', 'total_run',\n",
              "       'non_boundary', 'isWicketDelivery', 'player_out', 'kind',\n",
              "       'fielders_involved', 'BattingTeam'],\n",
              "      dtype='object')"
            ]
          },
          "metadata": {},
          "execution_count": 96
        }
      ]
    },
    {
      "cell_type": "code",
      "source": [
        "M_D.columns"
      ],
      "metadata": {
        "id": "aPqKuarddsHx",
        "outputId": "cf3c9401-fc8e-412d-f831-8a736de025df",
        "colab": {
          "base_uri": "https://localhost:8080/"
        }
      },
      "execution_count": 97,
      "outputs": [
        {
          "output_type": "execute_result",
          "data": {
            "text/plain": [
              "Index(['ID', 'City', 'Date', 'Season', 'MatchNumber', 'Team1', 'Team2',\n",
              "       'Venue', 'TossWinner', 'TossDecision', 'SuperOver', 'WinningTeam',\n",
              "       'WonBy', 'Margin', 'method', 'Player_of_Match', 'Team1Players',\n",
              "       'Team2Players', 'Umpire1', 'Umpire2'],\n",
              "      dtype='object')"
            ]
          },
          "metadata": {},
          "execution_count": 97
        }
      ]
    },
    {
      "cell_type": "code",
      "source": [
        "B_B.head()                        #This function returns the first n rows for the object based on position top."
      ],
      "metadata": {
        "id": "kuVRq6zkd1q4",
        "outputId": "976ea7d0-e873-4fc5-f205-3f15de20c2de",
        "colab": {
          "base_uri": "https://localhost:8080/",
          "height": 354
        }
      },
      "execution_count": 98,
      "outputs": [
        {
          "output_type": "execute_result",
          "data": {
            "text/plain": [
              "        ID  innings  overs  ballnumber       batter          bowler  \\\n",
              "0  1312200        1      0           1  YBK Jaiswal  Mohammed Shami   \n",
              "1  1312200        1      0           2  YBK Jaiswal  Mohammed Shami   \n",
              "2  1312200        1      0           3   JC Buttler  Mohammed Shami   \n",
              "3  1312200        1      0           4  YBK Jaiswal  Mohammed Shami   \n",
              "4  1312200        1      0           5  YBK Jaiswal  Mohammed Shami   \n",
              "\n",
              "   non-striker extra_type  batsman_run  extras_run  total_run  non_boundary  \\\n",
              "0   JC Buttler        NaN            0           0          0             0   \n",
              "1   JC Buttler    legbyes            0           1          1             0   \n",
              "2  YBK Jaiswal        NaN            1           0          1             0   \n",
              "3   JC Buttler        NaN            0           0          0             0   \n",
              "4   JC Buttler        NaN            0           0          0             0   \n",
              "\n",
              "   isWicketDelivery player_out kind fielders_involved       BattingTeam  \n",
              "0                 0        NaN  NaN               NaN  Rajasthan Royals  \n",
              "1                 0        NaN  NaN               NaN  Rajasthan Royals  \n",
              "2                 0        NaN  NaN               NaN  Rajasthan Royals  \n",
              "3                 0        NaN  NaN               NaN  Rajasthan Royals  \n",
              "4                 0        NaN  NaN               NaN  Rajasthan Royals  "
            ],
            "text/html": [
              "\n",
              "  <div id=\"df-b4dca531-2ef5-4509-973a-479190d667df\">\n",
              "    <div class=\"colab-df-container\">\n",
              "      <div>\n",
              "<style scoped>\n",
              "    .dataframe tbody tr th:only-of-type {\n",
              "        vertical-align: middle;\n",
              "    }\n",
              "\n",
              "    .dataframe tbody tr th {\n",
              "        vertical-align: top;\n",
              "    }\n",
              "\n",
              "    .dataframe thead th {\n",
              "        text-align: right;\n",
              "    }\n",
              "</style>\n",
              "<table border=\"1\" class=\"dataframe\">\n",
              "  <thead>\n",
              "    <tr style=\"text-align: right;\">\n",
              "      <th></th>\n",
              "      <th>ID</th>\n",
              "      <th>innings</th>\n",
              "      <th>overs</th>\n",
              "      <th>ballnumber</th>\n",
              "      <th>batter</th>\n",
              "      <th>bowler</th>\n",
              "      <th>non-striker</th>\n",
              "      <th>extra_type</th>\n",
              "      <th>batsman_run</th>\n",
              "      <th>extras_run</th>\n",
              "      <th>total_run</th>\n",
              "      <th>non_boundary</th>\n",
              "      <th>isWicketDelivery</th>\n",
              "      <th>player_out</th>\n",
              "      <th>kind</th>\n",
              "      <th>fielders_involved</th>\n",
              "      <th>BattingTeam</th>\n",
              "    </tr>\n",
              "  </thead>\n",
              "  <tbody>\n",
              "    <tr>\n",
              "      <th>0</th>\n",
              "      <td>1312200</td>\n",
              "      <td>1</td>\n",
              "      <td>0</td>\n",
              "      <td>1</td>\n",
              "      <td>YBK Jaiswal</td>\n",
              "      <td>Mohammed Shami</td>\n",
              "      <td>JC Buttler</td>\n",
              "      <td>NaN</td>\n",
              "      <td>0</td>\n",
              "      <td>0</td>\n",
              "      <td>0</td>\n",
              "      <td>0</td>\n",
              "      <td>0</td>\n",
              "      <td>NaN</td>\n",
              "      <td>NaN</td>\n",
              "      <td>NaN</td>\n",
              "      <td>Rajasthan Royals</td>\n",
              "    </tr>\n",
              "    <tr>\n",
              "      <th>1</th>\n",
              "      <td>1312200</td>\n",
              "      <td>1</td>\n",
              "      <td>0</td>\n",
              "      <td>2</td>\n",
              "      <td>YBK Jaiswal</td>\n",
              "      <td>Mohammed Shami</td>\n",
              "      <td>JC Buttler</td>\n",
              "      <td>legbyes</td>\n",
              "      <td>0</td>\n",
              "      <td>1</td>\n",
              "      <td>1</td>\n",
              "      <td>0</td>\n",
              "      <td>0</td>\n",
              "      <td>NaN</td>\n",
              "      <td>NaN</td>\n",
              "      <td>NaN</td>\n",
              "      <td>Rajasthan Royals</td>\n",
              "    </tr>\n",
              "    <tr>\n",
              "      <th>2</th>\n",
              "      <td>1312200</td>\n",
              "      <td>1</td>\n",
              "      <td>0</td>\n",
              "      <td>3</td>\n",
              "      <td>JC Buttler</td>\n",
              "      <td>Mohammed Shami</td>\n",
              "      <td>YBK Jaiswal</td>\n",
              "      <td>NaN</td>\n",
              "      <td>1</td>\n",
              "      <td>0</td>\n",
              "      <td>1</td>\n",
              "      <td>0</td>\n",
              "      <td>0</td>\n",
              "      <td>NaN</td>\n",
              "      <td>NaN</td>\n",
              "      <td>NaN</td>\n",
              "      <td>Rajasthan Royals</td>\n",
              "    </tr>\n",
              "    <tr>\n",
              "      <th>3</th>\n",
              "      <td>1312200</td>\n",
              "      <td>1</td>\n",
              "      <td>0</td>\n",
              "      <td>4</td>\n",
              "      <td>YBK Jaiswal</td>\n",
              "      <td>Mohammed Shami</td>\n",
              "      <td>JC Buttler</td>\n",
              "      <td>NaN</td>\n",
              "      <td>0</td>\n",
              "      <td>0</td>\n",
              "      <td>0</td>\n",
              "      <td>0</td>\n",
              "      <td>0</td>\n",
              "      <td>NaN</td>\n",
              "      <td>NaN</td>\n",
              "      <td>NaN</td>\n",
              "      <td>Rajasthan Royals</td>\n",
              "    </tr>\n",
              "    <tr>\n",
              "      <th>4</th>\n",
              "      <td>1312200</td>\n",
              "      <td>1</td>\n",
              "      <td>0</td>\n",
              "      <td>5</td>\n",
              "      <td>YBK Jaiswal</td>\n",
              "      <td>Mohammed Shami</td>\n",
              "      <td>JC Buttler</td>\n",
              "      <td>NaN</td>\n",
              "      <td>0</td>\n",
              "      <td>0</td>\n",
              "      <td>0</td>\n",
              "      <td>0</td>\n",
              "      <td>0</td>\n",
              "      <td>NaN</td>\n",
              "      <td>NaN</td>\n",
              "      <td>NaN</td>\n",
              "      <td>Rajasthan Royals</td>\n",
              "    </tr>\n",
              "  </tbody>\n",
              "</table>\n",
              "</div>\n",
              "      <button class=\"colab-df-convert\" onclick=\"convertToInteractive('df-b4dca531-2ef5-4509-973a-479190d667df')\"\n",
              "              title=\"Convert this dataframe to an interactive table.\"\n",
              "              style=\"display:none;\">\n",
              "        \n",
              "  <svg xmlns=\"http://www.w3.org/2000/svg\" height=\"24px\"viewBox=\"0 0 24 24\"\n",
              "       width=\"24px\">\n",
              "    <path d=\"M0 0h24v24H0V0z\" fill=\"none\"/>\n",
              "    <path d=\"M18.56 5.44l.94 2.06.94-2.06 2.06-.94-2.06-.94-.94-2.06-.94 2.06-2.06.94zm-11 1L8.5 8.5l.94-2.06 2.06-.94-2.06-.94L8.5 2.5l-.94 2.06-2.06.94zm10 10l.94 2.06.94-2.06 2.06-.94-2.06-.94-.94-2.06-.94 2.06-2.06.94z\"/><path d=\"M17.41 7.96l-1.37-1.37c-.4-.4-.92-.59-1.43-.59-.52 0-1.04.2-1.43.59L10.3 9.45l-7.72 7.72c-.78.78-.78 2.05 0 2.83L4 21.41c.39.39.9.59 1.41.59.51 0 1.02-.2 1.41-.59l7.78-7.78 2.81-2.81c.8-.78.8-2.07 0-2.86zM5.41 20L4 18.59l7.72-7.72 1.47 1.35L5.41 20z\"/>\n",
              "  </svg>\n",
              "      </button>\n",
              "      \n",
              "  <style>\n",
              "    .colab-df-container {\n",
              "      display:flex;\n",
              "      flex-wrap:wrap;\n",
              "      gap: 12px;\n",
              "    }\n",
              "\n",
              "    .colab-df-convert {\n",
              "      background-color: #E8F0FE;\n",
              "      border: none;\n",
              "      border-radius: 50%;\n",
              "      cursor: pointer;\n",
              "      display: none;\n",
              "      fill: #1967D2;\n",
              "      height: 32px;\n",
              "      padding: 0 0 0 0;\n",
              "      width: 32px;\n",
              "    }\n",
              "\n",
              "    .colab-df-convert:hover {\n",
              "      background-color: #E2EBFA;\n",
              "      box-shadow: 0px 1px 2px rgba(60, 64, 67, 0.3), 0px 1px 3px 1px rgba(60, 64, 67, 0.15);\n",
              "      fill: #174EA6;\n",
              "    }\n",
              "\n",
              "    [theme=dark] .colab-df-convert {\n",
              "      background-color: #3B4455;\n",
              "      fill: #D2E3FC;\n",
              "    }\n",
              "\n",
              "    [theme=dark] .colab-df-convert:hover {\n",
              "      background-color: #434B5C;\n",
              "      box-shadow: 0px 1px 3px 1px rgba(0, 0, 0, 0.15);\n",
              "      filter: drop-shadow(0px 1px 2px rgba(0, 0, 0, 0.3));\n",
              "      fill: #FFFFFF;\n",
              "    }\n",
              "  </style>\n",
              "\n",
              "      <script>\n",
              "        const buttonEl =\n",
              "          document.querySelector('#df-b4dca531-2ef5-4509-973a-479190d667df button.colab-df-convert');\n",
              "        buttonEl.style.display =\n",
              "          google.colab.kernel.accessAllowed ? 'block' : 'none';\n",
              "\n",
              "        async function convertToInteractive(key) {\n",
              "          const element = document.querySelector('#df-b4dca531-2ef5-4509-973a-479190d667df');\n",
              "          const dataTable =\n",
              "            await google.colab.kernel.invokeFunction('convertToInteractive',\n",
              "                                                     [key], {});\n",
              "          if (!dataTable) return;\n",
              "\n",
              "          const docLinkHtml = 'Like what you see? Visit the ' +\n",
              "            '<a target=\"_blank\" href=https://colab.research.google.com/notebooks/data_table.ipynb>data table notebook</a>'\n",
              "            + ' to learn more about interactive tables.';\n",
              "          element.innerHTML = '';\n",
              "          dataTable['output_type'] = 'display_data';\n",
              "          await google.colab.output.renderOutput(dataTable, element);\n",
              "          const docLink = document.createElement('div');\n",
              "          docLink.innerHTML = docLinkHtml;\n",
              "          element.appendChild(docLink);\n",
              "        }\n",
              "      </script>\n",
              "    </div>\n",
              "  </div>\n",
              "  "
            ]
          },
          "metadata": {},
          "execution_count": 98
        }
      ]
    },
    {
      "cell_type": "code",
      "source": [
        "M_D.head()"
      ],
      "metadata": {
        "id": "2Oju15-0d6kA",
        "outputId": "cae5a62e-4f43-42dc-cccd-9086053081de",
        "colab": {
          "base_uri": "https://localhost:8080/",
          "height": 565
        }
      },
      "execution_count": 99,
      "outputs": [
        {
          "output_type": "execute_result",
          "data": {
            "text/plain": [
              "        ID       City        Date  Season  MatchNumber  \\\n",
              "0  1312200  Ahmedabad  2022-05-29    2022        Final   \n",
              "1  1312199  Ahmedabad  2022-05-27    2022  Qualifier 2   \n",
              "2  1312198    Kolkata  2022-05-25    2022   Eliminator   \n",
              "3  1312197    Kolkata  2022-05-24    2022  Qualifier 1   \n",
              "4  1304116     Mumbai  2022-05-22    2022           70   \n",
              "\n",
              "                         Team1                 Team2  \\\n",
              "0             Rajasthan Royals        Gujarat Titans   \n",
              "1  Royal Challengers Bangalore      Rajasthan Royals   \n",
              "2  Royal Challengers Bangalore  Lucknow Super Giants   \n",
              "3             Rajasthan Royals        Gujarat Titans   \n",
              "4          Sunrisers Hyderabad          Punjab Kings   \n",
              "\n",
              "                              Venue            TossWinner TossDecision  \\\n",
              "0  Narendra Modi Stadium, Ahmedabad      Rajasthan Royals          bat   \n",
              "1  Narendra Modi Stadium, Ahmedabad      Rajasthan Royals        field   \n",
              "2             Eden Gardens, Kolkata  Lucknow Super Giants        field   \n",
              "3             Eden Gardens, Kolkata        Gujarat Titans        field   \n",
              "4          Wankhede Stadium, Mumbai   Sunrisers Hyderabad          bat   \n",
              "\n",
              "  SuperOver                  WinningTeam    WonBy  Margin  method  \\\n",
              "0         N               Gujarat Titans  Wickets       7     NaN   \n",
              "1         N             Rajasthan Royals  Wickets       7     NaN   \n",
              "2         N  Royal Challengers Bangalore     Runs      14     NaN   \n",
              "3         N               Gujarat Titans  Wickets       7     NaN   \n",
              "4         N                 Punjab Kings  Wickets       5     NaN   \n",
              "\n",
              "  Player_of_Match                                       Team1Players  \\\n",
              "0       HH Pandya  ['YBK Jaiswal', 'JC Buttler', 'SV Samson', 'D ...   \n",
              "1      JC Buttler  ['V Kohli', 'F du Plessis', 'RM Patidar', 'GJ ...   \n",
              "2      RM Patidar  ['V Kohli', 'F du Plessis', 'RM Patidar', 'GJ ...   \n",
              "3       DA Miller  ['YBK Jaiswal', 'JC Buttler', 'SV Samson', 'D ...   \n",
              "4   Harpreet Brar  ['PK Garg', 'Abhishek Sharma', 'RA Tripathi', ...   \n",
              "\n",
              "                                        Team2Players        Umpire1  \\\n",
              "0  ['WP Saha', 'Shubman Gill', 'MS Wade', 'HH Pan...    CB Gaffaney   \n",
              "1  ['YBK Jaiswal', 'JC Buttler', 'SV Samson', 'D ...    CB Gaffaney   \n",
              "2  ['Q de Kock', 'KL Rahul', 'M Vohra', 'DJ Hooda...  J Madanagopal   \n",
              "3  ['WP Saha', 'Shubman Gill', 'MS Wade', 'HH Pan...   BNJ Oxenford   \n",
              "4  ['JM Bairstow', 'S Dhawan', 'M Shahrukh Khan',...   AK Chaudhary   \n",
              "\n",
              "         Umpire2  \n",
              "0    Nitin Menon  \n",
              "1    Nitin Menon  \n",
              "2       MA Gough  \n",
              "3      VK Sharma  \n",
              "4  NA Patwardhan  "
            ],
            "text/html": [
              "\n",
              "  <div id=\"df-9df4e83f-3b3a-4c87-9f2b-a30d5d3c2edf\">\n",
              "    <div class=\"colab-df-container\">\n",
              "      <div>\n",
              "<style scoped>\n",
              "    .dataframe tbody tr th:only-of-type {\n",
              "        vertical-align: middle;\n",
              "    }\n",
              "\n",
              "    .dataframe tbody tr th {\n",
              "        vertical-align: top;\n",
              "    }\n",
              "\n",
              "    .dataframe thead th {\n",
              "        text-align: right;\n",
              "    }\n",
              "</style>\n",
              "<table border=\"1\" class=\"dataframe\">\n",
              "  <thead>\n",
              "    <tr style=\"text-align: right;\">\n",
              "      <th></th>\n",
              "      <th>ID</th>\n",
              "      <th>City</th>\n",
              "      <th>Date</th>\n",
              "      <th>Season</th>\n",
              "      <th>MatchNumber</th>\n",
              "      <th>Team1</th>\n",
              "      <th>Team2</th>\n",
              "      <th>Venue</th>\n",
              "      <th>TossWinner</th>\n",
              "      <th>TossDecision</th>\n",
              "      <th>SuperOver</th>\n",
              "      <th>WinningTeam</th>\n",
              "      <th>WonBy</th>\n",
              "      <th>Margin</th>\n",
              "      <th>method</th>\n",
              "      <th>Player_of_Match</th>\n",
              "      <th>Team1Players</th>\n",
              "      <th>Team2Players</th>\n",
              "      <th>Umpire1</th>\n",
              "      <th>Umpire2</th>\n",
              "    </tr>\n",
              "  </thead>\n",
              "  <tbody>\n",
              "    <tr>\n",
              "      <th>0</th>\n",
              "      <td>1312200</td>\n",
              "      <td>Ahmedabad</td>\n",
              "      <td>2022-05-29</td>\n",
              "      <td>2022</td>\n",
              "      <td>Final</td>\n",
              "      <td>Rajasthan Royals</td>\n",
              "      <td>Gujarat Titans</td>\n",
              "      <td>Narendra Modi Stadium, Ahmedabad</td>\n",
              "      <td>Rajasthan Royals</td>\n",
              "      <td>bat</td>\n",
              "      <td>N</td>\n",
              "      <td>Gujarat Titans</td>\n",
              "      <td>Wickets</td>\n",
              "      <td>7</td>\n",
              "      <td>NaN</td>\n",
              "      <td>HH Pandya</td>\n",
              "      <td>['YBK Jaiswal', 'JC Buttler', 'SV Samson', 'D ...</td>\n",
              "      <td>['WP Saha', 'Shubman Gill', 'MS Wade', 'HH Pan...</td>\n",
              "      <td>CB Gaffaney</td>\n",
              "      <td>Nitin Menon</td>\n",
              "    </tr>\n",
              "    <tr>\n",
              "      <th>1</th>\n",
              "      <td>1312199</td>\n",
              "      <td>Ahmedabad</td>\n",
              "      <td>2022-05-27</td>\n",
              "      <td>2022</td>\n",
              "      <td>Qualifier 2</td>\n",
              "      <td>Royal Challengers Bangalore</td>\n",
              "      <td>Rajasthan Royals</td>\n",
              "      <td>Narendra Modi Stadium, Ahmedabad</td>\n",
              "      <td>Rajasthan Royals</td>\n",
              "      <td>field</td>\n",
              "      <td>N</td>\n",
              "      <td>Rajasthan Royals</td>\n",
              "      <td>Wickets</td>\n",
              "      <td>7</td>\n",
              "      <td>NaN</td>\n",
              "      <td>JC Buttler</td>\n",
              "      <td>['V Kohli', 'F du Plessis', 'RM Patidar', 'GJ ...</td>\n",
              "      <td>['YBK Jaiswal', 'JC Buttler', 'SV Samson', 'D ...</td>\n",
              "      <td>CB Gaffaney</td>\n",
              "      <td>Nitin Menon</td>\n",
              "    </tr>\n",
              "    <tr>\n",
              "      <th>2</th>\n",
              "      <td>1312198</td>\n",
              "      <td>Kolkata</td>\n",
              "      <td>2022-05-25</td>\n",
              "      <td>2022</td>\n",
              "      <td>Eliminator</td>\n",
              "      <td>Royal Challengers Bangalore</td>\n",
              "      <td>Lucknow Super Giants</td>\n",
              "      <td>Eden Gardens, Kolkata</td>\n",
              "      <td>Lucknow Super Giants</td>\n",
              "      <td>field</td>\n",
              "      <td>N</td>\n",
              "      <td>Royal Challengers Bangalore</td>\n",
              "      <td>Runs</td>\n",
              "      <td>14</td>\n",
              "      <td>NaN</td>\n",
              "      <td>RM Patidar</td>\n",
              "      <td>['V Kohli', 'F du Plessis', 'RM Patidar', 'GJ ...</td>\n",
              "      <td>['Q de Kock', 'KL Rahul', 'M Vohra', 'DJ Hooda...</td>\n",
              "      <td>J Madanagopal</td>\n",
              "      <td>MA Gough</td>\n",
              "    </tr>\n",
              "    <tr>\n",
              "      <th>3</th>\n",
              "      <td>1312197</td>\n",
              "      <td>Kolkata</td>\n",
              "      <td>2022-05-24</td>\n",
              "      <td>2022</td>\n",
              "      <td>Qualifier 1</td>\n",
              "      <td>Rajasthan Royals</td>\n",
              "      <td>Gujarat Titans</td>\n",
              "      <td>Eden Gardens, Kolkata</td>\n",
              "      <td>Gujarat Titans</td>\n",
              "      <td>field</td>\n",
              "      <td>N</td>\n",
              "      <td>Gujarat Titans</td>\n",
              "      <td>Wickets</td>\n",
              "      <td>7</td>\n",
              "      <td>NaN</td>\n",
              "      <td>DA Miller</td>\n",
              "      <td>['YBK Jaiswal', 'JC Buttler', 'SV Samson', 'D ...</td>\n",
              "      <td>['WP Saha', 'Shubman Gill', 'MS Wade', 'HH Pan...</td>\n",
              "      <td>BNJ Oxenford</td>\n",
              "      <td>VK Sharma</td>\n",
              "    </tr>\n",
              "    <tr>\n",
              "      <th>4</th>\n",
              "      <td>1304116</td>\n",
              "      <td>Mumbai</td>\n",
              "      <td>2022-05-22</td>\n",
              "      <td>2022</td>\n",
              "      <td>70</td>\n",
              "      <td>Sunrisers Hyderabad</td>\n",
              "      <td>Punjab Kings</td>\n",
              "      <td>Wankhede Stadium, Mumbai</td>\n",
              "      <td>Sunrisers Hyderabad</td>\n",
              "      <td>bat</td>\n",
              "      <td>N</td>\n",
              "      <td>Punjab Kings</td>\n",
              "      <td>Wickets</td>\n",
              "      <td>5</td>\n",
              "      <td>NaN</td>\n",
              "      <td>Harpreet Brar</td>\n",
              "      <td>['PK Garg', 'Abhishek Sharma', 'RA Tripathi', ...</td>\n",
              "      <td>['JM Bairstow', 'S Dhawan', 'M Shahrukh Khan',...</td>\n",
              "      <td>AK Chaudhary</td>\n",
              "      <td>NA Patwardhan</td>\n",
              "    </tr>\n",
              "  </tbody>\n",
              "</table>\n",
              "</div>\n",
              "      <button class=\"colab-df-convert\" onclick=\"convertToInteractive('df-9df4e83f-3b3a-4c87-9f2b-a30d5d3c2edf')\"\n",
              "              title=\"Convert this dataframe to an interactive table.\"\n",
              "              style=\"display:none;\">\n",
              "        \n",
              "  <svg xmlns=\"http://www.w3.org/2000/svg\" height=\"24px\"viewBox=\"0 0 24 24\"\n",
              "       width=\"24px\">\n",
              "    <path d=\"M0 0h24v24H0V0z\" fill=\"none\"/>\n",
              "    <path d=\"M18.56 5.44l.94 2.06.94-2.06 2.06-.94-2.06-.94-.94-2.06-.94 2.06-2.06.94zm-11 1L8.5 8.5l.94-2.06 2.06-.94-2.06-.94L8.5 2.5l-.94 2.06-2.06.94zm10 10l.94 2.06.94-2.06 2.06-.94-2.06-.94-.94-2.06-.94 2.06-2.06.94z\"/><path d=\"M17.41 7.96l-1.37-1.37c-.4-.4-.92-.59-1.43-.59-.52 0-1.04.2-1.43.59L10.3 9.45l-7.72 7.72c-.78.78-.78 2.05 0 2.83L4 21.41c.39.39.9.59 1.41.59.51 0 1.02-.2 1.41-.59l7.78-7.78 2.81-2.81c.8-.78.8-2.07 0-2.86zM5.41 20L4 18.59l7.72-7.72 1.47 1.35L5.41 20z\"/>\n",
              "  </svg>\n",
              "      </button>\n",
              "      \n",
              "  <style>\n",
              "    .colab-df-container {\n",
              "      display:flex;\n",
              "      flex-wrap:wrap;\n",
              "      gap: 12px;\n",
              "    }\n",
              "\n",
              "    .colab-df-convert {\n",
              "      background-color: #E8F0FE;\n",
              "      border: none;\n",
              "      border-radius: 50%;\n",
              "      cursor: pointer;\n",
              "      display: none;\n",
              "      fill: #1967D2;\n",
              "      height: 32px;\n",
              "      padding: 0 0 0 0;\n",
              "      width: 32px;\n",
              "    }\n",
              "\n",
              "    .colab-df-convert:hover {\n",
              "      background-color: #E2EBFA;\n",
              "      box-shadow: 0px 1px 2px rgba(60, 64, 67, 0.3), 0px 1px 3px 1px rgba(60, 64, 67, 0.15);\n",
              "      fill: #174EA6;\n",
              "    }\n",
              "\n",
              "    [theme=dark] .colab-df-convert {\n",
              "      background-color: #3B4455;\n",
              "      fill: #D2E3FC;\n",
              "    }\n",
              "\n",
              "    [theme=dark] .colab-df-convert:hover {\n",
              "      background-color: #434B5C;\n",
              "      box-shadow: 0px 1px 3px 1px rgba(0, 0, 0, 0.15);\n",
              "      filter: drop-shadow(0px 1px 2px rgba(0, 0, 0, 0.3));\n",
              "      fill: #FFFFFF;\n",
              "    }\n",
              "  </style>\n",
              "\n",
              "      <script>\n",
              "        const buttonEl =\n",
              "          document.querySelector('#df-9df4e83f-3b3a-4c87-9f2b-a30d5d3c2edf button.colab-df-convert');\n",
              "        buttonEl.style.display =\n",
              "          google.colab.kernel.accessAllowed ? 'block' : 'none';\n",
              "\n",
              "        async function convertToInteractive(key) {\n",
              "          const element = document.querySelector('#df-9df4e83f-3b3a-4c87-9f2b-a30d5d3c2edf');\n",
              "          const dataTable =\n",
              "            await google.colab.kernel.invokeFunction('convertToInteractive',\n",
              "                                                     [key], {});\n",
              "          if (!dataTable) return;\n",
              "\n",
              "          const docLinkHtml = 'Like what you see? Visit the ' +\n",
              "            '<a target=\"_blank\" href=https://colab.research.google.com/notebooks/data_table.ipynb>data table notebook</a>'\n",
              "            + ' to learn more about interactive tables.';\n",
              "          element.innerHTML = '';\n",
              "          dataTable['output_type'] = 'display_data';\n",
              "          await google.colab.output.renderOutput(dataTable, element);\n",
              "          const docLink = document.createElement('div');\n",
              "          docLink.innerHTML = docLinkHtml;\n",
              "          element.appendChild(docLink);\n",
              "        }\n",
              "      </script>\n",
              "    </div>\n",
              "  </div>\n",
              "  "
            ]
          },
          "metadata": {},
          "execution_count": 99
        }
      ]
    },
    {
      "cell_type": "code",
      "source": [
        "B_B.tail()                         #This function returns the first n rows for the object based on position down."
      ],
      "metadata": {
        "id": "w-NtKHsPeFsN",
        "outputId": "79e7393b-3fc0-4206-9cb2-b780e739898e",
        "colab": {
          "base_uri": "https://localhost:8080/",
          "height": 354
        }
      },
      "execution_count": 100,
      "outputs": [
        {
          "output_type": "execute_result",
          "data": {
            "text/plain": [
              "            ID  innings  overs  ballnumber      batter    bowler non-striker  \\\n",
              "17907  1304047        2     17           5     SS Iyer  DJ Bravo  SP Jackson   \n",
              "17908  1304047        2     17           6  SP Jackson  DJ Bravo     SS Iyer   \n",
              "17909  1304047        2     18           1  SP Jackson  AF Milne     SS Iyer   \n",
              "17910  1304047        2     18           2     SS Iyer  AF Milne  SP Jackson   \n",
              "17911  1304047        2     18           3     SS Iyer  AF Milne  SP Jackson   \n",
              "\n",
              "      extra_type  batsman_run  extras_run  total_run  non_boundary  \\\n",
              "17907        NaN            1           0          1             0   \n",
              "17908        NaN            1           0          1             0   \n",
              "17909        NaN            1           0          1             0   \n",
              "17910        NaN            2           0          2             0   \n",
              "17911        NaN            4           0          4             0   \n",
              "\n",
              "       isWicketDelivery player_out kind fielders_involved  \\\n",
              "17907                 0        NaN  NaN               NaN   \n",
              "17908                 0        NaN  NaN               NaN   \n",
              "17909                 0        NaN  NaN               NaN   \n",
              "17910                 0        NaN  NaN               NaN   \n",
              "17911                 0        NaN  NaN               NaN   \n",
              "\n",
              "                 BattingTeam  \n",
              "17907  Kolkata Knight Riders  \n",
              "17908  Kolkata Knight Riders  \n",
              "17909  Kolkata Knight Riders  \n",
              "17910  Kolkata Knight Riders  \n",
              "17911  Kolkata Knight Riders  "
            ],
            "text/html": [
              "\n",
              "  <div id=\"df-7f52d7ef-b368-48fd-b6b5-7a124d207440\">\n",
              "    <div class=\"colab-df-container\">\n",
              "      <div>\n",
              "<style scoped>\n",
              "    .dataframe tbody tr th:only-of-type {\n",
              "        vertical-align: middle;\n",
              "    }\n",
              "\n",
              "    .dataframe tbody tr th {\n",
              "        vertical-align: top;\n",
              "    }\n",
              "\n",
              "    .dataframe thead th {\n",
              "        text-align: right;\n",
              "    }\n",
              "</style>\n",
              "<table border=\"1\" class=\"dataframe\">\n",
              "  <thead>\n",
              "    <tr style=\"text-align: right;\">\n",
              "      <th></th>\n",
              "      <th>ID</th>\n",
              "      <th>innings</th>\n",
              "      <th>overs</th>\n",
              "      <th>ballnumber</th>\n",
              "      <th>batter</th>\n",
              "      <th>bowler</th>\n",
              "      <th>non-striker</th>\n",
              "      <th>extra_type</th>\n",
              "      <th>batsman_run</th>\n",
              "      <th>extras_run</th>\n",
              "      <th>total_run</th>\n",
              "      <th>non_boundary</th>\n",
              "      <th>isWicketDelivery</th>\n",
              "      <th>player_out</th>\n",
              "      <th>kind</th>\n",
              "      <th>fielders_involved</th>\n",
              "      <th>BattingTeam</th>\n",
              "    </tr>\n",
              "  </thead>\n",
              "  <tbody>\n",
              "    <tr>\n",
              "      <th>17907</th>\n",
              "      <td>1304047</td>\n",
              "      <td>2</td>\n",
              "      <td>17</td>\n",
              "      <td>5</td>\n",
              "      <td>SS Iyer</td>\n",
              "      <td>DJ Bravo</td>\n",
              "      <td>SP Jackson</td>\n",
              "      <td>NaN</td>\n",
              "      <td>1</td>\n",
              "      <td>0</td>\n",
              "      <td>1</td>\n",
              "      <td>0</td>\n",
              "      <td>0</td>\n",
              "      <td>NaN</td>\n",
              "      <td>NaN</td>\n",
              "      <td>NaN</td>\n",
              "      <td>Kolkata Knight Riders</td>\n",
              "    </tr>\n",
              "    <tr>\n",
              "      <th>17908</th>\n",
              "      <td>1304047</td>\n",
              "      <td>2</td>\n",
              "      <td>17</td>\n",
              "      <td>6</td>\n",
              "      <td>SP Jackson</td>\n",
              "      <td>DJ Bravo</td>\n",
              "      <td>SS Iyer</td>\n",
              "      <td>NaN</td>\n",
              "      <td>1</td>\n",
              "      <td>0</td>\n",
              "      <td>1</td>\n",
              "      <td>0</td>\n",
              "      <td>0</td>\n",
              "      <td>NaN</td>\n",
              "      <td>NaN</td>\n",
              "      <td>NaN</td>\n",
              "      <td>Kolkata Knight Riders</td>\n",
              "    </tr>\n",
              "    <tr>\n",
              "      <th>17909</th>\n",
              "      <td>1304047</td>\n",
              "      <td>2</td>\n",
              "      <td>18</td>\n",
              "      <td>1</td>\n",
              "      <td>SP Jackson</td>\n",
              "      <td>AF Milne</td>\n",
              "      <td>SS Iyer</td>\n",
              "      <td>NaN</td>\n",
              "      <td>1</td>\n",
              "      <td>0</td>\n",
              "      <td>1</td>\n",
              "      <td>0</td>\n",
              "      <td>0</td>\n",
              "      <td>NaN</td>\n",
              "      <td>NaN</td>\n",
              "      <td>NaN</td>\n",
              "      <td>Kolkata Knight Riders</td>\n",
              "    </tr>\n",
              "    <tr>\n",
              "      <th>17910</th>\n",
              "      <td>1304047</td>\n",
              "      <td>2</td>\n",
              "      <td>18</td>\n",
              "      <td>2</td>\n",
              "      <td>SS Iyer</td>\n",
              "      <td>AF Milne</td>\n",
              "      <td>SP Jackson</td>\n",
              "      <td>NaN</td>\n",
              "      <td>2</td>\n",
              "      <td>0</td>\n",
              "      <td>2</td>\n",
              "      <td>0</td>\n",
              "      <td>0</td>\n",
              "      <td>NaN</td>\n",
              "      <td>NaN</td>\n",
              "      <td>NaN</td>\n",
              "      <td>Kolkata Knight Riders</td>\n",
              "    </tr>\n",
              "    <tr>\n",
              "      <th>17911</th>\n",
              "      <td>1304047</td>\n",
              "      <td>2</td>\n",
              "      <td>18</td>\n",
              "      <td>3</td>\n",
              "      <td>SS Iyer</td>\n",
              "      <td>AF Milne</td>\n",
              "      <td>SP Jackson</td>\n",
              "      <td>NaN</td>\n",
              "      <td>4</td>\n",
              "      <td>0</td>\n",
              "      <td>4</td>\n",
              "      <td>0</td>\n",
              "      <td>0</td>\n",
              "      <td>NaN</td>\n",
              "      <td>NaN</td>\n",
              "      <td>NaN</td>\n",
              "      <td>Kolkata Knight Riders</td>\n",
              "    </tr>\n",
              "  </tbody>\n",
              "</table>\n",
              "</div>\n",
              "      <button class=\"colab-df-convert\" onclick=\"convertToInteractive('df-7f52d7ef-b368-48fd-b6b5-7a124d207440')\"\n",
              "              title=\"Convert this dataframe to an interactive table.\"\n",
              "              style=\"display:none;\">\n",
              "        \n",
              "  <svg xmlns=\"http://www.w3.org/2000/svg\" height=\"24px\"viewBox=\"0 0 24 24\"\n",
              "       width=\"24px\">\n",
              "    <path d=\"M0 0h24v24H0V0z\" fill=\"none\"/>\n",
              "    <path d=\"M18.56 5.44l.94 2.06.94-2.06 2.06-.94-2.06-.94-.94-2.06-.94 2.06-2.06.94zm-11 1L8.5 8.5l.94-2.06 2.06-.94-2.06-.94L8.5 2.5l-.94 2.06-2.06.94zm10 10l.94 2.06.94-2.06 2.06-.94-2.06-.94-.94-2.06-.94 2.06-2.06.94z\"/><path d=\"M17.41 7.96l-1.37-1.37c-.4-.4-.92-.59-1.43-.59-.52 0-1.04.2-1.43.59L10.3 9.45l-7.72 7.72c-.78.78-.78 2.05 0 2.83L4 21.41c.39.39.9.59 1.41.59.51 0 1.02-.2 1.41-.59l7.78-7.78 2.81-2.81c.8-.78.8-2.07 0-2.86zM5.41 20L4 18.59l7.72-7.72 1.47 1.35L5.41 20z\"/>\n",
              "  </svg>\n",
              "      </button>\n",
              "      \n",
              "  <style>\n",
              "    .colab-df-container {\n",
              "      display:flex;\n",
              "      flex-wrap:wrap;\n",
              "      gap: 12px;\n",
              "    }\n",
              "\n",
              "    .colab-df-convert {\n",
              "      background-color: #E8F0FE;\n",
              "      border: none;\n",
              "      border-radius: 50%;\n",
              "      cursor: pointer;\n",
              "      display: none;\n",
              "      fill: #1967D2;\n",
              "      height: 32px;\n",
              "      padding: 0 0 0 0;\n",
              "      width: 32px;\n",
              "    }\n",
              "\n",
              "    .colab-df-convert:hover {\n",
              "      background-color: #E2EBFA;\n",
              "      box-shadow: 0px 1px 2px rgba(60, 64, 67, 0.3), 0px 1px 3px 1px rgba(60, 64, 67, 0.15);\n",
              "      fill: #174EA6;\n",
              "    }\n",
              "\n",
              "    [theme=dark] .colab-df-convert {\n",
              "      background-color: #3B4455;\n",
              "      fill: #D2E3FC;\n",
              "    }\n",
              "\n",
              "    [theme=dark] .colab-df-convert:hover {\n",
              "      background-color: #434B5C;\n",
              "      box-shadow: 0px 1px 3px 1px rgba(0, 0, 0, 0.15);\n",
              "      filter: drop-shadow(0px 1px 2px rgba(0, 0, 0, 0.3));\n",
              "      fill: #FFFFFF;\n",
              "    }\n",
              "  </style>\n",
              "\n",
              "      <script>\n",
              "        const buttonEl =\n",
              "          document.querySelector('#df-7f52d7ef-b368-48fd-b6b5-7a124d207440 button.colab-df-convert');\n",
              "        buttonEl.style.display =\n",
              "          google.colab.kernel.accessAllowed ? 'block' : 'none';\n",
              "\n",
              "        async function convertToInteractive(key) {\n",
              "          const element = document.querySelector('#df-7f52d7ef-b368-48fd-b6b5-7a124d207440');\n",
              "          const dataTable =\n",
              "            await google.colab.kernel.invokeFunction('convertToInteractive',\n",
              "                                                     [key], {});\n",
              "          if (!dataTable) return;\n",
              "\n",
              "          const docLinkHtml = 'Like what you see? Visit the ' +\n",
              "            '<a target=\"_blank\" href=https://colab.research.google.com/notebooks/data_table.ipynb>data table notebook</a>'\n",
              "            + ' to learn more about interactive tables.';\n",
              "          element.innerHTML = '';\n",
              "          dataTable['output_type'] = 'display_data';\n",
              "          await google.colab.output.renderOutput(dataTable, element);\n",
              "          const docLink = document.createElement('div');\n",
              "          docLink.innerHTML = docLinkHtml;\n",
              "          element.appendChild(docLink);\n",
              "        }\n",
              "      </script>\n",
              "    </div>\n",
              "  </div>\n",
              "  "
            ]
          },
          "metadata": {},
          "execution_count": 100
        }
      ]
    },
    {
      "cell_type": "code",
      "source": [
        "M_D.tail()"
      ],
      "metadata": {
        "id": "XIwSu3ZVeO_8",
        "outputId": "1225b19c-a964-49ef-c2e3-cd275b6ed8db",
        "colab": {
          "base_uri": "https://localhost:8080/",
          "height": 582
        }
      },
      "execution_count": 101,
      "outputs": [
        {
          "output_type": "execute_result",
          "data": {
            "text/plain": [
              "         ID    City        Date  Season MatchNumber  \\\n",
              "69  1304051    Pune  2022-03-29    2022           5   \n",
              "70  1304050  Mumbai  2022-03-28    2022           4   \n",
              "71  1304049  Mumbai  2022-03-27    2022           3   \n",
              "72  1304048  Mumbai  2022-03-27    2022           2   \n",
              "73  1304047  Mumbai  2022-03-26    2022           1   \n",
              "\n",
              "                          Team1                  Team2  \\\n",
              "69             Rajasthan Royals    Sunrisers Hyderabad   \n",
              "70         Lucknow Super Giants         Gujarat Titans   \n",
              "71  Royal Challengers Bangalore           Punjab Kings   \n",
              "72               Mumbai Indians         Delhi Capitals   \n",
              "73          Chennai Super Kings  Kolkata Knight Riders   \n",
              "\n",
              "                                            Venue             TossWinner  \\\n",
              "69  Maharashtra Cricket Association Stadium, Pune    Sunrisers Hyderabad   \n",
              "70                       Wankhede Stadium, Mumbai         Gujarat Titans   \n",
              "71             Dr DY Patil Sports Academy, Mumbai           Punjab Kings   \n",
              "72                      Brabourne Stadium, Mumbai         Delhi Capitals   \n",
              "73                       Wankhede Stadium, Mumbai  Kolkata Knight Riders   \n",
              "\n",
              "   TossDecision SuperOver            WinningTeam    WonBy  Margin  method  \\\n",
              "69        field         N       Rajasthan Royals     Runs      61     NaN   \n",
              "70        field         N         Gujarat Titans  Wickets       5     NaN   \n",
              "71        field         N           Punjab Kings  Wickets       5     NaN   \n",
              "72        field         N         Delhi Capitals  Wickets       4     NaN   \n",
              "73        field         N  Kolkata Knight Riders  Wickets       6     NaN   \n",
              "\n",
              "   Player_of_Match                                       Team1Players  \\\n",
              "69       SV Samson  ['JC Buttler', 'YBK Jaiswal', 'SV Samson', 'D ...   \n",
              "70  Mohammed Shami  ['KL Rahul', 'Q de Kock', 'E Lewis', 'MK Pande...   \n",
              "71        OF Smith  ['F du Plessis', 'Anuj Rawat', 'V Kohli', 'KD ...   \n",
              "72   Kuldeep Yadav  ['RG Sharma', 'Ishan Kishan', 'Anmolpreet Sing...   \n",
              "73        UT Yadav  ['RD Gaikwad', 'DP Conway', 'RV Uthappa', 'AT ...   \n",
              "\n",
              "                                         Team2Players       Umpire1  \\\n",
              "69  ['KS Williamson', 'Abhishek Sharma', 'RA Tripa...  BNJ Oxenford   \n",
              "70  ['Shubman Gill', 'MS Wade', 'V Shankar', 'HH P...     PG Pathak   \n",
              "71  ['MA Agarwal', 'S Dhawan', 'PBB Rajapaksa', 'L...   Nitin Menon   \n",
              "72  ['PP Shaw', 'TL Seifert', 'Mandeep Singh', 'RR...     RJ Tucker   \n",
              "73  ['AM Rahane', 'VR Iyer', 'N Rana', 'SS Iyer', ...  AK Chaudhary   \n",
              "\n",
              "        Umpire2  \n",
              "69    UV Gandhe  \n",
              "70    VK Sharma  \n",
              "71     YC Barde  \n",
              "72   HAS Khalid  \n",
              "73  Nitin Menon  "
            ],
            "text/html": [
              "\n",
              "  <div id=\"df-05d02dcc-70ed-4334-9d2e-64636a94a12d\">\n",
              "    <div class=\"colab-df-container\">\n",
              "      <div>\n",
              "<style scoped>\n",
              "    .dataframe tbody tr th:only-of-type {\n",
              "        vertical-align: middle;\n",
              "    }\n",
              "\n",
              "    .dataframe tbody tr th {\n",
              "        vertical-align: top;\n",
              "    }\n",
              "\n",
              "    .dataframe thead th {\n",
              "        text-align: right;\n",
              "    }\n",
              "</style>\n",
              "<table border=\"1\" class=\"dataframe\">\n",
              "  <thead>\n",
              "    <tr style=\"text-align: right;\">\n",
              "      <th></th>\n",
              "      <th>ID</th>\n",
              "      <th>City</th>\n",
              "      <th>Date</th>\n",
              "      <th>Season</th>\n",
              "      <th>MatchNumber</th>\n",
              "      <th>Team1</th>\n",
              "      <th>Team2</th>\n",
              "      <th>Venue</th>\n",
              "      <th>TossWinner</th>\n",
              "      <th>TossDecision</th>\n",
              "      <th>SuperOver</th>\n",
              "      <th>WinningTeam</th>\n",
              "      <th>WonBy</th>\n",
              "      <th>Margin</th>\n",
              "      <th>method</th>\n",
              "      <th>Player_of_Match</th>\n",
              "      <th>Team1Players</th>\n",
              "      <th>Team2Players</th>\n",
              "      <th>Umpire1</th>\n",
              "      <th>Umpire2</th>\n",
              "    </tr>\n",
              "  </thead>\n",
              "  <tbody>\n",
              "    <tr>\n",
              "      <th>69</th>\n",
              "      <td>1304051</td>\n",
              "      <td>Pune</td>\n",
              "      <td>2022-03-29</td>\n",
              "      <td>2022</td>\n",
              "      <td>5</td>\n",
              "      <td>Rajasthan Royals</td>\n",
              "      <td>Sunrisers Hyderabad</td>\n",
              "      <td>Maharashtra Cricket Association Stadium, Pune</td>\n",
              "      <td>Sunrisers Hyderabad</td>\n",
              "      <td>field</td>\n",
              "      <td>N</td>\n",
              "      <td>Rajasthan Royals</td>\n",
              "      <td>Runs</td>\n",
              "      <td>61</td>\n",
              "      <td>NaN</td>\n",
              "      <td>SV Samson</td>\n",
              "      <td>['JC Buttler', 'YBK Jaiswal', 'SV Samson', 'D ...</td>\n",
              "      <td>['KS Williamson', 'Abhishek Sharma', 'RA Tripa...</td>\n",
              "      <td>BNJ Oxenford</td>\n",
              "      <td>UV Gandhe</td>\n",
              "    </tr>\n",
              "    <tr>\n",
              "      <th>70</th>\n",
              "      <td>1304050</td>\n",
              "      <td>Mumbai</td>\n",
              "      <td>2022-03-28</td>\n",
              "      <td>2022</td>\n",
              "      <td>4</td>\n",
              "      <td>Lucknow Super Giants</td>\n",
              "      <td>Gujarat Titans</td>\n",
              "      <td>Wankhede Stadium, Mumbai</td>\n",
              "      <td>Gujarat Titans</td>\n",
              "      <td>field</td>\n",
              "      <td>N</td>\n",
              "      <td>Gujarat Titans</td>\n",
              "      <td>Wickets</td>\n",
              "      <td>5</td>\n",
              "      <td>NaN</td>\n",
              "      <td>Mohammed Shami</td>\n",
              "      <td>['KL Rahul', 'Q de Kock', 'E Lewis', 'MK Pande...</td>\n",
              "      <td>['Shubman Gill', 'MS Wade', 'V Shankar', 'HH P...</td>\n",
              "      <td>PG Pathak</td>\n",
              "      <td>VK Sharma</td>\n",
              "    </tr>\n",
              "    <tr>\n",
              "      <th>71</th>\n",
              "      <td>1304049</td>\n",
              "      <td>Mumbai</td>\n",
              "      <td>2022-03-27</td>\n",
              "      <td>2022</td>\n",
              "      <td>3</td>\n",
              "      <td>Royal Challengers Bangalore</td>\n",
              "      <td>Punjab Kings</td>\n",
              "      <td>Dr DY Patil Sports Academy, Mumbai</td>\n",
              "      <td>Punjab Kings</td>\n",
              "      <td>field</td>\n",
              "      <td>N</td>\n",
              "      <td>Punjab Kings</td>\n",
              "      <td>Wickets</td>\n",
              "      <td>5</td>\n",
              "      <td>NaN</td>\n",
              "      <td>OF Smith</td>\n",
              "      <td>['F du Plessis', 'Anuj Rawat', 'V Kohli', 'KD ...</td>\n",
              "      <td>['MA Agarwal', 'S Dhawan', 'PBB Rajapaksa', 'L...</td>\n",
              "      <td>Nitin Menon</td>\n",
              "      <td>YC Barde</td>\n",
              "    </tr>\n",
              "    <tr>\n",
              "      <th>72</th>\n",
              "      <td>1304048</td>\n",
              "      <td>Mumbai</td>\n",
              "      <td>2022-03-27</td>\n",
              "      <td>2022</td>\n",
              "      <td>2</td>\n",
              "      <td>Mumbai Indians</td>\n",
              "      <td>Delhi Capitals</td>\n",
              "      <td>Brabourne Stadium, Mumbai</td>\n",
              "      <td>Delhi Capitals</td>\n",
              "      <td>field</td>\n",
              "      <td>N</td>\n",
              "      <td>Delhi Capitals</td>\n",
              "      <td>Wickets</td>\n",
              "      <td>4</td>\n",
              "      <td>NaN</td>\n",
              "      <td>Kuldeep Yadav</td>\n",
              "      <td>['RG Sharma', 'Ishan Kishan', 'Anmolpreet Sing...</td>\n",
              "      <td>['PP Shaw', 'TL Seifert', 'Mandeep Singh', 'RR...</td>\n",
              "      <td>RJ Tucker</td>\n",
              "      <td>HAS Khalid</td>\n",
              "    </tr>\n",
              "    <tr>\n",
              "      <th>73</th>\n",
              "      <td>1304047</td>\n",
              "      <td>Mumbai</td>\n",
              "      <td>2022-03-26</td>\n",
              "      <td>2022</td>\n",
              "      <td>1</td>\n",
              "      <td>Chennai Super Kings</td>\n",
              "      <td>Kolkata Knight Riders</td>\n",
              "      <td>Wankhede Stadium, Mumbai</td>\n",
              "      <td>Kolkata Knight Riders</td>\n",
              "      <td>field</td>\n",
              "      <td>N</td>\n",
              "      <td>Kolkata Knight Riders</td>\n",
              "      <td>Wickets</td>\n",
              "      <td>6</td>\n",
              "      <td>NaN</td>\n",
              "      <td>UT Yadav</td>\n",
              "      <td>['RD Gaikwad', 'DP Conway', 'RV Uthappa', 'AT ...</td>\n",
              "      <td>['AM Rahane', 'VR Iyer', 'N Rana', 'SS Iyer', ...</td>\n",
              "      <td>AK Chaudhary</td>\n",
              "      <td>Nitin Menon</td>\n",
              "    </tr>\n",
              "  </tbody>\n",
              "</table>\n",
              "</div>\n",
              "      <button class=\"colab-df-convert\" onclick=\"convertToInteractive('df-05d02dcc-70ed-4334-9d2e-64636a94a12d')\"\n",
              "              title=\"Convert this dataframe to an interactive table.\"\n",
              "              style=\"display:none;\">\n",
              "        \n",
              "  <svg xmlns=\"http://www.w3.org/2000/svg\" height=\"24px\"viewBox=\"0 0 24 24\"\n",
              "       width=\"24px\">\n",
              "    <path d=\"M0 0h24v24H0V0z\" fill=\"none\"/>\n",
              "    <path d=\"M18.56 5.44l.94 2.06.94-2.06 2.06-.94-2.06-.94-.94-2.06-.94 2.06-2.06.94zm-11 1L8.5 8.5l.94-2.06 2.06-.94-2.06-.94L8.5 2.5l-.94 2.06-2.06.94zm10 10l.94 2.06.94-2.06 2.06-.94-2.06-.94-.94-2.06-.94 2.06-2.06.94z\"/><path d=\"M17.41 7.96l-1.37-1.37c-.4-.4-.92-.59-1.43-.59-.52 0-1.04.2-1.43.59L10.3 9.45l-7.72 7.72c-.78.78-.78 2.05 0 2.83L4 21.41c.39.39.9.59 1.41.59.51 0 1.02-.2 1.41-.59l7.78-7.78 2.81-2.81c.8-.78.8-2.07 0-2.86zM5.41 20L4 18.59l7.72-7.72 1.47 1.35L5.41 20z\"/>\n",
              "  </svg>\n",
              "      </button>\n",
              "      \n",
              "  <style>\n",
              "    .colab-df-container {\n",
              "      display:flex;\n",
              "      flex-wrap:wrap;\n",
              "      gap: 12px;\n",
              "    }\n",
              "\n",
              "    .colab-df-convert {\n",
              "      background-color: #E8F0FE;\n",
              "      border: none;\n",
              "      border-radius: 50%;\n",
              "      cursor: pointer;\n",
              "      display: none;\n",
              "      fill: #1967D2;\n",
              "      height: 32px;\n",
              "      padding: 0 0 0 0;\n",
              "      width: 32px;\n",
              "    }\n",
              "\n",
              "    .colab-df-convert:hover {\n",
              "      background-color: #E2EBFA;\n",
              "      box-shadow: 0px 1px 2px rgba(60, 64, 67, 0.3), 0px 1px 3px 1px rgba(60, 64, 67, 0.15);\n",
              "      fill: #174EA6;\n",
              "    }\n",
              "\n",
              "    [theme=dark] .colab-df-convert {\n",
              "      background-color: #3B4455;\n",
              "      fill: #D2E3FC;\n",
              "    }\n",
              "\n",
              "    [theme=dark] .colab-df-convert:hover {\n",
              "      background-color: #434B5C;\n",
              "      box-shadow: 0px 1px 3px 1px rgba(0, 0, 0, 0.15);\n",
              "      filter: drop-shadow(0px 1px 2px rgba(0, 0, 0, 0.3));\n",
              "      fill: #FFFFFF;\n",
              "    }\n",
              "  </style>\n",
              "\n",
              "      <script>\n",
              "        const buttonEl =\n",
              "          document.querySelector('#df-05d02dcc-70ed-4334-9d2e-64636a94a12d button.colab-df-convert');\n",
              "        buttonEl.style.display =\n",
              "          google.colab.kernel.accessAllowed ? 'block' : 'none';\n",
              "\n",
              "        async function convertToInteractive(key) {\n",
              "          const element = document.querySelector('#df-05d02dcc-70ed-4334-9d2e-64636a94a12d');\n",
              "          const dataTable =\n",
              "            await google.colab.kernel.invokeFunction('convertToInteractive',\n",
              "                                                     [key], {});\n",
              "          if (!dataTable) return;\n",
              "\n",
              "          const docLinkHtml = 'Like what you see? Visit the ' +\n",
              "            '<a target=\"_blank\" href=https://colab.research.google.com/notebooks/data_table.ipynb>data table notebook</a>'\n",
              "            + ' to learn more about interactive tables.';\n",
              "          element.innerHTML = '';\n",
              "          dataTable['output_type'] = 'display_data';\n",
              "          await google.colab.output.renderOutput(dataTable, element);\n",
              "          const docLink = document.createElement('div');\n",
              "          docLink.innerHTML = docLinkHtml;\n",
              "          element.appendChild(docLink);\n",
              "        }\n",
              "      </script>\n",
              "    </div>\n",
              "  </div>\n",
              "  "
            ]
          },
          "metadata": {},
          "execution_count": 101
        }
      ]
    },
    {
      "cell_type": "code",
      "source": [
        "B_B.info()                   #The information contains the number of columns, column labels, column data types, memory usage, range index, and the number of cells in each column (non-null values)."
      ],
      "metadata": {
        "id": "bClyXfZaef5N",
        "outputId": "47247023-c10c-4691-9ba3-b02484dcd526",
        "colab": {
          "base_uri": "https://localhost:8080/"
        }
      },
      "execution_count": 102,
      "outputs": [
        {
          "output_type": "stream",
          "name": "stdout",
          "text": [
            "<class 'pandas.core.frame.DataFrame'>\n",
            "RangeIndex: 17912 entries, 0 to 17911\n",
            "Data columns (total 17 columns):\n",
            " #   Column             Non-Null Count  Dtype \n",
            "---  ------             --------------  ----- \n",
            " 0   ID                 17912 non-null  int64 \n",
            " 1   innings            17912 non-null  int64 \n",
            " 2   overs              17912 non-null  int64 \n",
            " 3   ballnumber         17912 non-null  int64 \n",
            " 4   batter             17912 non-null  object\n",
            " 5   bowler             17912 non-null  object\n",
            " 6   non-striker        17912 non-null  object\n",
            " 7   extra_type         1050 non-null   object\n",
            " 8   batsman_run        17912 non-null  int64 \n",
            " 9   extras_run         17912 non-null  int64 \n",
            " 10  total_run          17912 non-null  int64 \n",
            " 11  non_boundary       17912 non-null  int64 \n",
            " 12  isWicketDelivery   17912 non-null  int64 \n",
            " 13  player_out         912 non-null    object\n",
            " 14  kind               912 non-null    object\n",
            " 15  fielders_involved  704 non-null    object\n",
            " 16  BattingTeam        17912 non-null  object\n",
            "dtypes: int64(9), object(8)\n",
            "memory usage: 2.3+ MB\n"
          ]
        }
      ]
    },
    {
      "cell_type": "code",
      "source": [
        "M_D.info()"
      ],
      "metadata": {
        "id": "6aaSy6flejPh",
        "outputId": "a8c2e195-e506-4c29-97f7-3afb62e65b7e",
        "colab": {
          "base_uri": "https://localhost:8080/"
        }
      },
      "execution_count": 103,
      "outputs": [
        {
          "output_type": "stream",
          "name": "stdout",
          "text": [
            "<class 'pandas.core.frame.DataFrame'>\n",
            "RangeIndex: 74 entries, 0 to 73\n",
            "Data columns (total 20 columns):\n",
            " #   Column           Non-Null Count  Dtype  \n",
            "---  ------           --------------  -----  \n",
            " 0   ID               74 non-null     int64  \n",
            " 1   City             74 non-null     object \n",
            " 2   Date             74 non-null     object \n",
            " 3   Season           74 non-null     int64  \n",
            " 4   MatchNumber      74 non-null     object \n",
            " 5   Team1            74 non-null     object \n",
            " 6   Team2            74 non-null     object \n",
            " 7   Venue            74 non-null     object \n",
            " 8   TossWinner       74 non-null     object \n",
            " 9   TossDecision     74 non-null     object \n",
            " 10  SuperOver        74 non-null     object \n",
            " 11  WinningTeam      74 non-null     object \n",
            " 12  WonBy            74 non-null     object \n",
            " 13  Margin           74 non-null     int64  \n",
            " 14  method           0 non-null      float64\n",
            " 15  Player_of_Match  74 non-null     object \n",
            " 16  Team1Players     74 non-null     object \n",
            " 17  Team2Players     74 non-null     object \n",
            " 18  Umpire1          74 non-null     object \n",
            " 19  Umpire2          74 non-null     object \n",
            "dtypes: float64(1), int64(3), object(16)\n",
            "memory usage: 11.7+ KB\n"
          ]
        }
      ]
    },
    {
      "cell_type": "markdown",
      "source": [],
      "metadata": {
        "id": "bcYXmc2iCcq0"
      }
    },
    {
      "cell_type": "code",
      "source": [
        "B_B.describe().T          #For numeric data, the result’s index will include count, mean, std, min, max as well as lower, 50 and upper percentiles.The 50 percentile is the same as the median."
      ],
      "metadata": {
        "id": "HxnQwucjetMb",
        "outputId": "b1876c4d-a0cd-4dc6-fbf3-c1d4f66d012e",
        "colab": {
          "base_uri": "https://localhost:8080/",
          "height": 331
        }
      },
      "execution_count": 104,
      "outputs": [
        {
          "output_type": "execute_result",
          "data": {
            "text/plain": [
              "                    count          mean          std        min        25%  \\\n",
              "ID                17912.0  1.304524e+06  1843.445952  1304047.0  1304065.0   \n",
              "innings           17912.0  1.485317e+00     0.499798        1.0        1.0   \n",
              "overs             17912.0  9.290085e+00     5.690914        0.0        4.0   \n",
              "ballnumber        17912.0  3.652077e+00     1.837818        1.0        2.0   \n",
              "batsman_run       17912.0  1.286958e+00     1.701842        0.0        0.0   \n",
              "extras_run        17912.0  7.497767e-02     0.372878        0.0        0.0   \n",
              "total_run         17912.0  1.361936e+00     1.688991        0.0        0.0   \n",
              "non_boundary      17912.0  1.674855e-04     0.012941        0.0        0.0   \n",
              "isWicketDelivery  17912.0  5.091559e-02     0.219831        0.0        0.0   \n",
              "\n",
              "                        50%        75%        max  \n",
              "ID                1304084.0  1304102.0  1312200.0  \n",
              "innings                 1.0        2.0        2.0  \n",
              "overs                   9.0       14.0       19.0  \n",
              "ballnumber              4.0        5.0       10.0  \n",
              "batsman_run             1.0        1.0        6.0  \n",
              "extras_run              0.0        0.0        5.0  \n",
              "total_run               1.0        1.0        7.0  \n",
              "non_boundary            0.0        0.0        1.0  \n",
              "isWicketDelivery        0.0        0.0        1.0  "
            ],
            "text/html": [
              "\n",
              "  <div id=\"df-2757247d-f506-48ae-bff1-193e922bf643\">\n",
              "    <div class=\"colab-df-container\">\n",
              "      <div>\n",
              "<style scoped>\n",
              "    .dataframe tbody tr th:only-of-type {\n",
              "        vertical-align: middle;\n",
              "    }\n",
              "\n",
              "    .dataframe tbody tr th {\n",
              "        vertical-align: top;\n",
              "    }\n",
              "\n",
              "    .dataframe thead th {\n",
              "        text-align: right;\n",
              "    }\n",
              "</style>\n",
              "<table border=\"1\" class=\"dataframe\">\n",
              "  <thead>\n",
              "    <tr style=\"text-align: right;\">\n",
              "      <th></th>\n",
              "      <th>count</th>\n",
              "      <th>mean</th>\n",
              "      <th>std</th>\n",
              "      <th>min</th>\n",
              "      <th>25%</th>\n",
              "      <th>50%</th>\n",
              "      <th>75%</th>\n",
              "      <th>max</th>\n",
              "    </tr>\n",
              "  </thead>\n",
              "  <tbody>\n",
              "    <tr>\n",
              "      <th>ID</th>\n",
              "      <td>17912.0</td>\n",
              "      <td>1.304524e+06</td>\n",
              "      <td>1843.445952</td>\n",
              "      <td>1304047.0</td>\n",
              "      <td>1304065.0</td>\n",
              "      <td>1304084.0</td>\n",
              "      <td>1304102.0</td>\n",
              "      <td>1312200.0</td>\n",
              "    </tr>\n",
              "    <tr>\n",
              "      <th>innings</th>\n",
              "      <td>17912.0</td>\n",
              "      <td>1.485317e+00</td>\n",
              "      <td>0.499798</td>\n",
              "      <td>1.0</td>\n",
              "      <td>1.0</td>\n",
              "      <td>1.0</td>\n",
              "      <td>2.0</td>\n",
              "      <td>2.0</td>\n",
              "    </tr>\n",
              "    <tr>\n",
              "      <th>overs</th>\n",
              "      <td>17912.0</td>\n",
              "      <td>9.290085e+00</td>\n",
              "      <td>5.690914</td>\n",
              "      <td>0.0</td>\n",
              "      <td>4.0</td>\n",
              "      <td>9.0</td>\n",
              "      <td>14.0</td>\n",
              "      <td>19.0</td>\n",
              "    </tr>\n",
              "    <tr>\n",
              "      <th>ballnumber</th>\n",
              "      <td>17912.0</td>\n",
              "      <td>3.652077e+00</td>\n",
              "      <td>1.837818</td>\n",
              "      <td>1.0</td>\n",
              "      <td>2.0</td>\n",
              "      <td>4.0</td>\n",
              "      <td>5.0</td>\n",
              "      <td>10.0</td>\n",
              "    </tr>\n",
              "    <tr>\n",
              "      <th>batsman_run</th>\n",
              "      <td>17912.0</td>\n",
              "      <td>1.286958e+00</td>\n",
              "      <td>1.701842</td>\n",
              "      <td>0.0</td>\n",
              "      <td>0.0</td>\n",
              "      <td>1.0</td>\n",
              "      <td>1.0</td>\n",
              "      <td>6.0</td>\n",
              "    </tr>\n",
              "    <tr>\n",
              "      <th>extras_run</th>\n",
              "      <td>17912.0</td>\n",
              "      <td>7.497767e-02</td>\n",
              "      <td>0.372878</td>\n",
              "      <td>0.0</td>\n",
              "      <td>0.0</td>\n",
              "      <td>0.0</td>\n",
              "      <td>0.0</td>\n",
              "      <td>5.0</td>\n",
              "    </tr>\n",
              "    <tr>\n",
              "      <th>total_run</th>\n",
              "      <td>17912.0</td>\n",
              "      <td>1.361936e+00</td>\n",
              "      <td>1.688991</td>\n",
              "      <td>0.0</td>\n",
              "      <td>0.0</td>\n",
              "      <td>1.0</td>\n",
              "      <td>1.0</td>\n",
              "      <td>7.0</td>\n",
              "    </tr>\n",
              "    <tr>\n",
              "      <th>non_boundary</th>\n",
              "      <td>17912.0</td>\n",
              "      <td>1.674855e-04</td>\n",
              "      <td>0.012941</td>\n",
              "      <td>0.0</td>\n",
              "      <td>0.0</td>\n",
              "      <td>0.0</td>\n",
              "      <td>0.0</td>\n",
              "      <td>1.0</td>\n",
              "    </tr>\n",
              "    <tr>\n",
              "      <th>isWicketDelivery</th>\n",
              "      <td>17912.0</td>\n",
              "      <td>5.091559e-02</td>\n",
              "      <td>0.219831</td>\n",
              "      <td>0.0</td>\n",
              "      <td>0.0</td>\n",
              "      <td>0.0</td>\n",
              "      <td>0.0</td>\n",
              "      <td>1.0</td>\n",
              "    </tr>\n",
              "  </tbody>\n",
              "</table>\n",
              "</div>\n",
              "      <button class=\"colab-df-convert\" onclick=\"convertToInteractive('df-2757247d-f506-48ae-bff1-193e922bf643')\"\n",
              "              title=\"Convert this dataframe to an interactive table.\"\n",
              "              style=\"display:none;\">\n",
              "        \n",
              "  <svg xmlns=\"http://www.w3.org/2000/svg\" height=\"24px\"viewBox=\"0 0 24 24\"\n",
              "       width=\"24px\">\n",
              "    <path d=\"M0 0h24v24H0V0z\" fill=\"none\"/>\n",
              "    <path d=\"M18.56 5.44l.94 2.06.94-2.06 2.06-.94-2.06-.94-.94-2.06-.94 2.06-2.06.94zm-11 1L8.5 8.5l.94-2.06 2.06-.94-2.06-.94L8.5 2.5l-.94 2.06-2.06.94zm10 10l.94 2.06.94-2.06 2.06-.94-2.06-.94-.94-2.06-.94 2.06-2.06.94z\"/><path d=\"M17.41 7.96l-1.37-1.37c-.4-.4-.92-.59-1.43-.59-.52 0-1.04.2-1.43.59L10.3 9.45l-7.72 7.72c-.78.78-.78 2.05 0 2.83L4 21.41c.39.39.9.59 1.41.59.51 0 1.02-.2 1.41-.59l7.78-7.78 2.81-2.81c.8-.78.8-2.07 0-2.86zM5.41 20L4 18.59l7.72-7.72 1.47 1.35L5.41 20z\"/>\n",
              "  </svg>\n",
              "      </button>\n",
              "      \n",
              "  <style>\n",
              "    .colab-df-container {\n",
              "      display:flex;\n",
              "      flex-wrap:wrap;\n",
              "      gap: 12px;\n",
              "    }\n",
              "\n",
              "    .colab-df-convert {\n",
              "      background-color: #E8F0FE;\n",
              "      border: none;\n",
              "      border-radius: 50%;\n",
              "      cursor: pointer;\n",
              "      display: none;\n",
              "      fill: #1967D2;\n",
              "      height: 32px;\n",
              "      padding: 0 0 0 0;\n",
              "      width: 32px;\n",
              "    }\n",
              "\n",
              "    .colab-df-convert:hover {\n",
              "      background-color: #E2EBFA;\n",
              "      box-shadow: 0px 1px 2px rgba(60, 64, 67, 0.3), 0px 1px 3px 1px rgba(60, 64, 67, 0.15);\n",
              "      fill: #174EA6;\n",
              "    }\n",
              "\n",
              "    [theme=dark] .colab-df-convert {\n",
              "      background-color: #3B4455;\n",
              "      fill: #D2E3FC;\n",
              "    }\n",
              "\n",
              "    [theme=dark] .colab-df-convert:hover {\n",
              "      background-color: #434B5C;\n",
              "      box-shadow: 0px 1px 3px 1px rgba(0, 0, 0, 0.15);\n",
              "      filter: drop-shadow(0px 1px 2px rgba(0, 0, 0, 0.3));\n",
              "      fill: #FFFFFF;\n",
              "    }\n",
              "  </style>\n",
              "\n",
              "      <script>\n",
              "        const buttonEl =\n",
              "          document.querySelector('#df-2757247d-f506-48ae-bff1-193e922bf643 button.colab-df-convert');\n",
              "        buttonEl.style.display =\n",
              "          google.colab.kernel.accessAllowed ? 'block' : 'none';\n",
              "\n",
              "        async function convertToInteractive(key) {\n",
              "          const element = document.querySelector('#df-2757247d-f506-48ae-bff1-193e922bf643');\n",
              "          const dataTable =\n",
              "            await google.colab.kernel.invokeFunction('convertToInteractive',\n",
              "                                                     [key], {});\n",
              "          if (!dataTable) return;\n",
              "\n",
              "          const docLinkHtml = 'Like what you see? Visit the ' +\n",
              "            '<a target=\"_blank\" href=https://colab.research.google.com/notebooks/data_table.ipynb>data table notebook</a>'\n",
              "            + ' to learn more about interactive tables.';\n",
              "          element.innerHTML = '';\n",
              "          dataTable['output_type'] = 'display_data';\n",
              "          await google.colab.output.renderOutput(dataTable, element);\n",
              "          const docLink = document.createElement('div');\n",
              "          docLink.innerHTML = docLinkHtml;\n",
              "          element.appendChild(docLink);\n",
              "        }\n",
              "      </script>\n",
              "    </div>\n",
              "  </div>\n",
              "  "
            ]
          },
          "metadata": {},
          "execution_count": 104
        }
      ]
    },
    {
      "cell_type": "code",
      "source": [
        "M_D.describe().T"
      ],
      "metadata": {
        "id": "_pcY4A3Se21U",
        "outputId": "ca419488-9154-4770-efb7-4d8b2cf12633",
        "colab": {
          "base_uri": "https://localhost:8080/",
          "height": 175
        }
      },
      "execution_count": 105,
      "outputs": [
        {
          "output_type": "execute_result",
          "data": {
            "text/plain": [
              "        count          mean          std        min         25%        50%  \\\n",
              "ID       74.0  1.304520e+06  1848.085956  1304047.0  1304065.25  1304083.5   \n",
              "Season   74.0  2.022000e+03     0.000000     2022.0     2022.00     2022.0   \n",
              "Margin   74.0  1.697297e+01    19.651047        2.0        5.25        8.0   \n",
              "method    0.0           NaN          NaN        NaN         NaN        NaN   \n",
              "\n",
              "               75%        max  \n",
              "ID      1304101.75  1312200.0  \n",
              "Season     2022.00     2022.0  \n",
              "Margin       18.00       91.0  \n",
              "method         NaN        NaN  "
            ],
            "text/html": [
              "\n",
              "  <div id=\"df-0b55a497-0da2-4f0f-8aaf-588c3717c93b\">\n",
              "    <div class=\"colab-df-container\">\n",
              "      <div>\n",
              "<style scoped>\n",
              "    .dataframe tbody tr th:only-of-type {\n",
              "        vertical-align: middle;\n",
              "    }\n",
              "\n",
              "    .dataframe tbody tr th {\n",
              "        vertical-align: top;\n",
              "    }\n",
              "\n",
              "    .dataframe thead th {\n",
              "        text-align: right;\n",
              "    }\n",
              "</style>\n",
              "<table border=\"1\" class=\"dataframe\">\n",
              "  <thead>\n",
              "    <tr style=\"text-align: right;\">\n",
              "      <th></th>\n",
              "      <th>count</th>\n",
              "      <th>mean</th>\n",
              "      <th>std</th>\n",
              "      <th>min</th>\n",
              "      <th>25%</th>\n",
              "      <th>50%</th>\n",
              "      <th>75%</th>\n",
              "      <th>max</th>\n",
              "    </tr>\n",
              "  </thead>\n",
              "  <tbody>\n",
              "    <tr>\n",
              "      <th>ID</th>\n",
              "      <td>74.0</td>\n",
              "      <td>1.304520e+06</td>\n",
              "      <td>1848.085956</td>\n",
              "      <td>1304047.0</td>\n",
              "      <td>1304065.25</td>\n",
              "      <td>1304083.5</td>\n",
              "      <td>1304101.75</td>\n",
              "      <td>1312200.0</td>\n",
              "    </tr>\n",
              "    <tr>\n",
              "      <th>Season</th>\n",
              "      <td>74.0</td>\n",
              "      <td>2.022000e+03</td>\n",
              "      <td>0.000000</td>\n",
              "      <td>2022.0</td>\n",
              "      <td>2022.00</td>\n",
              "      <td>2022.0</td>\n",
              "      <td>2022.00</td>\n",
              "      <td>2022.0</td>\n",
              "    </tr>\n",
              "    <tr>\n",
              "      <th>Margin</th>\n",
              "      <td>74.0</td>\n",
              "      <td>1.697297e+01</td>\n",
              "      <td>19.651047</td>\n",
              "      <td>2.0</td>\n",
              "      <td>5.25</td>\n",
              "      <td>8.0</td>\n",
              "      <td>18.00</td>\n",
              "      <td>91.0</td>\n",
              "    </tr>\n",
              "    <tr>\n",
              "      <th>method</th>\n",
              "      <td>0.0</td>\n",
              "      <td>NaN</td>\n",
              "      <td>NaN</td>\n",
              "      <td>NaN</td>\n",
              "      <td>NaN</td>\n",
              "      <td>NaN</td>\n",
              "      <td>NaN</td>\n",
              "      <td>NaN</td>\n",
              "    </tr>\n",
              "  </tbody>\n",
              "</table>\n",
              "</div>\n",
              "      <button class=\"colab-df-convert\" onclick=\"convertToInteractive('df-0b55a497-0da2-4f0f-8aaf-588c3717c93b')\"\n",
              "              title=\"Convert this dataframe to an interactive table.\"\n",
              "              style=\"display:none;\">\n",
              "        \n",
              "  <svg xmlns=\"http://www.w3.org/2000/svg\" height=\"24px\"viewBox=\"0 0 24 24\"\n",
              "       width=\"24px\">\n",
              "    <path d=\"M0 0h24v24H0V0z\" fill=\"none\"/>\n",
              "    <path d=\"M18.56 5.44l.94 2.06.94-2.06 2.06-.94-2.06-.94-.94-2.06-.94 2.06-2.06.94zm-11 1L8.5 8.5l.94-2.06 2.06-.94-2.06-.94L8.5 2.5l-.94 2.06-2.06.94zm10 10l.94 2.06.94-2.06 2.06-.94-2.06-.94-.94-2.06-.94 2.06-2.06.94z\"/><path d=\"M17.41 7.96l-1.37-1.37c-.4-.4-.92-.59-1.43-.59-.52 0-1.04.2-1.43.59L10.3 9.45l-7.72 7.72c-.78.78-.78 2.05 0 2.83L4 21.41c.39.39.9.59 1.41.59.51 0 1.02-.2 1.41-.59l7.78-7.78 2.81-2.81c.8-.78.8-2.07 0-2.86zM5.41 20L4 18.59l7.72-7.72 1.47 1.35L5.41 20z\"/>\n",
              "  </svg>\n",
              "      </button>\n",
              "      \n",
              "  <style>\n",
              "    .colab-df-container {\n",
              "      display:flex;\n",
              "      flex-wrap:wrap;\n",
              "      gap: 12px;\n",
              "    }\n",
              "\n",
              "    .colab-df-convert {\n",
              "      background-color: #E8F0FE;\n",
              "      border: none;\n",
              "      border-radius: 50%;\n",
              "      cursor: pointer;\n",
              "      display: none;\n",
              "      fill: #1967D2;\n",
              "      height: 32px;\n",
              "      padding: 0 0 0 0;\n",
              "      width: 32px;\n",
              "    }\n",
              "\n",
              "    .colab-df-convert:hover {\n",
              "      background-color: #E2EBFA;\n",
              "      box-shadow: 0px 1px 2px rgba(60, 64, 67, 0.3), 0px 1px 3px 1px rgba(60, 64, 67, 0.15);\n",
              "      fill: #174EA6;\n",
              "    }\n",
              "\n",
              "    [theme=dark] .colab-df-convert {\n",
              "      background-color: #3B4455;\n",
              "      fill: #D2E3FC;\n",
              "    }\n",
              "\n",
              "    [theme=dark] .colab-df-convert:hover {\n",
              "      background-color: #434B5C;\n",
              "      box-shadow: 0px 1px 3px 1px rgba(0, 0, 0, 0.15);\n",
              "      filter: drop-shadow(0px 1px 2px rgba(0, 0, 0, 0.3));\n",
              "      fill: #FFFFFF;\n",
              "    }\n",
              "  </style>\n",
              "\n",
              "      <script>\n",
              "        const buttonEl =\n",
              "          document.querySelector('#df-0b55a497-0da2-4f0f-8aaf-588c3717c93b button.colab-df-convert');\n",
              "        buttonEl.style.display =\n",
              "          google.colab.kernel.accessAllowed ? 'block' : 'none';\n",
              "\n",
              "        async function convertToInteractive(key) {\n",
              "          const element = document.querySelector('#df-0b55a497-0da2-4f0f-8aaf-588c3717c93b');\n",
              "          const dataTable =\n",
              "            await google.colab.kernel.invokeFunction('convertToInteractive',\n",
              "                                                     [key], {});\n",
              "          if (!dataTable) return;\n",
              "\n",
              "          const docLinkHtml = 'Like what you see? Visit the ' +\n",
              "            '<a target=\"_blank\" href=https://colab.research.google.com/notebooks/data_table.ipynb>data table notebook</a>'\n",
              "            + ' to learn more about interactive tables.';\n",
              "          element.innerHTML = '';\n",
              "          dataTable['output_type'] = 'display_data';\n",
              "          await google.colab.output.renderOutput(dataTable, element);\n",
              "          const docLink = document.createElement('div');\n",
              "          docLink.innerHTML = docLinkHtml;\n",
              "          element.appendChild(docLink);\n",
              "        }\n",
              "      </script>\n",
              "    </div>\n",
              "  </div>\n",
              "  "
            ]
          },
          "metadata": {},
          "execution_count": 105
        }
      ]
    },
    {
      "cell_type": "markdown",
      "source": [
        "**3) Searching for Null, Missing, Unwanted values**"
      ],
      "metadata": {
        "id": "1hnlX6OvKrY7"
      }
    },
    {
      "cell_type": "code",
      "source": [
        "om.find_null_values(M_D)            #Null Values by fuction call "
      ],
      "metadata": {
        "id": "_w-ykkOB5-Mc",
        "outputId": "4ffa3b24-d4fa-4e97-a8c1-8e2485b0d4b5",
        "colab": {
          "base_uri": "https://localhost:8080/"
        }
      },
      "execution_count": 106,
      "outputs": [
        {
          "output_type": "stream",
          "name": "stdout",
          "text": [
            "No of Null Values: ID                  0\n",
            "City                0\n",
            "Date                0\n",
            "Season              0\n",
            "MatchNumber         0\n",
            "Team1               0\n",
            "Team2               0\n",
            "Venue               0\n",
            "TossWinner          0\n",
            "TossDecision        0\n",
            "SuperOver           0\n",
            "WinningTeam         0\n",
            "WonBy               0\n",
            "Margin              0\n",
            "method             74\n",
            "Player_of_Match     0\n",
            "Team1Players        0\n",
            "Team2Players        0\n",
            "Umpire1             0\n",
            "Umpire2             0\n",
            "dtype: int64\n"
          ]
        }
      ]
    },
    {
      "cell_type": "code",
      "source": [
        "om.find_null_values(B_B)"
      ],
      "metadata": {
        "id": "T0_oC8ZT6M8S",
        "outputId": "303575ea-3c45-493c-a9a0-176131a24e17",
        "colab": {
          "base_uri": "https://localhost:8080/"
        }
      },
      "execution_count": 107,
      "outputs": [
        {
          "output_type": "stream",
          "name": "stdout",
          "text": [
            "No of Null Values: ID                       0\n",
            "innings                  0\n",
            "overs                    0\n",
            "ballnumber               0\n",
            "batter                   0\n",
            "bowler                   0\n",
            "non-striker              0\n",
            "extra_type           16862\n",
            "batsman_run              0\n",
            "extras_run               0\n",
            "total_run                0\n",
            "non_boundary             0\n",
            "isWicketDelivery         0\n",
            "player_out           17000\n",
            "kind                 17000\n",
            "fielders_involved    17208\n",
            "BattingTeam              0\n",
            "dtype: int64\n"
          ]
        }
      ]
    },
    {
      "cell_type": "code",
      "source": [
        "B_B.isna().sum()                 #isna()calculates all the missing values and sum() calculates the sum of elements for each row and column."
      ],
      "metadata": {
        "id": "oXCKQuG8K38s",
        "outputId": "30675812-e51f-4ad2-d0d1-b9a6ad2272c2",
        "colab": {
          "base_uri": "https://localhost:8080/"
        }
      },
      "execution_count": 108,
      "outputs": [
        {
          "output_type": "execute_result",
          "data": {
            "text/plain": [
              "ID                       0\n",
              "innings                  0\n",
              "overs                    0\n",
              "ballnumber               0\n",
              "batter                   0\n",
              "bowler                   0\n",
              "non-striker              0\n",
              "extra_type           16862\n",
              "batsman_run              0\n",
              "extras_run               0\n",
              "total_run                0\n",
              "non_boundary             0\n",
              "isWicketDelivery         0\n",
              "player_out           17000\n",
              "kind                 17000\n",
              "fielders_involved    17208\n",
              "BattingTeam              0\n",
              "dtype: int64"
            ]
          },
          "metadata": {},
          "execution_count": 108
        }
      ]
    },
    {
      "cell_type": "code",
      "source": [
        "M_D.isnull().sum()"
      ],
      "metadata": {
        "id": "42TLFxOwK-vk",
        "outputId": "84a33ba4-35fd-4e19-f2c1-88ff1bedf845",
        "colab": {
          "base_uri": "https://localhost:8080/"
        }
      },
      "execution_count": 109,
      "outputs": [
        {
          "output_type": "execute_result",
          "data": {
            "text/plain": [
              "ID                  0\n",
              "City                0\n",
              "Date                0\n",
              "Season              0\n",
              "MatchNumber         0\n",
              "Team1               0\n",
              "Team2               0\n",
              "Venue               0\n",
              "TossWinner          0\n",
              "TossDecision        0\n",
              "SuperOver           0\n",
              "WinningTeam         0\n",
              "WonBy               0\n",
              "Margin              0\n",
              "method             74\n",
              "Player_of_Match     0\n",
              "Team1Players        0\n",
              "Team2Players        0\n",
              "Umpire1             0\n",
              "Umpire2             0\n",
              "dtype: int64"
            ]
          },
          "metadata": {},
          "execution_count": 109
        }
      ]
    },
    {
      "cell_type": "code",
      "source": [
        "B_B.columns.unique()               #Number of unique values in columns of data set  "
      ],
      "metadata": {
        "id": "s4JBnS57rJ9T",
        "outputId": "f9ccbea9-dfa7-4a0a-f40e-0fb2cf7c306d",
        "colab": {
          "base_uri": "https://localhost:8080/"
        }
      },
      "execution_count": 110,
      "outputs": [
        {
          "output_type": "execute_result",
          "data": {
            "text/plain": [
              "Index(['ID', 'innings', 'overs', 'ballnumber', 'batter', 'bowler',\n",
              "       'non-striker', 'extra_type', 'batsman_run', 'extras_run', 'total_run',\n",
              "       'non_boundary', 'isWicketDelivery', 'player_out', 'kind',\n",
              "       'fielders_involved', 'BattingTeam'],\n",
              "      dtype='object')"
            ]
          },
          "metadata": {},
          "execution_count": 110
        }
      ]
    },
    {
      "cell_type": "code",
      "source": [
        "M_D.columns.unique()"
      ],
      "metadata": {
        "id": "r8Pkrm4BsktY",
        "outputId": "cfcc086f-95f4-4b3d-e5a5-ed79c20d8142",
        "colab": {
          "base_uri": "https://localhost:8080/"
        }
      },
      "execution_count": 111,
      "outputs": [
        {
          "output_type": "execute_result",
          "data": {
            "text/plain": [
              "Index(['ID', 'City', 'Date', 'Season', 'MatchNumber', 'Team1', 'Team2',\n",
              "       'Venue', 'TossWinner', 'TossDecision', 'SuperOver', 'WinningTeam',\n",
              "       'WonBy', 'Margin', 'method', 'Player_of_Match', 'Team1Players',\n",
              "       'Team2Players', 'Umpire1', 'Umpire2'],\n",
              "      dtype='object')"
            ]
          },
          "metadata": {},
          "execution_count": 111
        }
      ]
    },
    {
      "cell_type": "markdown",
      "source": [
        "**Serching for Duplicate Values**"
      ],
      "metadata": {
        "id": "WOPDH5LHLJkX"
      }
    },
    {
      "cell_type": "code",
      "source": [
        "B_B.duplicated().sum()                   #Duplicate in columns"
      ],
      "metadata": {
        "id": "YwsYLTcGLSUK",
        "outputId": "9f2362af-7579-4d08-ddb9-c20a302ef022",
        "colab": {
          "base_uri": "https://localhost:8080/"
        }
      },
      "execution_count": 161,
      "outputs": [
        {
          "output_type": "execute_result",
          "data": {
            "text/plain": [
              "0"
            ]
          },
          "metadata": {},
          "execution_count": 161
        }
      ]
    },
    {
      "cell_type": "code",
      "source": [
        "M_D.duplicated().sum()"
      ],
      "metadata": {
        "id": "7Ua_170TLCmX",
        "outputId": "d14b7c5b-f33f-4496-e140-26aa9269b912",
        "colab": {
          "base_uri": "https://localhost:8080/"
        }
      },
      "execution_count": 162,
      "outputs": [
        {
          "output_type": "execute_result",
          "data": {
            "text/plain": [
              "0"
            ]
          },
          "metadata": {},
          "execution_count": 162
        }
      ]
    },
    {
      "cell_type": "markdown",
      "source": [
        "**Total Numbers of matches played by each Team**"
      ],
      "metadata": {
        "id": "9KKrzXWRIgOX"
      }
    },
    {
      "cell_type": "code",
      "source": [
        "total_mactches = M_D['Team1'].value_counts() + M_D['Team2'].value_counts()\n",
        "total_mactches"
      ],
      "metadata": {
        "id": "ToXyYXBU9d7i",
        "outputId": "564aafc5-e18f-4c7b-ad41-8e643ce546f1",
        "colab": {
          "base_uri": "https://localhost:8080/"
        }
      },
      "execution_count": 116,
      "outputs": [
        {
          "output_type": "execute_result",
          "data": {
            "text/plain": [
              "Chennai Super Kings            14\n",
              "Delhi Capitals                 14\n",
              "Gujarat Titans                 16\n",
              "Kolkata Knight Riders          14\n",
              "Lucknow Super Giants           15\n",
              "Mumbai Indians                 14\n",
              "Punjab Kings                   14\n",
              "Rajasthan Royals               17\n",
              "Royal Challengers Bangalore    16\n",
              "Sunrisers Hyderabad            14\n",
              "dtype: int64"
            ]
          },
          "metadata": {},
          "execution_count": 116
        }
      ]
    },
    {
      "cell_type": "markdown",
      "source": [
        "**Number of matches Win**"
      ],
      "metadata": {
        "id": "F018jdiQI9ud"
      }
    },
    {
      "cell_type": "code",
      "source": [
        "win =M_D.groupby('WinningTeam').count()\n",
        "win['ID']"
      ],
      "metadata": {
        "id": "v2A4Pfid9pmH",
        "outputId": "ddc3d594-2734-4ac8-b97c-b7cad44550ce",
        "colab": {
          "base_uri": "https://localhost:8080/"
        }
      },
      "execution_count": 117,
      "outputs": [
        {
          "output_type": "execute_result",
          "data": {
            "text/plain": [
              "WinningTeam\n",
              "Chennai Super Kings             4\n",
              "Delhi Capitals                  7\n",
              "Gujarat Titans                 12\n",
              "Kolkata Knight Riders           6\n",
              "Lucknow Super Giants            9\n",
              "Mumbai Indians                  4\n",
              "Punjab Kings                    7\n",
              "Rajasthan Royals               10\n",
              "Royal Challengers Bangalore     9\n",
              "Sunrisers Hyderabad             6\n",
              "Name: ID, dtype: int64"
            ]
          },
          "metadata": {},
          "execution_count": 117
        }
      ]
    },
    {
      "cell_type": "code",
      "source": [
        "om.win_total_maches(M_D, win, total_mactches)   "
      ],
      "metadata": {
        "id": "kaXSrq3V94Ui",
        "outputId": "1e03f587-9f74-4165-eb8b-93d174ffcb71",
        "colab": {
          "base_uri": "https://localhost:8080/",
          "height": 359
        }
      },
      "execution_count": 118,
      "outputs": [
        {
          "output_type": "display_data",
          "data": {
            "text/plain": [
              "<Figure size 504x216 with 1 Axes>"
            ],
            "image/png": "[encoded data removed]"
          },
          "metadata": {
            "needs_background": "light"
          }
        }
      ]
    },
    {
      "cell_type": "markdown",
      "source": [
        "****"
      ],
      "metadata": {
        "id": "4EsNfYRgKaV8"
      }
    },
    {
      "cell_type": "code",
      "source": [
        "most_runs = B_B.groupby(['ID'])['total_run'].sum().reset_index()      #Run scored by both teams in a match  according match sequence \n",
        "most_runs"
      ],
      "metadata": {
        "id": "18Swt5bF-Fz_",
        "outputId": "3500454c-16a4-4467-e5e4-01a89a9283aa",
        "colab": {
          "base_uri": "https://localhost:8080/",
          "height": 423
        }
      },
      "execution_count": 119,
      "outputs": [
        {
          "output_type": "execute_result",
          "data": {
            "text/plain": [
              "         ID  total_run\n",
              "0   1304047        264\n",
              "1   1304048        356\n",
              "2   1304049        413\n",
              "3   1304050        319\n",
              "4   1304051        359\n",
              "..      ...        ...\n",
              "69  1304116        317\n",
              "70  1312197        379\n",
              "71  1312198        400\n",
              "72  1312199        318\n",
              "73  1312200        263\n",
              "\n",
              "[74 rows x 2 columns]"
            ],
            "text/html": [
              "\n",
              "  <div id=\"df-4dfb2617-5bc9-423a-8ce3-46c4c946aa63\">\n",
              "    <div class=\"colab-df-container\">\n",
              "      <div>\n",
              "<style scoped>\n",
              "    .dataframe tbody tr th:only-of-type {\n",
              "        vertical-align: middle;\n",
              "    }\n",
              "\n",
              "    .dataframe tbody tr th {\n",
              "        vertical-align: top;\n",
              "    }\n",
              "\n",
              "    .dataframe thead th {\n",
              "        text-align: right;\n",
              "    }\n",
              "</style>\n",
              "<table border=\"1\" class=\"dataframe\">\n",
              "  <thead>\n",
              "    <tr style=\"text-align: right;\">\n",
              "      <th></th>\n",
              "      <th>ID</th>\n",
              "      <th>total_run</th>\n",
              "    </tr>\n",
              "  </thead>\n",
              "  <tbody>\n",
              "    <tr>\n",
              "      <th>0</th>\n",
              "      <td>1304047</td>\n",
              "      <td>264</td>\n",
              "    </tr>\n",
              "    <tr>\n",
              "      <th>1</th>\n",
              "      <td>1304048</td>\n",
              "      <td>356</td>\n",
              "    </tr>\n",
              "    <tr>\n",
              "      <th>2</th>\n",
              "      <td>1304049</td>\n",
              "      <td>413</td>\n",
              "    </tr>\n",
              "    <tr>\n",
              "      <th>3</th>\n",
              "      <td>1304050</td>\n",
              "      <td>319</td>\n",
              "    </tr>\n",
              "    <tr>\n",
              "      <th>4</th>\n",
              "      <td>1304051</td>\n",
              "      <td>359</td>\n",
              "    </tr>\n",
              "    <tr>\n",
              "      <th>...</th>\n",
              "      <td>...</td>\n",
              "      <td>...</td>\n",
              "    </tr>\n",
              "    <tr>\n",
              "      <th>69</th>\n",
              "      <td>1304116</td>\n",
              "      <td>317</td>\n",
              "    </tr>\n",
              "    <tr>\n",
              "      <th>70</th>\n",
              "      <td>1312197</td>\n",
              "      <td>379</td>\n",
              "    </tr>\n",
              "    <tr>\n",
              "      <th>71</th>\n",
              "      <td>1312198</td>\n",
              "      <td>400</td>\n",
              "    </tr>\n",
              "    <tr>\n",
              "      <th>72</th>\n",
              "      <td>1312199</td>\n",
              "      <td>318</td>\n",
              "    </tr>\n",
              "    <tr>\n",
              "      <th>73</th>\n",
              "      <td>1312200</td>\n",
              "      <td>263</td>\n",
              "    </tr>\n",
              "  </tbody>\n",
              "</table>\n",
              "<p>74 rows × 2 columns</p>\n",
              "</div>\n",
              "      <button class=\"colab-df-convert\" onclick=\"convertToInteractive('df-4dfb2617-5bc9-423a-8ce3-46c4c946aa63')\"\n",
              "              title=\"Convert this dataframe to an interactive table.\"\n",
              "              style=\"display:none;\">\n",
              "        \n",
              "  <svg xmlns=\"http://www.w3.org/2000/svg\" height=\"24px\"viewBox=\"0 0 24 24\"\n",
              "       width=\"24px\">\n",
              "    <path d=\"M0 0h24v24H0V0z\" fill=\"none\"/>\n",
              "    <path d=\"M18.56 5.44l.94 2.06.94-2.06 2.06-.94-2.06-.94-.94-2.06-.94 2.06-2.06.94zm-11 1L8.5 8.5l.94-2.06 2.06-.94-2.06-.94L8.5 2.5l-.94 2.06-2.06.94zm10 10l.94 2.06.94-2.06 2.06-.94-2.06-.94-.94-2.06-.94 2.06-2.06.94z\"/><path d=\"M17.41 7.96l-1.37-1.37c-.4-.4-.92-.59-1.43-.59-.52 0-1.04.2-1.43.59L10.3 9.45l-7.72 7.72c-.78.78-.78 2.05 0 2.83L4 21.41c.39.39.9.59 1.41.59.51 0 1.02-.2 1.41-.59l7.78-7.78 2.81-2.81c.8-.78.8-2.07 0-2.86zM5.41 20L4 18.59l7.72-7.72 1.47 1.35L5.41 20z\"/>\n",
              "  </svg>\n",
              "      </button>\n",
              "      \n",
              "  <style>\n",
              "    .colab-df-container {\n",
              "      display:flex;\n",
              "      flex-wrap:wrap;\n",
              "      gap: 12px;\n",
              "    }\n",
              "\n",
              "    .colab-df-convert {\n",
              "      background-color: #E8F0FE;\n",
              "      border: none;\n",
              "      border-radius: 50%;\n",
              "      cursor: pointer;\n",
              "      display: none;\n",
              "      fill: #1967D2;\n",
              "      height: 32px;\n",
              "      padding: 0 0 0 0;\n",
              "      width: 32px;\n",
              "    }\n",
              "\n",
              "    .colab-df-convert:hover {\n",
              "      background-color: #E2EBFA;\n",
              "      box-shadow: 0px 1px 2px rgba(60, 64, 67, 0.3), 0px 1px 3px 1px rgba(60, 64, 67, 0.15);\n",
              "      fill: #174EA6;\n",
              "    }\n",
              "\n",
              "    [theme=dark] .colab-df-convert {\n",
              "      background-color: #3B4455;\n",
              "      fill: #D2E3FC;\n",
              "    }\n",
              "\n",
              "    [theme=dark] .colab-df-convert:hover {\n",
              "      background-color: #434B5C;\n",
              "      box-shadow: 0px 1px 3px 1px rgba(0, 0, 0, 0.15);\n",
              "      filter: drop-shadow(0px 1px 2px rgba(0, 0, 0, 0.3));\n",
              "      fill: #FFFFFF;\n",
              "    }\n",
              "  </style>\n",
              "\n",
              "      <script>\n",
              "        const buttonEl =\n",
              "          document.querySelector('#df-4dfb2617-5bc9-423a-8ce3-46c4c946aa63 button.colab-df-convert');\n",
              "        buttonEl.style.display =\n",
              "          google.colab.kernel.accessAllowed ? 'block' : 'none';\n",
              "\n",
              "        async function convertToInteractive(key) {\n",
              "          const element = document.querySelector('#df-4dfb2617-5bc9-423a-8ce3-46c4c946aa63');\n",
              "          const dataTable =\n",
              "            await google.colab.kernel.invokeFunction('convertToInteractive',\n",
              "                                                     [key], {});\n",
              "          if (!dataTable) return;\n",
              "\n",
              "          const docLinkHtml = 'Like what you see? Visit the ' +\n",
              "            '<a target=\"_blank\" href=https://colab.research.google.com/notebooks/data_table.ipynb>data table notebook</a>'\n",
              "            + ' to learn more about interactive tables.';\n",
              "          element.innerHTML = '';\n",
              "          dataTable['output_type'] = 'display_data';\n",
              "          await google.colab.output.renderOutput(dataTable, element);\n",
              "          const docLink = document.createElement('div');\n",
              "          docLink.innerHTML = docLinkHtml;\n",
              "          element.appendChild(docLink);\n",
              "        }\n",
              "      </script>\n",
              "    </div>\n",
              "  </div>\n",
              "  "
            ]
          },
          "metadata": {},
          "execution_count": 119
        }
      ]
    },
    {
      "cell_type": "code",
      "source": [
        "om.runs_scored_ascending(most_runs)            #Runs scored by both teams in ascending order according to runs "
      ],
      "metadata": {
        "id": "UAbMRbR6-aml",
        "outputId": "7ac43c84-cd6b-44f0-ea69-3317bb6d1dcf",
        "colab": {
          "base_uri": "https://localhost:8080/"
        }
      },
      "execution_count": 120,
      "outputs": [
        {
          "output_type": "stream",
          "name": "stdout",
          "text": [
            "         ID  total_run\n",
            "35  1304082        140\n",
            "58  1304105        200\n",
            "56  1304103        226\n",
            "31  1304078        234\n",
            "38  1304085        259\n",
            "..      ...        ...\n",
            "2   1304049        413\n",
            "65  1304112        418\n",
            "6   1304053        421\n",
            "29  1304076        427\n",
            "33  1304080        429\n",
            "\n",
            "[74 rows x 2 columns]\n"
          ]
        }
      ]
    },
    {
      "cell_type": "markdown",
      "source": [
        "**Fuctions for plot**"
      ],
      "metadata": {
        "id": "ZYaDAt9XL6iT"
      }
    },
    {
      "cell_type": "code",
      "source": [
        "def histo(B_B):\n",
        "  \n",
        "   fig = px.histogram(B_B, x='total_run')\n",
        "   fig.show()\n",
        "\n",
        "def box(B_B):\n",
        "   fig = px.box(B_B, y='batsman_run')\n",
        "   fig.show()\n",
        "\n",
        "def hist(M_D):\n",
        "   fig = px.histogram(M_D, x='WonBy')\n",
        "   fig.show()\n",
        "\n",
        "def countplot(M_D):\n",
        "  plt.figure(figsize=(20,10))\n",
        "  sns.countplot(x ='TossWinner', data = M_D)\n",
        "\n",
        "def barplot(M_D):\n",
        "  sns.barplot(y ='overs', x ='extras_run' , data = M_D)\n",
        "   \n",
        "def relplot(B_B):\n",
        "  sns.relplot(x =\"overs\", y =\"batsman_run\",\n",
        "  data = B_B);\n"
      ],
      "metadata": {
        "id": "aV3d5G8h-rtF"
      },
      "execution_count": 185,
      "outputs": []
    },
    {
      "cell_type": "code",
      "source": [
        "histo(B_B)                                            #count of runs (0,1,2,3,4,5,6) scorred on every balls"
      ],
      "metadata": {
        "id": "Dn4_jGVy-toF",
        "outputId": "841b5755-9586-4a73-b22e-e62a74fbbae2",
        "colab": {
          "base_uri": "https://localhost:8080/",
          "height": 542
        }
      },
      "execution_count": 122,
      "outputs": [
        {
          "output_type": "display_data",
          "data": {
            "text/html": [
              "<html>\n",
              "<head><meta charset=\"utf-8\" /></head>\n",
              "<body>\n",
              "    <div>            <script src=\"https://cdnjs.cloudflare.com/ajax/libs/mathjax/2.7.5/MathJax.js?config=TeX-AMS-MML_SVG\"></script><script type=\"text/javascript\">if (window.MathJax) {MathJax.Hub.Config({SVG: {font: \"STIX-Web\"}});}</script>                <script type=\"text/javascript\">window.PlotlyConfig = {MathJaxConfig: 'local'};</script>\n",
              "        <script src=\"https://cdn.plot.ly/plotly-2.8.3.min.js\"></script>                <div id=\"8c0e3c6b-21b8-40a9-89f8-591d070cd52f\" class=\"plotly-graph-div\" style=\"height:525px; width:100%;\"></div>            <script type=\"text/javascript\">                                    window.PLOTLYENV=window.PLOTLYENV || {};                                    if (document.getElementById(\"8c0e3c6b-21b8-40a9-89f8-591d070cd52f\")) {                    Plotly.newPlot(                        \"8c0e3c6b-21b8-40a9-89f8-591d070cd52f\",                        [{\"alignmentgroup\":\"True\",\"bingroup\":\"x\",\"hovertemplate\":\"total_run=%{x}<br>count=%{y}<extra></extra>\",\"legendgroup\":\"\",\"marker\":{\"color\":\"#636efa\",\"pattern\":{\"shape\":\"\"}},\"name\":\"\",\"offsetgroup\":\"\",\"orientation\":\"v\",\"showlegend\":false,\"x\":[0,1,1,0,0,0,0,0,4,0,1,0,1,0,4,0,6,3,1,1,0,2,6,0,0,1,4,1,0,0,4,1,1,0,1,0,0,1,0,4,4,1,1,1,0,1,1,1,1,0,0,0,0,0,0,2,4,4,0,1,2,0,1,0,0,1,1,1,1,1,0,0,0,0,1,0,1,1,0,1,0,0,0,1,1,1,4,0,4,0,1,1,1,1,0,0,1,1,1,1,1,1,2,6,0,1,1,6,1,0,1,0,1,0,0,2,4,1,0,0,0,0,1,0,0,4,0,4,0,0,2,0,0,0,0,0,0,0,5,0,0,0,6,0,0,1,0,0,1,0,0,1,0,0,0,1,0,1,4,0,1,0,1,1,1,0,0,1,1,1,0,1,0,4,0,1,4,1,1,0,1,2,1,2,1,4,0,0,1,1,1,4,6,1,2,2,1,2,1,1,0,2,0,0,2,0,1,1,1,0,4,1,1,2,1,6,1,1,1,0,2,0,4,1,4,2,0,1,1,0,1,2,6,0,1,1,0,0,6,0,1,0,0,0,4,0,0,0,4,0,0,4,0,4,0,0,0,1,1,2,4,0,4,0,0,4,4,1,0,2,0,1,1,1,1,1,1,1,1,1,0,1,0,1,6,1,1,1,1,2,0,0,1,1,1,4,1,0,0,1,1,1,6,1,1,1,1,1,6,1,1,1,4,1,3,1,0,0,0,0,0,1,1,1,1,1,1,6,1,6,0,0,1,1,1,1,1,1,1,2,1,1,0,0,1,4,0,0,0,1,1,0,6,0,0,0,1,0,0,2,0,0,6,4,0,6,0,4,0,0,2,0,0,1,0,4,4,6,0,1,2,2,0,0,2,1,6,0,6,4,0,0,1,4,1,0,0,1,1,4,0,4,0,1,1,1,0,1,1,6,1,4,4,0,4,0,0,1,1,0,1,0,0,6,1,1,1,0,0,0,1,0,0,1,0,1,1,0,0,1,1,1,2,0,1,0,1,1,0,1,1,1,0,6,0,6,1,2,4,1,0,0,1,1,1,1,2,1,6,0,0,0,1,3,0,0,4,0,0,1,0,4,4,0,2,0,1,0,1,0,1,0,1,1,0,4,4,0,0,0,1,4,4,6,4,1,2,0,0,1,1,4,1,1,1,2,1,1,2,1,0,0,0,1,6,0,0,0,0,6,1,1,1,0,2,1,1,2,0,1,4,1,4,4,1,1,1,1,1,4,0,0,0,0,0,1,1,1,1,1,0,2,1,1,6,4,6,4,6,0,4,4,1,4,1,1,0,0,2,6,0,0,0,6,4,1,6,4,2,4,0,0,5,1,1,0,0,1,1,6,0,0,3,1,0,1,0,2,1,0,0,2,1,1,4,6,1,0,0,0,4,6,0,0,0,4,4,6,0,6,0,1,1,1,0,1,1,1,0,1,1,1,6,1,2,1,1,1,1,0,1,0,1,1,1,1,1,4,1,1,1,0,1,1,1,0,1,1,0,1,1,1,1,2,1,1,6,2,0,1,6,1,6,0,6,0,0,6,1,1,0,6,1,1,0,1,1,6,4,1,1,1,5,0,0,0,1,1,0,0,1,1,1,1,1,0,0,4,1,1,0,6,1,0,0,0,1,0,4,0,4,0,0,0,0,2,0,0,2,0,4,1,0,0,6,0,4,0,0,0,5,0,0,0,1,4,4,1,6,0,6,0,0,1,1,0,1,2,1,1,1,4,1,1,4,0,0,1,0,0,1,1,1,1,1,0,0,1,0,0,1,1,1,6,0,0,1,1,1,0,1,1,2,1,0,1,1,1,1,6,4,4,1,0,1,4,0,2,1,0,1,1,1,0,0,4,4,0,4,1,4,1,4,1,1,4,4,0,1,1,0,1,4,6,2,1,6,0,2,2,1,2,0,0,0,4,0,0,0,4,1,0,0,5,4,1,0,2,0,4,4,0,0,0,0,1,1,4,2,1,4,4,1,1,6,4,4,1,0,1,1,0,1,1,1,0,1,0,1,1,1,0,0,1,0,1,1,0,4,1,4,1,0,1,1,1,4,1,4,0,1,0,4,1,1,0,1,1,1,1,1,0,2,1,1,1,1,1,1,2,4,1,1,4,1,1,1,6,1,0,1,1,0,2,2,1,4,1,1,1,1,1,1,1,1,1,6,1,1,1,4,0,1,0,6,6,6,1,0,0,0,4,0,0,0,1,0,1,2,4,1,0,0,0,4,0,0,2,4,0,0,0,1,1,0,4,1,1,0,0,0,6,1,4,1,6,0,1,1,0,1,1,1,2,1,1,2,0,0,0,1,0,1,6,0,1,1,0,4,1,0,1,1,1,1,1,0,1,1,0,1,0,1,1,1,0,0,1,0,0,0,1,1,2,4,0,0,0,0,0,1,0,0,1,1,0,4,1,4,6,2,6,1,1,1,4,5,0,1,1,1,1,4,1,4,6,1,0,0,1,1,1,0,4,4,0,0,4,1,4,0,4,0,1,0,1,1,1,3,0,1,1,0,1,6,1,4,1,0,0,0,4,1,1,1,6,6,0,4,0,0,1,0,1,1,0,1,1,0,6,1,1,1,0,6,6,0,0,1,1,1,1,1,1,1,1,1,1,1,0,4,1,0,1,0,0,1,1,1,0,4,0,4,1,4,6,1,1,0,1,4,0,2,6,4,6,4,0,0,0,0,4,2,1,0,1,0,4,0,0,6,1,1,1,0,1,0,1,0,0,1,4,0,1,0,0,0,0,2,0,0,0,6,0,0,1,1,2,0,1,1,1,0,0,4,1,0,1,0,0,2,1,0,0,1,1,0,1,0,1,2,4,1,1,1,6,0,6,4,1,1,6,4,1,1,0,1,1,0,0,1,0,0,0,0,1,2,1,1,1,1,1,1,4,1,1,4,1,6,0,0,0,1,0,1,6,1,0,1,6,1,0,1,0,1,1,1,2,2,0,1,0,1,6,1,0,0,0,1,0,0,4,0,4,0,6,0,0,0,0,0,1,0,0,0,0,6,1,0,1,1,0,0,0,0,0,0,0,0,0,1,1,0,0,1,0,1,4,0,0,0,0,6,1,0,1,1,0,1,1,1,6,4,1,0,6,1,6,1,1,2,1,1,1,0,1,0,1,6,0,1,1,1,1,1,0,1,1,0,1,1,1,1,0,0,0,6,1,1,0,6,1,4,4,1,4,1,1,6,0,1,6,6,1,0,1,4,1,1,3,0,0,1,4,2,0,0,0,0,0,0,1,0,0,0,0,0,0,6,0,4,2,4,4,0,6,4,0,1,4,0,4,6,1,6,4,4,4,4,4,1,1,1,4,1,0,1,1,0,0,1,0,1,1,0,0,0,0,1,1,1,0,1,1,1,0,1,0,0,0,0,1,1,1,0,1,1,0,1,1,1,1,1,1,1,1,1,0,0,1,1,0,0,4,0,1,0,1,1,0,0,0,1,1,0,2,4,0,0,0,6,0,2,1,0,1,4,1,2,1,1,1,0,0,0,1,0,1,2,4,4,1,0,0,2,4,1,0,0,0,2,0,0,4,4,0,0,4,1,1,1,4,0,4,0,1,0,4,1,0,1,0,4,0,0,4,0,1,1,1,0,0,5,0,1,1,0,0,1,0,0,0,1,2,1,0,0,1,0,1,0,0,1,1,0,0,0,1,0,1,1,1,1,1,1,1,0,0,1,6,1,1,0,1,1,6,1,1,2,0,0,1,0,0,1,1,1,4,0,0,1,0,6,1,2,4,0,1,4,1,1,1,6,2,1,1,1,4,1,0,1,4,0,0,6,0,4,1,0,4,1,0,0,0,1,0,0,0,0,0,0,1,0,1,0,4,0,6,0,4,1,0,0,0,0,0,0,0,1,1,2,1,6,4,1,1,1,1,0,1,2,2,0,0,2,0,0,1,1,6,0,0,1,0,0,0,4,1,1,1,1,0,1,4,1,1,0,2,1,0,1,3,0,6,6,1,1,0,1,1,0,6,1,1,0,1,1,0,1,1,0,1,1,1,1,4,1,0,1,0,1,1,4,1,4,1,6,6,2,1,6,1,1,1,0,0,0,4,0,1,0,1,0,1,0,0,4,5,0,4,1,4,0,4,4,0,1,1,4,2,1,1,4,1,0,0,0,4,0,1,1,1,0,1,1,1,2,4,1,1,1,4,0,1,2,0,1,0,1,6,1,1,1,0,1,1,0,1,1,1,2,1,2,1,1,4,0,0,0,0,1,1,1,1,0,1,4,1,1,1,1,0,4,1,1,1,6,4,0,6,1,1,6,0,0,1,1,2,0,1,4,1,1,1,4,0,4,4,0,1,1,2,4,0,0,1,4,0,0,1,0,1,0,0,1,6,2,0,1,0,1,0,0,1,6,0,4,1,0,0,1,4,1,0,1,0,0,1,1,1,0,4,2,0,1,0,2,1,1,0,2,6,1,1,6,6,1,0,1,1,1,4,1,1,1,1,1,1,2,0,0,1,1,0,6,0,0,1,1,1,1,1,1,6,1,1,1,1,1,6,0,6,4,1,1,4,1,1,1,0,2,1,6,2,4,1,1,6,1,6,6,6,1,1,2,4,4,4,4,1,0,0,0,0,4,0,0,0,4,0,0,0,0,1,0,0,1,0,0,1,4,4,0,4,4,4,4,6,4,1,0,1,4,0,4,4,0,1,1,1,1,1,1,0,0,1,0,6,2,1,1,0,0,1,1,1,1,1,7,4,1,4,1,1,4,1,0,6,1,4,0,1,1,0,6,1,1,0,1,0,0,1,0,1,1,2,0,0,1,1,1,0,0,0,0,1,1,6,0,1,1,1,4,1,0,0,6,2,6,1,1,6,1,0,6,1,6,1,1,1,1,4,6,6,2,0,0,0,0,0,1,4,0,4,2,0,1,0,0,1,4,1,0,1,4,0,0,4,0,4,0,1,0,0,6,4,4,0,2,1,1,6,1,1,1,1,1,1,0,0,6,1,4,1,2,1,0,2,4,1,1,4,0,4,1,1,1,0,1,4,0,0,1,0,0,1,1,1,1,1,1,4,1,2,1,6,6,1,1,1,4,6,1,1,1,1,2,0,1,0,1,1,6,4,0,4,1,6,1,0,0,1,1,0,0,1,0,0,1,1,3,1,2,1,2,0,0,4,1,0,2,0,1,0,0,0,0,1,0,1,1,0,0,6,0,4,1,0,1,4,0,6,1,0,0,1,1,0,1,4,4,1,6,1,1,0,2,0,1,1,0,1,1,1,1,1,0,1,1,1,1,1,2,1,5,1,6,0,0,1,1,1,1,6,1,1,1,4,1,1,0,1,1,4,0,0,1,0,0,0,1,1,6,2,2,1,1,4,2,0,1,0,0,1,0,1,1,1,0,4,4,2,1,1,1,1,1,2,0,4,1,1,6,1,0,6,6,6,0,0,0,0,0,0,0,1,0,2,2,4,0,6,0,1,1,0,1,2,2,6,6,0,1,0,1,0,0,6,4,4,0,1,4,4,1,0,4,0,2,0,0,1,1,0,1,0,1,4,0,1,1,0,4,0,2,1,1,2,1,1,1,0,6,1,1,0,0,0,1,1,1,1,0,1,2,6,1,2,0,1,1,0,1,6,0,1,0,0,0,1,0,1,1,1,0,1,1,1,0,0,0,0,0,1,0,4,1,1,0,1,0,0,1,1,4,1,4,4,1,1,4,4,1,0,0,1,0,1,1,1,1,0,2,1,2,0,4,0,0,1,1,1,4,1,0,1,1,6,1,1,1,0,4,4,1,0,2,4,0,0,0,4,0,1,0,1,0,4,1,4,0,1,0,1,0,0,0,0,4,0,1,0,0,1,0,2,1,1,0,0,1,0,1,0,0,0,1,1,1,0,0,0,0,2,2,4,1,0,1,0,1,1,0,0,0,0,0,0,0,1,4,2,2,0,1,6,2,1,6,0,1,0,1,0,0,0,0,4,6,2,1,0,1,0,1,1,6,0,1,0,1,0,0,1,4,0,1,1,1,0,1,0,0,0,0,4,4,1,0,1,0,0,1,0,0,4,0,0,1,4,0,1,0,0,0,4,0,0,4,1,0,0,4,2,5,0,4,6,0,1,1,1,1,4,1,4,2,0,1,1,4,1,1,1,0,0,0,0,1,4,6,0,4,1,0,0,4,2,4,0,0,1,1,2,2,1,0,1,6,1,0,0,4,2,0,0,1,1,1,4,0,0,1,4,0,1,0,0,2,1,0,6,2,2,1,0,1,1,1,0,1,1,4,4,1,1,2,2,1,2,0,1,4,2,1,1,0,1,0,0,4,0,1,1,5,1,0,0,0,0,4,2,0,0,0,0,0,0,1,0,0,0,0,1,0,6,0,0,0,4,1,0,1,1,6,1,1,1,1,1,1,1,1,0,3,0,6,1,1,0,1,1,2,0,0,1,6,4,1,0,1,1,2,1,1,4,1,0,1,1,1,1,1,1,0,2,0,1,1,0,0,4,1,1,2,1,0,4,1,2,1,1,0,1,1,1,1,0,0,0,0,0,2,1,1,6,1,1,4,1,1,1,2,0,4,6,0,0,1,0,1,1,0,0,0,1,0,3,1,1,1,0,0,0,1,0,0,1,1,0,1,1,0,1,0,1,1,0,4,6,4,1,0,2,1,0,6,6,2,0,0,1,1,4,1,2,1,1,1,1,1,1,1,1,1,0,4,0,1,0,1,0,0,2,1,1,1,0,0,0,0,0,1,4,0,1,1,4,1,1,0,1,1,1,1,1,1,1,1,4,0,1,1,6,1,1,0,1,1,0,1,0,0,0,0,2,1,0,1,0,1,0,0,1,1,1,1,1,1,1,1,1,2,0,1,0,2,0,4,0,4,4,0,0,1,4,0,1,0,1,4,0,0,1,1,4,0,0,4,1,0,1,0,0,6,0,0,4,0,0,0,4,4,0,1,1,1,1,1,1,0,1,4,2,4,1,0,1,1,2,1,0,0,1,0,1,1,1,1,1,1,4,1,2,0,0,0,4,1,1,0,0,0,1,1,1,1,0,1,1,0,1,0,1,1,1,0,0,1,1,1,1,0,2,1,4,1,0,1,1,1,0,1,1,1,1,1,0,1,1,1,1,1,1,1,4,1,0,1,0,1,4,1,1,0,1,6,0,1,0,0,0,0,1,0,0,1,0,0,0,1,0,4,6,0,6,1,1,6,2,1,6,1,1,0,0,1,1,6,0,1,1,0,4,3,0,1,1,2,1,0,1,0,1,0,4,0,0,0,4,1,0,0,1,2,2,1,0,0,1,1,1,0,0,0,1,2,4,1,1,1,1,0,1,0,1,1,1,0,1,6,0,4,4,1,0,1,4,0,1,1,2,1,4,1,1,0,6,1,0,1,2,1,0,1,1,0,0,1,1,6,0,6,6,0,0,1,0,0,0,4,0,1,1,4,0,0,1,1,0,4,0,4,1,1,2,0,2,0,1,1,0,0,1,0,0,1,0,0,0,0,0,1,4,0,1,0,2,1,6,6,1,1,0,0,0,1,1,1,2,1,0,4,1,1,0,0,0,1,1,1,1,1,0,1,0,1,1,1,1,0,1,1,0,6,0,6,0,0,1,6,1,1,0,1,0,0,0,0,1,0,0,2,1,1,0,1,1,0,1,4,1,0,0,0,1,1,0,2,0,4,0,0,0,1,1,0,0,1,0,1,6,0,1,4,0,6,1,6,4,4,1,6,1,1,0,0,0,4,2,1,0,6,0,1,2,1,0,4,0,6,1,0,6,6,0,1,1,0,0,1,1,1,2,4,1,0,0,0,1,0,4,1,0,1,1,0,1,1,0,1,0,0,1,1,6,2,1,4,1,1,1,0,1,4,0,1,0,0,4,6,1,1,0,4,4,1,1,0,1,1,1,0,4,4,1,0,1,1,0,0,1,6,0,1,1,6,4,6,1,4,2,6,1,1,0,0,1,0,1,1,1,0,4,1,0,1,0,1,0,4,0,4,1,2,4,1,0,6,0,1,2,0,0,0,0,1,0,0,0,0,6,0,1,1,1,0,1,0,0,1,2,1,1,1,3,0,4,1,6,1,6,0,1,1,6,4,1,0,1,1,2,4,1,2,4,2,1,0,1,1,0,0,0,0,0,1,1,0,0,1,0,0,1,1,1,1,4,1,1,1,1,0,1,0,0,0,0,2,2,0,0,2,4,1,4,1,1,0,0,0,1,1,1,2,0,0,0,1,0,4,0,0,1,1,4,1,0,1,1,0,0,1,0,1,1,0,1,0,0,0,0,0,0,1,0,0,0,0,0,4,0,1,4,0,2,0,1,0,0,2,1,4,0,0,0,4,0,2,1,2,0,0,1,0,0,0,4,0,5,0,0,1,0,1,0,0,4,4,1,6,2,0,1,0,1,1,1,0,1,1,2,0,0,0,0,1,0,6,0,0,2,0,0,1,0,0,0,0,4,0,0,0,1,0,1,0,4,0,0,6,0,0,0,4,2,0,0,0,0,0,0,4,1,0,0,4,0,4,0,1,1,4,0,5,0,1,1,0,1,0,0,0,0,0,1,0,0,0,1,0,1,0,4,1,1,0,0,0,0,0,4,0,0,0,4,2,0,1,1,1,0,1,1,4,1,4,2,0,1,2,1,0,1,0,0,4,2,1,0,0,1,0,0,1,1,1,1,2,1,0,1,6,1,0,1,6,1,1,1,1,0,0,1,4,1,0,0,0,0,0,0,0,0,1,0,0,4,0,1,0,1,6,0,4,0,4,1,0,0,0,4,6,1,0,1,1,1,1,1,1,1,1,1,1,1,0,0,4,1,1,4,0,1,0,1,1,1,0,0,1,2,0,0,1,1,1,1,1,6,1,0,1,0,6,6,1,1,2,4,1,1,1,0,1,4,4,0,0,4,1,0,0,4,0,0,1,1,6,1,1,4,1,1,1,0,1,1,2,0,1,1,1,4,1,1,1,1,0,0,2,1,0,0,0,1,0,0,0,0,0,0,0,0,0,1,1,1,0,1,1,1,6,1,1,1,4,0,1,0,1,4,1,1,3,0,6,0,0,1,1,1,6,0,6,2,0,0,1,0,1,0,1,6,2,1,1,0,1,0,1,0,4,1,0,6,1,1,0,1,0,1,1,1,0,1,1,0,0,1,4,4,1,1,0,4,1,0,1,0,1,4,1,1,1,1,4,1,6,1,1,1,1,0,4,6,1,4,0,0,1,1,6,0,6,3,0,0,0,0,1,1,0,1,0,4,0,0,0,1,0,0,1,4,4,4,0,1,1,0,1,0,1,4,0,1,0,0,4,1,0,0,1,1,0,1,1,0,1,1,2,1,1,2,1,0,1,0,1,1,0,1,1,0,1,1,4,1,2,1,1,4,1,1,0,0,4,1,1,2,0,1,1,1,1,2,0,0,1,1,1,1,1,0,1,1,1,1,1,6,1,1,1,0,1,1,4,4,1,1,1,1,1,1,1,1,0,1,1,1,4,0,0,0,1,4,1,4,0,1,4,1,0,1,0,0,0,1,1,2,0,0,1,4,1,0,0,0,1,0,1,6,0,0,4,0,1,0,0,0,0,0,0,4,1,0,4,0,4,4,1,0,1,0,1,1,0,0,1,0,1,1,0,4,0,1,1,1,0,1,0,1,1,0,0,1,1,1,0,1,1,1,1,1,0,1,0,0,1,0,1,1,0,0,6,6,0,0,0,2,0,0,1,1,1,1,6,0,0,0,4,0,1,0,6,1,1,1,4,0,1,0,0,0,1,4,6,0,5,1,0,4,2,6,0,0,4,1,0,2,0,0,1,0,4,1,0,0,1,1,0,1,0,1,0,1,4,1,1,1,1,1,0,0,0,1,6,6,0,0,0,1,1,4,6,0,0,1,4,6,0,0,2,6,1,4,0,0,0,2,1,0,1,0,1,0,1,1,0,1,4,2,1,1,4,0,0,0,0,0,0,0,0,6,1,1,0,0,0,0,0,0,0,1,0,2,0,0,0,0,0,4,0,0,4,1,0,0,0,4,0,1,4,0,1,1,2,2,1,0,1,4,0,0,0,1,0,1,1,1,1,1,1,1,0,4,2,1,1,1,1,1,0,1,1,1,1,2,1,0,1,1,1,4,1,2,1,0,4,4,4,0,1,0,0,0,1,0,0,0,6,1,0,1,6,1,0,1,1,0,1,1,0,0,0,2,1,1,1,0,0,0,0,1,1,1,1,1,0,1,0,0,1,4,0,0,0,1,0,0,1,0,1,1,6,2,4,1,1,1,0,0,1,1,1,1,1,0,1,0,1,6,6,2,1,1,1,4,4,1,1,1,0,1,1,0,1,0,1,6,6,4,1,1,1,1,1,0,1,1,1,1,4,4,4,4,1,0,1,4,0,4,4,1,1,1,1,0,1,0,1,6,1,0,1,0,1,2,1,2,1,1,1,1,0,1,4,1,1,1,1,6,6,0,4,1,1,0,0,0,1,0,0,0,6,4,1,1,1,4,0,4,1,0,1,6,4,0,0,1,2,2,0,0,0,0,2,6,4,4,0,0,0,1,4,0,0,0,1,6,1,0,0,1,0,2,4,0,0,4,4,4,6,0,0,0,1,4,4,1,2,1,4,0,1,0,0,0,0,1,1,0,1,0,0,0,0,0,6,0,0,1,0,1,1,1,0,0,0,1,0,0,0,0,1,1,1,0,1,0,1,0,0,1,1,0,1,1,0,2,0,1,1,0,0,1,0,1,1,0,0,6,1,0,0,0,4,4,0,0,0,1,1,0,0,0,0,0,1,1,0,0,0,2,2,1,0,4,1,0,0,1,1,1,6,1,0,4,1,0,1,0,6,1,4,0,1,1,4,1,1,0,0,6,2,1,4,1,4,4,6,4,1,0,1,1,1,2,1,0,1,0,4,1,1,0,1,1,1,0,0,0,4,1,1,1,0,0,1,1,6,0,1,0,0,0,4,0,1,0,1,0,4,0,1,1,1,1,2,1,6,4,0,1,1,1,1,4,1,4,0,1,1,1,2,0,0,0,2,6,2,1,6,6,6,4,0,0,1,0,0,0,1,0,0,0,1,0,4,6,1,1,0,0,4,0,1,0,0,0,1,1,4,1,1,0,0,2,0,1,6,2,1,1,0,1,4,0,0,0,1,1,1,1,1,0,1,1,0,4,1,1,4,1,0,1,0,4,0,4,1,1,0,1,1,4,0,1,6,1,0,1,1,0,1,1,6,1,1,0,0,1,1,1,0,0,0,6,1,1,1,1,0,0,0,0,0,0,0,0,0,1,0,0,1,1,0,0,4,1,1,1,0,1,0,0,0,0,0,2,0,0,0,0,0,4,4,2,4,6,4,0,2,1,1,0,6,1,0,2,0,1,4,1,4,0,4,0,0,6,6,1,2,2,1,1,1,0,0,0,0,1,0,2,0,1,1,0,1,0,4,1,4,1,0,1,1,6,1,0,1,1,1,2,0,0,0,1,1,1,1,0,2,1,0,0,1,0,4,1,1,1,2,2,0,1,1,1,1,0,0,0,0,0,1,1,1,4,0,2,1,1,1,1,1,2,6,6,6,0,6,6,1,1,1,0,1,0,0,0,0,0,0,0,0,0,2,0,1,1,0,0,0,1,1,0,1,4,0,0,0,0,2,2,1,4,1,0,0,1,1,0,0,1,1,0,0,0,0,0,0,1,0,0,4,0,0,1,6,6,2,6,4,1,6,0,0,1,1,0,0,0,1,4,0,0,0,0,6,4,0,6,0,0,0,1,1,1,4,2,4,0,1,0,0,0,2,4,0,0,4,2,0,1,0,1,4,0,1,0,0,0,0,0,0,1,1,0,1,4,4,0,1,4,1,4,1,1,6,1,0,0,1,0,0,0,0,6,0,1,1,0,0,4,1,1,1,1,0,6,0,1,0,1,4,4,4,1,1,1,1,1,0,1,1,1,1,1,4,4,1,1,1,0,1,0,1,1,1,0,4,1,1,1,1,1,0,0,1,0,1,1,0,1,0,1,2,0,1,6,1,1,1,1,2,4,4,1,6,1,1,0,1,1,1,0,1,6,0,4,0,4,0,6,4,4,1,1,0,0,4,6,0,4,1,1,0,4,0,0,1,0,0,4,0,1,6,4,4,2,4,0,1,4,1,0,4,0,1,0,1,4,4,1,4,1,0,0,1,1,1,2,1,1,0,6,0,1,1,0,1,1,1,0,1,1,1,1,1,4,4,0,1,1,0,1,2,1,0,1,2,1,0,4,1,1,0,4,4,2,1,4,1,4,1,1,0,0,1,0,1,1,4,1,1,0,0,1,1,4,4,1,1,0,1,4,1,0,6,1,4,1,1,1,0,0,0,1,6,0,0,1,1,1,1,1,0,0,1,4,4,0,0,0,6,1,0,6,1,1,1,4,4,0,1,2,0,1,1,3,0,4,4,0,4,1,4,1,0,2,2,4,1,1,1,0,0,0,0,0,1,1,1,1,6,1,1,1,1,6,0,0,2,1,1,1,0,2,4,0,4,0,0,1,1,0,1,1,1,1,0,1,0,2,0,0,0,0,1,0,0,0,0,0,1,0,4,4,2,2,2,1,1,2,1,1,2,0,6,1,1,1,1,0,4,1,6,1,0,0,0,0,6,0,1,0,6,0,0,0,0,1,0,4,0,0,6,0,4,0,1,0,1,0,2,1,0,0,4,0,4,1,1,0,0,1,6,4,6,0,4,1,1,1,0,1,1,1,1,1,1,0,1,4,4,4,4,1,0,6,0,4,1,0,4,1,1,0,1,0,1,1,1,1,1,1,1,1,1,1,0,1,1,1,2,0,1,0,4,1,0,4,1,1,0,1,4,2,0,6,0,1,1,0,4,1,0,4,1,1,4,1,2,0,1,1,2,0,1,1,6,1,1,0,1,1,0,0,0,0,0,0,0,0,4,1,4,1,1,0,0,0,0,0,0,1,5,1,1,4,4,0,6,4,0,1,1,0,0,0,0,0,2,4,4,1,0,0,1,0,0,0,0,1,1,1,1,6,1,1,6,6,6,4,0,0,0,4,1,0,1,0,1,1,1,1,6,4,0,1,3,0,2,1,1,0,2,1,1,6,1,2,1,2,1,1,4,0,0,1,0,0,1,1,0,2,6,1,0,0,1,6,6,1,4,0,1,0,1,0,1,6,0,4,1,1,4,4,0,6,0,4,4,4,1,0,1,2,1,0,0,0,0,4,0,1,0,0,1,0,4,0,1,1,0,0,6,0,1,0,1,0,0,0,0,0,1,0,1,4,4,1,0,1,1,0,0,0,0,4,1,1,1,0,1,0,0,1,0,2,1,6,1,0,6,1,1,1,0,4,4,0,4,0,0,1,0,6,6,4,2,0,1,0,4,6,1,0,1,1,1,0,6,1,6,5,1,4,0,0,1,1,1,6,2,1,0,0,1,6,0,0,0,4,0,2,6,0,0,4,4,1,4,2,1,0,0,4,1,0,0,1,1,0,0,4,0,1,1,0,4,0,0,2,4,0,1,0,0,1,0,0,4,3,0,0,6,4,0,4,2,2,6,1,1,1,1,1,1,1,1,1,0,1,1,0,0,1,1,1,1,4,1,1,0,4,0,1,1,0,0,1,0,0,1,1,1,1,0,1,1,6,1,1,0,1,1,1,0,1,1,0,1,4,1,2,1,1,1,1,1,1,4,1,0,6,0,0,1,1,1,1,4,0,4,1,1,0,0,4,2,1,2,6,1,2,0,0,1,0,1,0,0,6,2,6,0,2,0,1,0,4,0,4,1,1,0,0,1,0,0,0,4,1,4,1,1,0,0,0,2,0,1,4,4,1,1,1,1,0,0,6,1,6,1,1,1,0,1,4,0,0,1,0,1,1,0,0,1,2,1,6,1,1,1,0,1,1,0,1,0,1,0,6,1,1,4,0,1,0,0,4,1,4,1,0,1,1,4,1,0,0,0,0,1,1,1,6,1,0,0,2,1,0,2,1,1,0,0,1,6,0,0,0,1,1,0,1,1,1,4,1,6,0,6,4,0,1,0,4,0,0,0,0,0,4,4,0,1,4,0,4,0,0,0,1,0,4,2,6,0,0,0,1,0,0,2,1,0,1,1,0,0,0,1,1,1,1,0,0,0,1,1,0,1,0,0,2,1,2,1,0,1,1,1,0,2,0,2,1,1,1,0,1,1,0,1,1,0,1,4,1,0,1,2,4,1,0,1,1,0,1,1,4,1,2,1,1,1,1,0,1,1,1,1,4,1,1,2,1,1,2,0,0,0,0,1,1,1,6,1,0,1,2,4,0,0,1,1,1,1,1,1,2,5,0,1,0,0,0,1,0,1,4,4,0,0,0,0,0,0,0,4,0,4,0,0,1,1,6,4,1,0,0,0,0,4,1,1,0,0,4,0,2,4,4,1,4,1,1,0,1,1,1,1,0,2,1,2,1,1,0,1,0,1,1,4,0,0,1,2,2,1,1,1,1,1,4,1,6,0,4,0,0,1,1,1,0,2,1,5,0,0,0,1,0,1,1,1,0,1,6,6,6,4,2,4,0,0,4,0,0,0,0,0,1,1,1,0,0,0,0,0,0,0,0,0,1,0,4,0,4,0,1,1,1,4,4,0,0,1,1,1,2,6,0,0,2,0,1,1,0,4,0,0,1,2,1,1,4,0,1,1,1,1,1,1,0,0,1,1,1,4,4,1,1,1,0,1,0,1,1,4,1,1,1,4,1,0,1,1,1,1,6,0,0,0,1,0,4,0,1,1,1,0,0,0,1,0,0,6,0,0,1,0,1,2,2,1,6,6,1,1,1,2,1,2,1,4,0,0,2,1,2,1,2,0,1,0,1,1,0,4,0,0,0,1,2,0,1,0,0,1,1,0,4,0,0,0,1,0,1,0,1,1,0,1,2,1,4,0,0,0,4,1,1,1,1,0,1,1,1,0,1,2,0,1,1,1,0,1,0,2,0,4,0,1,2,0,4,6,4,0,1,1,1,1,6,1,0,1,1,1,4,1,0,4,1,1,1,1,1,0,0,2,1,1,1,1,0,6,0,1,0,0,1,1,1,0,4,1,0,4,4,2,1,1,1,1,1,1,4,1,1,2,2,4,6,1,1,0,0,0,1,0,0,6,0,0,0,0,1,1,2,4,1,0,0,1,3,1,0,1,1,1,0,4,1,6,1,1,1,0,0,1,4,1,1,0,0,2,0,4,6,0,1,1,4,6,1,1,1,1,4,4,1,1,0,0,1,1,6,6,1,0,1,4,1,1,4,6,0,1,1,2,2,0,0,1,4,1,1,1,2,6,2,4,6,1,1,2,1,1,4,2,1,2,1,1,1,1,2,0,2,1,6,1,0,1,0,2,1,1,0,4,1,0,1,4,4,1,0,0,1,1,4,4,0,4,1,2,6,1,0,1,4,0,6,0,1,0,0,4,1,1,4,1,1,1,2,1,0,1,1,2,2,0,0,0,0,1,1,1,1,1,2,4,1,1,1,1,1,0,0,1,0,1,0,6,6,0,1,6,1,1,0,0,0,0,2,1,0,1,1,1,1,6,1,1,1,1,6,2,1,1,1,1,0,2,2,0,1,1,0,1,1,1,0,6,1,2,1,1,1,4,0,0,0,2,0,0,4,0,1,2,4,1,6,4,0,1,6,6,1,4,1,1,0,0,0,1,1,1,1,2,6,4,1,1,1,0,0,0,0,1,0,6,4,1,4,1,0,4,1,1,1,0,1,4,0,2,0,1,1,0,0,1,1,1,4,1,4,1,1,1,0,4,1,1,1,0,1,1,4,1,6,1,1,0,1,6,1,1,1,4,1,6,0,1,0,1,2,1,0,1,1,4,1,1,1,1,0,1,1,1,1,2,0,4,0,4,1,0,0,0,1,1,1,1,1,6,1,0,1,1,1,1,4,1,0,1,1,1,6,0,1,2,1,2,1,1,2,1,6,1,1,0,0,0,0,1,0,4,0,0,4,0,0,3,0,0,1,0,0,1,0,4,4,6,4,6,0,6,1,4,0,4,6,1,4,1,1,1,0,1,4,1,0,0,1,0,1,1,2,1,2,4,1,0,1,2,1,4,0,0,0,0,0,0,1,0,0,1,0,1,6,6,4,0,1,0,1,4,1,0,0,0,1,1,1,1,2,0,0,2,6,1,1,4,1,1,1,1,2,0,1,1,0,0,2,2,1,1,0,2,4,1,2,1,4,1,6,6,1,1,0,0,0,6,1,1,1,0,0,0,0,0,0,4,0,0,0,4,4,4,0,0,3,0,2,0,1,1,0,0,0,0,3,4,4,1,1,0,0,0,0,1,0,0,1,6,0,6,1,0,2,0,0,0,4,1,1,1,0,1,4,1,1,1,1,1,1,2,0,0,1,0,1,0,1,1,0,0,1,1,0,1,1,1,1,1,1,0,1,1,1,0,0,0,5,1,4,1,0,6,6,6,6,0,0,0,0,0,1,2,1,0,4,1,1,6,1,0,1,4,1,1,4,1,0,1,0,0,1,0,1,1,6,0,1,0,0,4,0,1,0,4,4,1,1,0,0,1,0,0,0,0,4,1,4,0,0,0,1,0,0,2,0,4,1,0,0,0,4,1,6,1,4,4,2,0,1,0,2,0,0,1,1,1,1,0,1,1,1,0,1,1,1,1,1,5,1,0,1,6,0,2,0,1,1,0,4,2,0,1,0,1,1,1,1,1,6,1,0,1,6,1,0,0,0,1,0,0,1,0,1,1,6,1,0,1,1,4,4,1,1,1,1,1,2,2,2,0,1,0,6,0,0,4,4,1,1,0,0,1,0,0,0,0,0,0,4,1,0,3,0,0,1,0,0,1,4,4,0,1,4,0,1,4,1,1,1,1,1,1,1,1,0,1,0,0,0,0,1,2,1,6,1,0,1,0,0,6,4,0,1,4,0,1,6,4,1,0,1,2,1,1,1,1,2,1,1,1,2,1,1,1,1,4,0,1,0,2,4,0,0,1,0,1,1,1,1,0,1,6,1,0,1,6,1,1,0,1,4,1,2,4,0,0,4,1,1,1,6,1,2,4,0,4,1,0,4,0,1,2,1,1,4,0,0,0,2,1,0,1,1,4,1,0,1,1,0,0,1,0,1,1,1,1,1,0,4,0,1,4,1,1,0,1,1,1,0,0,1,0,2,0,2,1,1,4,1,6,0,1,0,1,4,1,1,1,1,0,1,1,1,1,1,1,1,4,1,4,0,0,0,1,0,1,0,0,4,0,0,0,4,6,1,0,1,1,2,1,4,4,0,4,1,1,1,2,0,1,1,2,0,6,4,1,4,2,1,1,1,1,6,1,4,1,4,1,0,0,0,0,4,1,0,1,0,0,0,1,1,4,0,0,0,0,0,1,1,1,0,1,0,6,6,1,1,1,2,1,0,0,0,4,0,1,0,0,0,1,1,6,1,0,1,0,2,4,1,1,0,1,1,1,1,1,0,4,0,6,1,2,2,1,1,2,1,1,0,1,0,4,4,1,0,4,0,0,1,4,0,1,1,0,0,0,2,2,0,0,0,1,1,0,0,0,0,1,1,1,2,1,1,1,1,6,0,0,6,6,6,0,0,0,0,1,1,1,1,1,4,0,4,0,0,0,0,0,0,1,0,0,0,1,1,1,1,6,2,4,1,1,1,4,1,0,6,0,0,0,0,1,4,0,1,1,0,4,0,0,0,0,4,1,1,1,1,1,1,2,0,0,1,2,0,1,1,1,0,1,0,0,0,1,1,0,1,6,6,1,4,0,1,0,1,0,1,0,0,1,0,1,1,0,1,0,0,0,0,0,0,0,4,2,4,1,0,0,0,1,0,0,1,1,0,4,0,1,0,1,0,0,0,4,1,0,0,0,4,0,1,1,0,0,6,4,0,0,0,0,1,0,0,0,1,0,0,0,2,0,1,1,0,1,1,2,1,4,2,0,0,1,1,1,1,1,0,0,1,0,1,1,2,0,0,1,1,1,1,0,1,1,1,1,0,0,0,1,1,4,1,1,1,1,1,1,4,2,1,1,1,1,0,0,1,1,1,1,4,1,1,4,0,1,1,6,1,1,1,1,0,0,0,0,1,1,1,0,0,1,1,1,4,1,4,1,1,1,1,1,7,1,1,6,0,1,0,0,4,1,4,6,1,1,1,1,4,2,1,0,1,0,0,0,0,4,0,0,3,4,2,4,0,0,0,0,0,0,1,3,4,1,4,0,4,1,0,1,0,0,1,1,0,0,4,1,1,1,1,0,1,0,1,4,1,1,1,1,1,1,7,0,1,0,4,1,4,4,1,0,1,1,0,0,1,0,0,1,0,0,0,0,0,0,1,1,1,0,1,1,0,4,0,1,0,1,1,1,1,1,4,6,2,0,1,1,0,1,0,2,1,0,6,1,1,4,1,1,2,0,1,6,1,1,1,0,0,0,0,1,6,0,5,0,0,0,5,1,0,1,0,1,4,1,4,0,0,4,0,0,0,0,1,0,1,1,1,0,0,0,6,4,4,0,4,4,0,1,0,0,0,2,1,1,1,1,0,4,1,1,1,0,1,1,1,6,1,0,1,2,1,1,0,1,1,1,2,1,1,2,0,6,6,1,1,1,1,6,0,0,1,1,1,0,1,4,1,0,6,0,1,1,4,2,1,4,0,0,1,1,1,2,1,1,0,1,6,1,1,1,2,1,1,0,1,0,4,2,1,0,1,6,0,1,6,6,6,0,0,0,1,0,1,1,4,6,1,0,5,1,0,1,4,1,1,4,0,4,1,0,0,4,0,0,1,4,1,1,2,1,4,4,1,0,1,0,6,0,1,1,0,1,0,0,0,4,1,1,1,1,4,0,4,0,4,0,1,1,1,0,1,1,1,1,1,1,1,1,1,4,4,1,4,1,2,1,2,1,1,0,0,4,1,0,1,0,1,4,1,1,1,1,1,1,0,1,0,4,2,1,0,1,1,0,2,2,0,6,1,1,4,1,1,0,6,1,6,1,6,0,6,6,1,1,0,0,1,2,0,6,0,0,0,4,4,0,0,4,1,1,0,0,0,4,4,0,0,0,0,0,0,0,0,4,0,6,0,0,0,1,1,2,1,0,1,0,6,6,1,1,1,1,0,0,1,1,0,0,1,0,0,0,0,1,6,1,1,4,1,1,1,1,1,1,1,1,1,1,1,0,1,1,1,1,0,0,1,1,1,0,0,0,0,0,1,0,2,0,1,1,0,1,0,2,1,1,1,0,1,1,1,1,0,6,1,0,0,4,1,0,4,2,6,0,6,0,0,0,4,4,1,0,0,0,1,0,0,0,0,0,4,0,0,1,0,2,1,0,4,0,1,1,1,4,1,0,0,0,0,6,1,0,0,0,0,0,0,1,1,2,1,1,0,1,1,1,0,1,1,1,6,0,0,1,0,2,0,1,0,0,1,3,1,0,1,1,0,1,0,0,4,1,0,0,0,1,1,1,6,0,1,1,0,4,1,0,0,1,1,1,0,0,1,0,1,1,4,2,2,0,1,0,0,4,0,0,0,0,0,6,1,0,0,0,1,0,0,0,2,0,0,1,1,0,1,1,1,0,4,1,1,1,0,1,0,0,0,2,1,1,0,1,1,1,4,1,0,1,1,0,1,6,1,0,0,0,1,1,1,1,1,1,0,1,1,0,0,1,4,1,0,1,1,1,1,1,6,1,1,1,0,1,4,2,0,0,1,1,1,1,2,1,1,1,4,4,0,4,1,1,4,1,0,1,1,1,1,1,6,1,4,1,1,1,2,1,1,0,2,1,1,4,4,1,0,1,1,4,0,2,1,1,1,0,1,1,1,1,1,1,4,6,6,1,4,0,1,6,1,4,1,0,1,0,1,4,4,0,0,0,0,0,1,0,0,0,0,1,1,0,0,1,2,1,1,0,0,0,2,4,0,1,0,1,4,0,0,1,1,0,1,1,0,4,2,0,4,1,1,1,4,0,1,1,1,4,0,6,1,1,1,0,1,1,1,0,4,6,0,1,1,1,0,1,0,0,1,4,0,0,1,0,1,1,2,4,4,0,1,0,4,1,6,1,2,1,0,1,6,6,6,4,1,1,1,0,1,2,1,4,1,0,0,0,1,0,1,1,4,1,6,1,0,0,1,6,1,0,0,0,1,0,1,0,0,0,0,4,0,1,4,4,2,1,2,0,0,1,0,6,0,0,0,1,0,0,1,0,0,0,1,1,1,1,0,0,2,2,1,1,1,1,2,1,1,0,1,1,1,1,6,1,1,6,1,4,4,0,2,1,4,2,1,0,1,1,1,0,0,6,1,1,1,6,0,2,0,0,1,0,1,1,0,2,1,1,1,4,1,1,0,4,1,0,1,1,1,2,4,1,0,1,0,4,1,1,1,4,4,4,1,1,1,0,1,0,6,1,6,0,0,0,0,5,0,1,1,0,0,4,0,0,0,0,1,0,1,4,1,0,0,0,4,0,0,0,1,0,1,0,1,1,1,4,1,0,0,6,4,1,1,1,0,2,1,1,0,2,1,0,0,2,0,0,0,1,0,1,0,1,1,0,1,0,0,1,0,1,1,4,1,0,1,1,2,1,1,1,0,1,0,1,1,6,0,1,2,6,1,0,1,1,1,1,1,0,4,4,1,1,0,1,1,1,6,0,1,1,0,1,1,1,0,2,0,1,1,0,1,1,0,1,1,1,0,1,0,0,0,0,0,0,4,0,1,0,0,0,0,0,1,1,1,0,1,0,0,1,1,0,0,4,0,4,1,0,0,0,0,0,0,5,0,1,0,0,0,4,1,0,1,0,0,1,1,0,3,0,0,3,0,0,1,4,2,0,0,0,0,0,2,0,0,0,0,0,2,1,0,0,0,1,0,1,0,1,0,0,0,0,0,0,0,1,1,0,1,0,0,0,0,0,1,1,0,4,0,1,0,0,0,1,1,1,0,0,0,0,1,0,1,0,0,0,0,3,1,4,1,6,4,0,1,1,0,1,4,0,4,1,4,4,0,1,0,0,0,1,4,1,4,4,4,1,0,1,0,1,1,0,0,1,1,6,1,0,2,4,1,0,0,0,2,4,1,4,0,1,1,0,0,6,4,2,0,1,1,1,0,1,1,1,1,1,2,0,1,1,1,1,0,0,2,0,6,4,1,0,1,6,0,0,1,1,0,0,1,2,1,0,0,1,0,1,1,2,0,1,4,0,1,0,2,0,6,1,1,1,1,1,0,1,2,1,1,4,2,0,0,6,0,1,4,2,1,1,2,1,1,1,0,1,1,1,1,1,0,0,2,1,0,1,1,0,1,1,0,0,2,4,1,1,1,1,1,0,0,1,4,0,0,0,1,4,0,0,0,0,4,0,1,0,0,0,0,0,0,0,1,0,0,1,0,0,4,0,0,0,1,0,6,1,1,0,1,2,0,6,0,0,1,4,0,1,1,0,0,0,4,0,1,0,4,1,1,0,1,2,2,0,4,1,0,1,0,1,4,1,1,2,0,0,0,4,1,1,1,0,0,4,1,1,1,6,6,0,0,0,1,0,0,1,6,0,0,0,1,1,0,0,0,4,0,0,0,6,1,0,1,1,0,1,6,0,0,1,1,6,2,1,0,6,0,1,2,0,0,0,0,0,4,0,4,0,1,0,0,0,0,0,1,1,0,0,1,2,4,4,4,0,0,1,0,1,0,1,0,6,2,0,6,0,1,0,1,0,4,1,1,0,0,1,6,4,1,1,6,4,1,1,1,1,0,1,1,0,6,1,4,1,4,1,1,6,0,1,1,0,4,0,1,6,0,4,6,1,4,0,1,4,0,0,6,6,1,1,4,0,0,0,0,1,2,0,1,1,4,1,1,1,0,4,6,1,4,6,0,4,6,1,1,2,0,1,2,4,1,1,1,4,6,4,4,0,0,0,0,4,0,0,1,0,1,1,0,4,0,0,6,0,4,0,1,4,1,4,4,0,0,1,4,0,0,4,1,1,1,1,0,1,1,1,1,2,1,1,1,2,1,1,4,6,5,1,1,1,4,4,0,1,0,1,1,1,0,6,1,1,6,1,4,1,2,1,1,1,0,0,0,1,1,0,0,1,0,1,1,1,1,4,4,0,1,6,2,1,0,1,6,1,1,4,0,0,1,6,0,1,1,1,0,1,1,1,6,0,6,0,0,0,0,0,0,6,6,6,0,2,0,0,0,0,1,1,0,4,1,0,4,1,0,2,4,0,2,3,0,0,0,1,1,0,1,1,4,0,0,0,0,0,0,6,2,1,1,1,1,1,1,0,0,1,1,0,0,0,1,1,1,1,0,0,1,0,1,0,1,1,1,0,1,6,1,4,0,1,4,0,0,0,0,1,0,2,2,0,2,4,1,0,0,4,0,0,1,1,1,6,1,1,1,1,1,1,1,4,1,1,0,4,1,2,1,1,0,1,0,4,1,6,0,3,2,2,0,1,1,4,0,2,6,2,0,1,0,0,4,0,4,1,1,1,0,1,0,2,0,1,0,6,0,0,1,0,0,6,0,0,0,0,4,0,4,1,0,1,0,1,0,6,0,0,0,0,1,1,0,1,1,0,6,1,1,1,1,1,4,1,0,1,0,0,0,0,1,6,0,2,1,0,0,1,0,0,0,1,0,6,1,0,2,0,0,1,1,2,4,1,1,0,1,1,1,1,0,1,1,0,0,1,1,0,0,2,1,1,0,1,1,1,1,1,6,1,4,1,1,0,4,1,1,4,1,0,1,6,4,2,4,0,4,0,2,1,0,1,1,0,2,0,1,1,4,1,1,4,0,4,2,0,4,0,0,0,0,2,0,1,4,4,1,1,0,1,0,0,4,2,1,0,0,0,4,0,4,0,0,1,1,0,1,0,4,0,1,1,1,4,0,1,1,0,1,1,0,1,0,0,1,1,1,1,0,0,0,1,1,0,1,1,1,0,0,0,0,2,0,0,0,4,0,0,1,0,0,0,0,0,0,6,1,0,4,0,0,0,1,0,0,0,1,0,0,1,0,4,0,0,0,0,2,4,0,0,4,4,1,0,4,1,1,1,4,1,1,4,4,1,6,4,2,4,4,1,0,1,0,4,1,1,4,1,4,1,0,0,1,4,1,0,0,1,1,0,0,0,1,0,1,0,6,1,0,0,1,4,2,1,4,0,1,4,1,1,1,1,1,1,4,0,2,1,0,4,0,0,0,0,0,1,2,0,4,1,0,4,4,6,0,0,1,4,1,1,0,0,4,1,0,2,1,0,1,1,1,0,1,1,1,0,1,6,1,4,0,0,0,1,1,1,2,4,1,4,1,1,1,1,0,0,1,1,1,4,0,1,1,1,1,1,1,0,0,4,2,1,1,1,0,1,2,2,1,1,0,6,1,1,1,4,0,1,1,6,1,1,0,4,1,1,2,1,4,2,1,1,1,2,2,0,4,2,4,1,1,1,1,2,1,6,1,1,1,1,0,0,0,1,0,0,4,4,1,1,2,0,0,0,1,1,1,0,1,0,0,1,1,1,0,4,0,1,1,6,1,0,0,1,1,1,0,4,4,0,1,0,2,2,1,4,0,1,0,4,5,0,1,1,6,0,0,0,0,4,0,1,6,0,2,0,0,1,1,1,2,1,4,1,1,1,1,0,1,0,0,0,4,4,0,0,0,1,1,4,0,0,0,1,1,1,1,1,1,1,6,1,4,1,2,0,1,1,1,1,1,1,1,1,4,1,0,0,0,0,1,1,1,0,6,0,6,0,0,0,0,0,0,2,0,0,0,1,4,1,0,1,4,6,0,0,2,4,1,6,2,1,1,4,1,0,4,2,1,1,0,1,0,4,6,0,4,4,1,0,4,1,1,1,0,0,0,1,4,0,6,2,1,0,1,6,0,0,1,1,2,2,0,1,4,4,0,1,0,2,4,1,1,2,4,1,1,4,6,1,3,2,2,1,0,1,1,1,4,2,6,1,0,1,4,1,4,1,6,1,1,0,1,4,1,0,1,1,1,0,1,1,0,1,0,2,1,0,1,1,1,6,6,0,0,4,0,4,4,0,0,1,1,0,1,4,4,0,0,4,0,4,0,0,0,1,1,0,2,0,1,0,4,1,4,1,1,0,1,2,4,1,6,1,1,4,1,1,1,4,4,1,1,1,1,3,4,6,2,1,1,4,4,1,1,1,1,0,0,6,0,0,2,1,1,1,1,1,1,1,1,0,1,1,1,6,2,0,4,6,3,1,0,0,0,1,0,1,2,1,1,1,1,6,1,4,0,1,6,1,1,1,1,0,0,1,1,0,0,0,1,6,2,6,4,1,1,2,1,1,1,1,0,2,0,1,0,0,0,1,1,0,0,1,0,0,1,1,0,1,1,0,0,1,1,4,2,1,0,0,6,0,4,1,0,4,0,0,0,0,0,1,0,1,0,0,6,1,0,1,1,0,4,1,1,1,1,0,1,1,1,1,1,4,0,0,1,0,4,1,1,6,1,0,6,1,1,1,4,2,6,1,4,1,1,1,0,1,6,4,2,6,1,1,1,0,0,0,0,0,0,1,0,1,1,0,1,1,2,0,0,2,1,1,2,1,1,4,1,1,0,1,1,2,1,1,4,0,1,6,6,1,0,0,0,0,1,0,1,0,0,1,1,1,4,0,0,4,0,1,0,1,1,0,0,0,1,1,2,1,4,0,1,1,4,1,4,1,1,0,1,0,4,1,1,1,1,0,0,1,0,1,0,0,1,4,1,1,0,0,1,0,1,1,1,6,1,1,0,1,6,6,4,1,1,0,0,0,0,0,0,4,1,1,1,1,4,1,1,1,6,0,0,1,6,1,0,1,1,1,1,1,0,1,0,6,6,4,6,1,2,4,3,1,2,0,0,0,0,6,1,4,2,0,0,4,0,1,1,0,1,0,1,0,0,0,2,0,0,1,2,0,0,2,4,4,0,0,2,4,4,0,0,1,4,0,4,6,0,0,0,1,1,0,1,4,0,1,1,4,0,1,0,0,0,0,0,0,1,0,0,1,6,1,1,1,1,0,4,0,0,6,0,4,0,6,1,1,1,0,1,6,1,1,1,1,0,6,1,1,1,4,1,0,0,1,2,1,2,1,1,0,0,1,1,0,0,1,1,0,0,1,0,2,0,1,4,0,2,6,0,1,0,0,0,0,0,0,0,4,1,1,0,0,0,0,0,0,0,1,1,0,1,0,1,0,4,0,0,0,2,4,2,1,0,0,4,2,4,1,0,0,1,0,4,4,2,1,0,5,1,1,6,0,0,1,0,1,1,0,0,0,1,1,1,1,6,1,0,1,1,2,0,2,1,0,2,1,1,0,2,1,1,1,0,1,0,6,1,1,1,0,1,4,2,1,1,0,1,1,1,1,1,2,0,1,1,4,2,1,2,4,1,0,1,0,2,0,4,1,1,1,1,4,6,0,0,4,0,0,1,0,0,2,1,4,0,0,1,0,0,0,0,4,1,1,1,0,4,0,1,1,0,0,4,0,0,4,1,0,1,4,0,0,1,0,1,0,2,0,1,1,0,1,4,2,6,4,6,1,1,4,0,0,4,2,1,2,0,1,4,0,0,2,1,0,0,1,1,1,1,1,1,1,0,1,0,0,0,0,1,1,0,4,1,1,1,6,1,1,1,1,0,1,1,2,6,0,1,2,4,4,4,6,6,4,1,0,6,0,1,4,0,2,4,1,1,6,1,1,1,1,6,0,0,1,1,0,2,1,1,6,0,6,0,1,0,4,0,4,1,0,1,1,6,1,1,4,0,1,0,0,0,0,4,1,1,0,1,2,0,1,0,1,1,1,0,1,6,0,0,1,1,0,1,0,2,0,1,1,1,1,0,1,1,6,1,1,4,0,1,0,0,1,0,1,2,1,1,0,0,4,2,1,1,4,0,0,0,0,1,1,1,0,1,6,1,4,6,1,2,6,0,1,0,2,1,1,1,1,0,6,1,0,0,1,4,2,0,4,0,0,4,1,1,0,4,0,1,1,1,1,0,4,0,4,0,1,4,4,1,0,1,0,0,0,2,0,1,4,0,1,1,4,6,0,6,0,4,0,1,0,1,1,1,1,0,1,1,1,2,4,4,6,1,0,0,1,2,0,2,1,6,0,1,1,0,0,1,1,1,0,1,2,0,1,4,4,1,4,4,1,4,0,0,6,1,1,0,4,6,0,1,1,6,0,0,1,1,1,2,0,1,1,4,1,1,1,1,1,1,1,1,1,2,1,4,1,6,4,2,4,1,1,1,1,0,1,0,4,0,0,1,1,0,0,1,0,0,4,0,1,0,4,0,0,4,0,1,4,1,0,1,0,1,0,1,0,6,5,4,4,1,4,4,0,0,0,0,0,2,0,1,2,0,1,2,1,2,2,1,1,4,1,0,1,1,1,1,1,1,1,1,1,1,2,1,1,1,1,1,0,1,4,1,4,4,1,1,1,4,1,0,1,1,0,2,0,1,0,1,1,1,1,1,1,0,4,0,1,1,6,6,1,0,2,4,0,1,0,4,0,2,1,6,4,4,0,1,6,0,0,0,0,1,1,1,0,6,0,1,1,0,1,0,0,0,3,4,0,0,0,0,0,4,0,1,1,0,0,6,0,0,0,0,0,4,2,0,1,0,2,0,0,2,1,4,1,0,4,1,1,1,2,4,1,0,0,4,1,1,0,1,1,0,0,1,0,1,2,0,1,6,0,2,4,1,0,6,3,0,0,6,0,1,0,2,6,1,1,0,4,0,1,1,0,0,2,0,0,0,0,1,4,1,0,6,0,4,4,0,1,4,1,2,2,1,0,4,1,0,0,1,0,6,6,4,0,2,0,0,0,1,0,0,0,0,1,1,4,4,1,0,0,0,1,1,4,1,0,5,0,1,1,1,4,0,0,1,1,4,0,0,1,6,0,1,0,4,1,1,6,1,4,6,6,1,0,1,1,0,1,0,1,1,1,6,4,1,1,6,0,1,1,2,0,0,1,1,1,0,1,2,0,0,1,0,1,1,0,1,4,4,4,6,0,0,1,1,1,4,1,1,4,6,1,0,1,1,0,1,1,1,1,1,4,6,6,4,0,0,4,0,4,0,0,0,0,1,0,1,1,0,0,0,1,1,1,1,0,0,1,1,4,4,4,0,1,0,0,1,1,1,1,4,6,1,4,0,0,1,1,1,0,1,1,4,1,1,2,1,0,0,1,1,0,1,1,1,1,0,0,4,1,0,1,4,1,2,1,0,4,6,1,1,1,1,4,0,4,0,1,4,0,2,6,6,1,1,1,0,1,1,6,0,0,0,1,2,0,1,0,2,4,1,0,0,4,4,1,4,6,2,4,4,1,0,6,1,0,1,4,0,4,4,4,0,1,4,0,4,6,1,0,0,1,0,1,1,0,4,0,4,6,0,4,0,6,0,1,0,0,0,0,2,1,6,0,1,1,6,0,0,1,0,0,0,0,1,1,0,3,0,1,2,0,1,0,1,1,1,1,2,1,0,0,4,0,0,1,0,0,1,4,1,1,2,6,4,2,0,1,0,1,1,1,1,1,1,2,1,1,1,2,6,0,1,1,0,0,0,1,0,1,4,1,2,0,1,0,1,0,1,0,1,0,1,1,0,2,0,0,0,0,4,0,4,1,0,1,6,1,0,0,0,0,4,1,1,1,1,0,1,4,1,0,2,1,0,2,1,1,4,4,6,1,1,4,1,0,1,1,4,0,1,1,1,1,1,0,4,1,2,2,1,0,0,1,1,6,1,1,6,1,0,0,1,1,1,0,1,4,0,1,1,1,0,1,2,1,4,1,1,1,1,0,4,1,1,1,0,1,1,1,0,1,1,0,1,1,0,4,0,1,1,1,2,6,2,0,6,4,6,0,2,1,4,1,2,1,1,2,1,1,1,6,1,6,0,1,0,1,0,1,4,0,6,1,4,0,4,0,0,0,1,0,0,2,1,0,0,6,0,0,0,1,0,1,0,0,0,0,1,0,0,4,4,0,1,1,6,0,1,0,1,4,1,1,4,1,0,1,4,6,6,6,6,4,1,1,0,6,1,6,0,1,0,4,0,1,0,1,1,0,1,2,0,1,2,6,0,0,0,4,1,0,1,1,1,0,6,1,0,0,1,0,1,0,1,1,1,1,1,0,6,6,1,0,1,2,0,1,1,4,2,0,0,0,0,6,2,0,1,0,0,0,0,1,1,4,0,0,0,0,1,1,0,0,0,4,0,2,0,1,4,0,0,0,0,0,1,0,1,0,0,4,1,1,1,0,6,1,0,1,0,0,0,1,1,4,1,4,0,0,0,1,0,6,0,1,0,1,1,1,1,1,0,6,1,1,4,1,1,2,1,2,6,1,1,6,6,0,0,6,0,4,2,4,1,1,1,0,4,6,0,1,4,1,1,6,0,1,1,2,0,6,6,4,0,1,1,6,4,2,6,1,1,1,1,1,1,6,1,6,1,0,0,6,0,0,6,2,1,0,1,0,0,0,0,0,3,1,3,3,0,1,1,1,0,0,0,0,4,0,1,1,0,0,1,0,1,4,1,2,0,6,6,1,0,4,1,2,1,0,0,4,1,1,1,4,1,4,1,2,0,0,4,4,1,1,4,1,2,1,2,1,4,6,0,1,0,1,4,1,1,1,1,0,0,4,1,0,1,1,4,2,1,2,2,2,1,1,1,0,1,6,0,6,0,0,0,0,0,6,6,4,1,2,2,1,1,1,1,0,0,1,0,1,1,1,0,1,0,1,4,2,1,1,0,4,0,4,4,5,1,1,0,1,5,0,0,0,4,0,1,1,1,0,0,0,1,4,1,0,0,0,4,1,1,0,4,1,0,1,0,0,1,4,0,0,4,1,0,0,1,1,1,0,4,4,0,1,0,0,1,1,6,1,0,1,2,0,1,1,2,0,1,1,0,1,1,0,0,1,1,1,1,1,0,0,5,4,2,1,1,1,1,0,1,1,1,1,0,4,4,0,1,1,1,0,1,0,1,1,4,1,4,0,1,2,1,1,1,1,6,0,4,1,1,1,1,2,0,1,1,1,4,0,1,0,1,2,0,0,1,0,0,0,0,0,1,0,1,0,0,0,0,1,0,1,0,1,1,1,4,6,1,0,2,1,4,4,4,0,4,1,1,1,4,2,1,0,2,2,0,1,0,2,0,4,1,1,0,2,0,2,1,1,4,1,0,0,1,0,1,1,0,0,1,0,1,1,1,0,6,6,2,1,1,6,0,1,1,1,1,1,2,2,1,1,1,1,0,6,1,4,0,1,0,0,2,1,2,1,0,4,1,6,1,2,1,1,1,1,4,1,4,6,1,4,4,0,0,0,0,0,0,0,6,4,4,0,1,1,1,0,1,1,1,1,4,4,0,1,0,0,0,1,1,1,0,0,2,0,0,0,0,1,4,1,1,0,1,0,1,4,1,0,0,0,1,1,0,4,0,0,0,0,2,1,0,0,0,1,0,0,2,0,1,1,1,1,0,6,1,0,1,1,0,1,0,1,1,0,1,0,0,1,1,1,1,0,1,6,6,1,2,0,1,1,1,1,2,1,0,1,1,6,0,4,6,1,1,1,6,6,1,1,1,6,1,6,0,2,0,1,0,0,0,0,4,0,1,0,0,0,0,0,3,0,0,0,4,1,0,0,4,0,1,0,0,4,2,0,1,1,1,1,1,1,0,0,1,6,0,1,0,1,1,1,0,4,1,1,1,0,1,1,1,0,1,2,1,1,4,1,0,1,0,1,1,2,4,1,1,1,0,1,2,0,1,1,1,2,1,0,1,2,1,0,4,1,1,4,0,1,3,0,1,0,4,1,2,1,1,4,2,6,0,1,1,0,1,0,6,1,4,2,6,0,0,6,1,0,0,0,4,6,4,2,0,0,4,0,1,0,4,1,0,4,0,1,1,4,4,4,4,4,0,1,0,1,6,0,6,0,0,1,1,1,0,4,1,0,4,1,1,1,0,1,1,1,1,1,6,4,1,1,4,1,0,0,0,1,1,0,1,4,1,6,4,0,2,5,2,4,1,1,1,1,1,1,1,6,2,6,1,2,0,0,1,1,1,0,0,0,1,1,1,6,0,1,0,0,0,1,0,0,1,1,1,1,0,1,0,1,0,4,1,1,2,6,0,6,1,6,4,4,2,1,2,1,6,0,0,0,0,1,1,0,0,6,6,1,1,1,4,0,4,0,1,1,1,1,4,1,4,0,0,0,0,0,2,2,0,0,1,0,0,1,1,0,4,1,1,1,1,6,0,1,1,1,1,2,6,2,1,4,1,2,1,6,1,2,1,1,4,2,0,1,1,0,6,0,0,1,1,1,1,0,6,0,1,4,0,2,6,1,0,1,1,0,0,4,0,0,1,1,0,4,0,0,4,1,0,3,1,0,0,0,2,1,0,4,4,0,2,0,0,1,4,0,1,0,0,0,0,1,0,0,0,0,0,1,4,0,2,4,0,0,1,0,0,3,6,2,4,1,0,4,4,0,1,4,0,0,0,1,0,2,4,1,0,0,0,0,1,4,1,1,0,0,1,1,1,0,1,1,0,0,0,0,0,0,0,0,0,0,0,1,1,1,0,0,0,1,4,1,0,0,1,1,4,2,0,1,0,0,0,0,1,6,0,4,1,4,0,1,2,0,0,0,1,1,6,1,0,2,0,4,1,4,2,6,3,0,1,1,6,6,0,0,1,0,0,6,0,0,0,1,0,0,1,0,0,6,6,0,1,2,1,1,1,1,1,1,0,0,1,1,1,1,0,0,0,0,0,2,0,0,0,1,0,6,1,4,2,1,1,0,1,1,1,1,0,1,0,0,0,1,1,1,1,0,1,4,1,1,4,1,0,4,1,0,4,0,0,1,6,4,2,1,1,1,0,1,1,1,1,4,0,3,4,2,0,1,1,1,1,1,1,1,0,6,1,0,6,1,0,1,1,2,1,1,0,3,6,0,4,4,0,4,2,2,0,0,0,1,0,3,0,4,3,1,1,0,0,4,0,1,0,0,2,4,0,0,2,0,0,2,0,0,1,4,0,0,0,0,4,0,0,0,1,1,1,1,1,1,1,0,4,2,1,4,1,1,1,1,0,1,1,4,4,0,0,1,1,1,1,1,1,1,2,6,4,1,0,0,1,0,0,1,0,1,1,0,1,6,0,0,1,1,0,1,1,1,1,0,2,1,0,0,4,1,0,1,2,0,1,0,1,1,1,4,6,1,4,1,1,1,0,1,2,2,2,1,0,0,0,0,0,0,1,0,4,0,0,1,0,1,2,0,4,1,4,1,0,1,2,0,0,0,1,0,0,1,4,1,0,1,6,0,0,2,1,2,0,1,1,1,1,6,0,1,1,2,1,1,4,0,1,2,2,1,1,0,1,1,1,1,2,0,4,1,1,1,1,6,0,1,0,1,6,0,4,0,1,4,1,1,0,1,1,6,1,4,1,1,1,1,0,0,6,5,1,1,4,1,1,1,0,4,1,1,4,0,0,0,4,0,1,1,4,0,1,0,0,4,0,1,4,0,0,0,0,1,0,0,4,4,4,1,0,0,4,1,1,0,2,0,1,0,0,2,1,1,2,1,1,0,1,6,1,1,2,1,0,6,1,0,6,4,0,1,1,4,0,0,1,1,2,0,1,4,0,3,1,0,1,4,1,6,6,1,6,0,0,1,4,4,1,1,0,6,6,1,4,0,1,0,1,0,1,0,1,0,1,1,0,2,0,0,1,1,0,2,0,4,0,1,0,4,6,1,1,4,1,3,1,4,4,0,1,0,1,4,0,4,0,4,1,1,4,1,1,0,0,1,0,0,4,1,0,1,4,1,0,1,1,1,0,4,1,1,1,6,1,2,0,2,2,1,6,0,1,1,1,2,4,0,4,1,1,1,1,0,4,0,0,2,0,1,1,4,1,1,0,0,1,4,1,1,1,4,1,1,1,2,1,4,1,1,0,2,2,1,0,0,1,0,1,0,1,0,4,2,0,4,4,0,1,2,0,1,2,1,1,0,2,1,4,4,1,0,1,1,0,1,4,1,6,6,3,0,0,1,0,0,0,1,4,0,4,0,1,4,6,1,0,0,1,1,0,4,4,4,1,0,0,0,4,0,1,0,0,2,0,4,1,0,1,1,0,2,1,0,6,4,0,0,0,1,0,1,0,0,1,0,0,0,1,0,1,1,1,0,0,0,2,4,0,0,0,0,0,0,1,1,1,1,2,1,0,0,1,1,1,0,1,1,1,1,1,4,1,4,6,0,1,0,6,4,4,1,1,2,1,1,1,0,2,1,1,1,1,4,0,0,0,1,1,1,1,1,1,1,0,1,1,0,1,1,1,0,0,1,1,1,0,1,4,0,1,0,1,1,1,4,2,2,1,4,4,4,0,6,1,1,0,1,1,0,0,0,0,0,1,1,0,1,6,1,0,1,2,1,0,1,2,4,0,1,1,1,1,0,0,1,1,1,0,2,0,1,0,1,0,4,1,1,0,0,0,0,2,2,7,1,1,2,1,1,1,0,2,4,0,0,1,1,0,1,1,4,4,0,1,1,1,0,0,1,0,1,1,0,2,1,1,1,6,2,2,2,0,0,4,6,0,0,0,1,0,0,0,0,1,1,0,1,0,1,0,1,0,1,4,0,1,0,1,1,0,2,4,1,2,0,0,1,0,4,1,6,1,1,0,0,1,1,6,0,0,0,0,1,0,0,2,1,0,0,1,1,0,1,1,1,0,0,0,0,1,0,1,0,0,1,1,0,1,1,0,1,4,6,0,1,4,1,1,1,0,2,1,1,1,1,6,0,1,1,4,1,6,4,1,1,1,4,1,6,1,1,4,1,4,1,0,4,0,0,0,2,6,1,2,6,6,0,1,1,1,0,0,1,1,2,0,1,1,0,4,0,0,0,1,0,0,1,0,0,1,0,4,0,0,4,2,0,4,0,4,1,0,0,1,0,1,4,0,0,1,1,6,1,0,0,0,6,1,0,0,1,2,6,1,0,0,4,2,1,0,6,1,1,1,0,0,0,6,1,4,1,4,2,0,0,1,2,1,6,4,1,0,0,6,4,1,6,4,6,6,3,4,6,0,0,1,0,1,0,1,1,2,0,0,0,1,0,1,6,2,0,1,0,1,0,2,1,4,1,0,2,0,2,0,1,1,1,1,1,0,1,0,1,2,6,2,1,1,4,1,1,6,1,2,2,1,0,6,0,0,1,0,1,1,0,1,0,1,1,0,1,0,6,0,0,0,0,1,0,1,0,0,0,1,0,4,4,0,1,1,1,1,0,0,1,1,1,1,1,0,1,0,1,0,6,1,1,1,1,1,1,1,1,4,1,0,4,2,1,6,6,1,1,6,6,2,1,6,1,0,1,0,1,0,0,0,1,0,4,4,4,2,4,1,4,1,0,0,0,0,1,4,0,0,4,0,1,1,1,0,4,1,1,1,1,1,4,0,1,1,0,1,2,1,1,1,0,0,0,1,0,0,0,0,1,1,0,1,0,1,1,1,0,1,0,0,1,1,1,1,4,1,1,6,1,0,1,0,0,0,1,1,1,5,6,4,0,4,1,4,4,2,1,4,1,4,1,1,0,6,0,0,1,1,1,1,0,4,6,2,0,1,1,1,1,1,4,4,0,6,0,1,0,1,0,1,4,1,0,0,0,0,0,1,0,1,2,4,0,0,0,0,0,1,0,4,6,0,0,0,0,1,1,1,1,1,1,0,1,0,0,1,4,1,0,1,1,1,0,1,1,2,1,0,4,1,4,4,1,6,2,2,1,2,1,0,6,1,1,0,1,0,0,1,1,1,2,2,4,1,1,4,0,6,1,1,1,1,1,1,0,1,1,4,0,0,4,6,1,1,1,4,2,2,0,1,1,1,0,2,4,0,1,1,2,4,3,1,6,1,0,1,0,0,0,1,4,1,1,0,1,1,1,0,1,1,1,6,0,1,4,0,0,3,0,0,1,0,4,1,4,0,0,1,0,0,0,1,1,1,2,1,4,1,1,1,4,4,1,1,4,1,6,2,1,0,1,1,1,1,1,1,0,0,0,0,1,0,0,0,1,2,4,0,1,1,1,0,1,1,0,0,0,1,1,1,6,1,4,1,3,1,1,1,4,1,1,0,2,1,4,1,1,1,0,1,4,6,0,0,0,0,1,0,1,1,0,1,1,6,0,0,1,1,0,1,0,4,0,1,0,2,1,0,6,0,0,3,0,0,0,0,0,6,0,4,1,1,2,0,0,0,6,0,4,1,1,4,4,6,1,0,6,4,0,0,4,6,1,2,1,0,0,1,0,1,2,1,1,1,0,0,0,1,1,4,1,1,4,1,6,0,1,0,4,1,1,0,0,0,0,6,0,1,0,1,1,0,0,6,0,1,1,1,0,1,1,6,1,0,0,2,1,1,0,1,1,0,1,2,0,0,1,4,1,1,0,0,1,1,1,0,0,1,0,2,1,1,0,4,0,6,0,0,0,2,0,1,0,1,0,2,1,1,1,0,0,0,4,1,0,0,4,0,0,0,0,1,1,0,4,0,0,0,1,0,1,0,0,0,0,0,1,0,4,0,0,4,0,0,1,4,0,0,0,0,1,0,1,1,0,1,1,0,0,1,0,1,6,0,4,1,1,1,4,1,0,1,0,1,1,1,4,0,1,1,0,0,1,2,0,3,0,6,6,1,0,4,1,1,2,0,0,1,6,0,2,0,0,6,0,4,0,1,1,2,0,1,2,1,1,0,1,1,0,0,4,1,0,1,0,5,1,0,0,2,1,0,0,1,1,1,4,1,1,0,1,1,1,6,1,2,0,0,1,1,1,1,1,1,0,0,4,0,1,2,0,0,0,0,1,1,1,0,1,0,2,1,1,4,0,0,2,1,1,1,1,1,4,1,2,4,1,2,4,1,4,0,2,1,0,2,4,4,1,1,1,0,6,1,0,4,0,0,0,1,1,6,2,6,2,1,1,2,1,1,1,0,1,4,1,4,0,1,1,1,1,0,2,6,1,0,1,1,0,1,4,1,0,2,0,1,0,0,1,1,0,0,1,0,4,0,4,1,0,4,1,2,1,4,0,1,0,0,1,0,0,1,4,0,0,4,0,1,0,1,4,4,1,4,1,1,1,1,1,1,1,0,4,1,1,0,6,0,0,2,0,1,2,2,1,1,0,4,1,4,0,0,1,4,0,1,1,1,1,1,4,1,6,0,1,1,0,0,4,4,0,0,0,1,0,5,0,2,0,1,1,1,0,1,4,1,0,0,1,1,0,1,0,1,0,0,1,0,1,1,6,0,1,0,0,4,0,0,0,1,0,6,0,0,1,0,0,1,0,0,4,0,4,6,6,4,6,0,2,1,0,1,0,0,0,0,0,1,0,1,0,4,0,1,1,1,0,1,4,4,1,1,1,1,0,0,0,4,1,2,0,4,1,6,1,1,6,1,1,6,4,1,0,1,0,6,0,0,1,1,4,0,1,1,0,0,1,4,0,1,1,0,1,2,4,1,0,1,1,1,1,1,1,0,6,6,4,4,1,4,1,6,0,4,1,0,1,1,0,1,0,0,1,1,2,0,1,4,0,0,0,4,0,0,0,2,6,1,2,0,0,4,1,1,2,0,0,1,0,6,5,4,1,0,0,1,1,1,0,1,1,4,0,0,1,0,0,1,1,1,1,1,6,0,1,2,1,1,1,4,1,2,1,6,1,1,1,6,0,4,0,0,1,2,1,2,1,2,1,1,1,6,0,1,1,1,4,1,1,0,1,1,1,0,4,1,0,6,0,0,1,0,0,0,0,0,1,0,0,1,0,1,1,0,4,0,4,0,6,1,0,0,0,0,1,1,2,1,0,4,1,0,1,4,0,0,0,0,0,0,0,1,1,0,0,0,0,0,0,1,4,1,4,1,6,1,1,4,6,6,6,0,0,1,1,3,0,1,1,1,0,0,6,1,4,0,0,1,0,0,0,1,1,1,0,1,1,0,1,1,1,4,1,1,1,0,0,2,4,0,1,0,0,0,0,0,1,0,0,0,0,0,0,0,6,0,0,1,4,0,0,2,1,0,0,1,1,0,0,0,0,0,0,0,1,0,0,0,0,1,4,4,6,1,1,0,0,4,4,1,0,1,0,1,6,0,0,0,4,0,4,0,0,1,0,4,1,0,0,0,1,1,1,0,4,4,0,0,1,2,4,1,4,1,0,4,0,0,4,1,2,0,2,0,0,0,0,0,0,0,1,1,0,1,0,0,0,1,0,0,1,0,1,0,6,2,6,1,1,1,0,2,1,1,1,4,6,6,0,6,2,6,1,1,1,1,1,0,0,0,0,1,5,2,0,6,1,6,6,4,4,0,0,2,4,0,1,1,0,6,0,4,1,1,0,0,0,0,4,0,1,6,0,0,4,4,0,4,2,4,1,1,0,4,6,4,1,1,1,4,1,1,2,0,0,1,2,0,0,4,4,0,4,0,4,0,1,1,0,1,0,0,0,4,1,1,1,0,0,4,1,0,1,4,6,0,0,1,1,1,1,1,0,1,1,1,1,1,0,1,6,1,1,4,1,6,1,2,4,0,1,1,0,4,1,4,2,1,6,2,1,0,6,4,0,0,4,0,0,1,2,4,0,0,1,0,0,1,0,0,4,1,4,0,1,0,6,4,0,2,4,0,4,4,0,0,4,0,1,4,1,4,1,2,0,0,0,1,1,1,2,1,6,1,0,0,1,4,1,6,2,4,0,0,4,1,1,1,1,1,1,1,1,1,1,1,0,2,0,2,1,1,1,0,0,1,1,4,2,2,0,1,2,1,2,1,4,1,1,1,1,6,1,0,1,0,1,4,1,1,4,1,4,1,0,1,1,0,1,6,0,6,0,1,2,0,2,1,6,1,1,1,2,4,4,6,1,1,6,0,1,1,0,2,1,0,0,4,0,0,0,0,2,1,0,1,1,0,1,0,4,1,2,0,4,4,1,1,0,1,0,1,6,1,4,0,0,0,0,1,1,0,0,0,4,6,0,1,1,0,2,6,0,1,0,0,2,1,2,4,0,0,0,1,0,0,6,0,0,0,0,0,0,0,0,6,1,2,6,1,0,0,0,0,0,0,0,1,1,0,0,0,0,1,1,1,0,0,0,1,0,0,1,4,0,0,4,0,0,4,0,6,0,0,4,0,1,0,0,4,4,1,0,0,3,0,4,0,0,4,0,0,1,0,0,0,0,0,0,2,0,0,0,0,0,1,1,0,1,5,0,4,0,0,1,0,2,1,0,4,1,6,0,1,0,0,1,0,0,0,0,1,4,0,1,0,0,0,0,1,1,0,1,0,1,1,4,1,0,1,0,2,1,6,0,6,0,1,1,1,0,0,1,1,0,0,2,1,0,0,1,0,0,1,6,0,1,0,1,1,1,0,1,1,0,0,4,0,1,1,1,4,0,0,4,6,4,0,0,0,0,1,0,0,0,1,0,0,4,0,1,1,0,1,4,0,0,4,6,5,0,0,0,6,2,1,6,1,6,1,1,4,0,1,1,0,0,0,0,1,1,0,0,0,1,2,4,2,0,6,0,1,1,0,0,1,1,1,6,1,0,0,0,6,1,1,4,2,0,6,0,1,1,4,1,2,0,1,1,1,0,1,1,4,6,2,4,0,1,4,1,4,1,0,0,0,0,6,6,1,2,0,4,1,1,1,0,0,1,4,1,6,1,4,1,1,1,6,6,0,1,4,0,1,1,1,0,0,0,2,0,0,0,0,0,1,0,0,0,0,0,0,0,4,0,0,0,0,0,0,0,1,0,0,1,0,0,4,0,0,0,0,1,0,1,0,0,1,0,4,1,1,1,0,0,1,4,1,0,1,0,1,1,0,1,0,1,1,1,1,0,1,0,1,0,1,0,2,0,1,1,1,2,1,4,2,1,1,1,1,2,6,6,1,0,1,1,2,0,0,1,0,0,2,1,6,4,4,2,4,4,1,1,1,1,6,4,1,1,4,1,6,1,0,1,1,1,1,1,4,6,1,0,1,0,1,0,0,0,1,4,1,0,1,4,0,0,1,0,0,1,1,4,0,1,4,1,0,0,3,0,0,0,0,0,0,1,0,1,1,0,0,1,0,0,0,0,0,1,0,2,0,0,0,0,1,4,0,1,1,1,1,1,0,1,4,0,4,1,1,1,1,0,1,1,0,2,4,6,1,1,4,1,6,1,1,0,1,1,6,4,4,1,0,4,0,0,6,1,0,0,1,0,2,1,0,4,1,1,4,4,1,4,1,0,1,1,6,1,1,1,4,1,0,1,1,4,0,0,1,0,0,2,1,1,1,1,0,4,0,4,0,2,4,0,1,0,4,0,1,4,4,0,0,0,0,0,0,0,0,4,1,0,0,0,1,1,0,0,0,1,0,1,1,6,0,0,2,1,1,1,4,0,2,4,0,1,1,0,0,0,1,0,2,1,1,1,0,0,1,0,1,1,1,0,1,1,1,1,1,1,0,1,0,1,0,1,0,1,6,4,1,4,6,6,1,1,1,4,4,0,2,6,0,1,0,0,4,0,1,0,4,0,4,4,1,4,0,0,0,0,1,0,5,0,4,0,0,1,1,0,0,4,1,6,0,0,1,0,1,0,0,0,1,1,2,1,0,0,1,0,0,0,2,4,4,0,2,1,2,4,0,1,1,1,0,1,0,1,2,0,0,0,0,2,2,0,6,1,2,0,1,1,2,1,1,2,0,1,2,2,1,6,2,4,1,1,4,6,6,1,6,6,1,2,6,0,1,1,1,0,1,1,1,1,1,6,1,1,6,1,4,1,1,1,2,0,1,1,0,0,1,6,4,1,1,6,0,1,6,4,0,4,1,1,0,0,1,1,4,0,0,5,0,0,4,5,1,0,1,2,1,1,1,1,2,6,0,4,1,6,1,4,0,0,4,1,4,0,1,0,0,0,1,1,4,1,1,0,1,1,0,0,2,0,1,6,1,1,0,1,6,4,1,1,0,6,1,4,0,2,6,2,0,1,2,1,0,0,1,1,6,0,2,6,1,0,0,1,1,1,0,1,1,1,1,2,6,2,0,0,0,0,0,0,6,0,1,1,0,1,1,1,0,1,2,6,1,4,6,1,1,6,2,1,0,6,0,0,4,0,0,4,0,0,6,1,0,0,1,4,0,1,0,1,1,0,6,1,2,0,0,4,0,4,0,6,1,0,1,4,0,0,0,0,4,1,1,1,0,1,0,0,1,1,1,1,4,1,2,0,0,1,1,0,1,1,4,1,2,1,1,1,2,0,1,1,1,1,1,2,0,1,0,0,4,4,1,4,1,0,1,2,1,4,4,0,0,0,1,0,1,1,1,1,0,1,1,6,1,1,4,1,0,1,1,1,2,6,4,2,4,1,0,0,1,1,6,1,4,4,1,0,0,1,1,4,4,1,1,0,0,4,0,4,1,0,3,0,6,0,0,0,0,0,0,0,1,1,0,1,6,0,1,0,0,1,0,0,1,4,1,4,4,2,1,0,0,1,0,0,1,2,0,1,0,1,1,1,4,1,1,0,0,0,1,4,4,0,4,1,1,4,1,1,0,0,0,1,1,1,0,1,2,4,1,0,0,1,2,6,2,0,1,1,1,4,6,1,4,1,2,1,1,0,1,1,4,1,1,4,6,1,6,4,1,6,1,4,1,0,1,0,0,1,0,0,0,0,0,1,4,0,0,1,6,0,0,1,0,1,0,1,6,0,4,0,0,0,0,1,0,1,1,0,0,4,0,1,1,2,0,1,0,1,0,6,0,1,1,1,1,0,1,0,1,0,2,1,0,1,0,0,1,1,1,1,0,0,1,0,0,1,1,0,0,1,0,0,1,0,0,0,2,0,1,0,0,1,1,0,1,1,1,0,4,1,1,1,0,1,1,0,1,0,4,1,1,4,0,4,0,1,1,1,1,4,7,0,1,2,4,4,1,6,0,0,0,2,4,0,2,0,0,0,0,0,0,0,1,2,4,0,0,0,0,4,0,6,0,4,1,0,4,1,4,1,2,1,0,0,0,0,0,0,0,1,4,1,1,4,4,1,6,1,1,1,1,1,1,4,1,0,0,0,0,1,1,4,1,0,1,1,2,0,1,2,1,1,0,0,1,0,2,0,1,1,1,0,0,2,1,1,1,1,1,0,2,4,1,1,1,0,6,1,1,0,0,1,0,1,1,1,1,2,4],\"xaxis\":\"x\",\"yaxis\":\"y\",\"type\":\"histogram\"}],                        {\"template\":{\"data\":{\"bar\":[{\"error_x\":{\"color\":\"#2a3f5f\"},\"error_y\":{\"color\":\"#2a3f5f\"},\"marker\":{\"line\":{\"color\":\"#E5ECF6\",\"width\":0.5},\"pattern\":{\"fillmode\":\"overlay\",\"size\":10,\"solidity\":0.2}},\"type\":\"bar\"}],\"barpolar\":[{\"marker\":{\"line\":{\"color\":\"#E5ECF6\",\"width\":0.5},\"pattern\":{\"fillmode\":\"overlay\",\"size\":10,\"solidity\":0.2}},\"type\":\"barpolar\"}],\"carpet\":[{\"aaxis\":{\"endlinecolor\":\"#2a3f5f\",\"gridcolor\":\"white\",\"linecolor\":\"white\",\"minorgridcolor\":\"white\",\"startlinecolor\":\"#2a3f5f\"},\"baxis\":{\"endlinecolor\":\"#2a3f5f\",\"gridcolor\":\"white\",\"linecolor\":\"white\",\"minorgridcolor\":\"white\",\"startlinecolor\":\"#2a3f5f\"},\"type\":\"carpet\"}],\"choropleth\":[{\"colorbar\":{\"outlinewidth\":0,\"ticks\":\"\"},\"type\":\"choropleth\"}],\"contour\":[{\"colorbar\":{\"outlinewidth\":0,\"ticks\":\"\"},\"colorscale\":[[0.0,\"#0d0887\"],[0.1111111111111111,\"#46039f\"],[0.2222222222222222,\"#7201a8\"],[0.3333333333333333,\"#9c179e\"],[0.4444444444444444,\"#bd3786\"],[0.5555555555555556,\"#d8576b\"],[0.6666666666666666,\"#ed7953\"],[0.7777777777777778,\"#fb9f3a\"],[0.8888888888888888,\"#fdca26\"],[1.0,\"#f0f921\"]],\"type\":\"contour\"}],\"contourcarpet\":[{\"colorbar\":{\"outlinewidth\":0,\"ticks\":\"\"},\"type\":\"contourcarpet\"}],\"heatmap\":[{\"colorbar\":{\"outlinewidth\":0,\"ticks\":\"\"},\"colorscale\":[[0.0,\"#0d0887\"],[0.1111111111111111,\"#46039f\"],[0.2222222222222222,\"#7201a8\"],[0.3333333333333333,\"#9c179e\"],[0.4444444444444444,\"#bd3786\"],[0.5555555555555556,\"#d8576b\"],[0.6666666666666666,\"#ed7953\"],[0.7777777777777778,\"#fb9f3a\"],[0.8888888888888888,\"#fdca26\"],[1.0,\"#f0f921\"]],\"type\":\"heatmap\"}],\"heatmapgl\":[{\"colorbar\":{\"outlinewidth\":0,\"ticks\":\"\"},\"colorscale\":[[0.0,\"#0d0887\"],[0.1111111111111111,\"#46039f\"],[0.2222222222222222,\"#7201a8\"],[0.3333333333333333,\"#9c179e\"],[0.4444444444444444,\"#bd3786\"],[0.5555555555555556,\"#d8576b\"],[0.6666666666666666,\"#ed7953\"],[0.7777777777777778,\"#fb9f3a\"],[0.8888888888888888,\"#fdca26\"],[1.0,\"#f0f921\"]],\"type\":\"heatmapgl\"}],\"histogram\":[{\"marker\":{\"pattern\":{\"fillmode\":\"overlay\",\"size\":10,\"solidity\":0.2}},\"type\":\"histogram\"}],\"histogram2d\":[{\"colorbar\":{\"outlinewidth\":0,\"ticks\":\"\"},\"colorscale\":[[0.0,\"#0d0887\"],[0.1111111111111111,\"#46039f\"],[0.2222222222222222,\"#7201a8\"],[0.3333333333333333,\"#9c179e\"],[0.4444444444444444,\"#bd3786\"],[0.5555555555555556,\"#d8576b\"],[0.6666666666666666,\"#ed7953\"],[0.7777777777777778,\"#fb9f3a\"],[0.8888888888888888,\"#fdca26\"],[1.0,\"#f0f921\"]],\"type\":\"histogram2d\"}],\"histogram2dcontour\":[{\"colorbar\":{\"outlinewidth\":0,\"ticks\":\"\"},\"colorscale\":[[0.0,\"#0d0887\"],[0.1111111111111111,\"#46039f\"],[0.2222222222222222,\"#7201a8\"],[0.3333333333333333,\"#9c179e\"],[0.4444444444444444,\"#bd3786\"],[0.5555555555555556,\"#d8576b\"],[0.6666666666666666,\"#ed7953\"],[0.7777777777777778,\"#fb9f3a\"],[0.8888888888888888,\"#fdca26\"],[1.0,\"#f0f921\"]],\"type\":\"histogram2dcontour\"}],\"mesh3d\":[{\"colorbar\":{\"outlinewidth\":0,\"ticks\":\"\"},\"type\":\"mesh3d\"}],\"parcoords\":[{\"line\":{\"colorbar\":{\"outlinewidth\":0,\"ticks\":\"\"}},\"type\":\"parcoords\"}],\"pie\":[{\"automargin\":true,\"type\":\"pie\"}],\"scatter\":[{\"marker\":{\"colorbar\":{\"outlinewidth\":0,\"ticks\":\"\"}},\"type\":\"scatter\"}],\"scatter3d\":[{\"line\":{\"colorbar\":{\"outlinewidth\":0,\"ticks\":\"\"}},\"marker\":{\"colorbar\":{\"outlinewidth\":0,\"ticks\":\"\"}},\"type\":\"scatter3d\"}],\"scattercarpet\":[{\"marker\":{\"colorbar\":{\"outlinewidth\":0,\"ticks\":\"\"}},\"type\":\"scattercarpet\"}],\"scattergeo\":[{\"marker\":{\"colorbar\":{\"outlinewidth\":0,\"ticks\":\"\"}},\"type\":\"scattergeo\"}],\"scattergl\":[{\"marker\":{\"colorbar\":{\"outlinewidth\":0,\"ticks\":\"\"}},\"type\":\"scattergl\"}],\"scattermapbox\":[{\"marker\":{\"colorbar\":{\"outlinewidth\":0,\"ticks\":\"\"}},\"type\":\"scattermapbox\"}],\"scatterpolar\":[{\"marker\":{\"colorbar\":{\"outlinewidth\":0,\"ticks\":\"\"}},\"type\":\"scatterpolar\"}],\"scatterpolargl\":[{\"marker\":{\"colorbar\":{\"outlinewidth\":0,\"ticks\":\"\"}},\"type\":\"scatterpolargl\"}],\"scatterternary\":[{\"marker\":{\"colorbar\":{\"outlinewidth\":0,\"ticks\":\"\"}},\"type\":\"scatterternary\"}],\"surface\":[{\"colorbar\":{\"outlinewidth\":0,\"ticks\":\"\"},\"colorscale\":[[0.0,\"#0d0887\"],[0.1111111111111111,\"#46039f\"],[0.2222222222222222,\"#7201a8\"],[0.3333333333333333,\"#9c179e\"],[0.4444444444444444,\"#bd3786\"],[0.5555555555555556,\"#d8576b\"],[0.6666666666666666,\"#ed7953\"],[0.7777777777777778,\"#fb9f3a\"],[0.8888888888888888,\"#fdca26\"],[1.0,\"#f0f921\"]],\"type\":\"surface\"}],\"table\":[{\"cells\":{\"fill\":{\"color\":\"#EBF0F8\"},\"line\":{\"color\":\"white\"}},\"header\":{\"fill\":{\"color\":\"#C8D4E3\"},\"line\":{\"color\":\"white\"}},\"type\":\"table\"}]},\"layout\":{\"annotationdefaults\":{\"arrowcolor\":\"#2a3f5f\",\"arrowhead\":0,\"arrowwidth\":1},\"autotypenumbers\":\"strict\",\"coloraxis\":{\"colorbar\":{\"outlinewidth\":0,\"ticks\":\"\"}},\"colorscale\":{\"diverging\":[[0,\"#8e0152\"],[0.1,\"#c51b7d\"],[0.2,\"#de77ae\"],[0.3,\"#f1b6da\"],[0.4,\"#fde0ef\"],[0.5,\"#f7f7f7\"],[0.6,\"#e6f5d0\"],[0.7,\"#b8e186\"],[0.8,\"#7fbc41\"],[0.9,\"#4d9221\"],[1,\"#276419\"]],\"sequential\":[[0.0,\"#0d0887\"],[0.1111111111111111,\"#46039f\"],[0.2222222222222222,\"#7201a8\"],[0.3333333333333333,\"#9c179e\"],[0.4444444444444444,\"#bd3786\"],[0.5555555555555556,\"#d8576b\"],[0.6666666666666666,\"#ed7953\"],[0.7777777777777778,\"#fb9f3a\"],[0.8888888888888888,\"#fdca26\"],[1.0,\"#f0f921\"]],\"sequentialminus\":[[0.0,\"#0d0887\"],[0.1111111111111111,\"#46039f\"],[0.2222222222222222,\"#7201a8\"],[0.3333333333333333,\"#9c179e\"],[0.4444444444444444,\"#bd3786\"],[0.5555555555555556,\"#d8576b\"],[0.6666666666666666,\"#ed7953\"],[0.7777777777777778,\"#fb9f3a\"],[0.8888888888888888,\"#fdca26\"],[1.0,\"#f0f921\"]]},\"colorway\":[\"#636efa\",\"#EF553B\",\"#00cc96\",\"#ab63fa\",\"#FFA15A\",\"#19d3f3\",\"#FF6692\",\"#B6E880\",\"#FF97FF\",\"#FECB52\"],\"font\":{\"color\":\"#2a3f5f\"},\"geo\":{\"bgcolor\":\"white\",\"lakecolor\":\"white\",\"landcolor\":\"#E5ECF6\",\"showlakes\":true,\"showland\":true,\"subunitcolor\":\"white\"},\"hoverlabel\":{\"align\":\"left\"},\"hovermode\":\"closest\",\"mapbox\":{\"style\":\"light\"},\"paper_bgcolor\":\"white\",\"plot_bgcolor\":\"#E5ECF6\",\"polar\":{\"angularaxis\":{\"gridcolor\":\"white\",\"linecolor\":\"white\",\"ticks\":\"\"},\"bgcolor\":\"#E5ECF6\",\"radialaxis\":{\"gridcolor\":\"white\",\"linecolor\":\"white\",\"ticks\":\"\"}},\"scene\":{\"xaxis\":{\"backgroundcolor\":\"#E5ECF6\",\"gridcolor\":\"white\",\"gridwidth\":2,\"linecolor\":\"white\",\"showbackground\":true,\"ticks\":\"\",\"zerolinecolor\":\"white\"},\"yaxis\":{\"backgroundcolor\":\"#E5ECF6\",\"gridcolor\":\"white\",\"gridwidth\":2,\"linecolor\":\"white\",\"showbackground\":true,\"ticks\":\"\",\"zerolinecolor\":\"white\"},\"zaxis\":{\"backgroundcolor\":\"#E5ECF6\",\"gridcolor\":\"white\",\"gridwidth\":2,\"linecolor\":\"white\",\"showbackground\":true,\"ticks\":\"\",\"zerolinecolor\":\"white\"}},\"shapedefaults\":{\"line\":{\"color\":\"#2a3f5f\"}},\"ternary\":{\"aaxis\":{\"gridcolor\":\"white\",\"linecolor\":\"white\",\"ticks\":\"\"},\"baxis\":{\"gridcolor\":\"white\",\"linecolor\":\"white\",\"ticks\":\"\"},\"bgcolor\":\"#E5ECF6\",\"caxis\":{\"gridcolor\":\"white\",\"linecolor\":\"white\",\"ticks\":\"\"}},\"title\":{\"x\":0.05},\"xaxis\":{\"automargin\":true,\"gridcolor\":\"white\",\"linecolor\":\"white\",\"ticks\":\"\",\"title\":{\"standoff\":15},\"zerolinecolor\":\"white\",\"zerolinewidth\":2},\"yaxis\":{\"automargin\":true,\"gridcolor\":\"white\",\"linecolor\":\"white\",\"ticks\":\"\",\"title\":{\"standoff\":15},\"zerolinecolor\":\"white\",\"zerolinewidth\":2}}},\"xaxis\":{\"anchor\":\"y\",\"domain\":[0.0,1.0],\"title\":{\"text\":\"total_run\"}},\"yaxis\":{\"anchor\":\"x\",\"domain\":[0.0,1.0],\"title\":{\"text\":\"count\"}},\"legend\":{\"tracegroupgap\":0},\"margin\":{\"t\":60},\"barmode\":\"relative\"},                        {\"responsive\": true}                    ).then(function(){\n",
              "                            \n",
              "var gd = document.getElementById('8c0e3c6b-21b8-40a9-89f8-591d070cd52f');\n",
              "var x = new MutationObserver(function (mutations, observer) {{\n",
              "        var display = window.getComputedStyle(gd).display;\n",
              "        if (!display || display === 'none') {{\n",
              "            console.log([gd, 'removed!']);\n",
              "            Plotly.purge(gd);\n",
              "            observer.disconnect();\n",
              "        }}\n",
              "}});\n",
              "\n",
              "// Listen for the removal of the full notebook cells\n",
              "var notebookContainer = gd.closest('#notebook-container');\n",
              "if (notebookContainer) {{\n",
              "    x.observe(notebookContainer, {childList: true});\n",
              "}}\n",
              "\n",
              "// Listen for the clearing of the current output cell\n",
              "var outputEl = gd.closest('.output');\n",
              "if (outputEl) {{\n",
              "    x.observe(outputEl, {childList: true});\n",
              "}}\n",
              "\n",
              "                        })                };                            </script>        </div>\n",
              "</body>\n",
              "</html>"
            ]
          },
          "metadata": {}
        }
      ]
    },
    {
      "cell_type": "code",
      "source": [
        "box(B_B)"
      ],
      "metadata": {
        "id": "oeC5V-DR-9Nc",
        "outputId": "99cbe942-da56-4cd6-9d43-e31deffa8a71",
        "colab": {
          "base_uri": "https://localhost:8080/",
          "height": 542
        }
      },
      "execution_count": 165,
      "outputs": [
        {
          "output_type": "display_data",
          "data": {
            "text/html": [
              "<html>\n",
              "<head><meta charset=\"utf-8\" /></head>\n",
              "<body>\n",
              "    <div>            <script src=\"https://cdnjs.cloudflare.com/ajax/libs/mathjax/2.7.5/MathJax.js?config=TeX-AMS-MML_SVG\"></script><script type=\"text/javascript\">if (window.MathJax) {MathJax.Hub.Config({SVG: {font: \"STIX-Web\"}});}</script>                <script type=\"text/javascript\">window.PlotlyConfig = {MathJaxConfig: 'local'};</script>\n",
              "        <script src=\"https://cdn.plot.ly/plotly-2.8.3.min.js\"></script>                <div id=\"162db84d-caa6-45d5-9135-5508e293325a\" class=\"plotly-graph-div\" style=\"height:525px; width:100%;\"></div>            <script type=\"text/javascript\">                                    window.PLOTLYENV=window.PLOTLYENV || {};                                    if (document.getElementById(\"162db84d-caa6-45d5-9135-5508e293325a\")) {                    Plotly.newPlot(                        \"162db84d-caa6-45d5-9135-5508e293325a\",                        [{\"alignmentgroup\":\"True\",\"hovertemplate\":\"batsman_run=%{y}<extra></extra>\",\"legendgroup\":\"\",\"marker\":{\"color\":\"#636efa\"},\"name\":\"\",\"notched\":false,\"offsetgroup\":\"\",\"orientation\":\"v\",\"showlegend\":false,\"x0\":\" \",\"xaxis\":\"x\",\"y\":[0,0,1,0,0,0,0,0,4,0,1,0,1,0,4,0,6,3,1,1,0,2,6,0,0,1,4,1,0,0,4,1,1,0,1,0,0,1,0,4,4,1,1,1,0,1,1,1,1,0,0,0,0,0,0,2,4,4,0,1,2,0,1,0,0,0,1,1,1,1,0,0,0,0,1,0,1,1,0,1,0,0,0,1,1,1,4,0,4,0,1,1,1,1,0,0,1,1,1,1,1,1,2,6,0,1,1,6,1,0,1,0,1,0,0,2,4,1,0,0,0,0,1,0,0,4,0,4,0,0,2,0,0,0,0,0,0,0,0,0,0,0,6,0,0,1,0,0,0,0,0,0,0,0,0,1,0,1,4,0,1,0,1,1,1,0,0,1,1,1,0,1,0,4,0,1,4,1,1,0,1,2,1,2,1,4,0,0,1,1,1,4,6,1,2,2,1,2,0,1,0,2,0,0,2,0,1,1,1,0,4,1,1,2,1,6,1,1,1,0,2,0,4,0,4,2,0,1,1,0,1,2,6,0,1,1,0,0,6,0,1,0,0,0,0,0,0,0,4,0,0,4,0,0,0,0,0,1,1,2,4,0,4,0,0,4,4,1,0,2,0,1,1,1,1,1,1,1,0,1,0,1,0,1,6,1,1,0,1,2,0,0,1,1,1,4,1,0,0,1,1,1,6,1,1,1,1,1,6,1,0,1,4,1,3,1,0,0,0,0,0,1,1,0,0,1,1,6,1,6,0,0,1,1,1,1,1,1,1,2,1,1,0,0,0,4,0,0,0,1,0,0,6,0,0,0,1,0,0,2,0,0,6,4,0,6,0,4,0,0,2,0,0,1,0,4,4,6,0,1,2,2,0,0,2,1,6,0,6,4,0,0,1,4,1,0,0,1,1,4,0,4,0,1,1,1,0,1,1,6,1,4,4,0,4,0,0,1,1,0,1,0,0,6,1,1,1,0,0,0,1,0,0,1,0,1,1,0,0,1,1,1,2,0,1,0,1,1,0,1,1,1,0,6,0,6,1,2,4,1,0,0,1,1,1,1,2,1,6,0,0,0,0,3,0,0,4,0,0,1,0,4,4,0,2,0,1,0,1,0,1,0,1,1,0,4,4,0,0,0,1,4,4,6,4,1,2,0,0,1,1,4,1,1,0,2,1,1,2,1,0,0,0,1,6,0,0,0,0,6,1,1,1,0,2,1,1,1,0,1,4,1,4,4,1,1,1,1,0,4,0,0,0,0,0,1,1,1,1,1,0,2,1,1,6,4,6,4,6,0,4,4,0,4,1,1,0,0,2,6,0,0,0,6,4,1,6,4,2,4,0,0,0,1,1,0,0,0,1,6,0,0,3,1,0,1,0,2,1,0,0,0,1,1,0,6,1,0,0,0,4,6,0,0,0,4,4,6,0,6,0,1,1,1,0,1,1,1,0,1,1,1,6,0,2,1,1,1,1,0,1,0,1,1,1,1,1,4,1,1,1,0,0,1,0,0,1,1,0,1,1,1,1,2,1,1,6,2,0,1,6,1,6,0,6,0,0,6,1,1,0,6,1,0,0,1,1,6,4,1,1,0,0,0,0,0,1,1,0,0,0,1,0,0,0,0,0,4,1,0,0,6,1,0,0,0,1,0,4,0,4,0,0,0,0,2,0,0,2,0,4,0,0,0,6,0,4,0,0,0,0,0,0,0,1,4,4,1,6,0,6,0,0,1,1,0,1,2,1,1,1,4,1,1,4,0,0,1,0,0,1,1,1,1,1,0,0,1,0,0,1,1,1,6,0,0,1,1,1,0,0,1,2,1,0,1,1,0,1,6,4,4,1,0,1,4,0,2,1,0,1,1,1,0,0,4,4,0,4,0,4,1,4,1,1,4,4,0,1,1,0,1,4,6,2,1,6,0,2,1,0,2,0,0,0,4,0,0,0,4,1,0,0,0,4,1,0,2,0,4,4,0,0,0,0,1,1,4,2,1,4,4,1,0,6,4,4,1,0,1,1,0,1,1,1,0,1,0,0,1,1,0,0,1,0,1,1,0,4,0,4,1,0,0,1,0,4,0,4,0,1,0,4,1,0,0,1,1,1,1,1,0,2,1,1,1,1,1,1,2,4,0,1,4,1,1,1,6,1,0,1,1,0,2,2,1,4,1,1,1,1,1,1,1,1,1,6,1,1,1,4,0,1,0,6,6,6,1,0,0,0,4,0,0,0,1,0,1,2,4,1,0,0,0,4,0,0,2,4,0,0,0,0,1,0,4,1,1,0,0,0,6,1,4,1,6,0,1,1,0,1,1,1,2,1,1,2,0,0,0,1,0,1,6,0,1,1,0,4,1,0,1,1,1,1,1,0,1,1,0,1,0,1,1,0,0,0,1,0,0,0,1,1,2,4,0,0,0,0,0,1,0,0,1,1,0,4,0,4,6,2,6,0,1,0,4,0,0,1,1,1,1,4,1,4,6,1,0,0,1,0,0,0,4,4,0,0,4,1,4,0,4,0,1,0,1,1,1,3,0,1,1,0,1,6,1,4,1,0,0,0,4,1,1,1,6,6,0,4,0,0,0,0,1,1,0,1,1,0,6,1,1,1,0,6,6,0,0,1,1,0,1,1,1,1,1,1,1,1,0,4,0,0,0,0,0,1,1,0,0,4,0,4,1,4,6,1,1,0,0,4,0,2,6,4,6,4,0,0,0,0,4,2,1,0,1,0,4,0,0,6,1,0,1,0,1,0,1,0,0,1,4,0,1,0,0,0,0,2,0,0,0,6,0,0,1,1,2,0,1,1,1,0,0,4,1,0,1,0,0,2,1,0,0,1,1,0,1,0,1,2,4,1,1,0,6,0,6,4,0,1,6,0,1,1,0,1,0,0,0,1,0,0,0,0,0,2,1,1,1,1,1,1,4,0,0,4,0,6,0,0,0,1,0,1,6,1,0,1,6,1,0,1,0,1,1,1,2,2,0,0,0,1,6,0,0,0,0,1,0,0,4,0,4,0,6,0,0,0,0,0,0,0,0,0,0,6,1,0,1,1,0,0,0,0,0,0,0,0,0,1,1,0,0,1,0,1,4,0,0,0,0,6,1,0,1,1,0,1,1,1,6,4,1,0,6,1,6,1,1,2,1,1,1,0,1,0,1,6,0,1,1,1,1,1,0,1,1,0,1,0,1,1,0,0,0,6,1,1,0,6,0,4,4,1,4,1,1,6,0,1,6,6,0,0,1,4,1,1,3,0,0,0,4,2,0,0,0,0,0,0,1,0,0,0,0,0,0,6,0,4,2,4,4,0,6,4,0,1,4,0,4,6,1,6,4,4,4,4,4,1,1,1,4,1,0,0,1,0,0,1,0,1,1,0,0,0,0,1,0,1,0,1,1,1,0,1,0,0,0,0,1,1,1,0,1,1,0,0,1,1,0,1,1,1,1,1,0,0,1,1,0,0,4,0,1,0,1,1,0,0,0,1,1,0,2,4,0,0,0,6,0,2,1,0,1,4,1,2,1,1,0,0,0,0,1,0,1,2,4,4,1,0,0,2,4,0,0,0,0,2,0,0,4,4,0,0,4,1,1,1,4,0,4,0,1,0,4,1,0,1,0,0,0,0,4,0,1,1,1,0,0,0,0,0,1,0,0,1,0,0,0,1,2,1,0,0,1,0,1,0,0,1,1,0,0,0,1,0,1,1,1,1,1,1,1,0,0,1,6,1,1,0,1,1,6,0,1,2,0,0,1,0,0,1,1,1,4,0,0,1,0,6,0,2,4,0,1,4,0,1,1,6,2,1,1,0,4,1,0,0,4,0,0,6,0,4,1,0,4,1,0,0,0,1,0,0,0,0,0,0,1,0,1,0,4,0,6,0,4,1,0,0,0,0,0,0,0,1,1,2,1,6,4,1,1,0,1,0,1,2,2,0,0,2,0,0,1,1,6,0,0,1,0,0,0,4,1,1,1,1,0,1,4,1,1,0,2,1,0,1,3,0,6,6,0,1,0,1,1,0,6,1,1,0,1,1,0,1,1,0,1,1,1,1,4,0,0,1,0,1,1,4,1,4,1,6,6,2,1,6,1,1,1,0,0,0,4,0,1,0,1,0,1,0,0,4,0,0,4,1,4,0,4,4,0,0,1,4,2,1,1,4,1,0,0,0,4,0,1,1,1,0,1,1,1,2,4,1,1,1,4,0,1,2,0,1,0,1,6,1,1,1,0,1,1,0,1,1,1,2,1,2,1,1,4,0,0,0,0,1,1,1,1,0,1,4,1,1,1,1,0,0,1,1,1,6,4,0,6,1,1,6,0,0,1,1,2,0,0,4,1,1,1,4,0,4,4,0,1,1,2,4,0,0,1,4,0,0,1,0,1,0,0,1,6,2,0,1,0,1,0,0,1,6,0,4,1,0,0,1,4,1,0,1,0,0,1,1,1,0,4,1,0,1,0,2,1,1,0,2,6,1,1,6,6,1,0,1,1,1,4,1,1,1,1,1,1,2,0,0,1,1,0,6,0,0,1,1,1,1,1,1,6,1,1,1,1,1,6,0,6,4,1,1,4,1,1,1,0,2,1,6,2,4,1,1,6,1,6,6,6,0,1,2,4,4,4,4,1,0,0,0,0,4,0,0,0,4,0,0,0,0,1,0,0,0,0,0,0,4,4,0,4,4,4,4,6,4,1,0,1,4,0,4,4,0,1,1,1,1,1,1,0,0,1,0,6,2,1,1,0,0,0,1,1,1,1,6,4,0,4,1,1,4,1,0,6,1,4,0,0,0,0,6,1,1,0,1,0,0,1,0,1,1,2,0,0,1,1,1,0,0,0,0,1,1,6,0,1,1,1,4,1,0,0,6,2,6,0,1,6,1,0,6,1,6,1,1,0,0,4,6,6,2,0,0,0,0,0,1,0,0,4,2,0,1,0,0,1,4,1,0,1,4,0,0,4,0,4,0,1,0,0,6,4,4,0,2,1,1,6,1,1,1,1,1,1,0,0,6,1,4,0,2,0,0,2,4,1,1,4,0,4,1,1,1,0,1,4,0,0,1,0,0,1,1,1,0,1,1,4,1,2,1,6,6,1,1,1,4,6,1,1,1,1,2,0,1,0,1,1,6,4,0,4,1,6,1,0,0,1,1,0,0,1,0,0,1,0,3,1,2,0,2,0,0,4,1,0,2,0,0,0,0,0,0,1,0,1,1,0,0,6,0,4,1,0,1,4,0,6,1,0,0,1,1,0,1,4,4,1,6,0,1,0,2,0,1,1,0,1,1,1,1,1,0,1,1,1,1,1,0,0,4,0,6,0,0,1,0,0,1,6,1,1,1,4,1,1,0,1,1,4,0,0,0,0,0,0,1,1,6,2,2,1,1,4,2,0,1,0,0,1,0,1,1,0,0,4,4,2,1,1,1,1,1,2,0,4,1,0,6,0,0,6,6,6,0,0,0,0,0,0,0,0,0,2,2,4,0,6,0,1,1,0,1,2,2,6,6,0,1,0,1,0,0,6,4,4,0,1,4,4,1,0,4,0,2,0,0,0,1,0,1,0,1,4,0,1,1,0,4,0,2,1,1,2,1,1,1,0,6,1,1,0,0,0,1,1,1,1,0,1,2,6,1,2,0,1,1,0,1,6,0,1,0,0,0,1,0,1,0,1,0,1,1,1,0,0,0,0,0,1,0,4,1,1,0,0,0,0,1,0,4,1,4,4,1,1,0,4,1,0,0,1,0,1,1,1,1,0,2,0,2,0,4,0,0,1,1,1,4,1,0,1,1,6,1,1,1,0,4,4,1,0,1,4,0,0,0,4,0,1,0,0,0,4,1,4,0,1,0,1,0,0,0,0,4,0,1,0,0,1,0,2,1,1,0,0,1,0,1,0,0,0,1,1,1,0,0,0,0,2,2,4,1,0,1,0,1,1,0,0,0,0,0,0,0,0,4,2,2,0,1,6,2,1,6,0,1,0,1,0,0,0,0,4,6,2,1,0,1,0,0,0,6,0,1,0,1,0,0,1,4,0,1,1,0,0,1,0,0,0,0,4,4,1,0,1,0,0,1,0,0,4,0,0,1,4,0,0,0,0,0,4,0,0,4,1,0,0,4,2,4,0,4,6,0,1,1,1,1,4,1,4,2,0,1,1,4,1,1,1,0,0,0,0,1,4,6,0,4,1,0,0,4,2,4,0,0,0,1,2,2,1,0,1,6,1,0,0,4,2,0,0,1,1,1,4,0,0,1,4,0,1,0,0,2,1,0,6,2,2,1,0,0,1,1,0,1,1,4,4,1,1,2,2,1,2,0,1,4,2,1,1,0,0,0,0,4,0,1,1,0,1,0,0,0,0,4,2,0,0,0,0,0,0,1,0,0,0,0,1,0,6,0,0,0,4,0,0,1,1,6,1,1,1,1,1,1,1,1,0,3,0,6,0,1,0,1,0,2,0,0,1,6,4,1,0,1,1,2,1,1,4,1,0,1,1,1,1,1,1,0,2,0,1,1,0,0,4,1,1,2,1,0,4,0,2,1,1,0,1,0,1,1,0,0,0,0,0,2,1,1,6,1,0,4,1,0,0,2,0,4,6,0,0,1,0,0,1,0,0,0,1,0,3,0,1,1,0,0,0,1,0,0,1,1,0,1,1,0,1,0,1,1,0,4,6,4,1,0,2,1,0,6,6,2,0,0,1,0,4,1,2,1,1,1,1,1,0,1,1,0,0,4,0,1,0,1,0,0,2,1,1,1,0,0,0,0,0,1,4,0,1,1,4,1,1,0,1,1,1,1,1,1,1,1,4,0,1,1,6,1,1,0,1,1,0,1,0,0,0,0,2,1,0,1,0,1,0,0,0,0,1,1,1,1,0,1,1,2,0,1,0,2,0,4,0,4,4,0,0,1,4,0,0,0,1,4,0,0,1,1,4,0,0,4,1,0,1,0,0,6,0,0,4,0,0,0,4,4,0,1,1,1,1,1,1,0,0,4,2,4,1,0,1,1,2,1,0,0,1,0,1,1,1,1,1,1,0,1,2,0,0,0,4,1,1,0,0,0,1,1,1,1,0,0,1,0,0,0,1,1,1,0,0,1,1,1,1,0,2,1,4,1,0,1,1,1,0,0,1,1,0,1,0,1,1,1,1,1,1,1,4,1,0,0,0,0,4,0,1,0,1,6,0,1,0,0,0,0,1,0,0,1,0,0,0,0,0,4,6,0,6,1,1,6,2,1,6,1,1,0,0,1,1,6,0,1,1,0,4,3,0,1,1,2,1,0,1,0,1,0,4,0,0,0,4,1,0,0,1,2,2,0,0,0,1,1,1,0,0,0,1,2,4,0,1,1,1,0,0,0,1,0,1,0,1,6,0,4,4,1,0,1,4,0,1,0,2,1,4,1,1,0,6,1,0,0,2,0,0,0,1,0,0,1,1,6,0,6,6,0,0,1,0,0,0,4,0,1,1,4,0,0,1,1,0,4,0,4,1,1,2,0,2,0,1,1,0,0,1,0,0,0,0,0,0,0,0,1,4,0,1,0,2,1,6,6,1,1,0,0,0,1,1,1,2,1,0,4,1,1,0,0,0,1,1,1,1,1,0,1,0,0,1,1,1,0,1,1,0,6,0,6,0,0,1,6,1,1,0,1,0,0,0,0,1,0,0,2,1,1,0,1,1,0,1,4,1,0,0,0,1,1,0,2,0,4,0,0,0,0,1,0,0,1,0,1,6,0,1,4,0,6,0,6,4,4,1,6,1,1,0,0,0,4,2,1,0,6,0,0,2,1,0,4,0,6,0,0,6,6,0,1,1,0,0,1,1,1,2,4,1,0,0,0,1,0,4,1,0,1,1,0,1,1,0,1,0,0,1,1,6,2,1,4,1,1,1,0,1,4,0,1,0,0,4,6,1,1,0,4,4,1,0,0,1,1,1,0,4,4,1,0,1,1,0,0,1,6,0,1,1,6,4,6,0,4,2,6,1,0,0,0,1,0,0,1,1,0,4,1,0,0,0,1,0,4,0,4,0,2,4,0,0,6,0,1,2,0,0,0,0,0,0,0,0,0,6,0,1,1,1,0,1,0,0,1,2,1,1,1,3,0,4,1,6,1,6,0,1,1,6,4,0,0,1,1,2,4,1,2,4,2,0,0,1,0,0,0,0,0,0,1,1,0,0,1,0,0,1,1,1,1,4,1,1,1,1,0,1,0,0,0,0,2,2,0,0,0,4,1,4,0,1,0,0,0,1,1,1,2,0,0,0,1,0,4,0,0,1,1,4,1,0,1,1,0,0,0,0,0,0,0,1,0,0,0,0,0,0,1,0,0,0,0,0,4,0,1,4,0,2,0,0,0,0,2,0,4,0,0,0,4,0,2,1,2,0,0,1,0,0,0,4,0,0,0,0,1,0,1,0,0,4,4,1,6,0,0,0,0,1,0,1,0,1,1,2,0,0,0,0,1,0,6,0,0,2,0,0,1,0,0,0,0,4,0,0,0,0,0,1,0,4,0,0,6,0,0,0,4,2,0,0,0,0,0,0,4,1,0,0,4,0,4,0,0,1,4,0,0,0,1,1,0,0,0,0,0,0,0,0,0,0,0,1,0,1,0,4,0,1,0,0,0,0,0,4,0,0,0,4,2,0,1,1,1,0,1,1,4,1,4,2,0,1,2,0,0,1,0,0,4,2,1,0,0,1,0,0,1,1,1,1,2,1,0,1,6,1,0,1,6,1,0,1,1,0,0,1,4,1,0,0,0,0,0,0,0,0,0,0,0,4,0,1,0,1,6,0,4,0,4,1,0,0,0,4,6,1,0,1,1,1,1,1,1,1,1,1,1,1,0,0,4,1,1,4,0,1,0,1,1,1,0,0,1,2,0,0,1,1,1,1,1,6,1,0,1,0,6,6,1,1,2,4,1,1,1,0,1,4,4,0,0,4,1,0,0,4,0,0,1,1,6,1,0,4,1,1,0,0,1,1,2,0,1,1,1,4,1,1,0,1,0,0,2,0,0,0,0,1,0,0,0,0,0,0,0,0,0,1,1,1,0,1,1,1,6,1,0,1,4,0,1,0,0,4,0,1,3,0,6,0,0,1,1,1,6,0,6,2,0,0,1,0,1,0,1,6,2,1,1,0,0,0,1,0,4,1,0,6,1,1,0,1,0,1,1,0,0,1,1,0,0,1,4,4,1,1,0,4,1,0,1,0,1,4,1,1,0,1,4,1,6,1,1,0,1,0,4,6,1,4,0,0,1,1,6,0,6,3,0,0,0,0,1,1,0,1,0,4,0,0,0,1,0,0,1,4,4,4,0,1,1,0,1,0,1,4,0,1,0,0,4,1,0,0,1,1,0,1,1,0,1,1,2,1,1,2,1,0,1,0,1,1,0,1,1,0,0,1,4,1,2,1,1,4,1,1,0,0,4,1,1,2,0,1,1,1,1,2,0,0,1,1,1,1,1,0,1,1,1,1,1,6,1,1,0,0,1,1,4,4,0,1,0,1,1,1,1,1,0,1,1,1,4,0,0,0,1,4,0,4,0,0,4,0,0,1,0,0,0,1,1,2,0,0,1,4,1,0,0,0,1,0,1,6,0,0,4,0,0,0,0,0,0,0,0,4,1,0,4,0,4,4,1,0,1,0,1,1,0,0,1,0,1,1,0,4,0,1,1,1,0,0,0,1,1,0,0,1,1,1,0,1,1,0,1,1,0,1,0,0,1,0,1,1,0,0,6,6,0,0,0,2,0,0,1,1,1,0,6,0,0,0,4,0,1,0,6,1,0,1,4,0,1,0,0,0,0,4,6,0,0,1,0,4,2,6,0,0,4,1,0,2,0,0,0,0,4,1,0,0,1,1,0,1,0,1,0,1,4,1,1,1,1,1,0,0,0,1,6,6,0,0,0,1,1,4,6,0,0,0,4,6,0,0,2,6,1,4,0,0,0,2,1,0,1,0,1,0,1,1,0,1,4,2,1,1,4,0,0,0,0,0,0,0,0,6,0,1,0,0,0,0,0,0,0,1,0,2,0,0,0,0,0,0,0,0,4,1,0,0,0,4,0,1,4,0,1,1,2,2,1,0,1,4,0,0,0,1,0,0,1,1,1,1,1,1,0,4,2,1,1,1,1,0,0,1,1,1,1,2,0,0,1,1,1,4,1,2,1,0,4,4,4,0,1,0,0,0,1,0,0,0,6,1,0,1,6,1,0,1,1,0,1,1,0,0,0,2,0,1,0,0,0,0,0,1,0,1,1,1,0,1,0,0,1,4,0,0,0,0,0,0,1,0,1,1,6,1,4,1,1,1,0,0,1,1,1,1,1,0,1,0,1,6,6,0,1,1,1,4,4,1,1,1,0,1,1,0,1,0,1,6,6,4,1,1,1,1,1,0,1,1,1,0,4,4,4,4,1,0,1,4,0,4,4,1,1,1,1,0,1,0,0,6,1,0,1,0,0,2,0,2,1,1,1,1,0,1,4,1,0,1,1,6,6,0,4,1,1,0,0,0,0,0,0,0,6,4,0,1,1,4,0,4,1,0,0,6,4,0,0,1,2,2,0,0,0,0,2,6,4,4,0,0,0,1,4,0,0,0,1,6,1,0,0,1,0,2,4,0,0,4,4,4,6,0,0,0,1,4,4,1,2,1,4,0,1,0,0,0,0,1,1,0,1,0,0,0,0,0,6,0,0,1,0,1,1,1,0,0,0,1,0,0,0,0,0,0,1,0,1,0,1,0,0,1,1,0,1,0,0,2,0,1,1,0,0,0,0,1,1,0,0,6,1,0,0,0,4,4,0,0,0,0,1,0,0,0,0,0,1,1,0,0,0,0,2,1,0,4,1,0,0,1,1,1,6,1,0,4,1,0,1,0,6,1,4,0,1,0,4,1,1,0,0,6,2,1,4,1,4,4,6,4,1,0,1,1,1,2,1,0,1,0,4,1,1,0,1,1,1,0,0,0,4,1,0,1,0,0,1,1,6,0,1,0,0,0,4,0,1,0,0,0,4,0,1,0,1,1,2,1,6,4,0,1,1,1,1,4,1,4,0,1,1,0,2,0,0,0,2,6,2,1,6,6,6,4,0,0,1,0,0,0,1,0,0,0,1,0,4,6,1,1,0,0,4,0,1,0,0,0,1,1,4,1,1,0,0,2,0,1,6,2,1,1,0,1,4,0,0,0,1,1,1,1,1,0,1,1,0,4,0,0,4,1,0,1,0,4,0,4,1,1,0,1,0,4,0,1,6,1,0,1,1,0,1,1,6,0,1,0,0,0,1,1,0,0,0,6,0,1,1,1,0,0,0,0,0,0,0,0,0,1,0,0,1,1,0,0,4,1,1,1,0,0,0,0,0,0,0,2,0,0,0,0,0,4,4,2,4,6,4,0,2,1,1,0,6,1,0,2,0,1,4,1,4,0,4,0,0,6,6,1,2,2,1,1,1,0,0,0,0,1,0,2,0,1,1,0,1,0,4,0,4,1,0,1,1,6,1,0,1,1,1,2,0,0,0,1,1,1,1,0,2,1,0,0,1,0,4,1,1,1,2,2,0,1,1,1,1,0,0,0,0,0,1,1,0,4,0,2,1,1,0,1,1,2,6,6,6,0,6,6,1,1,1,0,0,0,0,0,0,0,0,0,0,0,2,0,1,1,0,0,0,1,0,0,1,4,0,0,0,0,2,2,0,4,1,0,0,1,1,0,0,1,1,0,0,0,0,0,0,1,0,0,4,0,0,1,6,6,2,6,4,1,6,0,0,1,1,0,0,0,1,4,0,0,0,0,6,4,0,6,0,0,0,0,1,1,4,2,4,0,1,0,0,0,2,4,0,0,4,2,0,0,0,1,4,0,1,0,0,0,0,0,0,1,0,0,1,4,4,0,1,4,1,4,1,0,6,0,0,0,1,0,0,0,0,6,0,1,1,0,0,4,1,1,1,1,0,6,0,1,0,0,4,4,4,1,1,1,1,1,0,0,1,1,1,1,4,4,1,1,1,0,1,0,1,1,0,0,4,1,1,1,1,0,0,0,1,0,0,0,0,1,0,1,2,0,1,6,0,1,1,1,1,4,4,1,6,1,1,0,0,1,1,0,0,6,0,4,0,4,0,6,4,4,1,1,0,0,4,6,0,4,1,1,0,4,0,0,1,0,0,4,0,1,6,4,4,2,4,0,1,4,1,0,4,0,1,0,1,4,4,1,4,1,0,0,1,1,1,2,1,1,0,6,0,1,1,0,1,1,1,0,0,1,1,1,1,4,4,0,0,1,0,1,0,1,0,1,2,1,0,4,1,1,0,4,4,2,1,4,1,4,1,1,0,0,1,0,1,1,4,1,0,0,0,1,1,4,4,0,1,0,1,4,1,0,6,1,4,1,1,1,0,0,0,0,6,0,0,1,0,1,1,1,0,0,1,4,4,0,0,0,6,1,0,6,1,1,1,4,4,0,1,2,0,1,1,3,0,4,4,0,4,1,4,0,0,2,2,4,1,0,1,0,0,0,0,0,1,1,1,1,6,1,1,1,1,6,0,0,2,1,1,1,0,2,4,0,4,0,0,1,1,0,1,0,1,0,0,1,0,2,0,0,0,0,1,0,0,0,0,0,1,0,4,4,2,2,2,1,1,2,1,1,2,0,6,1,1,1,1,0,4,0,6,1,0,0,0,0,6,0,0,0,6,0,0,0,0,1,0,4,0,0,6,0,4,0,1,0,1,0,2,0,0,0,4,0,4,1,1,0,0,1,6,4,6,0,4,1,1,1,0,1,1,1,1,1,1,0,1,4,4,4,4,1,0,6,0,4,1,0,4,1,1,0,1,0,1,1,1,1,1,1,0,1,1,1,0,1,1,1,2,0,0,0,4,1,0,4,1,1,0,1,4,2,0,6,0,1,1,0,4,1,0,4,1,1,4,0,2,0,1,1,2,0,1,1,6,1,1,0,1,1,0,0,0,0,0,0,0,0,4,1,4,1,1,0,0,0,0,0,0,1,0,1,1,4,4,0,6,4,0,1,0,0,0,0,0,0,1,4,4,1,0,0,1,0,0,0,0,1,1,1,1,6,1,1,6,6,6,4,0,0,0,4,1,0,1,0,1,1,1,1,6,4,0,0,3,0,2,1,1,0,2,1,1,6,1,2,1,2,1,0,4,0,0,1,0,0,1,1,0,2,6,1,0,0,0,6,6,1,4,0,1,0,0,0,1,6,0,4,1,1,4,4,0,6,0,4,4,4,0,0,0,2,1,0,0,0,0,4,0,1,0,0,1,0,4,0,0,1,0,0,6,0,1,0,1,0,0,0,0,0,1,0,1,4,4,1,0,1,1,0,0,0,0,4,1,1,1,0,1,0,0,1,0,2,1,6,1,0,6,1,1,0,0,4,4,0,4,0,0,1,0,6,6,4,2,0,1,0,4,6,1,0,1,0,0,0,6,1,6,0,1,4,0,0,1,1,0,6,2,1,0,0,1,6,0,0,0,4,0,2,6,0,0,4,4,1,4,2,1,0,0,4,1,0,0,1,1,0,0,4,0,0,1,0,4,0,0,2,4,0,1,0,0,0,0,0,4,3,0,0,6,4,0,4,2,2,6,1,1,1,1,1,1,1,1,1,0,1,1,0,0,1,1,1,1,0,1,1,0,4,0,1,1,0,0,0,0,0,1,1,1,1,0,1,1,6,0,1,0,1,0,1,0,1,1,0,1,4,1,2,0,1,1,1,1,1,4,1,0,6,0,0,1,0,1,1,4,0,4,1,1,0,0,4,2,0,2,6,1,2,0,0,1,0,1,0,0,6,2,6,0,2,0,1,0,4,0,4,1,1,0,0,1,0,0,0,4,1,4,1,1,0,0,0,2,0,1,4,4,1,1,1,1,0,0,6,1,6,1,1,1,0,1,4,0,0,1,0,1,1,0,0,1,2,1,6,1,1,1,0,1,1,0,1,0,1,0,6,1,1,4,0,1,0,0,4,1,4,1,0,1,1,4,1,0,0,0,0,1,1,1,6,1,0,0,2,1,0,2,1,1,0,0,1,6,0,0,0,1,1,0,1,1,1,4,1,6,0,6,0,0,1,0,4,0,0,0,0,0,4,4,0,1,4,0,4,0,0,0,1,0,0,2,6,0,0,0,0,0,0,2,1,0,1,0,0,0,0,1,1,0,1,0,0,0,1,1,0,1,0,0,2,1,2,1,0,1,1,1,0,2,0,2,1,1,1,0,1,1,0,1,1,0,1,4,1,0,0,2,4,1,0,1,1,0,1,1,4,1,2,1,1,0,1,0,1,1,1,1,4,1,1,2,0,0,2,0,0,0,0,0,1,1,6,1,0,1,2,4,0,0,1,0,1,1,1,1,2,4,0,1,0,0,0,1,0,1,4,4,0,0,0,0,0,0,0,4,0,4,0,0,1,1,6,4,1,0,0,0,0,4,0,1,0,0,4,0,2,4,4,1,4,1,1,0,1,1,1,1,0,2,1,2,0,1,0,1,0,1,1,4,0,0,1,2,1,1,0,1,1,1,4,0,6,0,4,0,0,1,1,1,0,2,0,0,0,0,0,1,0,1,1,1,0,0,6,6,6,4,2,4,0,0,4,0,0,0,0,0,1,1,1,0,0,0,0,0,0,0,0,0,1,0,4,0,4,0,0,1,0,4,4,0,0,1,1,1,2,6,0,0,2,0,1,1,0,4,0,0,1,2,0,1,4,0,1,1,1,1,1,1,0,0,1,1,1,4,4,1,1,1,0,1,0,1,1,4,1,0,1,4,1,0,1,1,1,1,6,0,0,0,1,0,4,0,1,1,1,0,0,0,0,0,0,6,0,0,1,0,1,2,1,1,6,6,0,1,1,2,0,2,1,4,0,0,2,0,2,1,2,0,1,0,0,1,0,4,0,0,0,1,2,0,1,0,0,1,0,0,4,0,0,0,1,0,1,0,1,0,0,1,2,1,4,0,0,0,4,1,1,1,1,0,1,1,1,0,1,2,0,1,1,1,0,1,0,0,0,4,0,0,2,0,4,6,4,0,1,0,0,1,6,1,0,1,1,1,4,1,0,4,1,1,1,1,1,0,0,2,1,1,1,1,0,6,0,1,0,0,1,1,0,0,4,1,0,4,4,2,0,0,1,1,1,0,4,0,1,2,0,4,6,1,1,0,0,0,1,0,0,6,0,0,0,0,1,1,0,4,1,0,0,0,3,1,0,1,1,0,0,4,1,6,1,1,1,0,0,1,4,1,1,0,0,2,0,4,6,0,1,1,4,6,1,1,1,1,4,4,1,0,0,0,1,1,6,6,1,0,1,4,0,0,4,6,0,1,1,2,2,0,0,1,4,1,1,1,2,6,2,4,6,0,1,2,1,1,4,2,0,2,1,1,1,1,2,0,2,1,6,1,0,1,0,2,1,1,0,4,1,0,1,4,4,1,0,0,1,1,4,4,0,4,1,1,6,1,0,1,4,0,6,0,1,0,0,4,1,1,4,1,1,1,2,1,0,1,1,2,2,0,0,0,0,1,1,1,1,1,2,4,1,1,1,1,1,0,0,1,0,1,0,6,6,0,1,6,1,1,0,0,0,0,2,1,0,0,1,1,1,6,1,1,1,1,6,2,1,1,1,1,0,2,2,0,1,1,0,1,1,1,0,6,1,2,1,1,1,4,0,0,0,2,0,0,4,0,0,2,4,0,6,4,0,0,6,6,1,4,1,1,0,0,0,1,1,1,1,0,6,4,1,1,0,0,0,0,0,1,0,6,4,1,4,1,0,4,1,0,1,0,1,4,0,2,0,1,1,0,0,1,1,1,4,1,4,1,1,1,0,4,1,1,1,0,1,1,4,1,6,1,1,0,0,6,1,1,1,4,1,6,0,1,0,1,2,0,0,1,0,4,0,1,1,1,0,1,1,1,1,2,0,4,0,0,1,0,0,0,1,1,1,0,1,6,1,0,1,1,1,1,4,1,0,1,0,1,6,0,0,2,1,2,0,0,2,1,6,1,1,0,0,0,0,1,0,4,0,0,4,0,0,3,0,0,1,0,0,1,0,4,4,6,4,6,0,6,1,4,0,4,6,1,4,1,1,1,0,1,4,1,0,0,1,0,1,1,2,1,2,4,1,0,1,2,1,4,0,0,0,0,0,0,1,0,0,1,0,1,6,6,4,0,0,0,1,4,1,0,0,0,1,1,1,1,2,0,0,2,6,1,1,4,1,0,1,1,2,0,1,1,0,0,2,2,1,1,0,2,4,1,2,1,4,1,6,6,0,1,0,0,0,6,1,1,1,0,0,0,0,0,0,4,0,0,0,4,4,4,0,0,3,0,1,0,1,1,0,0,0,0,3,4,4,1,0,0,0,0,0,1,0,0,0,6,0,6,1,0,2,0,0,0,4,1,1,1,0,1,4,1,1,1,1,1,1,2,0,0,0,0,1,0,1,1,0,0,1,1,0,0,1,1,1,1,1,0,1,1,1,0,0,0,0,1,4,1,0,6,6,6,6,0,0,0,0,0,1,2,1,0,4,1,1,6,0,0,1,4,1,1,4,1,0,1,0,0,0,0,1,1,6,0,0,0,0,4,0,1,0,4,4,1,1,0,0,1,0,0,0,0,4,1,4,0,0,0,1,0,0,2,0,4,1,0,0,0,4,1,6,1,4,4,2,0,1,0,2,0,0,1,1,1,1,0,1,1,1,0,1,1,1,1,0,0,1,0,1,6,0,2,0,1,1,0,4,2,0,1,0,1,1,1,1,1,6,1,0,0,6,1,0,0,0,1,0,0,0,0,1,1,6,1,0,1,0,4,4,0,1,1,1,1,2,2,2,0,1,0,6,0,0,4,4,0,1,0,0,1,0,0,0,0,0,0,4,0,0,3,0,0,1,0,0,1,4,4,0,1,4,0,1,4,1,1,1,1,1,1,1,1,0,1,0,0,0,0,1,2,1,6,1,0,1,0,0,6,4,0,1,4,0,1,6,4,1,0,1,2,1,1,1,1,2,0,1,1,2,1,1,1,1,4,0,1,0,2,4,0,0,1,0,1,1,0,1,0,1,6,1,0,1,6,1,1,0,1,4,1,2,4,0,0,4,0,0,1,6,0,2,4,0,4,1,0,4,0,1,2,1,1,4,0,0,0,2,1,0,1,1,4,1,0,1,1,0,0,1,0,1,1,1,0,1,0,4,0,0,4,1,1,0,1,1,1,0,0,1,0,2,0,2,1,1,4,0,6,0,1,0,1,4,1,1,1,1,0,1,1,1,1,1,1,1,4,1,4,0,0,0,1,0,1,0,0,4,0,0,0,4,6,1,0,1,1,2,1,4,4,0,0,1,1,0,2,0,1,1,2,0,6,4,1,4,2,1,1,1,1,6,0,4,1,4,1,0,0,0,0,0,1,0,1,0,0,0,1,1,4,0,0,0,0,0,1,1,1,0,0,0,6,6,1,1,1,2,1,0,0,0,0,0,1,0,0,0,0,1,6,1,0,1,0,2,4,1,1,0,1,1,1,1,1,0,4,0,6,0,2,2,1,1,2,1,1,0,1,0,4,4,0,0,4,0,0,1,4,0,1,1,0,0,0,2,2,0,0,0,1,1,0,0,0,0,1,1,1,2,1,1,1,1,6,0,0,6,6,6,0,0,0,0,1,1,1,1,1,4,0,0,0,0,0,0,0,0,0,0,0,0,1,1,1,1,6,2,4,1,1,1,4,1,0,6,0,0,0,0,1,4,0,1,0,0,4,0,0,0,0,4,1,0,1,1,1,1,2,0,0,0,1,0,1,0,1,0,1,0,0,0,1,0,0,1,6,6,1,4,0,1,0,1,0,1,0,0,1,0,1,0,0,1,0,0,0,0,0,0,0,4,2,4,1,0,0,0,1,0,0,1,0,0,4,0,1,0,1,0,0,0,4,0,0,0,0,4,0,1,0,0,0,6,4,0,0,0,0,0,0,0,0,1,0,0,0,2,0,0,1,0,1,1,2,1,4,2,0,0,1,1,0,1,1,0,0,1,0,1,1,2,0,0,1,1,1,1,0,1,1,1,1,0,0,0,0,1,4,1,1,1,1,1,1,4,2,1,1,1,1,0,0,1,1,0,1,4,1,1,4,0,1,1,6,1,1,1,1,0,0,0,0,1,1,1,0,0,1,1,1,4,1,4,1,1,0,1,1,6,1,1,6,0,1,0,0,4,1,4,6,0,1,1,1,4,2,1,0,0,0,0,0,0,4,0,0,3,4,2,4,0,0,0,0,0,0,0,3,4,1,4,0,4,1,0,0,0,0,1,0,0,0,4,1,1,1,1,0,1,0,1,4,1,1,1,1,1,1,6,0,1,0,4,1,4,4,1,0,1,0,0,0,1,0,0,1,0,0,0,0,0,0,1,1,1,0,1,1,0,4,0,1,0,1,1,1,1,1,4,6,2,0,1,1,0,1,0,2,1,0,6,1,1,4,1,1,2,0,1,6,0,1,1,0,0,0,0,1,6,0,0,0,0,0,0,1,0,1,0,1,4,0,4,0,0,4,0,0,0,0,1,0,1,1,1,0,0,0,6,4,4,0,4,4,0,1,0,0,0,2,1,1,1,1,0,4,1,1,1,0,1,1,1,6,1,0,1,2,1,0,0,1,0,1,2,1,1,2,0,6,6,1,1,1,1,6,0,0,1,1,1,0,1,4,1,0,6,0,1,1,4,2,1,4,0,0,1,1,1,2,1,1,0,1,6,1,1,1,2,1,1,0,0,0,4,2,1,0,1,6,0,1,6,6,6,0,0,0,1,0,1,1,4,6,1,0,0,1,0,1,4,1,1,4,0,4,1,0,0,4,0,0,1,4,1,1,2,1,4,4,1,0,1,0,6,0,1,1,0,1,0,0,0,4,1,1,1,1,4,0,4,0,4,0,0,1,1,0,1,1,1,1,1,1,0,1,1,4,4,1,4,1,0,1,2,1,1,0,0,4,1,0,1,0,1,4,1,1,1,1,1,1,0,0,0,4,2,0,0,1,1,0,2,2,0,6,1,1,4,1,1,0,6,1,6,1,6,0,6,6,1,0,0,0,1,2,0,6,0,0,0,4,4,0,0,4,1,1,0,0,0,4,4,0,0,0,0,0,0,0,0,4,0,6,0,0,0,1,1,2,1,0,1,0,6,6,1,1,0,1,0,0,1,1,0,0,1,0,0,0,0,1,6,1,1,4,1,1,0,1,1,1,1,1,1,1,1,0,1,1,1,1,0,0,1,1,1,0,0,0,0,0,1,0,2,0,1,1,0,1,0,2,1,1,1,0,1,1,1,1,0,6,1,0,0,4,1,0,4,2,6,0,6,0,0,0,4,4,1,0,0,0,0,0,0,0,0,0,4,0,0,1,0,2,1,0,4,0,0,0,1,4,1,0,0,0,0,6,1,0,0,0,0,0,0,1,1,2,0,1,0,1,1,1,0,1,1,1,6,0,0,1,0,2,0,0,0,0,1,3,0,0,1,1,0,1,0,0,4,1,0,0,0,0,0,1,6,0,1,1,0,4,1,0,0,0,1,0,0,0,1,0,1,1,4,2,2,0,1,0,0,4,0,0,0,0,0,6,0,0,0,0,1,0,0,0,2,0,0,1,1,0,1,1,1,0,4,0,1,1,0,1,0,0,0,2,1,1,0,1,0,1,4,0,0,1,1,0,1,6,1,0,0,0,1,1,1,1,1,0,0,0,1,0,0,1,4,0,0,1,1,0,1,1,6,1,1,1,0,0,4,2,0,0,1,1,1,1,2,1,0,0,4,4,0,4,1,1,4,1,0,0,1,1,1,1,6,1,4,1,1,1,2,1,1,0,2,1,0,4,4,1,0,1,1,4,0,2,1,0,1,0,1,1,0,1,1,1,4,6,6,1,4,0,1,6,1,4,1,0,1,0,1,4,4,0,0,0,0,0,1,0,0,0,0,1,1,0,0,0,0,1,1,0,0,0,2,0,0,0,0,1,4,0,0,0,1,0,1,1,0,4,2,0,4,1,1,1,4,0,1,1,1,4,0,6,1,1,1,0,1,1,1,0,4,6,0,1,1,1,0,1,0,0,1,4,0,0,0,0,1,1,0,4,4,0,1,0,4,0,6,1,2,0,0,1,6,6,6,4,1,1,0,0,1,2,1,4,1,0,0,0,1,0,1,1,4,1,6,0,0,0,1,6,1,0,0,0,1,0,1,0,0,0,0,4,0,1,4,4,2,1,2,0,0,1,0,6,0,0,0,1,0,0,1,0,0,0,1,1,1,1,0,0,2,2,1,1,1,1,2,1,1,0,1,1,1,1,6,1,0,6,1,4,4,0,2,1,4,2,1,0,1,1,1,0,0,6,0,0,0,6,0,0,0,0,1,0,1,1,0,2,1,1,1,4,1,1,0,4,0,0,1,0,1,2,4,1,0,1,0,4,1,1,1,4,4,4,1,1,1,0,1,0,6,1,6,0,0,0,0,0,0,1,0,0,0,4,0,0,0,0,1,0,1,4,1,0,0,0,4,0,0,0,1,0,1,0,1,1,1,4,1,0,0,6,4,1,1,1,0,2,1,1,0,2,1,0,0,2,0,0,0,1,0,1,0,1,1,0,1,0,0,1,0,1,1,4,1,0,1,1,2,1,1,0,0,1,0,0,0,6,0,0,2,6,1,0,1,1,1,1,1,0,4,4,1,0,0,1,1,1,6,0,1,1,0,1,1,0,0,2,0,1,0,0,1,1,0,1,1,0,0,1,0,0,0,0,0,0,4,0,1,0,0,0,0,0,0,0,1,0,1,0,0,1,1,0,0,4,0,4,1,0,0,0,0,0,0,0,0,0,0,0,0,4,1,0,0,0,0,1,1,0,3,0,0,3,0,0,0,4,2,0,0,0,0,0,2,0,0,0,0,0,2,0,0,0,0,1,0,1,0,0,0,0,0,0,0,0,0,1,1,0,1,0,0,0,0,0,1,1,0,4,0,1,0,0,0,1,1,1,0,0,0,0,1,0,0,0,0,0,0,3,1,4,1,6,4,0,1,1,0,0,4,0,4,1,4,4,0,1,0,0,0,1,4,1,4,4,4,1,0,1,0,1,1,0,0,1,1,6,0,0,2,4,1,0,0,0,2,4,0,4,0,1,1,0,0,6,4,2,0,1,0,1,0,1,1,1,1,1,2,0,1,1,1,1,0,0,2,0,6,4,0,0,1,6,0,0,1,1,0,0,1,2,1,0,0,1,0,1,1,2,0,1,4,0,1,0,2,0,6,1,1,1,1,1,0,0,2,1,1,4,2,0,0,6,0,0,4,2,0,1,2,1,1,1,0,1,1,1,1,1,0,0,2,0,0,1,1,0,0,1,0,0,2,4,1,1,1,0,1,0,0,1,4,0,0,0,0,4,0,0,0,0,4,0,1,0,0,0,0,0,0,0,1,0,0,1,0,0,4,0,0,0,1,0,6,1,1,0,1,0,0,6,0,0,1,4,0,1,0,0,0,0,4,0,0,0,4,1,1,0,1,2,2,0,4,1,0,1,0,1,4,1,1,2,0,0,0,4,1,1,1,0,0,4,0,0,1,6,6,0,0,0,1,0,0,1,6,0,0,0,1,1,0,0,0,4,0,0,0,6,1,0,1,1,0,1,6,0,0,1,1,6,2,1,0,6,0,1,2,0,0,0,0,0,4,0,4,0,0,0,0,0,0,0,1,1,0,0,1,2,4,4,4,0,0,1,0,1,0,1,0,6,2,0,6,0,1,0,1,0,4,1,1,0,0,1,6,4,1,1,6,4,1,1,0,1,0,1,1,0,6,1,4,1,4,1,1,6,0,1,1,0,4,0,1,6,0,4,6,1,4,0,1,4,0,0,6,6,1,1,4,0,0,0,0,1,2,0,1,1,4,1,1,1,0,4,6,0,4,6,0,4,6,1,1,2,0,0,2,4,0,1,1,4,6,4,4,0,0,0,0,4,0,0,1,0,1,1,0,4,0,0,6,0,4,0,1,4,1,4,4,0,0,1,4,0,0,4,1,1,1,1,0,1,1,1,1,2,1,1,1,0,1,1,4,6,0,0,0,1,4,4,0,1,0,1,1,1,0,6,1,1,6,0,4,0,2,1,1,1,0,0,0,1,1,0,0,1,0,1,1,1,1,4,4,0,1,6,2,1,0,1,6,1,1,4,0,0,1,6,0,0,1,1,0,1,1,0,6,0,6,0,0,0,0,0,0,6,6,6,0,2,0,0,0,0,1,0,0,4,1,0,4,1,0,2,4,0,2,3,0,0,0,1,1,0,1,1,4,0,0,0,0,0,0,6,2,1,1,1,1,1,1,0,0,1,1,0,0,0,1,1,1,1,0,0,1,0,1,0,1,1,1,0,1,6,1,4,0,1,4,0,0,0,0,1,0,2,2,0,2,4,0,0,0,4,0,0,1,1,1,6,1,1,1,0,1,0,1,4,1,1,0,4,1,2,1,1,0,1,0,4,1,6,0,3,2,2,0,0,1,4,0,2,6,2,0,0,0,0,4,0,4,1,0,1,0,1,0,2,0,1,0,6,0,0,0,0,0,6,0,0,0,0,4,0,4,1,0,1,0,1,0,6,0,0,0,0,1,1,0,1,1,0,6,1,1,1,1,0,4,1,0,1,0,0,0,0,1,6,0,2,1,0,0,1,0,0,0,1,0,6,1,0,2,0,0,1,1,2,4,0,1,0,1,1,1,1,0,1,1,0,0,0,0,0,0,2,0,1,0,1,1,1,1,1,6,1,4,1,1,0,4,1,1,4,1,0,1,6,4,2,4,0,4,0,2,1,0,0,1,0,2,0,1,1,4,1,0,4,0,4,2,0,4,0,0,0,0,2,0,1,4,4,1,1,0,1,0,0,4,2,1,0,0,0,4,0,4,0,0,1,1,0,1,0,4,0,1,1,1,4,0,1,1,0,1,1,0,1,0,0,1,1,1,1,0,0,0,1,1,0,1,1,1,0,0,0,0,2,0,0,0,4,0,0,1,0,0,0,0,0,0,6,1,0,4,0,0,0,1,0,0,0,1,0,0,1,0,4,0,0,0,0,2,4,0,0,4,4,0,0,4,1,1,1,4,1,1,4,4,1,6,4,2,4,4,1,0,0,0,4,0,1,4,0,4,1,0,0,0,4,1,0,0,1,1,0,0,0,1,0,1,0,6,1,0,0,1,4,2,1,4,0,1,4,1,0,1,1,1,1,4,0,0,0,0,4,0,0,0,0,0,1,2,0,4,1,0,4,4,6,0,0,1,4,1,1,0,0,4,1,0,2,1,0,1,1,1,0,0,1,1,0,0,6,1,4,0,0,0,1,1,1,2,4,1,4,1,0,1,1,0,0,1,0,1,4,0,1,1,1,1,1,1,0,0,4,2,1,1,1,0,1,2,2,1,1,0,6,1,1,1,4,0,1,1,6,0,1,0,4,1,1,2,1,4,2,1,1,1,2,2,0,4,2,4,1,1,1,0,2,1,6,1,1,1,1,0,0,0,1,0,0,4,4,1,0,2,0,0,0,1,1,1,0,1,0,0,1,1,1,0,4,0,1,1,6,1,0,0,1,1,1,0,4,4,0,1,0,2,2,1,4,0,1,0,4,0,0,0,1,6,0,0,0,0,4,0,0,6,0,2,0,0,1,1,1,2,1,4,0,1,1,1,0,0,0,0,0,4,4,0,0,0,1,1,4,0,0,0,1,0,1,1,0,1,1,6,1,4,1,2,0,0,1,1,1,1,0,1,1,4,1,0,0,0,0,0,1,1,0,6,0,6,0,0,0,0,0,0,1,0,0,0,1,4,0,0,1,4,6,0,0,0,4,1,6,2,1,1,4,1,0,4,2,0,1,0,0,0,4,6,0,4,4,1,0,4,1,1,1,0,0,0,1,4,0,6,2,1,0,1,6,0,0,1,1,2,2,0,1,4,4,0,1,0,2,0,1,1,2,4,1,1,4,6,1,3,2,2,0,0,1,1,1,4,2,6,1,0,1,4,1,4,0,6,1,1,0,0,4,1,0,1,0,1,0,1,0,0,1,0,2,1,0,1,1,0,6,6,0,0,4,0,4,4,0,0,1,1,0,1,4,4,0,0,4,0,4,0,0,0,1,1,0,2,0,1,0,4,1,4,0,1,0,1,2,4,1,6,1,0,4,0,1,1,4,4,0,1,1,0,3,4,6,2,1,0,4,4,1,1,0,0,0,0,6,0,0,2,1,1,1,0,1,1,1,1,0,1,1,1,6,2,0,4,6,3,1,0,0,0,1,0,1,2,1,0,1,1,6,0,4,0,1,6,1,1,1,1,0,0,1,0,0,0,0,1,6,2,6,4,1,1,2,1,0,1,1,0,2,0,1,0,0,0,1,0,0,0,1,0,0,1,1,0,0,1,0,0,1,0,4,2,1,0,0,6,0,4,1,0,4,0,0,0,0,0,0,0,1,0,0,6,1,0,1,1,0,4,1,1,1,1,0,1,1,1,1,1,4,0,0,1,0,4,1,1,6,1,0,6,1,1,1,4,1,6,1,4,1,1,1,0,1,6,4,2,6,1,1,1,0,0,0,0,0,0,1,0,1,1,0,1,1,2,0,0,2,1,1,2,1,1,4,1,1,0,1,1,2,1,1,4,0,1,6,6,1,0,0,0,0,1,0,1,0,0,1,1,1,4,0,0,4,0,1,0,1,1,0,0,0,1,1,2,0,4,0,1,1,0,1,4,1,1,0,1,0,4,0,1,1,1,0,0,1,0,1,0,0,1,4,1,1,0,0,1,0,1,1,1,6,1,1,0,1,6,6,4,1,1,0,0,0,0,0,0,4,1,1,1,1,4,1,1,1,6,0,0,1,6,1,0,1,1,1,1,1,0,1,0,6,6,4,6,1,2,4,3,1,2,0,0,0,0,6,0,4,2,0,0,4,0,1,1,0,1,0,1,0,0,0,2,0,0,1,2,0,0,2,4,4,0,0,2,4,4,0,0,1,4,0,4,6,0,0,0,1,1,0,1,4,0,1,1,4,0,1,0,0,0,0,0,0,1,0,0,1,6,1,1,1,1,0,4,0,0,6,0,4,0,6,1,0,1,0,1,6,1,1,1,1,0,6,1,1,0,4,1,0,0,0,2,0,0,1,1,0,0,0,1,0,0,1,1,0,0,1,0,2,0,1,4,0,2,6,0,1,0,0,0,0,0,0,0,4,1,1,0,0,0,0,0,0,0,1,1,0,1,0,1,0,4,0,0,0,2,4,2,1,0,0,4,2,4,1,0,0,1,0,4,4,2,1,0,0,1,1,6,0,0,1,0,1,1,0,0,0,1,1,1,1,6,1,0,1,1,2,0,2,1,0,2,0,1,0,2,1,1,1,0,1,0,6,1,1,1,0,1,4,2,1,1,0,1,1,1,1,1,2,0,0,1,4,2,1,2,4,1,0,1,0,2,0,4,1,0,1,1,4,6,0,0,4,0,0,0,0,0,2,1,4,0,0,1,0,0,0,0,4,1,1,1,0,4,0,1,1,0,0,4,0,0,4,1,0,1,4,0,0,1,0,1,0,2,0,1,1,0,1,4,2,6,4,6,1,1,4,0,0,4,0,1,0,0,0,4,0,0,2,1,0,0,1,1,1,1,1,1,1,0,1,0,0,0,0,1,1,0,4,1,1,1,6,1,1,1,1,0,1,1,2,6,0,1,2,4,4,4,6,6,4,0,0,6,0,1,4,0,2,4,1,0,6,0,0,1,1,6,0,0,1,1,0,2,1,1,6,0,6,0,1,0,4,0,4,1,0,1,0,6,0,1,4,0,1,0,0,0,0,4,1,1,0,1,2,0,1,0,1,1,1,0,1,6,0,0,1,1,0,1,0,2,0,1,1,1,1,0,1,1,6,1,1,4,0,1,0,0,1,0,1,2,1,1,0,0,4,2,1,1,4,0,0,0,0,1,1,0,0,0,6,1,4,6,1,2,6,0,1,0,2,1,0,1,1,0,6,1,0,0,1,4,2,0,4,0,0,4,1,1,0,4,0,1,1,1,1,0,4,0,4,0,1,4,4,1,0,1,0,0,0,2,0,1,4,0,1,0,4,6,0,6,0,4,0,1,0,1,1,1,1,0,1,1,1,2,4,4,6,1,0,0,1,2,0,2,1,6,0,1,1,0,0,1,1,1,0,1,2,0,0,4,4,1,4,4,1,4,0,0,6,1,1,0,4,6,0,1,1,6,0,0,1,1,1,2,0,1,0,4,1,1,1,1,1,0,1,1,0,2,1,4,1,6,4,0,4,0,1,1,1,0,1,0,4,0,0,1,1,0,0,1,0,0,4,0,0,0,4,0,0,4,0,1,4,0,0,1,0,1,0,1,0,6,0,4,4,1,4,4,0,0,0,0,0,2,0,1,2,0,1,2,0,2,2,0,1,4,1,0,1,1,1,0,1,1,1,1,1,1,2,1,1,1,1,1,0,1,4,1,4,4,1,1,1,4,1,0,1,0,0,2,0,1,0,1,1,1,1,1,1,0,4,0,1,1,6,6,1,0,2,4,0,1,0,4,0,2,1,6,4,0,0,1,6,0,0,0,0,1,1,0,0,6,0,0,1,0,1,0,0,0,3,4,0,0,0,0,0,4,0,1,0,0,0,6,0,0,0,0,0,4,2,0,1,0,2,0,0,2,0,4,1,0,4,1,1,0,2,4,1,0,0,4,1,1,0,1,0,0,0,1,0,1,2,0,1,6,0,2,4,1,0,6,3,0,0,6,0,1,0,2,6,1,1,0,4,0,1,1,0,0,2,0,0,0,0,0,4,0,0,6,0,4,4,0,1,4,1,2,2,0,0,4,1,0,0,1,0,6,6,4,0,2,0,0,0,1,0,0,0,0,0,1,4,4,1,0,0,0,1,1,4,1,0,0,0,1,1,1,4,0,0,0,1,4,0,0,1,6,0,1,0,4,1,1,6,1,4,6,6,1,0,1,1,0,1,0,1,1,1,6,4,1,1,6,0,1,1,2,0,0,1,1,1,0,1,2,0,0,1,0,1,1,0,1,4,4,4,6,0,0,0,1,1,0,1,1,4,6,1,0,1,1,0,1,1,1,1,1,4,6,6,4,0,0,4,0,4,0,0,0,0,1,0,1,1,0,0,0,1,1,1,1,0,0,1,1,4,4,4,0,1,0,0,1,1,1,0,4,6,1,4,0,0,1,1,1,0,1,1,4,1,1,2,1,0,0,1,1,0,1,1,1,1,0,0,4,1,0,1,4,1,2,1,0,4,6,1,1,1,1,4,0,4,0,1,4,0,2,6,6,1,1,0,0,1,1,6,0,0,0,0,2,0,1,0,2,4,1,0,0,4,4,1,4,6,2,4,4,0,0,6,1,0,1,4,0,4,4,4,0,1,4,0,4,6,1,0,0,1,0,1,1,0,4,0,4,6,0,4,0,6,0,1,0,0,0,0,2,1,6,0,1,1,6,0,0,1,0,0,0,0,1,1,0,3,0,0,2,0,1,0,1,0,1,1,2,1,0,0,4,0,0,1,0,0,1,4,0,1,2,6,4,2,0,1,0,1,1,1,1,1,1,2,1,1,1,2,6,0,1,1,0,0,0,1,0,1,4,1,2,0,1,0,1,0,1,0,1,0,1,1,0,2,0,0,0,0,4,0,4,1,0,0,6,1,0,0,0,0,0,0,0,1,1,0,1,4,1,0,2,1,0,2,1,1,4,4,6,1,1,4,0,0,1,0,4,0,1,0,1,1,0,0,4,1,2,2,1,0,0,1,1,6,1,1,6,1,0,0,1,1,1,0,1,4,0,1,1,0,0,1,2,1,4,1,1,1,1,0,4,1,1,1,0,1,1,1,0,1,1,0,1,1,0,4,0,1,1,1,2,6,2,0,6,4,6,0,0,1,4,1,2,1,1,2,1,1,0,6,0,6,0,1,0,1,0,1,4,0,6,1,4,0,4,0,0,0,1,0,0,2,1,0,0,6,0,0,0,0,0,1,0,0,0,0,1,0,0,4,4,0,0,1,6,0,1,0,1,4,1,1,4,1,0,1,4,6,6,6,6,4,1,1,0,6,1,6,0,1,0,4,0,1,0,1,1,0,1,2,0,0,2,6,0,0,0,4,1,0,1,1,1,0,6,1,0,0,1,0,1,0,1,1,0,1,1,0,6,6,1,0,1,2,0,1,1,4,2,0,0,0,0,6,2,0,0,0,0,0,0,1,1,4,0,0,0,0,1,1,0,0,0,4,0,2,0,1,4,0,0,0,0,0,1,0,1,0,0,4,1,1,1,0,6,0,0,1,0,0,0,1,1,4,1,4,0,0,0,1,0,6,0,1,0,1,1,1,1,1,0,6,1,1,4,1,1,2,1,2,6,1,1,6,6,0,0,6,0,4,2,0,0,1,1,0,4,6,0,1,4,1,1,6,0,1,0,2,0,6,6,4,0,0,1,6,4,2,6,0,1,0,0,0,1,6,0,6,1,0,0,6,0,0,6,2,1,0,1,0,0,0,0,0,3,1,3,3,0,1,1,1,0,0,0,0,4,0,1,1,0,0,1,0,1,4,1,2,0,6,6,1,0,4,1,2,1,0,0,4,1,1,1,4,1,4,1,2,0,0,4,4,1,1,4,1,2,1,2,1,4,6,0,0,0,0,4,1,1,1,1,0,0,4,1,0,1,0,4,2,1,1,2,2,1,1,1,0,1,6,0,6,0,0,0,0,0,6,6,4,0,2,2,0,1,0,0,0,0,1,0,1,1,1,0,1,0,1,4,2,0,1,0,4,0,4,4,0,0,0,0,1,0,0,0,0,4,0,1,1,1,0,0,0,1,4,1,0,0,0,4,1,1,0,4,1,0,1,0,0,1,4,0,0,4,1,0,0,1,1,1,0,4,4,0,1,0,0,1,1,6,1,0,1,2,0,1,1,2,0,1,1,0,1,1,0,0,0,1,1,1,1,0,0,0,4,2,1,1,1,1,0,1,0,1,1,0,4,4,0,1,1,1,0,0,0,1,1,4,1,4,0,1,2,1,1,1,1,6,0,4,0,1,0,1,2,0,1,1,1,4,0,1,0,1,2,0,0,1,0,0,0,0,0,1,0,1,0,0,0,0,1,0,1,0,1,1,1,4,6,1,0,2,1,4,4,4,0,4,1,1,1,4,2,1,0,2,2,0,1,0,2,0,4,1,1,0,2,0,2,1,0,4,1,0,0,0,0,0,1,0,0,1,0,1,1,1,0,6,6,2,1,1,6,0,1,1,1,1,1,2,2,1,1,0,1,0,6,0,4,0,1,0,0,2,1,2,1,0,4,0,6,1,2,1,1,1,1,4,1,4,6,1,4,4,0,0,0,0,0,0,0,6,4,4,0,1,0,0,0,1,1,0,1,4,4,0,1,0,0,0,1,1,0,0,0,2,0,0,0,0,1,4,1,0,0,1,0,1,4,1,0,0,0,1,1,0,4,0,0,0,0,2,1,0,0,0,1,0,0,2,0,1,1,1,1,0,6,1,0,1,1,0,1,0,1,1,0,0,0,0,1,0,1,1,0,1,6,6,1,2,0,0,1,1,1,2,0,0,1,1,6,0,4,6,1,1,1,6,6,1,1,1,6,1,6,0,2,0,0,0,0,0,0,4,0,1,0,0,0,0,0,3,0,0,0,4,0,0,0,4,0,1,0,0,4,2,0,1,1,1,1,1,1,0,0,1,6,0,1,0,1,1,1,0,4,1,1,1,0,1,1,1,0,1,2,1,1,4,1,0,1,0,1,1,2,4,1,1,1,0,1,2,0,1,1,1,2,1,0,1,2,1,0,4,1,1,4,0,1,3,0,1,0,4,1,2,1,1,4,2,6,0,1,0,0,0,0,6,0,4,2,6,0,0,6,1,0,0,0,4,6,4,2,0,0,4,0,1,0,4,1,0,4,0,1,1,4,0,4,4,4,0,1,0,0,6,0,6,0,0,1,1,1,0,4,1,0,4,1,1,1,0,1,1,1,1,1,6,4,1,1,4,1,0,0,0,0,1,0,1,4,1,6,4,0,1,0,2,4,1,1,1,0,1,1,0,6,2,6,1,2,0,0,1,1,1,0,0,0,1,1,1,6,0,1,0,0,0,1,0,0,1,0,1,1,0,1,0,1,0,4,0,1,2,6,0,6,1,6,4,4,2,1,2,1,6,0,0,0,0,1,1,0,0,6,6,1,0,1,4,0,4,0,1,1,1,1,4,1,4,0,0,0,0,0,2,2,0,0,1,0,0,1,1,0,4,1,1,1,1,6,0,1,1,1,1,2,6,0,1,4,1,2,0,6,1,2,1,0,4,2,0,1,1,0,6,0,0,1,1,1,1,0,6,0,1,4,0,2,6,1,0,1,1,0,0,4,0,0,0,1,0,4,0,0,4,1,0,3,1,0,0,0,2,1,0,4,4,0,2,0,0,1,4,0,1,0,0,0,0,1,0,0,0,0,0,1,4,0,2,4,0,0,1,0,0,3,6,2,4,0,0,4,4,0,1,4,0,0,0,1,0,2,4,1,0,0,0,0,1,4,1,1,0,0,1,1,1,0,1,1,0,0,0,0,0,0,0,0,0,0,0,1,1,1,0,0,0,1,4,1,0,0,1,1,4,2,0,1,0,0,0,0,1,6,0,4,1,4,0,1,2,0,0,0,1,1,6,1,0,0,0,4,1,4,2,6,2,0,1,1,6,6,0,0,1,0,0,6,0,0,0,0,0,0,1,0,0,6,6,0,1,2,0,1,0,1,0,1,0,0,1,1,1,1,0,0,0,0,0,2,0,0,0,1,0,6,1,4,2,1,0,0,1,1,1,1,0,1,0,0,0,1,1,1,1,0,1,4,1,1,4,1,0,4,1,0,4,0,0,1,6,4,2,1,1,1,0,1,1,1,1,4,0,3,4,2,0,1,1,1,1,1,1,0,0,6,1,0,6,0,0,1,1,2,1,1,0,3,6,0,4,4,0,4,2,2,0,0,0,1,0,3,0,4,3,1,1,0,0,4,0,1,0,0,2,4,0,0,2,0,0,2,0,0,1,4,0,0,0,0,4,0,0,0,1,1,1,1,1,1,1,0,4,2,1,4,1,1,1,1,0,1,1,4,4,0,0,1,1,1,1,1,1,1,2,6,4,1,0,0,1,0,0,1,0,1,1,0,1,6,0,0,1,1,0,1,1,1,1,0,2,1,0,0,4,1,0,1,2,0,1,0,1,1,0,4,6,0,4,1,0,0,0,0,2,2,2,1,0,0,0,0,0,0,1,0,4,0,0,1,0,1,2,0,4,1,4,1,0,1,2,0,0,0,1,0,0,1,4,1,0,1,6,0,0,2,1,2,0,1,1,1,1,6,0,1,1,2,1,1,4,0,1,2,2,0,1,0,1,1,1,1,2,0,4,1,1,1,1,6,0,1,0,1,6,0,4,0,1,4,1,1,0,1,1,6,1,4,1,1,1,1,0,0,6,4,1,1,4,1,1,0,0,4,0,1,4,0,0,0,4,0,1,0,4,0,1,0,0,4,0,1,4,0,0,0,0,1,0,0,4,4,4,1,0,0,4,1,1,0,2,0,1,0,0,2,1,1,2,0,1,0,1,6,1,1,2,1,0,6,1,0,6,4,0,1,1,4,0,0,1,1,2,0,1,4,0,3,0,0,1,4,1,6,6,1,6,0,0,1,4,4,1,1,0,6,6,1,4,0,1,0,1,0,1,0,1,0,0,1,0,2,0,0,1,1,0,2,0,4,0,1,0,4,6,1,1,4,1,3,1,4,4,0,1,0,0,4,0,4,0,4,1,1,4,1,1,0,0,1,0,0,4,1,0,1,4,1,0,1,1,1,0,4,1,1,0,6,1,2,0,2,2,1,6,0,1,1,1,2,4,0,4,1,1,1,1,0,4,0,0,2,0,1,1,4,1,1,0,0,0,4,1,1,1,4,1,1,1,2,1,4,1,1,0,2,2,1,0,0,1,0,1,0,1,0,4,0,0,4,4,0,1,2,0,1,2,1,1,0,1,1,4,4,1,0,1,0,0,1,4,1,6,6,3,0,0,1,0,0,0,1,4,0,4,0,1,4,6,0,0,0,0,1,0,4,4,4,1,0,0,0,4,0,1,0,0,2,0,4,1,0,1,1,0,2,1,0,6,4,0,0,0,1,0,1,0,0,1,0,0,0,1,0,1,1,0,0,0,0,2,4,0,0,0,0,0,0,1,1,1,1,2,1,0,0,1,1,1,0,1,1,1,1,1,4,1,4,6,0,0,0,6,4,4,1,1,2,1,0,1,0,2,1,1,1,1,4,0,0,0,1,1,1,1,0,1,1,0,1,1,0,1,0,1,0,0,1,1,1,0,1,4,0,1,0,1,1,1,4,2,2,1,4,4,4,0,6,1,1,0,1,0,0,0,0,0,0,1,1,0,1,6,1,0,1,2,1,0,1,2,4,0,1,1,1,1,0,0,1,1,1,0,0,0,1,0,1,0,4,1,1,0,0,0,0,2,2,6,1,1,2,1,1,1,0,2,4,0,0,1,1,0,0,1,4,4,0,1,1,1,0,0,1,0,1,1,0,2,1,1,1,6,2,2,2,0,0,4,6,0,0,0,1,0,0,0,0,1,1,0,1,0,0,0,1,0,1,4,0,1,0,1,1,0,2,4,1,2,0,0,1,0,4,1,6,1,1,0,0,1,1,6,0,0,0,0,1,0,0,2,1,0,0,1,1,0,1,1,1,0,0,0,0,1,0,1,0,0,1,1,0,1,1,0,1,4,6,0,1,4,1,1,1,0,2,1,1,1,1,6,0,1,1,4,1,6,4,1,1,1,4,1,6,1,1,4,0,4,1,0,4,0,0,0,2,6,0,2,6,6,0,1,1,1,0,0,1,1,2,0,1,1,0,4,0,0,0,1,0,0,1,0,0,1,0,4,0,0,4,2,0,4,0,4,1,0,0,1,0,1,4,0,0,1,1,6,1,0,0,0,6,1,0,0,1,0,6,1,0,0,4,2,1,0,6,1,1,1,0,0,0,6,1,4,1,4,2,0,0,1,2,1,6,4,1,0,0,6,4,1,6,4,6,6,2,4,6,0,0,1,0,1,0,1,1,2,0,0,0,0,0,1,6,2,0,1,0,0,0,2,1,4,1,0,2,0,2,0,1,1,1,1,1,0,1,0,1,2,6,2,0,1,4,1,1,6,1,2,2,1,0,6,0,0,1,0,1,0,0,1,0,1,1,0,1,0,6,0,0,0,0,1,0,0,0,0,0,0,0,4,4,0,1,1,1,1,0,0,1,1,1,1,1,0,1,0,1,0,6,1,0,1,1,1,1,1,1,4,1,0,4,2,1,6,6,1,0,6,6,2,1,6,1,0,1,0,1,0,0,0,1,0,4,4,4,2,4,1,4,1,0,0,0,0,1,4,0,0,4,0,0,1,0,0,4,1,1,1,1,1,4,0,1,1,0,1,2,1,1,1,0,0,0,1,0,0,0,0,0,0,0,1,0,0,0,1,0,1,0,0,1,1,0,0,4,1,1,6,1,0,1,0,0,0,1,1,1,4,6,4,0,4,1,4,4,2,1,4,1,4,1,1,0,6,0,0,1,1,1,1,0,4,6,2,0,1,1,1,1,0,4,4,0,6,0,1,0,1,0,1,4,1,0,0,0,0,0,1,0,1,2,4,0,0,0,0,0,1,0,4,6,0,0,0,0,1,1,1,1,1,1,0,1,0,0,1,4,1,0,1,1,1,0,1,1,2,1,0,4,1,4,4,1,6,2,2,1,2,1,0,6,1,1,0,1,0,0,1,1,1,2,2,4,1,1,4,0,6,0,1,1,1,1,1,0,1,1,4,0,0,4,6,1,1,1,4,2,2,0,1,1,1,0,2,4,0,1,1,2,4,0,1,6,1,0,1,0,0,0,1,4,1,1,0,1,1,1,0,1,0,1,6,0,1,4,0,0,3,0,0,1,0,4,1,0,0,0,1,0,0,0,1,1,0,2,1,4,1,1,1,4,4,1,1,4,1,6,2,1,0,1,1,1,1,1,1,0,0,0,0,1,0,0,0,1,2,4,0,1,1,0,0,1,1,0,0,0,1,1,1,6,1,4,1,3,1,1,0,4,1,1,0,2,1,4,1,1,1,0,1,4,6,0,0,0,0,0,0,1,0,0,1,1,6,0,0,1,1,0,1,0,4,0,0,0,2,1,0,6,0,0,3,0,0,0,0,0,6,0,4,1,1,2,0,0,0,6,0,4,0,0,4,4,6,0,0,6,4,0,0,4,6,1,2,1,0,0,0,0,1,2,0,1,1,0,0,0,0,1,4,1,0,4,1,6,0,1,0,4,1,1,0,0,0,0,6,0,1,0,1,1,0,0,6,0,1,1,0,0,1,0,6,1,0,0,2,1,1,0,1,0,0,1,2,0,0,1,4,0,1,0,0,0,1,0,0,0,1,0,2,1,1,0,4,0,6,0,0,0,2,0,1,0,1,0,2,1,1,1,0,0,0,4,1,0,0,4,0,0,0,0,0,1,0,4,0,0,0,1,0,1,0,0,0,0,0,1,0,4,0,0,4,0,0,1,4,0,0,0,0,1,0,1,1,0,1,1,0,0,1,0,1,6,0,4,1,1,1,4,1,0,1,0,1,1,1,4,0,1,1,0,0,1,1,0,2,0,6,6,1,0,4,1,1,2,0,0,1,6,0,2,0,0,6,0,4,0,0,1,2,0,1,2,1,1,0,1,1,0,0,4,1,0,1,0,4,1,0,0,2,1,0,0,1,1,0,4,1,1,0,1,1,1,6,1,2,0,0,1,0,1,1,1,0,0,0,4,0,1,2,0,0,0,0,1,1,1,0,1,0,2,1,1,4,0,0,2,1,1,1,1,1,4,1,2,4,1,2,4,1,4,0,2,1,0,2,4,4,1,1,1,0,6,1,0,4,0,0,0,1,1,6,2,6,2,1,1,2,1,0,1,0,1,4,1,4,0,1,1,1,0,0,2,6,1,0,1,1,0,0,4,1,0,2,0,1,0,0,1,1,0,0,1,0,4,0,4,1,0,4,0,2,1,4,0,1,0,0,0,0,0,1,4,0,0,4,0,1,0,0,4,4,1,4,1,1,1,1,1,1,1,0,4,0,1,0,6,0,0,2,0,0,2,2,1,1,0,4,0,4,0,0,1,4,0,1,1,1,1,1,4,1,6,0,1,1,0,0,4,4,0,0,0,1,0,0,0,2,0,1,1,1,0,1,4,1,0,0,1,1,0,1,0,1,0,0,1,0,1,1,6,0,1,0,0,4,0,0,0,1,0,6,0,0,1,0,0,1,0,0,4,0,4,6,6,4,6,0,2,1,0,1,0,0,0,0,0,1,0,1,0,4,0,1,1,1,0,1,4,4,1,0,1,1,0,0,0,4,1,2,0,4,1,6,0,1,6,1,0,6,4,1,0,1,0,6,0,0,1,1,4,0,1,1,0,0,1,4,0,1,1,0,1,2,4,1,0,1,0,1,1,0,1,0,6,6,4,4,0,0,1,6,0,4,1,0,1,1,0,0,0,0,1,1,2,0,1,4,0,0,0,4,0,0,0,2,6,0,2,0,0,4,1,1,2,0,0,1,0,6,4,4,1,0,0,1,1,1,0,1,1,4,0,0,1,0,0,1,1,1,1,1,6,0,1,2,1,1,1,4,1,2,1,6,1,1,1,6,0,4,0,0,1,2,1,2,1,2,1,1,1,6,0,1,1,0,4,1,1,0,1,0,0,0,4,1,0,6,0,0,1,0,0,0,0,0,1,0,0,1,0,0,1,0,4,0,4,0,6,1,0,0,0,0,0,0,2,0,0,4,0,0,0,4,0,0,0,0,0,0,0,1,1,0,0,0,0,0,0,1,4,1,4,1,6,1,0,4,6,6,6,0,0,0,1,3,0,0,1,1,0,0,6,0,4,0,0,1,0,0,0,1,1,1,0,1,0,0,1,1,1,4,0,1,1,0,0,2,4,0,1,0,0,0,0,0,1,0,0,0,0,0,0,0,6,0,0,1,4,0,0,0,1,0,0,1,1,0,0,0,0,0,0,0,1,0,0,0,0,1,4,4,6,0,1,0,0,4,4,1,0,0,0,0,6,0,0,0,4,0,4,0,0,1,0,4,0,0,0,0,0,1,1,0,4,4,0,0,1,2,4,1,4,1,0,4,0,0,4,1,2,0,2,0,0,0,0,0,0,0,1,1,0,1,0,0,0,1,0,0,1,0,0,0,6,2,6,1,1,1,0,2,1,1,1,4,6,6,0,6,1,6,1,1,1,1,0,0,0,0,0,1,4,2,0,6,1,6,6,4,4,0,0,2,0,0,1,0,0,6,0,4,0,1,0,0,0,0,4,0,1,6,0,0,4,4,0,4,2,4,1,1,0,4,6,4,1,1,1,4,1,1,2,0,0,1,2,0,0,4,4,0,4,0,4,0,1,1,0,1,0,0,0,4,1,1,1,0,0,4,1,0,1,4,6,0,0,1,1,1,0,1,0,1,1,0,1,1,0,1,6,0,1,4,1,6,0,2,0,0,1,1,0,4,1,4,2,1,6,2,1,0,6,4,0,0,4,0,0,1,2,4,0,0,1,0,0,1,0,0,4,1,0,0,1,0,6,4,0,2,4,0,4,4,0,0,4,0,1,4,0,4,1,2,0,0,0,1,1,1,2,1,6,1,0,0,1,4,1,6,2,4,0,0,4,1,1,1,1,1,0,0,1,1,1,1,0,2,0,2,0,0,1,0,0,1,1,4,2,2,0,1,2,1,2,0,4,1,1,1,1,6,1,0,1,0,1,4,1,1,4,0,4,1,0,0,0,0,1,6,0,6,0,0,2,0,2,1,6,0,0,1,2,4,4,6,0,0,6,0,1,1,0,2,1,0,0,4,0,0,0,0,2,1,0,0,1,0,1,0,4,1,2,0,4,4,1,0,0,1,0,1,6,0,4,0,0,0,0,1,1,0,0,0,4,6,0,1,1,0,2,6,0,1,0,0,2,1,0,4,0,0,0,1,0,0,6,0,0,0,0,0,0,0,0,6,0,2,6,1,0,0,0,0,0,0,0,1,1,0,0,0,0,1,1,1,0,0,0,1,0,0,1,4,0,0,4,0,0,4,0,6,0,0,4,0,1,0,0,4,4,1,0,0,3,0,4,0,0,0,0,0,1,0,0,0,0,0,0,2,0,0,0,0,0,1,1,0,1,0,0,4,0,0,1,0,2,1,0,4,0,6,0,1,0,0,1,0,0,0,0,1,4,0,0,0,0,0,0,1,1,0,1,0,1,1,4,1,0,1,0,1,1,6,0,6,0,1,1,1,0,0,1,0,0,0,2,1,0,0,1,0,0,1,6,0,1,0,1,1,1,0,0,1,0,0,4,0,1,1,1,4,0,0,4,6,4,0,0,0,0,0,0,0,0,1,0,0,4,0,1,1,0,0,4,0,0,4,6,4,0,0,0,6,1,1,6,1,6,1,1,4,0,0,1,0,0,0,0,1,1,0,0,0,1,2,4,2,0,6,0,1,1,0,0,1,1,0,6,1,0,0,0,6,1,1,4,2,0,6,0,1,1,4,1,2,0,1,0,0,0,0,0,4,6,2,4,0,1,4,1,4,1,0,0,0,0,6,6,1,2,0,4,1,0,1,0,0,1,4,1,6,0,4,1,0,1,6,6,0,1,4,0,0,1,1,0,0,0,2,0,0,0,0,0,1,0,0,0,0,0,0,0,0,0,0,0,0,0,0,0,1,0,0,0,0,0,4,0,0,0,0,1,0,1,0,0,0,0,4,1,1,1,0,0,1,4,1,0,1,0,1,1,0,1,0,1,1,1,1,0,1,0,1,0,1,0,2,0,1,1,1,2,1,4,2,1,1,0,1,2,6,6,1,0,1,1,2,0,0,1,0,0,2,1,6,4,4,2,4,4,1,1,1,1,6,4,1,1,4,0,6,0,0,1,0,1,1,1,4,6,1,0,1,0,1,0,0,0,1,4,1,0,1,4,0,0,1,0,0,0,1,4,0,1,4,0,0,0,3,0,0,0,0,0,0,1,0,0,1,0,0,1,0,0,0,0,0,1,0,2,0,0,0,0,1,4,0,1,1,1,1,1,0,1,4,0,4,1,1,1,1,0,1,1,0,2,4,6,1,1,4,1,6,1,1,0,1,1,6,4,4,1,0,4,0,0,6,1,0,0,1,0,2,1,0,4,1,1,4,4,1,4,1,0,1,1,6,1,1,0,4,1,0,1,1,0,0,0,0,0,0,2,1,1,0,1,0,4,0,4,0,2,4,0,1,0,4,0,1,4,4,0,0,0,0,0,0,0,0,4,0,0,0,0,1,1,0,0,0,1,0,1,1,6,0,0,2,0,1,1,4,0,2,4,0,1,1,0,0,0,1,0,2,1,1,1,0,0,1,0,1,1,1,0,1,1,1,1,1,1,0,1,0,1,0,1,0,1,6,4,1,4,6,6,1,1,0,4,4,0,2,6,0,1,0,0,4,0,1,0,4,0,4,4,1,4,0,0,0,0,1,0,0,0,0,0,0,0,0,0,0,4,1,6,0,0,1,0,1,0,0,0,1,0,2,1,0,0,1,0,0,0,2,4,4,0,2,1,2,0,0,1,1,1,0,1,0,1,2,0,0,0,0,2,2,0,6,1,0,0,1,1,2,1,1,2,0,1,2,2,0,6,2,4,0,1,4,6,6,1,6,6,1,2,6,0,1,0,1,0,1,1,1,1,1,6,1,1,6,1,4,1,1,1,2,0,1,1,0,0,1,6,4,0,1,6,0,1,6,4,0,4,0,1,0,0,1,1,4,0,0,0,0,0,4,0,1,0,1,2,1,1,1,1,2,6,0,4,1,6,1,4,0,0,4,1,4,0,1,0,0,0,1,1,4,1,1,0,1,1,0,0,2,0,1,6,1,1,0,1,6,4,1,1,0,6,1,4,0,2,6,2,0,1,2,0,0,0,1,1,6,0,0,6,1,0,0,0,0,1,0,0,1,1,1,2,6,2,0,0,0,0,0,0,6,0,1,0,0,1,1,0,0,0,2,6,0,4,6,1,0,6,2,0,0,6,0,0,4,0,0,4,0,0,6,1,0,0,1,4,0,1,0,1,1,0,6,1,2,0,0,4,0,4,0,6,0,0,1,4,0,0,0,0,4,1,1,1,0,1,0,0,1,1,1,1,4,1,2,0,0,1,1,0,1,1,4,1,2,1,1,1,2,0,1,1,1,1,1,2,0,1,0,0,4,4,1,4,1,0,1,2,1,4,4,0,0,0,1,0,1,1,1,1,0,1,1,6,1,1,4,1,0,0,1,1,2,6,4,2,4,1,0,0,1,0,6,1,4,4,1,0,0,1,0,4,4,0,1,0,0,4,0,4,1,0,3,0,6,0,0,0,0,0,0,0,1,0,0,1,6,0,1,0,0,1,0,0,1,4,1,4,4,2,1,0,0,1,0,0,1,2,0,1,0,1,0,1,4,0,1,0,0,0,1,4,4,0,4,1,1,4,1,1,0,0,0,1,1,1,0,1,2,4,1,0,0,1,2,6,2,0,1,1,1,4,6,1,4,1,2,1,1,0,0,1,4,1,0,0,6,1,6,4,1,6,1,4,0,0,0,0,0,0,0,0,0,0,0,1,4,0,0,1,6,0,0,1,0,1,0,1,6,0,4,0,0,0,0,1,0,1,1,0,0,4,0,1,1,2,0,1,0,1,0,6,0,1,0,1,1,0,1,0,1,0,2,1,0,1,0,0,1,1,1,1,0,0,1,0,0,1,1,0,0,1,0,0,1,0,0,0,2,0,1,0,0,1,1,0,1,1,1,0,4,1,1,1,0,1,1,0,1,0,4,1,1,4,0,4,0,1,1,0,1,4,6,0,1,2,4,4,1,6,0,0,0,2,4,0,2,0,0,0,0,0,0,0,1,2,4,0,0,0,0,4,0,6,0,4,1,0,4,1,4,1,2,1,0,0,0,0,0,0,0,1,4,1,1,4,0,1,6,1,1,1,1,1,1,4,1,0,0,0,0,1,1,4,1,0,1,1,2,0,1,2,1,1,0,0,1,0,2,0,1,1,1,0,0,2,1,1,1,1,1,0,2,4,1,1,1,0,6,1,1,0,0,1,0,1,1,1,1,2,4],\"y0\":\" \",\"yaxis\":\"y\",\"type\":\"box\"}],                        {\"template\":{\"data\":{\"bar\":[{\"error_x\":{\"color\":\"#2a3f5f\"},\"error_y\":{\"color\":\"#2a3f5f\"},\"marker\":{\"line\":{\"color\":\"#E5ECF6\",\"width\":0.5},\"pattern\":{\"fillmode\":\"overlay\",\"size\":10,\"solidity\":0.2}},\"type\":\"bar\"}],\"barpolar\":[{\"marker\":{\"line\":{\"color\":\"#E5ECF6\",\"width\":0.5},\"pattern\":{\"fillmode\":\"overlay\",\"size\":10,\"solidity\":0.2}},\"type\":\"barpolar\"}],\"carpet\":[{\"aaxis\":{\"endlinecolor\":\"#2a3f5f\",\"gridcolor\":\"white\",\"linecolor\":\"white\",\"minorgridcolor\":\"white\",\"startlinecolor\":\"#2a3f5f\"},\"baxis\":{\"endlinecolor\":\"#2a3f5f\",\"gridcolor\":\"white\",\"linecolor\":\"white\",\"minorgridcolor\":\"white\",\"startlinecolor\":\"#2a3f5f\"},\"type\":\"carpet\"}],\"choropleth\":[{\"colorbar\":{\"outlinewidth\":0,\"ticks\":\"\"},\"type\":\"choropleth\"}],\"contour\":[{\"colorbar\":{\"outlinewidth\":0,\"ticks\":\"\"},\"colorscale\":[[0.0,\"#0d0887\"],[0.1111111111111111,\"#46039f\"],[0.2222222222222222,\"#7201a8\"],[0.3333333333333333,\"#9c179e\"],[0.4444444444444444,\"#bd3786\"],[0.5555555555555556,\"#d8576b\"],[0.6666666666666666,\"#ed7953\"],[0.7777777777777778,\"#fb9f3a\"],[0.8888888888888888,\"#fdca26\"],[1.0,\"#f0f921\"]],\"type\":\"contour\"}],\"contourcarpet\":[{\"colorbar\":{\"outlinewidth\":0,\"ticks\":\"\"},\"type\":\"contourcarpet\"}],\"heatmap\":[{\"colorbar\":{\"outlinewidth\":0,\"ticks\":\"\"},\"colorscale\":[[0.0,\"#0d0887\"],[0.1111111111111111,\"#46039f\"],[0.2222222222222222,\"#7201a8\"],[0.3333333333333333,\"#9c179e\"],[0.4444444444444444,\"#bd3786\"],[0.5555555555555556,\"#d8576b\"],[0.6666666666666666,\"#ed7953\"],[0.7777777777777778,\"#fb9f3a\"],[0.8888888888888888,\"#fdca26\"],[1.0,\"#f0f921\"]],\"type\":\"heatmap\"}],\"heatmapgl\":[{\"colorbar\":{\"outlinewidth\":0,\"ticks\":\"\"},\"colorscale\":[[0.0,\"#0d0887\"],[0.1111111111111111,\"#46039f\"],[0.2222222222222222,\"#7201a8\"],[0.3333333333333333,\"#9c179e\"],[0.4444444444444444,\"#bd3786\"],[0.5555555555555556,\"#d8576b\"],[0.6666666666666666,\"#ed7953\"],[0.7777777777777778,\"#fb9f3a\"],[0.8888888888888888,\"#fdca26\"],[1.0,\"#f0f921\"]],\"type\":\"heatmapgl\"}],\"histogram\":[{\"marker\":{\"pattern\":{\"fillmode\":\"overlay\",\"size\":10,\"solidity\":0.2}},\"type\":\"histogram\"}],\"histogram2d\":[{\"colorbar\":{\"outlinewidth\":0,\"ticks\":\"\"},\"colorscale\":[[0.0,\"#0d0887\"],[0.1111111111111111,\"#46039f\"],[0.2222222222222222,\"#7201a8\"],[0.3333333333333333,\"#9c179e\"],[0.4444444444444444,\"#bd3786\"],[0.5555555555555556,\"#d8576b\"],[0.6666666666666666,\"#ed7953\"],[0.7777777777777778,\"#fb9f3a\"],[0.8888888888888888,\"#fdca26\"],[1.0,\"#f0f921\"]],\"type\":\"histogram2d\"}],\"histogram2dcontour\":[{\"colorbar\":{\"outlinewidth\":0,\"ticks\":\"\"},\"colorscale\":[[0.0,\"#0d0887\"],[0.1111111111111111,\"#46039f\"],[0.2222222222222222,\"#7201a8\"],[0.3333333333333333,\"#9c179e\"],[0.4444444444444444,\"#bd3786\"],[0.5555555555555556,\"#d8576b\"],[0.6666666666666666,\"#ed7953\"],[0.7777777777777778,\"#fb9f3a\"],[0.8888888888888888,\"#fdca26\"],[1.0,\"#f0f921\"]],\"type\":\"histogram2dcontour\"}],\"mesh3d\":[{\"colorbar\":{\"outlinewidth\":0,\"ticks\":\"\"},\"type\":\"mesh3d\"}],\"parcoords\":[{\"line\":{\"colorbar\":{\"outlinewidth\":0,\"ticks\":\"\"}},\"type\":\"parcoords\"}],\"pie\":[{\"automargin\":true,\"type\":\"pie\"}],\"scatter\":[{\"marker\":{\"colorbar\":{\"outlinewidth\":0,\"ticks\":\"\"}},\"type\":\"scatter\"}],\"scatter3d\":[{\"line\":{\"colorbar\":{\"outlinewidth\":0,\"ticks\":\"\"}},\"marker\":{\"colorbar\":{\"outlinewidth\":0,\"ticks\":\"\"}},\"type\":\"scatter3d\"}],\"scattercarpet\":[{\"marker\":{\"colorbar\":{\"outlinewidth\":0,\"ticks\":\"\"}},\"type\":\"scattercarpet\"}],\"scattergeo\":[{\"marker\":{\"colorbar\":{\"outlinewidth\":0,\"ticks\":\"\"}},\"type\":\"scattergeo\"}],\"scattergl\":[{\"marker\":{\"colorbar\":{\"outlinewidth\":0,\"ticks\":\"\"}},\"type\":\"scattergl\"}],\"scattermapbox\":[{\"marker\":{\"colorbar\":{\"outlinewidth\":0,\"ticks\":\"\"}},\"type\":\"scattermapbox\"}],\"scatterpolar\":[{\"marker\":{\"colorbar\":{\"outlinewidth\":0,\"ticks\":\"\"}},\"type\":\"scatterpolar\"}],\"scatterpolargl\":[{\"marker\":{\"colorbar\":{\"outlinewidth\":0,\"ticks\":\"\"}},\"type\":\"scatterpolargl\"}],\"scatterternary\":[{\"marker\":{\"colorbar\":{\"outlinewidth\":0,\"ticks\":\"\"}},\"type\":\"scatterternary\"}],\"surface\":[{\"colorbar\":{\"outlinewidth\":0,\"ticks\":\"\"},\"colorscale\":[[0.0,\"#0d0887\"],[0.1111111111111111,\"#46039f\"],[0.2222222222222222,\"#7201a8\"],[0.3333333333333333,\"#9c179e\"],[0.4444444444444444,\"#bd3786\"],[0.5555555555555556,\"#d8576b\"],[0.6666666666666666,\"#ed7953\"],[0.7777777777777778,\"#fb9f3a\"],[0.8888888888888888,\"#fdca26\"],[1.0,\"#f0f921\"]],\"type\":\"surface\"}],\"table\":[{\"cells\":{\"fill\":{\"color\":\"#EBF0F8\"},\"line\":{\"color\":\"white\"}},\"header\":{\"fill\":{\"color\":\"#C8D4E3\"},\"line\":{\"color\":\"white\"}},\"type\":\"table\"}]},\"layout\":{\"annotationdefaults\":{\"arrowcolor\":\"#2a3f5f\",\"arrowhead\":0,\"arrowwidth\":1},\"autotypenumbers\":\"strict\",\"coloraxis\":{\"colorbar\":{\"outlinewidth\":0,\"ticks\":\"\"}},\"colorscale\":{\"diverging\":[[0,\"#8e0152\"],[0.1,\"#c51b7d\"],[0.2,\"#de77ae\"],[0.3,\"#f1b6da\"],[0.4,\"#fde0ef\"],[0.5,\"#f7f7f7\"],[0.6,\"#e6f5d0\"],[0.7,\"#b8e186\"],[0.8,\"#7fbc41\"],[0.9,\"#4d9221\"],[1,\"#276419\"]],\"sequential\":[[0.0,\"#0d0887\"],[0.1111111111111111,\"#46039f\"],[0.2222222222222222,\"#7201a8\"],[0.3333333333333333,\"#9c179e\"],[0.4444444444444444,\"#bd3786\"],[0.5555555555555556,\"#d8576b\"],[0.6666666666666666,\"#ed7953\"],[0.7777777777777778,\"#fb9f3a\"],[0.8888888888888888,\"#fdca26\"],[1.0,\"#f0f921\"]],\"sequentialminus\":[[0.0,\"#0d0887\"],[0.1111111111111111,\"#46039f\"],[0.2222222222222222,\"#7201a8\"],[0.3333333333333333,\"#9c179e\"],[0.4444444444444444,\"#bd3786\"],[0.5555555555555556,\"#d8576b\"],[0.6666666666666666,\"#ed7953\"],[0.7777777777777778,\"#fb9f3a\"],[0.8888888888888888,\"#fdca26\"],[1.0,\"#f0f921\"]]},\"colorway\":[\"#636efa\",\"#EF553B\",\"#00cc96\",\"#ab63fa\",\"#FFA15A\",\"#19d3f3\",\"#FF6692\",\"#B6E880\",\"#FF97FF\",\"#FECB52\"],\"font\":{\"color\":\"#2a3f5f\"},\"geo\":{\"bgcolor\":\"white\",\"lakecolor\":\"white\",\"landcolor\":\"#E5ECF6\",\"showlakes\":true,\"showland\":true,\"subunitcolor\":\"white\"},\"hoverlabel\":{\"align\":\"left\"},\"hovermode\":\"closest\",\"mapbox\":{\"style\":\"light\"},\"paper_bgcolor\":\"white\",\"plot_bgcolor\":\"#E5ECF6\",\"polar\":{\"angularaxis\":{\"gridcolor\":\"white\",\"linecolor\":\"white\",\"ticks\":\"\"},\"bgcolor\":\"#E5ECF6\",\"radialaxis\":{\"gridcolor\":\"white\",\"linecolor\":\"white\",\"ticks\":\"\"}},\"scene\":{\"xaxis\":{\"backgroundcolor\":\"#E5ECF6\",\"gridcolor\":\"white\",\"gridwidth\":2,\"linecolor\":\"white\",\"showbackground\":true,\"ticks\":\"\",\"zerolinecolor\":\"white\"},\"yaxis\":{\"backgroundcolor\":\"#E5ECF6\",\"gridcolor\":\"white\",\"gridwidth\":2,\"linecolor\":\"white\",\"showbackground\":true,\"ticks\":\"\",\"zerolinecolor\":\"white\"},\"zaxis\":{\"backgroundcolor\":\"#E5ECF6\",\"gridcolor\":\"white\",\"gridwidth\":2,\"linecolor\":\"white\",\"showbackground\":true,\"ticks\":\"\",\"zerolinecolor\":\"white\"}},\"shapedefaults\":{\"line\":{\"color\":\"#2a3f5f\"}},\"ternary\":{\"aaxis\":{\"gridcolor\":\"white\",\"linecolor\":\"white\",\"ticks\":\"\"},\"baxis\":{\"gridcolor\":\"white\",\"linecolor\":\"white\",\"ticks\":\"\"},\"bgcolor\":\"#E5ECF6\",\"caxis\":{\"gridcolor\":\"white\",\"linecolor\":\"white\",\"ticks\":\"\"}},\"title\":{\"x\":0.05},\"xaxis\":{\"automargin\":true,\"gridcolor\":\"white\",\"linecolor\":\"white\",\"ticks\":\"\",\"title\":{\"standoff\":15},\"zerolinecolor\":\"white\",\"zerolinewidth\":2},\"yaxis\":{\"automargin\":true,\"gridcolor\":\"white\",\"linecolor\":\"white\",\"ticks\":\"\",\"title\":{\"standoff\":15},\"zerolinecolor\":\"white\",\"zerolinewidth\":2}}},\"xaxis\":{\"anchor\":\"y\",\"domain\":[0.0,1.0]},\"yaxis\":{\"anchor\":\"x\",\"domain\":[0.0,1.0],\"title\":{\"text\":\"batsman_run\"}},\"legend\":{\"tracegroupgap\":0},\"margin\":{\"t\":60},\"boxmode\":\"group\"},                        {\"responsive\": true}                    ).then(function(){\n",
              "                            \n",
              "var gd = document.getElementById('162db84d-caa6-45d5-9135-5508e293325a');\n",
              "var x = new MutationObserver(function (mutations, observer) {{\n",
              "        var display = window.getComputedStyle(gd).display;\n",
              "        if (!display || display === 'none') {{\n",
              "            console.log([gd, 'removed!']);\n",
              "            Plotly.purge(gd);\n",
              "            observer.disconnect();\n",
              "        }}\n",
              "}});\n",
              "\n",
              "// Listen for the removal of the full notebook cells\n",
              "var notebookContainer = gd.closest('#notebook-container');\n",
              "if (notebookContainer) {{\n",
              "    x.observe(notebookContainer, {childList: true});\n",
              "}}\n",
              "\n",
              "// Listen for the clearing of the current output cell\n",
              "var outputEl = gd.closest('.output');\n",
              "if (outputEl) {{\n",
              "    x.observe(outputEl, {childList: true});\n",
              "}}\n",
              "\n",
              "                        })                };                            </script>        </div>\n",
              "</body>\n",
              "</html>"
            ]
          },
          "metadata": {}
        }
      ]
    },
    {
      "cell_type": "code",
      "source": [
        "hist(M_D)"
      ],
      "metadata": {
        "id": "QnFvrw-6_Ap4",
        "outputId": "192ded89-bbf9-428f-bc20-ae6b41860565",
        "colab": {
          "base_uri": "https://localhost:8080/",
          "height": 542
        }
      },
      "execution_count": 124,
      "outputs": [
        {
          "output_type": "display_data",
          "data": {
            "text/html": [
              "<html>\n",
              "<head><meta charset=\"utf-8\" /></head>\n",
              "<body>\n",
              "    <div>            <script src=\"https://cdnjs.cloudflare.com/ajax/libs/mathjax/2.7.5/MathJax.js?config=TeX-AMS-MML_SVG\"></script><script type=\"text/javascript\">if (window.MathJax) {MathJax.Hub.Config({SVG: {font: \"STIX-Web\"}});}</script>                <script type=\"text/javascript\">window.PlotlyConfig = {MathJaxConfig: 'local'};</script>\n",
              "        <script src=\"https://cdn.plot.ly/plotly-2.8.3.min.js\"></script>                <div id=\"e932dd2a-1f9c-4758-bf68-01a008be2b35\" class=\"plotly-graph-div\" style=\"height:525px; width:100%;\"></div>            <script type=\"text/javascript\">                                    window.PLOTLYENV=window.PLOTLYENV || {};                                    if (document.getElementById(\"e932dd2a-1f9c-4758-bf68-01a008be2b35\")) {                    Plotly.newPlot(                        \"e932dd2a-1f9c-4758-bf68-01a008be2b35\",                        [{\"alignmentgroup\":\"True\",\"bingroup\":\"x\",\"hovertemplate\":\"WonBy=%{x}<br>count=%{y}<extra></extra>\",\"legendgroup\":\"\",\"marker\":{\"color\":\"#636efa\",\"pattern\":{\"shape\":\"\"}},\"name\":\"\",\"offsetgroup\":\"\",\"orientation\":\"v\",\"showlegend\":false,\"x\":[\"Wickets\",\"Wickets\",\"Runs\",\"Wickets\",\"Wickets\",\"Wickets\",\"Wickets\",\"Wickets\",\"Runs\",\"Runs\",\"Runs\",\"Runs\",\"Wickets\",\"Runs\",\"Runs\",\"Wickets\",\"Wickets\",\"Runs\",\"Runs\",\"Runs\",\"Runs\",\"Runs\",\"Wickets\",\"Runs\",\"Runs\",\"Runs\",\"Wickets\",\"Wickets\",\"Runs\",\"Runs\",\"Wickets\",\"Wickets\",\"Runs\",\"Wickets\",\"Wickets\",\"Runs\",\"Runs\",\"Runs\",\"Wickets\",\"Runs\",\"Runs\",\"Wickets\",\"Wickets\",\"Runs\",\"Runs\",\"Wickets\",\"Wickets\",\"Runs\",\"Runs\",\"Wickets\",\"Runs\",\"Runs\",\"Runs\",\"Wickets\",\"Runs\",\"Runs\",\"Wickets\",\"Wickets\",\"Wickets\",\"Wickets\",\"Wickets\",\"Wickets\",\"Runs\",\"Runs\",\"Runs\",\"Runs\",\"Wickets\",\"Wickets\",\"Wickets\",\"Runs\",\"Wickets\",\"Wickets\",\"Wickets\",\"Wickets\"],\"xaxis\":\"x\",\"yaxis\":\"y\",\"type\":\"histogram\"}],                        {\"template\":{\"data\":{\"bar\":[{\"error_x\":{\"color\":\"#2a3f5f\"},\"error_y\":{\"color\":\"#2a3f5f\"},\"marker\":{\"line\":{\"color\":\"#E5ECF6\",\"width\":0.5},\"pattern\":{\"fillmode\":\"overlay\",\"size\":10,\"solidity\":0.2}},\"type\":\"bar\"}],\"barpolar\":[{\"marker\":{\"line\":{\"color\":\"#E5ECF6\",\"width\":0.5},\"pattern\":{\"fillmode\":\"overlay\",\"size\":10,\"solidity\":0.2}},\"type\":\"barpolar\"}],\"carpet\":[{\"aaxis\":{\"endlinecolor\":\"#2a3f5f\",\"gridcolor\":\"white\",\"linecolor\":\"white\",\"minorgridcolor\":\"white\",\"startlinecolor\":\"#2a3f5f\"},\"baxis\":{\"endlinecolor\":\"#2a3f5f\",\"gridcolor\":\"white\",\"linecolor\":\"white\",\"minorgridcolor\":\"white\",\"startlinecolor\":\"#2a3f5f\"},\"type\":\"carpet\"}],\"choropleth\":[{\"colorbar\":{\"outlinewidth\":0,\"ticks\":\"\"},\"type\":\"choropleth\"}],\"contour\":[{\"colorbar\":{\"outlinewidth\":0,\"ticks\":\"\"},\"colorscale\":[[0.0,\"#0d0887\"],[0.1111111111111111,\"#46039f\"],[0.2222222222222222,\"#7201a8\"],[0.3333333333333333,\"#9c179e\"],[0.4444444444444444,\"#bd3786\"],[0.5555555555555556,\"#d8576b\"],[0.6666666666666666,\"#ed7953\"],[0.7777777777777778,\"#fb9f3a\"],[0.8888888888888888,\"#fdca26\"],[1.0,\"#f0f921\"]],\"type\":\"contour\"}],\"contourcarpet\":[{\"colorbar\":{\"outlinewidth\":0,\"ticks\":\"\"},\"type\":\"contourcarpet\"}],\"heatmap\":[{\"colorbar\":{\"outlinewidth\":0,\"ticks\":\"\"},\"colorscale\":[[0.0,\"#0d0887\"],[0.1111111111111111,\"#46039f\"],[0.2222222222222222,\"#7201a8\"],[0.3333333333333333,\"#9c179e\"],[0.4444444444444444,\"#bd3786\"],[0.5555555555555556,\"#d8576b\"],[0.6666666666666666,\"#ed7953\"],[0.7777777777777778,\"#fb9f3a\"],[0.8888888888888888,\"#fdca26\"],[1.0,\"#f0f921\"]],\"type\":\"heatmap\"}],\"heatmapgl\":[{\"colorbar\":{\"outlinewidth\":0,\"ticks\":\"\"},\"colorscale\":[[0.0,\"#0d0887\"],[0.1111111111111111,\"#46039f\"],[0.2222222222222222,\"#7201a8\"],[0.3333333333333333,\"#9c179e\"],[0.4444444444444444,\"#bd3786\"],[0.5555555555555556,\"#d8576b\"],[0.6666666666666666,\"#ed7953\"],[0.7777777777777778,\"#fb9f3a\"],[0.8888888888888888,\"#fdca26\"],[1.0,\"#f0f921\"]],\"type\":\"heatmapgl\"}],\"histogram\":[{\"marker\":{\"pattern\":{\"fillmode\":\"overlay\",\"size\":10,\"solidity\":0.2}},\"type\":\"histogram\"}],\"histogram2d\":[{\"colorbar\":{\"outlinewidth\":0,\"ticks\":\"\"},\"colorscale\":[[0.0,\"#0d0887\"],[0.1111111111111111,\"#46039f\"],[0.2222222222222222,\"#7201a8\"],[0.3333333333333333,\"#9c179e\"],[0.4444444444444444,\"#bd3786\"],[0.5555555555555556,\"#d8576b\"],[0.6666666666666666,\"#ed7953\"],[0.7777777777777778,\"#fb9f3a\"],[0.8888888888888888,\"#fdca26\"],[1.0,\"#f0f921\"]],\"type\":\"histogram2d\"}],\"histogram2dcontour\":[{\"colorbar\":{\"outlinewidth\":0,\"ticks\":\"\"},\"colorscale\":[[0.0,\"#0d0887\"],[0.1111111111111111,\"#46039f\"],[0.2222222222222222,\"#7201a8\"],[0.3333333333333333,\"#9c179e\"],[0.4444444444444444,\"#bd3786\"],[0.5555555555555556,\"#d8576b\"],[0.6666666666666666,\"#ed7953\"],[0.7777777777777778,\"#fb9f3a\"],[0.8888888888888888,\"#fdca26\"],[1.0,\"#f0f921\"]],\"type\":\"histogram2dcontour\"}],\"mesh3d\":[{\"colorbar\":{\"outlinewidth\":0,\"ticks\":\"\"},\"type\":\"mesh3d\"}],\"parcoords\":[{\"line\":{\"colorbar\":{\"outlinewidth\":0,\"ticks\":\"\"}},\"type\":\"parcoords\"}],\"pie\":[{\"automargin\":true,\"type\":\"pie\"}],\"scatter\":[{\"marker\":{\"colorbar\":{\"outlinewidth\":0,\"ticks\":\"\"}},\"type\":\"scatter\"}],\"scatter3d\":[{\"line\":{\"colorbar\":{\"outlinewidth\":0,\"ticks\":\"\"}},\"marker\":{\"colorbar\":{\"outlinewidth\":0,\"ticks\":\"\"}},\"type\":\"scatter3d\"}],\"scattercarpet\":[{\"marker\":{\"colorbar\":{\"outlinewidth\":0,\"ticks\":\"\"}},\"type\":\"scattercarpet\"}],\"scattergeo\":[{\"marker\":{\"colorbar\":{\"outlinewidth\":0,\"ticks\":\"\"}},\"type\":\"scattergeo\"}],\"scattergl\":[{\"marker\":{\"colorbar\":{\"outlinewidth\":0,\"ticks\":\"\"}},\"type\":\"scattergl\"}],\"scattermapbox\":[{\"marker\":{\"colorbar\":{\"outlinewidth\":0,\"ticks\":\"\"}},\"type\":\"scattermapbox\"}],\"scatterpolar\":[{\"marker\":{\"colorbar\":{\"outlinewidth\":0,\"ticks\":\"\"}},\"type\":\"scatterpolar\"}],\"scatterpolargl\":[{\"marker\":{\"colorbar\":{\"outlinewidth\":0,\"ticks\":\"\"}},\"type\":\"scatterpolargl\"}],\"scatterternary\":[{\"marker\":{\"colorbar\":{\"outlinewidth\":0,\"ticks\":\"\"}},\"type\":\"scatterternary\"}],\"surface\":[{\"colorbar\":{\"outlinewidth\":0,\"ticks\":\"\"},\"colorscale\":[[0.0,\"#0d0887\"],[0.1111111111111111,\"#46039f\"],[0.2222222222222222,\"#7201a8\"],[0.3333333333333333,\"#9c179e\"],[0.4444444444444444,\"#bd3786\"],[0.5555555555555556,\"#d8576b\"],[0.6666666666666666,\"#ed7953\"],[0.7777777777777778,\"#fb9f3a\"],[0.8888888888888888,\"#fdca26\"],[1.0,\"#f0f921\"]],\"type\":\"surface\"}],\"table\":[{\"cells\":{\"fill\":{\"color\":\"#EBF0F8\"},\"line\":{\"color\":\"white\"}},\"header\":{\"fill\":{\"color\":\"#C8D4E3\"},\"line\":{\"color\":\"white\"}},\"type\":\"table\"}]},\"layout\":{\"annotationdefaults\":{\"arrowcolor\":\"#2a3f5f\",\"arrowhead\":0,\"arrowwidth\":1},\"autotypenumbers\":\"strict\",\"coloraxis\":{\"colorbar\":{\"outlinewidth\":0,\"ticks\":\"\"}},\"colorscale\":{\"diverging\":[[0,\"#8e0152\"],[0.1,\"#c51b7d\"],[0.2,\"#de77ae\"],[0.3,\"#f1b6da\"],[0.4,\"#fde0ef\"],[0.5,\"#f7f7f7\"],[0.6,\"#e6f5d0\"],[0.7,\"#b8e186\"],[0.8,\"#7fbc41\"],[0.9,\"#4d9221\"],[1,\"#276419\"]],\"sequential\":[[0.0,\"#0d0887\"],[0.1111111111111111,\"#46039f\"],[0.2222222222222222,\"#7201a8\"],[0.3333333333333333,\"#9c179e\"],[0.4444444444444444,\"#bd3786\"],[0.5555555555555556,\"#d8576b\"],[0.6666666666666666,\"#ed7953\"],[0.7777777777777778,\"#fb9f3a\"],[0.8888888888888888,\"#fdca26\"],[1.0,\"#f0f921\"]],\"sequentialminus\":[[0.0,\"#0d0887\"],[0.1111111111111111,\"#46039f\"],[0.2222222222222222,\"#7201a8\"],[0.3333333333333333,\"#9c179e\"],[0.4444444444444444,\"#bd3786\"],[0.5555555555555556,\"#d8576b\"],[0.6666666666666666,\"#ed7953\"],[0.7777777777777778,\"#fb9f3a\"],[0.8888888888888888,\"#fdca26\"],[1.0,\"#f0f921\"]]},\"colorway\":[\"#636efa\",\"#EF553B\",\"#00cc96\",\"#ab63fa\",\"#FFA15A\",\"#19d3f3\",\"#FF6692\",\"#B6E880\",\"#FF97FF\",\"#FECB52\"],\"font\":{\"color\":\"#2a3f5f\"},\"geo\":{\"bgcolor\":\"white\",\"lakecolor\":\"white\",\"landcolor\":\"#E5ECF6\",\"showlakes\":true,\"showland\":true,\"subunitcolor\":\"white\"},\"hoverlabel\":{\"align\":\"left\"},\"hovermode\":\"closest\",\"mapbox\":{\"style\":\"light\"},\"paper_bgcolor\":\"white\",\"plot_bgcolor\":\"#E5ECF6\",\"polar\":{\"angularaxis\":{\"gridcolor\":\"white\",\"linecolor\":\"white\",\"ticks\":\"\"},\"bgcolor\":\"#E5ECF6\",\"radialaxis\":{\"gridcolor\":\"white\",\"linecolor\":\"white\",\"ticks\":\"\"}},\"scene\":{\"xaxis\":{\"backgroundcolor\":\"#E5ECF6\",\"gridcolor\":\"white\",\"gridwidth\":2,\"linecolor\":\"white\",\"showbackground\":true,\"ticks\":\"\",\"zerolinecolor\":\"white\"},\"yaxis\":{\"backgroundcolor\":\"#E5ECF6\",\"gridcolor\":\"white\",\"gridwidth\":2,\"linecolor\":\"white\",\"showbackground\":true,\"ticks\":\"\",\"zerolinecolor\":\"white\"},\"zaxis\":{\"backgroundcolor\":\"#E5ECF6\",\"gridcolor\":\"white\",\"gridwidth\":2,\"linecolor\":\"white\",\"showbackground\":true,\"ticks\":\"\",\"zerolinecolor\":\"white\"}},\"shapedefaults\":{\"line\":{\"color\":\"#2a3f5f\"}},\"ternary\":{\"aaxis\":{\"gridcolor\":\"white\",\"linecolor\":\"white\",\"ticks\":\"\"},\"baxis\":{\"gridcolor\":\"white\",\"linecolor\":\"white\",\"ticks\":\"\"},\"bgcolor\":\"#E5ECF6\",\"caxis\":{\"gridcolor\":\"white\",\"linecolor\":\"white\",\"ticks\":\"\"}},\"title\":{\"x\":0.05},\"xaxis\":{\"automargin\":true,\"gridcolor\":\"white\",\"linecolor\":\"white\",\"ticks\":\"\",\"title\":{\"standoff\":15},\"zerolinecolor\":\"white\",\"zerolinewidth\":2},\"yaxis\":{\"automargin\":true,\"gridcolor\":\"white\",\"linecolor\":\"white\",\"ticks\":\"\",\"title\":{\"standoff\":15},\"zerolinecolor\":\"white\",\"zerolinewidth\":2}}},\"xaxis\":{\"anchor\":\"y\",\"domain\":[0.0,1.0],\"title\":{\"text\":\"WonBy\"}},\"yaxis\":{\"anchor\":\"x\",\"domain\":[0.0,1.0],\"title\":{\"text\":\"count\"}},\"legend\":{\"tracegroupgap\":0},\"margin\":{\"t\":60},\"barmode\":\"relative\"},                        {\"responsive\": true}                    ).then(function(){\n",
              "                            \n",
              "var gd = document.getElementById('e932dd2a-1f9c-4758-bf68-01a008be2b35');\n",
              "var x = new MutationObserver(function (mutations, observer) {{\n",
              "        var display = window.getComputedStyle(gd).display;\n",
              "        if (!display || display === 'none') {{\n",
              "            console.log([gd, 'removed!']);\n",
              "            Plotly.purge(gd);\n",
              "            observer.disconnect();\n",
              "        }}\n",
              "}});\n",
              "\n",
              "// Listen for the removal of the full notebook cells\n",
              "var notebookContainer = gd.closest('#notebook-container');\n",
              "if (notebookContainer) {{\n",
              "    x.observe(notebookContainer, {childList: true});\n",
              "}}\n",
              "\n",
              "// Listen for the clearing of the current output cell\n",
              "var outputEl = gd.closest('.output');\n",
              "if (outputEl) {{\n",
              "    x.observe(outputEl, {childList: true});\n",
              "}}\n",
              "\n",
              "                        })                };                            </script>        </div>\n",
              "</body>\n",
              "</html>"
            ]
          },
          "metadata": {}
        }
      ]
    },
    {
      "cell_type": "code",
      "source": [
        "countplot(M_D)"
      ],
      "metadata": {
        "id": "Rt5zvlzw_HNB",
        "outputId": "ab458066-b659-43b8-e497-1c209fa87b86",
        "colab": {
          "base_uri": "https://localhost:8080/",
          "height": 606
        }
      },
      "execution_count": 177,
      "outputs": [
        {
          "output_type": "display_data",
          "data": {
            "text/plain": [
              "<Figure size 1440x720 with 1 Axes>"
            ],
            "image/png": "[encoded data removed]"
          },
          "metadata": {
            "needs_background": "light"
          }
        }
      ]
    },
    {
      "cell_type": "code",
      "source": [
        "barplot(B_B)"
      ],
      "metadata": {
        "id": "4-zB6JWe_MJU",
        "outputId": "5a288296-232a-4c18-e8c3-7cefa74c4cb4",
        "colab": {
          "base_uri": "https://localhost:8080/",
          "height": 280
        }
      },
      "execution_count": 186,
      "outputs": [
        {
          "output_type": "display_data",
          "data": {
            "text/plain": [
              "<Figure size 432x288 with 1 Axes>"
            ],
            "image/png": "[encoded data removed]"
          },
          "metadata": {
            "needs_background": "light"
          }
        }
      ]
    },
    {
      "cell_type": "code",
      "source": [
        "relplot(B_B)"
      ],
      "metadata": {
        "id": "UzeeMgla_lRg",
        "outputId": "9e3a9137-eab8-4c05-b521-ec37e7853e5a",
        "colab": {
          "base_uri": "https://localhost:8080/",
          "height": 369
        }
      },
      "execution_count": 127,
      "outputs": [
        {
          "output_type": "display_data",
          "data": {
            "text/plain": [
              "<Figure size 360x360 with 1 Axes>"
            ],
            "image/png": "[encoded data removed]"
          },
          "metadata": {
            "needs_background": "light"
          }
        }
      ]
    },
    {
      "cell_type": "markdown",
      "source": [
        "**5) Checking for Outliers using Boxplot**"
      ],
      "metadata": {
        "id": "c8Qh3CJeRWpA"
      }
    },
    {
      "cell_type": "code",
      "source": [
        "for column in B_B[['innings','overs','ballnumber','batsman_run','extras_run','total_run','non_boundary','isWicketDelivery']]:\n",
        "    plt.title(column)\n",
        "    sns.boxplot(data=B_B, x=column)\n",
        "    plt.show()"
      ],
      "metadata": {
        "id": "I63JTOanRgRE",
        "outputId": "9cd6905c-05de-4c29-fd4a-745e3e1c9eb7",
        "colab": {
          "base_uri": "https://localhost:8080/",
          "height": 1000
        }
      },
      "execution_count": 128,
      "outputs": [
        {
          "output_type": "display_data",
          "data": {
            "text/plain": [
              "<Figure size 432x288 with 1 Axes>"
            ],
            "image/png": "[encoded data removed]"
          },
          "metadata": {
            "needs_background": "light"
          }
        },
        {
          "output_type": "display_data",
          "data": {
            "text/plain": [
              "<Figure size 432x288 with 1 Axes>"
            ],
            "image/png": "[encoded data removed]"
          },
          "metadata": {
            "needs_background": "light"
          }
        },
        {
          "output_type": "display_data",
          "data": {
            "text/plain": [
              "<Figure size 432x288 with 1 Axes>"
            ],
            "image/png": "[encoded data removed]"
          },
          "metadata": {
            "needs_background": "light"
          }
        },
        {
          "output_type": "display_data",
          "data": {
            "text/plain": [
              "<Figure size 432x288 with 1 Axes>"
            ],
            "image/png": "[encoded data removed]"
          },
          "metadata": {
            "needs_background": "light"
          }
        },
        {
          "output_type": "display_data",
          "data": {
            "text/plain": [
              "<Figure size 432x288 with 1 Axes>"
            ],
            "image/png": "[encoded data removed]"
          },
          "metadata": {
            "needs_background": "light"
          }
        },
        {
          "output_type": "display_data",
          "data": {
            "text/plain": [
              "<Figure size 432x288 with 1 Axes>"
            ],
            "image/png": "[encoded data removed]"
          },
          "metadata": {
            "needs_background": "light"
          }
        },
        {
          "output_type": "display_data",
          "data": {
            "text/plain": [
              "<Figure size 432x288 with 1 Axes>"
            ],
            "image/png": "[encoded data removed]"
          },
          "metadata": {
            "needs_background": "light"
          }
        },
        {
          "output_type": "display_data",
          "data": {
            "text/plain": [
              "<Figure size 432x288 with 1 Axes>"
            ],
            "image/png": "[encoded data removed]"
          },
          "metadata": {
            "needs_background": "light"
          }
        }
      ]
    },
    {
      "cell_type": "code",
      "source": [
        "for column2 in M_D[['ID','Season','Margin']]:\n",
        "    plt.title(column2)\n",
        "    sns.boxplot(data=M_D, x=column2)\n",
        "    plt.show()"
      ],
      "metadata": {
        "id": "bezWn47zgULG",
        "colab": {
          "base_uri": "https://localhost:8080/",
          "height": 851
        },
        "outputId": "6f692142-7ad7-4d9d-82a3-3cc42745e014"
      },
      "execution_count": 129,
      "outputs": [
        {
          "output_type": "display_data",
          "data": {
            "text/plain": [
              "<Figure size 432x288 with 1 Axes>"
            ],
            "image/png": "[encoded data removed]"
          },
          "metadata": {
            "needs_background": "light"
          }
        },
        {
          "output_type": "display_data",
          "data": {
            "text/plain": [
              "<Figure size 432x288 with 1 Axes>"
            ],
            "image/png": "[encoded data removed]"
          },
          "metadata": {
            "needs_background": "light"
          }
        },
        {
          "output_type": "display_data",
          "data": {
            "text/plain": [
              "<Figure size 432x288 with 1 Axes>"
            ],
            "image/png": "[encoded data removed]"
          },
          "metadata": {
            "needs_background": "light"
          }
        }
      ]
    },
    {
      "cell_type": "markdown",
      "source": [
        "**Team won by hightes Margin**"
      ],
      "metadata": {
        "id": "wumLErPhdD9X"
      }
    },
    {
      "cell_type": "code",
      "source": [
        "M_D.iloc[M_D['Margin'].idxmax()]"
      ],
      "metadata": {
        "id": "gaU5Rgd3fcX7",
        "outputId": "9725f094-9470-487c-e1a0-b851f1760ca3",
        "colab": {
          "base_uri": "https://localhost:8080/"
        }
      },
      "execution_count": 130,
      "outputs": [
        {
          "output_type": "execute_result",
          "data": {
            "text/plain": [
              "ID                                                           1304101\n",
              "City                                                     Navi Mumbai\n",
              "Date                                                      2022-05-08\n",
              "Season                                                          2022\n",
              "MatchNumber                                                       55\n",
              "Team1                                            Chennai Super Kings\n",
              "Team2                                                 Delhi Capitals\n",
              "Venue                             Dr DY Patil Sports Academy, Mumbai\n",
              "TossWinner                                            Delhi Capitals\n",
              "TossDecision                                                   field\n",
              "SuperOver                                                          N\n",
              "WinningTeam                                      Chennai Super Kings\n",
              "WonBy                                                           Runs\n",
              "Margin                                                            91\n",
              "Player_of_Match                                            DP Conway\n",
              "Team1Players       ['RD Gaikwad', 'DP Conway', 'S Dube', 'AT Rayu...\n",
              "Team2Players       ['DA Warner', 'KS Bharat', 'MR Marsh', 'RR Pan...\n",
              "Umpire1                                                  Nitin Menon\n",
              "Umpire2                                                     R Pandit\n",
              "Name: 19, dtype: object"
            ]
          },
          "metadata": {},
          "execution_count": 130
        }
      ]
    },
    {
      "cell_type": "code",
      "source": [
        "M_D.iloc[M_D['Margin'].idxmin()]"
      ],
      "metadata": {
        "id": "vt5-BZT8xaih",
        "outputId": "b95925d5-badc-48bb-f59a-a4d9503b3a09",
        "colab": {
          "base_uri": "https://localhost:8080/"
        }
      },
      "execution_count": 131,
      "outputs": [
        {
          "output_type": "execute_result",
          "data": {
            "text/plain": [
              "ID                                                           1304112\n",
              "City                                                     Navi Mumbai\n",
              "Date                                                      2022-05-18\n",
              "Season                                                          2022\n",
              "MatchNumber                                                       66\n",
              "Team1                                           Lucknow Super Giants\n",
              "Team2                                          Kolkata Knight Riders\n",
              "Venue                             Dr DY Patil Sports Academy, Mumbai\n",
              "TossWinner                                      Lucknow Super Giants\n",
              "TossDecision                                                     bat\n",
              "SuperOver                                                          N\n",
              "WinningTeam                                     Lucknow Super Giants\n",
              "WonBy                                                           Runs\n",
              "Margin                                                             2\n",
              "Player_of_Match                                            Q de Kock\n",
              "Team1Players       ['Q de Kock', 'KL Rahul', 'E Lewis', 'DJ Hooda...\n",
              "Team2Players       ['VR Iyer', 'A Tomar', 'N Rana', 'SS Iyer', 'S...\n",
              "Umpire1                                                     R Pandit\n",
              "Umpire2                                                     YC Barde\n",
              "Name: 8, dtype: object"
            ]
          },
          "metadata": {},
          "execution_count": 131
        }
      ]
    },
    {
      "cell_type": "code",
      "source": [
        "plt.figure(figsize=(35,20))\n",
        "sns.countplot(x ='WinningTeam', data= M_D, hue= 'Margin', palette= 'magma')\n"
      ],
      "metadata": {
        "id": "Vv4-nhk2vbdI",
        "outputId": "09e7c7be-10c7-49e8-a1b8-d1857961b493",
        "colab": {
          "base_uri": "https://localhost:8080/",
          "height": 953
        }
      },
      "execution_count": 187,
      "outputs": [
        {
          "output_type": "execute_result",
          "data": {
            "text/plain": [
              "<matplotlib.axes._subplots.AxesSubplot at 0x7f592ab30790>"
            ]
          },
          "metadata": {},
          "execution_count": 187
        },
        {
          "output_type": "display_data",
          "data": {
            "text/plain": [
              "<Figure size 2520x1440 with 1 Axes>"
            ],
            "image/png": "[encoded data removed]"
          },
          "metadata": {
            "needs_background": "light"
          }
        }
      ]
    },
    {
      "cell_type": "markdown",
      "source": [],
      "metadata": {
        "id": "19Iqn1g7hGI3"
      }
    },
    {
      "cell_type": "code",
      "source": [
        "sns.pairplot(B_B, palette=\"twilight\", corner=True);"
      ],
      "metadata": {
        "id": "ent_B5rcrlNM",
        "outputId": "00d40387-e931-4cb1-d9e4-27f85e9e1f42",
        "colab": {
          "base_uri": "https://localhost:8080/",
          "height": 1000
        }
      },
      "execution_count": 133,
      "outputs": [
        {
          "output_type": "display_data",
          "data": {
            "text/plain": [
              "<Figure size 1620x1620 with 54 Axes>"
            ],
            "image/png": "[encoded data removed]"
          },
          "metadata": {
            "needs_background": "light"
          }
        }
      ]
    },
    {
      "cell_type": "code",
      "source": [
        "sns.pairplot(M_D)"
      ],
      "metadata": {
        "id": "FPGa4tIAhHIJ",
        "outputId": "f002b385-1725-46ee-ddb4-5cab3b07fc38",
        "colab": {
          "base_uri": "https://localhost:8080/",
          "height": 568
        }
      },
      "execution_count": 134,
      "outputs": [
        {
          "output_type": "execute_result",
          "data": {
            "text/plain": [
              "<seaborn.axisgrid.PairGrid at 0x7f592674a0d0>"
            ]
          },
          "metadata": {},
          "execution_count": 134
        },
        {
          "output_type": "display_data",
          "data": {
            "text/plain": [
              "<Figure size 540x540 with 12 Axes>"
            ],
            "image/png": "[encoded data removed]"
          },
          "metadata": {
            "needs_background": "light"
          }
        }
      ]
    },
    {
      "cell_type": "code",
      "source": [
        "plt.figure(figsize=(20,7))\n",
        "plt.suptitle('Histograms of WinningTeam ', fontsize = 20)\n",
        "ax1 = sns.histplot(x = M_D['WinningTeam'],color= 'teal', bins= 15, kde= True, palette= 'crest')\n",
        "ax1.set(xlabel= 'WinningTeam', ylabel= 'Frequency')\n",
        "plt.tight_layout()\n",
        "plt.show()"
      ],
      "metadata": {
        "id": "QwkK8l6Utdte",
        "outputId": "3ff9607a-6dd6-4243-9844-039a80b39500",
        "colab": {
          "base_uri": "https://localhost:8080/",
          "height": 514
        }
      },
      "execution_count": 135,
      "outputs": [
        {
          "output_type": "display_data",
          "data": {
            "text/plain": [
              "<Figure size 1440x504 with 1 Axes>"
            ],
            "image/png": "[encoded data removed]"
          },
          "metadata": {
            "needs_background": "light"
          }
        }
      ]
    },
    {
      "cell_type": "markdown",
      "source": [
        "**7) Heatmap for correlation **"
      ],
      "metadata": {
        "id": "pLg-Zmwhf5pA"
      }
    },
    {
      "cell_type": "code",
      "source": [
        "def scatterprint(*args):\n",
        "    try: \n",
        "        plt.figure(figsize=(6,6))\n",
        "        sns.scatterplot(data = args[0], x=args[1], y=args[2], hue=\"liking\")\n",
        "    except Exception as e:\n",
        "        print(\"ERROR: \", str(e))\n",
        "        pass"
      ],
      "metadata": {
        "id": "5HhsbVg8fgvR"
      },
      "execution_count": 136,
      "outputs": []
    },
    {
      "cell_type": "code",
      "source": [
        "plt.figure(figsize = (15,12))\n",
        "correlation=B_B.corr()\n",
        "sns.heatmap(correlation, annot=True,fmt='.2', cmap='YlOrRd')"
      ],
      "metadata": {
        "id": "33tDvEhJfvm7",
        "outputId": "26a7532e-5b43-4070-c5d3-4d77aaf5ca71",
        "colab": {
          "base_uri": "https://localhost:8080/",
          "height": 795
        }
      },
      "execution_count": 137,
      "outputs": [
        {
          "output_type": "execute_result",
          "data": {
            "text/plain": [
              "<matplotlib.axes._subplots.AxesSubplot at 0x7f5926905c90>"
            ]
          },
          "metadata": {},
          "execution_count": 137
        },
        {
          "output_type": "display_data",
          "data": {
            "text/plain": [
              "<Figure size 1080x864 with 2 Axes>"
            ],
            "image/png": "[encoded data removed]"
          },
          "metadata": {
            "needs_background": "light"
          }
        }
      ]
    },
    {
      "cell_type": "markdown",
      "source": [
        "**Most IPL Runs by a Batsman**"
      ],
      "metadata": {
        "id": "9EDmtQVxojxR"
      }
    },
    {
      "cell_type": "code",
      "source": [
        "plt.figure(figsize=(10,8))\n",
        "data = B_B.groupby(['batter'])['batsman_run'].sum().sort_values(ascending=False)[:10]\n",
        "sns.barplot(y=data.index,x=data,orient='h')\n",
        "plt.xlabel('Runs')\n",
        "plt.ylabel('Batsman')\n",
        "plt.show()"
      ],
      "metadata": {
        "id": "UzcfSqAMn3Su",
        "outputId": "95ee2f5e-8ff3-4dcf-90fc-5c1182cdba79",
        "colab": {
          "base_uri": "https://localhost:8080/",
          "height": 497
        }
      },
      "execution_count": 138,
      "outputs": [
        {
          "output_type": "display_data",
          "data": {
            "text/plain": [
              "<Figure size 720x576 with 1 Axes>"
            ],
            "image/png": "[encoded data removed]"
          },
          "metadata": {
            "needs_background": "light"
          }
        }
      ]
    },
    {
      "cell_type": "code",
      "source": [
        "Toss = M_D['TossWinner'] == M_D['WinningTeam']\n",
        "Toss.groupby(Toss).size()"
      ],
      "metadata": {
        "id": "H0cgU7h-ec-6",
        "outputId": "beaeb818-6393-4f3b-d7ae-266a9557d27c",
        "colab": {
          "base_uri": "https://localhost:8080/"
        }
      },
      "execution_count": 139,
      "outputs": [
        {
          "output_type": "execute_result",
          "data": {
            "text/plain": [
              "False    38\n",
              "True     36\n",
              "dtype: int64"
            ]
          },
          "metadata": {},
          "execution_count": 139
        }
      ]
    },
    {
      "cell_type": "code",
      "source": [
        "sns.countplot(M_D['TossWinner'] == M_D['WinningTeam'])\n",
        "sns.countplot(Toss);"
      ],
      "metadata": {
        "id": "dm27urT_ePNK",
        "outputId": "65f0087e-b4f1-4342-a0cb-81b847e8fe4d",
        "colab": {
          "base_uri": "https://localhost:8080/",
          "height": 431
        }
      },
      "execution_count": 140,
      "outputs": [
        {
          "output_type": "stream",
          "name": "stderr",
          "text": [
            "/usr/local/lib/python3.7/dist-packages/seaborn/_decorators.py:43: FutureWarning:\n",
            "\n",
            "Pass the following variable as a keyword arg: x. From version 0.12, the only valid positional argument will be `data`, and passing other arguments without an explicit keyword will result in an error or misinterpretation.\n",
            "\n",
            "/usr/local/lib/python3.7/dist-packages/seaborn/_decorators.py:43: FutureWarning:\n",
            "\n",
            "Pass the following variable as a keyword arg: x. From version 0.12, the only valid positional argument will be `data`, and passing other arguments without an explicit keyword will result in an error or misinterpretation.\n",
            "\n"
          ]
        },
        {
          "output_type": "display_data",
          "data": {
            "text/plain": [
              "<Figure size 432x288 with 1 Axes>"
            ],
            "image/png": "[encoded data removed]"
          },
          "metadata": {
            "needs_background": "light"
          }
        }
      ]
    },
    {
      "cell_type": "code",
      "source": [
        "runs = B_B.groupby(['batter','ID'])['batsman_run'].sum()\n",
        "runs[runs >= 100].droplevel(level=1).groupby('batter').count().sort_values(ascending=False)[:10]"
      ],
      "metadata": {
        "id": "z49YesYSo04S",
        "outputId": "166118bf-7f94-48db-8f41-eaaf983428a0",
        "colab": {
          "base_uri": "https://localhost:8080/"
        }
      },
      "execution_count": 141,
      "outputs": [
        {
          "output_type": "execute_result",
          "data": {
            "text/plain": [
              "batter\n",
              "JC Buttler    4\n",
              "KL Rahul      2\n",
              "Q de Kock     1\n",
              "RM Patidar    1\n",
              "Name: batsman_run, dtype: int64"
            ]
          },
          "metadata": {},
          "execution_count": 141
        }
      ]
    },
    {
      "cell_type": "code",
      "source": [
        "plt.figure(figsize=(10,8))\n",
        "runs = B_B.groupby(['batter','ID'])['batsman_run'].sum()\n",
        "data = runs[runs >= 100].droplevel(level=1).groupby('batter').count().sort_values(ascending=False)[:10]\n",
        "sns.barplot(y=data.index,x=data,orient='h')\n",
        "plt.xlabel('Centuries')\n",
        "plt.ylabel('Batsman')\n",
        "plt.show()"
      ],
      "metadata": {
        "id": "NZ4UVNcapaB1",
        "outputId": "f519062d-8e57-46c6-a7d1-4b0d8c38585b",
        "colab": {
          "base_uri": "https://localhost:8080/",
          "height": 497
        }
      },
      "execution_count": 142,
      "outputs": [
        {
          "output_type": "display_data",
          "data": {
            "text/plain": [
              "<Figure size 720x576 with 1 Axes>"
            ],
            "image/png": "[encoded data removed]"
          },
          "metadata": {
            "needs_background": "light"
          }
        }
      ]
    },
    {
      "cell_type": "code",
      "source": [
        "B_B.hist(figsize=(10,15))\n",
        "plt.show()"
      ],
      "metadata": {
        "id": "ijoSMyM4iFNR",
        "outputId": "c474b0d1-9e6f-4a5a-8e53-2ad8c50d9337",
        "colab": {
          "base_uri": "https://localhost:8080/",
          "height": 879
        }
      },
      "execution_count": 143,
      "outputs": [
        {
          "output_type": "display_data",
          "data": {
            "text/plain": [
              "<Figure size 720x1080 with 9 Axes>"
            ],
            "image/png": "[encoded data removed]"
          },
          "metadata": {
            "needs_background": "light"
          }
        }
      ]
    },
    {
      "cell_type": "code",
      "source": [
        "sns.scatterplot(x =B_B['batsman_run'], y =B_B['total_run']);\n",
        "plt.title('BALL_BY_BALL')\n",
        "plt.show();"
      ],
      "metadata": {
        "id": "UdEO08TXkr0N",
        "outputId": "74722120-e810-4f65-c739-51d68460c8d6",
        "colab": {
          "base_uri": "https://localhost:8080/",
          "height": 296
        }
      },
      "execution_count": 144,
      "outputs": [
        {
          "output_type": "display_data",
          "data": {
            "text/plain": [
              "<Figure size 432x288 with 1 Axes>"
            ],
            "image/png": "[encoded data removed]"
          },
          "metadata": {
            "needs_background": "light"
          }
        }
      ]
    },
    {
      "cell_type": "markdown",
      "source": [
        "**Merging Two Data set**"
      ],
      "metadata": {
        "id": "qVQ3eyMRhI1j"
      }
    },
    {
      "cell_type": "code",
      "source": [
        "result = pd.concat([B_B, M_D], axis=1, join='inner')\n",
        "display(result)\n",
        "result.head(2)"
      ],
      "metadata": {
        "id": "eeLPzl2Gf1b5",
        "outputId": "65838113-9de4-4e73-bd2b-393ffffa21fc",
        "colab": {
          "base_uri": "https://localhost:8080/",
          "height": 1000
        }
      },
      "execution_count": 145,
      "outputs": [
        {
          "output_type": "display_data",
          "data": {
            "text/plain": [
              "         ID  innings  overs  ballnumber       batter          bowler  \\\n",
              "0   1312200        1      0           1  YBK Jaiswal  Mohammed Shami   \n",
              "1   1312200        1      0           2  YBK Jaiswal  Mohammed Shami   \n",
              "2   1312200        1      0           3   JC Buttler  Mohammed Shami   \n",
              "3   1312200        1      0           4  YBK Jaiswal  Mohammed Shami   \n",
              "4   1312200        1      0           5  YBK Jaiswal  Mohammed Shami   \n",
              "..      ...      ...    ...         ...          ...             ...   \n",
              "69  1312200        1     11           4   JC Buttler     Rashid Khan   \n",
              "70  1312200        1     11           5   D Padikkal     Rashid Khan   \n",
              "71  1312200        1     11           6   SO Hetmyer     Rashid Khan   \n",
              "72  1312200        1     12           1   JC Buttler       HH Pandya   \n",
              "73  1312200        1     12           2     R Ashwin       HH Pandya   \n",
              "\n",
              "    non-striker extra_type  batsman_run  extras_run  ...  TossDecision  \\\n",
              "0    JC Buttler        NaN            0           0  ...           bat   \n",
              "1    JC Buttler    legbyes            0           1  ...         field   \n",
              "2   YBK Jaiswal        NaN            1           0  ...         field   \n",
              "3    JC Buttler        NaN            0           0  ...         field   \n",
              "4    JC Buttler        NaN            0           0  ...           bat   \n",
              "..          ...        ...          ...         ...  ...           ...   \n",
              "69   D Padikkal        NaN            1           0  ...         field   \n",
              "70   JC Buttler        NaN            0           0  ...         field   \n",
              "71   JC Buttler        NaN            0           0  ...         field   \n",
              "72   SO Hetmyer        NaN            0           0  ...         field   \n",
              "73   SO Hetmyer        NaN            0           0  ...         field   \n",
              "\n",
              "    SuperOver                  WinningTeam    WonBy Margin Player_of_Match  \\\n",
              "0           N               Gujarat Titans  Wickets      7       HH Pandya   \n",
              "1           N             Rajasthan Royals  Wickets      7      JC Buttler   \n",
              "2           N  Royal Challengers Bangalore     Runs     14      RM Patidar   \n",
              "3           N               Gujarat Titans  Wickets      7       DA Miller   \n",
              "4           N                 Punjab Kings  Wickets      5   Harpreet Brar   \n",
              "..        ...                          ...      ...    ...             ...   \n",
              "69          N             Rajasthan Royals     Runs     61       SV Samson   \n",
              "70          N               Gujarat Titans  Wickets      5  Mohammed Shami   \n",
              "71          N                 Punjab Kings  Wickets      5        OF Smith   \n",
              "72          N               Delhi Capitals  Wickets      4   Kuldeep Yadav   \n",
              "73          N        Kolkata Knight Riders  Wickets      6        UT Yadav   \n",
              "\n",
              "                                         Team1Players  \\\n",
              "0   ['YBK Jaiswal', 'JC Buttler', 'SV Samson', 'D ...   \n",
              "1   ['V Kohli', 'F du Plessis', 'RM Patidar', 'GJ ...   \n",
              "2   ['V Kohli', 'F du Plessis', 'RM Patidar', 'GJ ...   \n",
              "3   ['YBK Jaiswal', 'JC Buttler', 'SV Samson', 'D ...   \n",
              "4   ['PK Garg', 'Abhishek Sharma', 'RA Tripathi', ...   \n",
              "..                                                ...   \n",
              "69  ['JC Buttler', 'YBK Jaiswal', 'SV Samson', 'D ...   \n",
              "70  ['KL Rahul', 'Q de Kock', 'E Lewis', 'MK Pande...   \n",
              "71  ['F du Plessis', 'Anuj Rawat', 'V Kohli', 'KD ...   \n",
              "72  ['RG Sharma', 'Ishan Kishan', 'Anmolpreet Sing...   \n",
              "73  ['RD Gaikwad', 'DP Conway', 'RV Uthappa', 'AT ...   \n",
              "\n",
              "                                         Team2Players        Umpire1  \\\n",
              "0   ['WP Saha', 'Shubman Gill', 'MS Wade', 'HH Pan...    CB Gaffaney   \n",
              "1   ['YBK Jaiswal', 'JC Buttler', 'SV Samson', 'D ...    CB Gaffaney   \n",
              "2   ['Q de Kock', 'KL Rahul', 'M Vohra', 'DJ Hooda...  J Madanagopal   \n",
              "3   ['WP Saha', 'Shubman Gill', 'MS Wade', 'HH Pan...   BNJ Oxenford   \n",
              "4   ['JM Bairstow', 'S Dhawan', 'M Shahrukh Khan',...   AK Chaudhary   \n",
              "..                                                ...            ...   \n",
              "69  ['KS Williamson', 'Abhishek Sharma', 'RA Tripa...   BNJ Oxenford   \n",
              "70  ['Shubman Gill', 'MS Wade', 'V Shankar', 'HH P...      PG Pathak   \n",
              "71  ['MA Agarwal', 'S Dhawan', 'PBB Rajapaksa', 'L...    Nitin Menon   \n",
              "72  ['PP Shaw', 'TL Seifert', 'Mandeep Singh', 'RR...      RJ Tucker   \n",
              "73  ['AM Rahane', 'VR Iyer', 'N Rana', 'SS Iyer', ...   AK Chaudhary   \n",
              "\n",
              "          Umpire2  \n",
              "0     Nitin Menon  \n",
              "1     Nitin Menon  \n",
              "2        MA Gough  \n",
              "3       VK Sharma  \n",
              "4   NA Patwardhan  \n",
              "..            ...  \n",
              "69      UV Gandhe  \n",
              "70      VK Sharma  \n",
              "71       YC Barde  \n",
              "72     HAS Khalid  \n",
              "73    Nitin Menon  \n",
              "\n",
              "[74 rows x 36 columns]"
            ],
            "text/html": [
              "\n",
              "  <div id=\"df-11b84ac3-52e3-459e-9070-45c658abe5b5\">\n",
              "    <div class=\"colab-df-container\">\n",
              "      <div>\n",
              "<style scoped>\n",
              "    .dataframe tbody tr th:only-of-type {\n",
              "        vertical-align: middle;\n",
              "    }\n",
              "\n",
              "    .dataframe tbody tr th {\n",
              "        vertical-align: top;\n",
              "    }\n",
              "\n",
              "    .dataframe thead th {\n",
              "        text-align: right;\n",
              "    }\n",
              "</style>\n",
              "<table border=\"1\" class=\"dataframe\">\n",
              "  <thead>\n",
              "    <tr style=\"text-align: right;\">\n",
              "      <th></th>\n",
              "      <th>ID</th>\n",
              "      <th>innings</th>\n",
              "      <th>overs</th>\n",
              "      <th>ballnumber</th>\n",
              "      <th>batter</th>\n",
              "      <th>bowler</th>\n",
              "      <th>non-striker</th>\n",
              "      <th>extra_type</th>\n",
              "      <th>batsman_run</th>\n",
              "      <th>extras_run</th>\n",
              "      <th>...</th>\n",
              "      <th>TossDecision</th>\n",
              "      <th>SuperOver</th>\n",
              "      <th>WinningTeam</th>\n",
              "      <th>WonBy</th>\n",
              "      <th>Margin</th>\n",
              "      <th>Player_of_Match</th>\n",
              "      <th>Team1Players</th>\n",
              "      <th>Team2Players</th>\n",
              "      <th>Umpire1</th>\n",
              "      <th>Umpire2</th>\n",
              "    </tr>\n",
              "  </thead>\n",
              "  <tbody>\n",
              "    <tr>\n",
              "      <th>0</th>\n",
              "      <td>1312200</td>\n",
              "      <td>1</td>\n",
              "      <td>0</td>\n",
              "      <td>1</td>\n",
              "      <td>YBK Jaiswal</td>\n",
              "      <td>Mohammed Shami</td>\n",
              "      <td>JC Buttler</td>\n",
              "      <td>NaN</td>\n",
              "      <td>0</td>\n",
              "      <td>0</td>\n",
              "      <td>...</td>\n",
              "      <td>bat</td>\n",
              "      <td>N</td>\n",
              "      <td>Gujarat Titans</td>\n",
              "      <td>Wickets</td>\n",
              "      <td>7</td>\n",
              "      <td>HH Pandya</td>\n",
              "      <td>['YBK Jaiswal', 'JC Buttler', 'SV Samson', 'D ...</td>\n",
              "      <td>['WP Saha', 'Shubman Gill', 'MS Wade', 'HH Pan...</td>\n",
              "      <td>CB Gaffaney</td>\n",
              "      <td>Nitin Menon</td>\n",
              "    </tr>\n",
              "    <tr>\n",
              "      <th>1</th>\n",
              "      <td>1312200</td>\n",
              "      <td>1</td>\n",
              "      <td>0</td>\n",
              "      <td>2</td>\n",
              "      <td>YBK Jaiswal</td>\n",
              "      <td>Mohammed Shami</td>\n",
              "      <td>JC Buttler</td>\n",
              "      <td>legbyes</td>\n",
              "      <td>0</td>\n",
              "      <td>1</td>\n",
              "      <td>...</td>\n",
              "      <td>field</td>\n",
              "      <td>N</td>\n",
              "      <td>Rajasthan Royals</td>\n",
              "      <td>Wickets</td>\n",
              "      <td>7</td>\n",
              "      <td>JC Buttler</td>\n",
              "      <td>['V Kohli', 'F du Plessis', 'RM Patidar', 'GJ ...</td>\n",
              "      <td>['YBK Jaiswal', 'JC Buttler', 'SV Samson', 'D ...</td>\n",
              "      <td>CB Gaffaney</td>\n",
              "      <td>Nitin Menon</td>\n",
              "    </tr>\n",
              "    <tr>\n",
              "      <th>2</th>\n",
              "      <td>1312200</td>\n",
              "      <td>1</td>\n",
              "      <td>0</td>\n",
              "      <td>3</td>\n",
              "      <td>JC Buttler</td>\n",
              "      <td>Mohammed Shami</td>\n",
              "      <td>YBK Jaiswal</td>\n",
              "      <td>NaN</td>\n",
              "      <td>1</td>\n",
              "      <td>0</td>\n",
              "      <td>...</td>\n",
              "      <td>field</td>\n",
              "      <td>N</td>\n",
              "      <td>Royal Challengers Bangalore</td>\n",
              "      <td>Runs</td>\n",
              "      <td>14</td>\n",
              "      <td>RM Patidar</td>\n",
              "      <td>['V Kohli', 'F du Plessis', 'RM Patidar', 'GJ ...</td>\n",
              "      <td>['Q de Kock', 'KL Rahul', 'M Vohra', 'DJ Hooda...</td>\n",
              "      <td>J Madanagopal</td>\n",
              "      <td>MA Gough</td>\n",
              "    </tr>\n",
              "    <tr>\n",
              "      <th>3</th>\n",
              "      <td>1312200</td>\n",
              "      <td>1</td>\n",
              "      <td>0</td>\n",
              "      <td>4</td>\n",
              "      <td>YBK Jaiswal</td>\n",
              "      <td>Mohammed Shami</td>\n",
              "      <td>JC Buttler</td>\n",
              "      <td>NaN</td>\n",
              "      <td>0</td>\n",
              "      <td>0</td>\n",
              "      <td>...</td>\n",
              "      <td>field</td>\n",
              "      <td>N</td>\n",
              "      <td>Gujarat Titans</td>\n",
              "      <td>Wickets</td>\n",
              "      <td>7</td>\n",
              "      <td>DA Miller</td>\n",
              "      <td>['YBK Jaiswal', 'JC Buttler', 'SV Samson', 'D ...</td>\n",
              "      <td>['WP Saha', 'Shubman Gill', 'MS Wade', 'HH Pan...</td>\n",
              "      <td>BNJ Oxenford</td>\n",
              "      <td>VK Sharma</td>\n",
              "    </tr>\n",
              "    <tr>\n",
              "      <th>4</th>\n",
              "      <td>1312200</td>\n",
              "      <td>1</td>\n",
              "      <td>0</td>\n",
              "      <td>5</td>\n",
              "      <td>YBK Jaiswal</td>\n",
              "      <td>Mohammed Shami</td>\n",
              "      <td>JC Buttler</td>\n",
              "      <td>NaN</td>\n",
              "      <td>0</td>\n",
              "      <td>0</td>\n",
              "      <td>...</td>\n",
              "      <td>bat</td>\n",
              "      <td>N</td>\n",
              "      <td>Punjab Kings</td>\n",
              "      <td>Wickets</td>\n",
              "      <td>5</td>\n",
              "      <td>Harpreet Brar</td>\n",
              "      <td>['PK Garg', 'Abhishek Sharma', 'RA Tripathi', ...</td>\n",
              "      <td>['JM Bairstow', 'S Dhawan', 'M Shahrukh Khan',...</td>\n",
              "      <td>AK Chaudhary</td>\n",
              "      <td>NA Patwardhan</td>\n",
              "    </tr>\n",
              "    <tr>\n",
              "      <th>...</th>\n",
              "      <td>...</td>\n",
              "      <td>...</td>\n",
              "      <td>...</td>\n",
              "      <td>...</td>\n",
              "      <td>...</td>\n",
              "      <td>...</td>\n",
              "      <td>...</td>\n",
              "      <td>...</td>\n",
              "      <td>...</td>\n",
              "      <td>...</td>\n",
              "      <td>...</td>\n",
              "      <td>...</td>\n",
              "      <td>...</td>\n",
              "      <td>...</td>\n",
              "      <td>...</td>\n",
              "      <td>...</td>\n",
              "      <td>...</td>\n",
              "      <td>...</td>\n",
              "      <td>...</td>\n",
              "      <td>...</td>\n",
              "      <td>...</td>\n",
              "    </tr>\n",
              "    <tr>\n",
              "      <th>69</th>\n",
              "      <td>1312200</td>\n",
              "      <td>1</td>\n",
              "      <td>11</td>\n",
              "      <td>4</td>\n",
              "      <td>JC Buttler</td>\n",
              "      <td>Rashid Khan</td>\n",
              "      <td>D Padikkal</td>\n",
              "      <td>NaN</td>\n",
              "      <td>1</td>\n",
              "      <td>0</td>\n",
              "      <td>...</td>\n",
              "      <td>field</td>\n",
              "      <td>N</td>\n",
              "      <td>Rajasthan Royals</td>\n",
              "      <td>Runs</td>\n",
              "      <td>61</td>\n",
              "      <td>SV Samson</td>\n",
              "      <td>['JC Buttler', 'YBK Jaiswal', 'SV Samson', 'D ...</td>\n",
              "      <td>['KS Williamson', 'Abhishek Sharma', 'RA Tripa...</td>\n",
              "      <td>BNJ Oxenford</td>\n",
              "      <td>UV Gandhe</td>\n",
              "    </tr>\n",
              "    <tr>\n",
              "      <th>70</th>\n",
              "      <td>1312200</td>\n",
              "      <td>1</td>\n",
              "      <td>11</td>\n",
              "      <td>5</td>\n",
              "      <td>D Padikkal</td>\n",
              "      <td>Rashid Khan</td>\n",
              "      <td>JC Buttler</td>\n",
              "      <td>NaN</td>\n",
              "      <td>0</td>\n",
              "      <td>0</td>\n",
              "      <td>...</td>\n",
              "      <td>field</td>\n",
              "      <td>N</td>\n",
              "      <td>Gujarat Titans</td>\n",
              "      <td>Wickets</td>\n",
              "      <td>5</td>\n",
              "      <td>Mohammed Shami</td>\n",
              "      <td>['KL Rahul', 'Q de Kock', 'E Lewis', 'MK Pande...</td>\n",
              "      <td>['Shubman Gill', 'MS Wade', 'V Shankar', 'HH P...</td>\n",
              "      <td>PG Pathak</td>\n",
              "      <td>VK Sharma</td>\n",
              "    </tr>\n",
              "    <tr>\n",
              "      <th>71</th>\n",
              "      <td>1312200</td>\n",
              "      <td>1</td>\n",
              "      <td>11</td>\n",
              "      <td>6</td>\n",
              "      <td>SO Hetmyer</td>\n",
              "      <td>Rashid Khan</td>\n",
              "      <td>JC Buttler</td>\n",
              "      <td>NaN</td>\n",
              "      <td>0</td>\n",
              "      <td>0</td>\n",
              "      <td>...</td>\n",
              "      <td>field</td>\n",
              "      <td>N</td>\n",
              "      <td>Punjab Kings</td>\n",
              "      <td>Wickets</td>\n",
              "      <td>5</td>\n",
              "      <td>OF Smith</td>\n",
              "      <td>['F du Plessis', 'Anuj Rawat', 'V Kohli', 'KD ...</td>\n",
              "      <td>['MA Agarwal', 'S Dhawan', 'PBB Rajapaksa', 'L...</td>\n",
              "      <td>Nitin Menon</td>\n",
              "      <td>YC Barde</td>\n",
              "    </tr>\n",
              "    <tr>\n",
              "      <th>72</th>\n",
              "      <td>1312200</td>\n",
              "      <td>1</td>\n",
              "      <td>12</td>\n",
              "      <td>1</td>\n",
              "      <td>JC Buttler</td>\n",
              "      <td>HH Pandya</td>\n",
              "      <td>SO Hetmyer</td>\n",
              "      <td>NaN</td>\n",
              "      <td>0</td>\n",
              "      <td>0</td>\n",
              "      <td>...</td>\n",
              "      <td>field</td>\n",
              "      <td>N</td>\n",
              "      <td>Delhi Capitals</td>\n",
              "      <td>Wickets</td>\n",
              "      <td>4</td>\n",
              "      <td>Kuldeep Yadav</td>\n",
              "      <td>['RG Sharma', 'Ishan Kishan', 'Anmolpreet Sing...</td>\n",
              "      <td>['PP Shaw', 'TL Seifert', 'Mandeep Singh', 'RR...</td>\n",
              "      <td>RJ Tucker</td>\n",
              "      <td>HAS Khalid</td>\n",
              "    </tr>\n",
              "    <tr>\n",
              "      <th>73</th>\n",
              "      <td>1312200</td>\n",
              "      <td>1</td>\n",
              "      <td>12</td>\n",
              "      <td>2</td>\n",
              "      <td>R Ashwin</td>\n",
              "      <td>HH Pandya</td>\n",
              "      <td>SO Hetmyer</td>\n",
              "      <td>NaN</td>\n",
              "      <td>0</td>\n",
              "      <td>0</td>\n",
              "      <td>...</td>\n",
              "      <td>field</td>\n",
              "      <td>N</td>\n",
              "      <td>Kolkata Knight Riders</td>\n",
              "      <td>Wickets</td>\n",
              "      <td>6</td>\n",
              "      <td>UT Yadav</td>\n",
              "      <td>['RD Gaikwad', 'DP Conway', 'RV Uthappa', 'AT ...</td>\n",
              "      <td>['AM Rahane', 'VR Iyer', 'N Rana', 'SS Iyer', ...</td>\n",
              "      <td>AK Chaudhary</td>\n",
              "      <td>Nitin Menon</td>\n",
              "    </tr>\n",
              "  </tbody>\n",
              "</table>\n",
              "<p>74 rows × 36 columns</p>\n",
              "</div>\n",
              "      <button class=\"colab-df-convert\" onclick=\"convertToInteractive('df-11b84ac3-52e3-459e-9070-45c658abe5b5')\"\n",
              "              title=\"Convert this dataframe to an interactive table.\"\n",
              "              style=\"display:none;\">\n",
              "        \n",
              "  <svg xmlns=\"http://www.w3.org/2000/svg\" height=\"24px\"viewBox=\"0 0 24 24\"\n",
              "       width=\"24px\">\n",
              "    <path d=\"M0 0h24v24H0V0z\" fill=\"none\"/>\n",
              "    <path d=\"M18.56 5.44l.94 2.06.94-2.06 2.06-.94-2.06-.94-.94-2.06-.94 2.06-2.06.94zm-11 1L8.5 8.5l.94-2.06 2.06-.94-2.06-.94L8.5 2.5l-.94 2.06-2.06.94zm10 10l.94 2.06.94-2.06 2.06-.94-2.06-.94-.94-2.06-.94 2.06-2.06.94z\"/><path d=\"M17.41 7.96l-1.37-1.37c-.4-.4-.92-.59-1.43-.59-.52 0-1.04.2-1.43.59L10.3 9.45l-7.72 7.72c-.78.78-.78 2.05 0 2.83L4 21.41c.39.39.9.59 1.41.59.51 0 1.02-.2 1.41-.59l7.78-7.78 2.81-2.81c.8-.78.8-2.07 0-2.86zM5.41 20L4 18.59l7.72-7.72 1.47 1.35L5.41 20z\"/>\n",
              "  </svg>\n",
              "      </button>\n",
              "      \n",
              "  <style>\n",
              "    .colab-df-container {\n",
              "      display:flex;\n",
              "      flex-wrap:wrap;\n",
              "      gap: 12px;\n",
              "    }\n",
              "\n",
              "    .colab-df-convert {\n",
              "      background-color: #E8F0FE;\n",
              "      border: none;\n",
              "      border-radius: 50%;\n",
              "      cursor: pointer;\n",
              "      display: none;\n",
              "      fill: #1967D2;\n",
              "      height: 32px;\n",
              "      padding: 0 0 0 0;\n",
              "      width: 32px;\n",
              "    }\n",
              "\n",
              "    .colab-df-convert:hover {\n",
              "      background-color: #E2EBFA;\n",
              "      box-shadow: 0px 1px 2px rgba(60, 64, 67, 0.3), 0px 1px 3px 1px rgba(60, 64, 67, 0.15);\n",
              "      fill: #174EA6;\n",
              "    }\n",
              "\n",
              "    [theme=dark] .colab-df-convert {\n",
              "      background-color: #3B4455;\n",
              "      fill: #D2E3FC;\n",
              "    }\n",
              "\n",
              "    [theme=dark] .colab-df-convert:hover {\n",
              "      background-color: #434B5C;\n",
              "      box-shadow: 0px 1px 3px 1px rgba(0, 0, 0, 0.15);\n",
              "      filter: drop-shadow(0px 1px 2px rgba(0, 0, 0, 0.3));\n",
              "      fill: #FFFFFF;\n",
              "    }\n",
              "  </style>\n",
              "\n",
              "      <script>\n",
              "        const buttonEl =\n",
              "          document.querySelector('#df-11b84ac3-52e3-459e-9070-45c658abe5b5 button.colab-df-convert');\n",
              "        buttonEl.style.display =\n",
              "          google.colab.kernel.accessAllowed ? 'block' : 'none';\n",
              "\n",
              "        async function convertToInteractive(key) {\n",
              "          const element = document.querySelector('#df-11b84ac3-52e3-459e-9070-45c658abe5b5');\n",
              "          const dataTable =\n",
              "            await google.colab.kernel.invokeFunction('convertToInteractive',\n",
              "                                                     [key], {});\n",
              "          if (!dataTable) return;\n",
              "\n",
              "          const docLinkHtml = 'Like what you see? Visit the ' +\n",
              "            '<a target=\"_blank\" href=https://colab.research.google.com/notebooks/data_table.ipynb>data table notebook</a>'\n",
              "            + ' to learn more about interactive tables.';\n",
              "          element.innerHTML = '';\n",
              "          dataTable['output_type'] = 'display_data';\n",
              "          await google.colab.output.renderOutput(dataTable, element);\n",
              "          const docLink = document.createElement('div');\n",
              "          docLink.innerHTML = docLinkHtml;\n",
              "          element.appendChild(docLink);\n",
              "        }\n",
              "      </script>\n",
              "    </div>\n",
              "  </div>\n",
              "  "
            ]
          },
          "metadata": {}
        },
        {
          "output_type": "execute_result",
          "data": {
            "text/plain": [
              "        ID  innings  overs  ballnumber       batter          bowler  \\\n",
              "0  1312200        1      0           1  YBK Jaiswal  Mohammed Shami   \n",
              "1  1312200        1      0           2  YBK Jaiswal  Mohammed Shami   \n",
              "\n",
              "  non-striker extra_type  batsman_run  extras_run  ...  TossDecision  \\\n",
              "0  JC Buttler        NaN            0           0  ...           bat   \n",
              "1  JC Buttler    legbyes            0           1  ...         field   \n",
              "\n",
              "   SuperOver       WinningTeam    WonBy Margin Player_of_Match  \\\n",
              "0          N    Gujarat Titans  Wickets      7       HH Pandya   \n",
              "1          N  Rajasthan Royals  Wickets      7      JC Buttler   \n",
              "\n",
              "                                        Team1Players  \\\n",
              "0  ['YBK Jaiswal', 'JC Buttler', 'SV Samson', 'D ...   \n",
              "1  ['V Kohli', 'F du Plessis', 'RM Patidar', 'GJ ...   \n",
              "\n",
              "                                        Team2Players      Umpire1      Umpire2  \n",
              "0  ['WP Saha', 'Shubman Gill', 'MS Wade', 'HH Pan...  CB Gaffaney  Nitin Menon  \n",
              "1  ['YBK Jaiswal', 'JC Buttler', 'SV Samson', 'D ...  CB Gaffaney  Nitin Menon  \n",
              "\n",
              "[2 rows x 36 columns]"
            ],
            "text/html": [
              "\n",
              "  <div id=\"df-b6b3f18c-fcf6-49ce-93c4-6e6afa9ebfa4\">\n",
              "    <div class=\"colab-df-container\">\n",
              "      <div>\n",
              "<style scoped>\n",
              "    .dataframe tbody tr th:only-of-type {\n",
              "        vertical-align: middle;\n",
              "    }\n",
              "\n",
              "    .dataframe tbody tr th {\n",
              "        vertical-align: top;\n",
              "    }\n",
              "\n",
              "    .dataframe thead th {\n",
              "        text-align: right;\n",
              "    }\n",
              "</style>\n",
              "<table border=\"1\" class=\"dataframe\">\n",
              "  <thead>\n",
              "    <tr style=\"text-align: right;\">\n",
              "      <th></th>\n",
              "      <th>ID</th>\n",
              "      <th>innings</th>\n",
              "      <th>overs</th>\n",
              "      <th>ballnumber</th>\n",
              "      <th>batter</th>\n",
              "      <th>bowler</th>\n",
              "      <th>non-striker</th>\n",
              "      <th>extra_type</th>\n",
              "      <th>batsman_run</th>\n",
              "      <th>extras_run</th>\n",
              "      <th>...</th>\n",
              "      <th>TossDecision</th>\n",
              "      <th>SuperOver</th>\n",
              "      <th>WinningTeam</th>\n",
              "      <th>WonBy</th>\n",
              "      <th>Margin</th>\n",
              "      <th>Player_of_Match</th>\n",
              "      <th>Team1Players</th>\n",
              "      <th>Team2Players</th>\n",
              "      <th>Umpire1</th>\n",
              "      <th>Umpire2</th>\n",
              "    </tr>\n",
              "  </thead>\n",
              "  <tbody>\n",
              "    <tr>\n",
              "      <th>0</th>\n",
              "      <td>1312200</td>\n",
              "      <td>1</td>\n",
              "      <td>0</td>\n",
              "      <td>1</td>\n",
              "      <td>YBK Jaiswal</td>\n",
              "      <td>Mohammed Shami</td>\n",
              "      <td>JC Buttler</td>\n",
              "      <td>NaN</td>\n",
              "      <td>0</td>\n",
              "      <td>0</td>\n",
              "      <td>...</td>\n",
              "      <td>bat</td>\n",
              "      <td>N</td>\n",
              "      <td>Gujarat Titans</td>\n",
              "      <td>Wickets</td>\n",
              "      <td>7</td>\n",
              "      <td>HH Pandya</td>\n",
              "      <td>['YBK Jaiswal', 'JC Buttler', 'SV Samson', 'D ...</td>\n",
              "      <td>['WP Saha', 'Shubman Gill', 'MS Wade', 'HH Pan...</td>\n",
              "      <td>CB Gaffaney</td>\n",
              "      <td>Nitin Menon</td>\n",
              "    </tr>\n",
              "    <tr>\n",
              "      <th>1</th>\n",
              "      <td>1312200</td>\n",
              "      <td>1</td>\n",
              "      <td>0</td>\n",
              "      <td>2</td>\n",
              "      <td>YBK Jaiswal</td>\n",
              "      <td>Mohammed Shami</td>\n",
              "      <td>JC Buttler</td>\n",
              "      <td>legbyes</td>\n",
              "      <td>0</td>\n",
              "      <td>1</td>\n",
              "      <td>...</td>\n",
              "      <td>field</td>\n",
              "      <td>N</td>\n",
              "      <td>Rajasthan Royals</td>\n",
              "      <td>Wickets</td>\n",
              "      <td>7</td>\n",
              "      <td>JC Buttler</td>\n",
              "      <td>['V Kohli', 'F du Plessis', 'RM Patidar', 'GJ ...</td>\n",
              "      <td>['YBK Jaiswal', 'JC Buttler', 'SV Samson', 'D ...</td>\n",
              "      <td>CB Gaffaney</td>\n",
              "      <td>Nitin Menon</td>\n",
              "    </tr>\n",
              "  </tbody>\n",
              "</table>\n",
              "<p>2 rows × 36 columns</p>\n",
              "</div>\n",
              "      <button class=\"colab-df-convert\" onclick=\"convertToInteractive('df-b6b3f18c-fcf6-49ce-93c4-6e6afa9ebfa4')\"\n",
              "              title=\"Convert this dataframe to an interactive table.\"\n",
              "              style=\"display:none;\">\n",
              "        \n",
              "  <svg xmlns=\"http://www.w3.org/2000/svg\" height=\"24px\"viewBox=\"0 0 24 24\"\n",
              "       width=\"24px\">\n",
              "    <path d=\"M0 0h24v24H0V0z\" fill=\"none\"/>\n",
              "    <path d=\"M18.56 5.44l.94 2.06.94-2.06 2.06-.94-2.06-.94-.94-2.06-.94 2.06-2.06.94zm-11 1L8.5 8.5l.94-2.06 2.06-.94-2.06-.94L8.5 2.5l-.94 2.06-2.06.94zm10 10l.94 2.06.94-2.06 2.06-.94-2.06-.94-.94-2.06-.94 2.06-2.06.94z\"/><path d=\"M17.41 7.96l-1.37-1.37c-.4-.4-.92-.59-1.43-.59-.52 0-1.04.2-1.43.59L10.3 9.45l-7.72 7.72c-.78.78-.78 2.05 0 2.83L4 21.41c.39.39.9.59 1.41.59.51 0 1.02-.2 1.41-.59l7.78-7.78 2.81-2.81c.8-.78.8-2.07 0-2.86zM5.41 20L4 18.59l7.72-7.72 1.47 1.35L5.41 20z\"/>\n",
              "  </svg>\n",
              "      </button>\n",
              "      \n",
              "  <style>\n",
              "    .colab-df-container {\n",
              "      display:flex;\n",
              "      flex-wrap:wrap;\n",
              "      gap: 12px;\n",
              "    }\n",
              "\n",
              "    .colab-df-convert {\n",
              "      background-color: #E8F0FE;\n",
              "      border: none;\n",
              "      border-radius: 50%;\n",
              "      cursor: pointer;\n",
              "      display: none;\n",
              "      fill: #1967D2;\n",
              "      height: 32px;\n",
              "      padding: 0 0 0 0;\n",
              "      width: 32px;\n",
              "    }\n",
              "\n",
              "    .colab-df-convert:hover {\n",
              "      background-color: #E2EBFA;\n",
              "      box-shadow: 0px 1px 2px rgba(60, 64, 67, 0.3), 0px 1px 3px 1px rgba(60, 64, 67, 0.15);\n",
              "      fill: #174EA6;\n",
              "    }\n",
              "\n",
              "    [theme=dark] .colab-df-convert {\n",
              "      background-color: #3B4455;\n",
              "      fill: #D2E3FC;\n",
              "    }\n",
              "\n",
              "    [theme=dark] .colab-df-convert:hover {\n",
              "      background-color: #434B5C;\n",
              "      box-shadow: 0px 1px 3px 1px rgba(0, 0, 0, 0.15);\n",
              "      filter: drop-shadow(0px 1px 2px rgba(0, 0, 0, 0.3));\n",
              "      fill: #FFFFFF;\n",
              "    }\n",
              "  </style>\n",
              "\n",
              "      <script>\n",
              "        const buttonEl =\n",
              "          document.querySelector('#df-b6b3f18c-fcf6-49ce-93c4-6e6afa9ebfa4 button.colab-df-convert');\n",
              "        buttonEl.style.display =\n",
              "          google.colab.kernel.accessAllowed ? 'block' : 'none';\n",
              "\n",
              "        async function convertToInteractive(key) {\n",
              "          const element = document.querySelector('#df-b6b3f18c-fcf6-49ce-93c4-6e6afa9ebfa4');\n",
              "          const dataTable =\n",
              "            await google.colab.kernel.invokeFunction('convertToInteractive',\n",
              "                                                     [key], {});\n",
              "          if (!dataTable) return;\n",
              "\n",
              "          const docLinkHtml = 'Like what you see? Visit the ' +\n",
              "            '<a target=\"_blank\" href=https://colab.research.google.com/notebooks/data_table.ipynb>data table notebook</a>'\n",
              "            + ' to learn more about interactive tables.';\n",
              "          element.innerHTML = '';\n",
              "          dataTable['output_type'] = 'display_data';\n",
              "          await google.colab.output.renderOutput(dataTable, element);\n",
              "          const docLink = document.createElement('div');\n",
              "          docLink.innerHTML = docLinkHtml;\n",
              "          element.appendChild(docLink);\n",
              "        }\n",
              "      </script>\n",
              "    </div>\n",
              "  </div>\n",
              "  "
            ]
          },
          "metadata": {},
          "execution_count": 145
        }
      ]
    },
    {
      "cell_type": "code",
      "source": [
        "M_D.WonBy.value_counts()"
      ],
      "metadata": {
        "id": "7V3Cf1UizVyx",
        "outputId": "e2bd3430-5d4c-4a64-9b49-0a0b1d927c5f",
        "colab": {
          "base_uri": "https://localhost:8080/"
        }
      },
      "execution_count": 146,
      "outputs": [
        {
          "output_type": "execute_result",
          "data": {
            "text/plain": [
              "Wickets    37\n",
              "Runs       37\n",
              "Name: WonBy, dtype: int64"
            ]
          },
          "metadata": {},
          "execution_count": 146
        }
      ]
    },
    {
      "cell_type": "code",
      "source": [
        "plt.figure(figsize=(6,6))\n",
        "sizes = result.WonBy.value_counts()\n",
        "labels = result.WonBy.value_counts().index\n",
        "plt.pie(sizes,colors = ['b','g','r'],\n",
        "         labels=labels,\n",
        "         autopct='%1.1f%%',\n",
        "         startangle=90,\n",
        "         pctdistance=0.75,\n",
        "         )\n",
        "\n",
        "#draw white circle\n",
        "centre_circle = plt.Circle((0,0),0.60,fc='white')\n",
        "fig = plt.gcf()\n",
        "fig.gca().add_artist(centre_circle)"
      ],
      "metadata": {
        "id": "mLmzgFJ5wzAj",
        "outputId": "f203b241-36e5-457b-879f-e4610903f598",
        "colab": {
          "base_uri": "https://localhost:8080/",
          "height": 375
        }
      },
      "execution_count": 147,
      "outputs": [
        {
          "output_type": "execute_result",
          "data": {
            "text/plain": [
              "<matplotlib.patches.Circle at 0x7f5926b26e10>"
            ]
          },
          "metadata": {},
          "execution_count": 147
        },
        {
          "output_type": "display_data",
          "data": {
            "text/plain": [
              "<Figure size 432x432 with 1 Axes>"
            ],
            "image/png": "[encoded data removed]"
          },
          "metadata": {}
        }
      ]
    },
    {
      "cell_type": "markdown",
      "source": [
        "**Slicing of data**"
      ],
      "metadata": {
        "id": "L2ubuINLMXEa"
      }
    },
    {
      "cell_type": "code",
      "source": [
        "M_D['Player_of_Match'].to_frame().head()"
      ],
      "metadata": {
        "id": "veFweypVs-M7",
        "outputId": "4da62f2e-52e9-4ab2-f7eb-38016977776c",
        "colab": {
          "base_uri": "https://localhost:8080/",
          "height": 206
        }
      },
      "execution_count": 148,
      "outputs": [
        {
          "output_type": "execute_result",
          "data": {
            "text/plain": [
              "  Player_of_Match\n",
              "0       HH Pandya\n",
              "1      JC Buttler\n",
              "2      RM Patidar\n",
              "3       DA Miller\n",
              "4   Harpreet Brar"
            ],
            "text/html": [
              "\n",
              "  <div id=\"df-842e3021-e1f7-42ce-954b-cba30478b678\">\n",
              "    <div class=\"colab-df-container\">\n",
              "      <div>\n",
              "<style scoped>\n",
              "    .dataframe tbody tr th:only-of-type {\n",
              "        vertical-align: middle;\n",
              "    }\n",
              "\n",
              "    .dataframe tbody tr th {\n",
              "        vertical-align: top;\n",
              "    }\n",
              "\n",
              "    .dataframe thead th {\n",
              "        text-align: right;\n",
              "    }\n",
              "</style>\n",
              "<table border=\"1\" class=\"dataframe\">\n",
              "  <thead>\n",
              "    <tr style=\"text-align: right;\">\n",
              "      <th></th>\n",
              "      <th>Player_of_Match</th>\n",
              "    </tr>\n",
              "  </thead>\n",
              "  <tbody>\n",
              "    <tr>\n",
              "      <th>0</th>\n",
              "      <td>HH Pandya</td>\n",
              "    </tr>\n",
              "    <tr>\n",
              "      <th>1</th>\n",
              "      <td>JC Buttler</td>\n",
              "    </tr>\n",
              "    <tr>\n",
              "      <th>2</th>\n",
              "      <td>RM Patidar</td>\n",
              "    </tr>\n",
              "    <tr>\n",
              "      <th>3</th>\n",
              "      <td>DA Miller</td>\n",
              "    </tr>\n",
              "    <tr>\n",
              "      <th>4</th>\n",
              "      <td>Harpreet Brar</td>\n",
              "    </tr>\n",
              "  </tbody>\n",
              "</table>\n",
              "</div>\n",
              "      <button class=\"colab-df-convert\" onclick=\"convertToInteractive('df-842e3021-e1f7-42ce-954b-cba30478b678')\"\n",
              "              title=\"Convert this dataframe to an interactive table.\"\n",
              "              style=\"display:none;\">\n",
              "        \n",
              "  <svg xmlns=\"http://www.w3.org/2000/svg\" height=\"24px\"viewBox=\"0 0 24 24\"\n",
              "       width=\"24px\">\n",
              "    <path d=\"M0 0h24v24H0V0z\" fill=\"none\"/>\n",
              "    <path d=\"M18.56 5.44l.94 2.06.94-2.06 2.06-.94-2.06-.94-.94-2.06-.94 2.06-2.06.94zm-11 1L8.5 8.5l.94-2.06 2.06-.94-2.06-.94L8.5 2.5l-.94 2.06-2.06.94zm10 10l.94 2.06.94-2.06 2.06-.94-2.06-.94-.94-2.06-.94 2.06-2.06.94z\"/><path d=\"M17.41 7.96l-1.37-1.37c-.4-.4-.92-.59-1.43-.59-.52 0-1.04.2-1.43.59L10.3 9.45l-7.72 7.72c-.78.78-.78 2.05 0 2.83L4 21.41c.39.39.9.59 1.41.59.51 0 1.02-.2 1.41-.59l7.78-7.78 2.81-2.81c.8-.78.8-2.07 0-2.86zM5.41 20L4 18.59l7.72-7.72 1.47 1.35L5.41 20z\"/>\n",
              "  </svg>\n",
              "      </button>\n",
              "      \n",
              "  <style>\n",
              "    .colab-df-container {\n",
              "      display:flex;\n",
              "      flex-wrap:wrap;\n",
              "      gap: 12px;\n",
              "    }\n",
              "\n",
              "    .colab-df-convert {\n",
              "      background-color: #E8F0FE;\n",
              "      border: none;\n",
              "      border-radius: 50%;\n",
              "      cursor: pointer;\n",
              "      display: none;\n",
              "      fill: #1967D2;\n",
              "      height: 32px;\n",
              "      padding: 0 0 0 0;\n",
              "      width: 32px;\n",
              "    }\n",
              "\n",
              "    .colab-df-convert:hover {\n",
              "      background-color: #E2EBFA;\n",
              "      box-shadow: 0px 1px 2px rgba(60, 64, 67, 0.3), 0px 1px 3px 1px rgba(60, 64, 67, 0.15);\n",
              "      fill: #174EA6;\n",
              "    }\n",
              "\n",
              "    [theme=dark] .colab-df-convert {\n",
              "      background-color: #3B4455;\n",
              "      fill: #D2E3FC;\n",
              "    }\n",
              "\n",
              "    [theme=dark] .colab-df-convert:hover {\n",
              "      background-color: #434B5C;\n",
              "      box-shadow: 0px 1px 3px 1px rgba(0, 0, 0, 0.15);\n",
              "      filter: drop-shadow(0px 1px 2px rgba(0, 0, 0, 0.3));\n",
              "      fill: #FFFFFF;\n",
              "    }\n",
              "  </style>\n",
              "\n",
              "      <script>\n",
              "        const buttonEl =\n",
              "          document.querySelector('#df-842e3021-e1f7-42ce-954b-cba30478b678 button.colab-df-convert');\n",
              "        buttonEl.style.display =\n",
              "          google.colab.kernel.accessAllowed ? 'block' : 'none';\n",
              "\n",
              "        async function convertToInteractive(key) {\n",
              "          const element = document.querySelector('#df-842e3021-e1f7-42ce-954b-cba30478b678');\n",
              "          const dataTable =\n",
              "            await google.colab.kernel.invokeFunction('convertToInteractive',\n",
              "                                                     [key], {});\n",
              "          if (!dataTable) return;\n",
              "\n",
              "          const docLinkHtml = 'Like what you see? Visit the ' +\n",
              "            '<a target=\"_blank\" href=https://colab.research.google.com/notebooks/data_table.ipynb>data table notebook</a>'\n",
              "            + ' to learn more about interactive tables.';\n",
              "          element.innerHTML = '';\n",
              "          dataTable['output_type'] = 'display_data';\n",
              "          await google.colab.output.renderOutput(dataTable, element);\n",
              "          const docLink = document.createElement('div');\n",
              "          docLink.innerHTML = docLinkHtml;\n",
              "          element.appendChild(docLink);\n",
              "        }\n",
              "      </script>\n",
              "    </div>\n",
              "  </div>\n",
              "  "
            ]
          },
          "metadata": {},
          "execution_count": 148
        }
      ]
    },
    {
      "cell_type": "code",
      "source": [
        "M_D.Player_of_Match.iloc[0:8]\n"
      ],
      "metadata": {
        "id": "7C_trGwi1h2t",
        "outputId": "98ec660f-7758-4184-8dcf-f72e7a1fb7d5",
        "colab": {
          "base_uri": "https://localhost:8080/"
        }
      },
      "execution_count": 149,
      "outputs": [
        {
          "output_type": "execute_result",
          "data": {
            "text/plain": [
              "0        HH Pandya\n",
              "1       JC Buttler\n",
              "2       RM Patidar\n",
              "3        DA Miller\n",
              "4    Harpreet Brar\n",
              "5        JJ Bumrah\n",
              "6         R Ashwin\n",
              "7          V Kohli\n",
              "Name: Player_of_Match, dtype: object"
            ]
          },
          "metadata": {},
          "execution_count": 149
        }
      ]
    },
    {
      "cell_type": "markdown",
      "source": [
        "**Upload data to Numerical Python (NumPy)**"
      ],
      "metadata": {
        "id": "KiFEi0o-RIRY"
      }
    },
    {
      "cell_type": "code",
      "source": [
        "result1 = M_D.to_numpy()\n",
        "print(result1)\n"
      ],
      "metadata": {
        "id": "GCxlqGbMPYbq",
        "outputId": "47975572-a28e-405a-c5cd-a2a71e7ef6f9",
        "colab": {
          "base_uri": "https://localhost:8080/"
        }
      },
      "execution_count": 150,
      "outputs": [
        {
          "output_type": "stream",
          "name": "stdout",
          "text": [
            "[[1312200 'Ahmedabad' '2022-05-29' ...\n",
            "  \"['WP Saha', 'Shubman Gill', 'MS Wade', 'HH Pandya', 'DA Miller', 'R Tewatia', 'Rashid Khan', 'R Sai Kishore', 'LH Ferguson', 'Yash Dayal', 'Mohammed Shami']\"\n",
            "  'CB Gaffaney' 'Nitin Menon']\n",
            " [1312199 'Ahmedabad' '2022-05-27' ...\n",
            "  \"['YBK Jaiswal', 'JC Buttler', 'SV Samson', 'D Padikkal', 'SO Hetmyer', 'R Parag', 'R Ashwin', 'TA Boult', 'YS Chahal', 'M Prasidh Krishna', 'OC McCoy']\"\n",
            "  'CB Gaffaney' 'Nitin Menon']\n",
            " [1312198 'Kolkata' '2022-05-25' ...\n",
            "  \"['Q de Kock', 'KL Rahul', 'M Vohra', 'DJ Hooda', 'MP Stoinis', 'E Lewis', 'KH Pandya', 'PVD Chameera', 'Mohsin Khan', 'Avesh Khan', 'Ravi Bishnoi']\"\n",
            "  'J Madanagopal' 'MA Gough']\n",
            " ...\n",
            " [1304049 'Mumbai' '2022-03-27' ...\n",
            "  \"['MA Agarwal', 'S Dhawan', 'PBB Rajapaksa', 'LS Livingstone', 'RA Bawa', 'M Shahrukh Khan', 'OF Smith', 'Harpreet Brar', 'Arshdeep Singh', 'Sandeep Sharma', 'RD Chahar']\"\n",
            "  'Nitin Menon' 'YC Barde']\n",
            " [1304048 'Mumbai' '2022-03-27' ...\n",
            "  \"['PP Shaw', 'TL Seifert', 'Mandeep Singh', 'RR Pant', 'Lalit Yadav', 'R Powell', 'SN Thakur', 'AR Patel', 'Kuldeep Yadav', 'KK Ahmed', 'KL Nagarkoti']\"\n",
            "  'RJ Tucker' 'HAS Khalid']\n",
            " [1304047 'Mumbai' '2022-03-26' ...\n",
            "  \"['AM Rahane', 'VR Iyer', 'N Rana', 'SS Iyer', 'SW Billings', 'SP Jackson', 'AD Russell', 'SP Narine', 'UT Yadav', 'Shivam Mavi', 'CV Varun']\"\n",
            "  'AK Chaudhary' 'Nitin Menon']]\n"
          ]
        }
      ]
    },
    {
      "cell_type": "code",
      "source": [
        "result2 = B_B.to_numpy()\n",
        "print(result2)"
      ],
      "metadata": {
        "id": "Sh3XpqJYPueE",
        "outputId": "8584cbe4-f54d-482a-f7ae-fcdc0814f9e0",
        "colab": {
          "base_uri": "https://localhost:8080/"
        }
      },
      "execution_count": 151,
      "outputs": [
        {
          "output_type": "stream",
          "name": "stdout",
          "text": [
            "[[1312200 1 0 ... nan nan 'Rajasthan Royals']\n",
            " [1312200 1 0 ... nan nan 'Rajasthan Royals']\n",
            " [1312200 1 0 ... nan nan 'Rajasthan Royals']\n",
            " ...\n",
            " [1304047 2 18 ... nan nan 'Kolkata Knight Riders']\n",
            " [1304047 2 18 ... nan nan 'Kolkata Knight Riders']\n",
            " [1304047 2 18 ... nan nan 'Kolkata Knight Riders']]\n"
          ]
        }
      ]
    },
    {
      "cell_type": "markdown",
      "source": [
        "**Use conditions and segregate the data based on the condition (like show data of a feature(column) >,<,= a number)**"
      ],
      "metadata": {
        "id": "Gr9345vSRggz"
      }
    },
    {
      "cell_type": "code",
      "source": [
        "display(B_B.loc[(B_B['isWicketDelivery']>=1)])"
      ],
      "metadata": {
        "id": "fEmq93rWRi2f",
        "outputId": "4dc86f06-4c86-4878-9e01-9559d8d27956",
        "colab": {
          "base_uri": "https://localhost:8080/",
          "height": 658
        }
      },
      "execution_count": 152,
      "outputs": [
        {
          "output_type": "display_data",
          "data": {
            "text/plain": [
              "            ID  innings  overs  ballnumber       batter       bowler  \\\n",
              "23     1312200        1      3           6  YBK Jaiswal   Yash Dayal   \n",
              "49     1312200        1      8           2    SV Samson    HH Pandya   \n",
              "70     1312200        1     11           5   D Padikkal  Rashid Khan   \n",
              "72     1312200        1     12           1   JC Buttler    HH Pandya   \n",
              "89     1312200        1     14           6   SO Hetmyer    HH Pandya   \n",
              "...        ...      ...    ...         ...          ...          ...   \n",
              "17743  1304047        1     10           5       S Dube   AD Russell   \n",
              "17838  1304047        2      6           2      VR Iyer     DJ Bravo   \n",
              "17860  1304047        2      9           6       N Rana     DJ Bravo   \n",
              "17870  1304047        2     11           4    AM Rahane   MJ Santner   \n",
              "17905  1304047        2     17           3  SW Billings     DJ Bravo   \n",
              "\n",
              "      non-striker extra_type  batsman_run  extras_run  total_run  \\\n",
              "23     JC Buttler        NaN            0           0          0   \n",
              "49     JC Buttler        NaN            0           0          0   \n",
              "70     JC Buttler        NaN            0           0          0   \n",
              "72     SO Hetmyer        NaN            0           0          0   \n",
              "89       R Ashwin        NaN            0           0          0   \n",
              "...           ...        ...          ...         ...        ...   \n",
              "17743   RA Jadeja        NaN            0           0          0   \n",
              "17838   AM Rahane        NaN            0           0          0   \n",
              "17860   AM Rahane        NaN            0           0          0   \n",
              "17870     SS Iyer        NaN            0           0          0   \n",
              "17905     SS Iyer        NaN            0           0          0   \n",
              "\n",
              "       non_boundary  isWicketDelivery   player_out               kind  \\\n",
              "23                0                 1  YBK Jaiswal             caught   \n",
              "49                0                 1    SV Samson             caught   \n",
              "70                0                 1   D Padikkal             caught   \n",
              "72                0                 1   JC Buttler             caught   \n",
              "89                0                 1   SO Hetmyer  caught and bowled   \n",
              "...             ...               ...          ...                ...   \n",
              "17743             0                 1       S Dube             caught   \n",
              "17838             0                 1      VR Iyer             caught   \n",
              "17860             0                 1       N Rana             caught   \n",
              "17870             0                 1    AM Rahane             caught   \n",
              "17905             0                 1  SW Billings             caught   \n",
              "\n",
              "      fielders_involved            BattingTeam  \n",
              "23        R Sai Kishore       Rajasthan Royals  \n",
              "49        R Sai Kishore       Rajasthan Royals  \n",
              "70       Mohammed Shami       Rajasthan Royals  \n",
              "72              WP Saha       Rajasthan Royals  \n",
              "89                  NaN       Rajasthan Royals  \n",
              "...                 ...                    ...  \n",
              "17743         SP Narine    Chennai Super Kings  \n",
              "17838          MS Dhoni  Kolkata Knight Riders  \n",
              "17860         AT Rayudu  Kolkata Knight Riders  \n",
              "17870         RA Jadeja  Kolkata Knight Riders  \n",
              "17905      TU Deshpande  Kolkata Knight Riders  \n",
              "\n",
              "[912 rows x 17 columns]"
            ],
            "text/html": [
              "\n",
              "  <div id=\"df-a727d761-64ce-4f08-b3cb-7cf51d251f29\">\n",
              "    <div class=\"colab-df-container\">\n",
              "      <div>\n",
              "<style scoped>\n",
              "    .dataframe tbody tr th:only-of-type {\n",
              "        vertical-align: middle;\n",
              "    }\n",
              "\n",
              "    .dataframe tbody tr th {\n",
              "        vertical-align: top;\n",
              "    }\n",
              "\n",
              "    .dataframe thead th {\n",
              "        text-align: right;\n",
              "    }\n",
              "</style>\n",
              "<table border=\"1\" class=\"dataframe\">\n",
              "  <thead>\n",
              "    <tr style=\"text-align: right;\">\n",
              "      <th></th>\n",
              "      <th>ID</th>\n",
              "      <th>innings</th>\n",
              "      <th>overs</th>\n",
              "      <th>ballnumber</th>\n",
              "      <th>batter</th>\n",
              "      <th>bowler</th>\n",
              "      <th>non-striker</th>\n",
              "      <th>extra_type</th>\n",
              "      <th>batsman_run</th>\n",
              "      <th>extras_run</th>\n",
              "      <th>total_run</th>\n",
              "      <th>non_boundary</th>\n",
              "      <th>isWicketDelivery</th>\n",
              "      <th>player_out</th>\n",
              "      <th>kind</th>\n",
              "      <th>fielders_involved</th>\n",
              "      <th>BattingTeam</th>\n",
              "    </tr>\n",
              "  </thead>\n",
              "  <tbody>\n",
              "    <tr>\n",
              "      <th>23</th>\n",
              "      <td>1312200</td>\n",
              "      <td>1</td>\n",
              "      <td>3</td>\n",
              "      <td>6</td>\n",
              "      <td>YBK Jaiswal</td>\n",
              "      <td>Yash Dayal</td>\n",
              "      <td>JC Buttler</td>\n",
              "      <td>NaN</td>\n",
              "      <td>0</td>\n",
              "      <td>0</td>\n",
              "      <td>0</td>\n",
              "      <td>0</td>\n",
              "      <td>1</td>\n",
              "      <td>YBK Jaiswal</td>\n",
              "      <td>caught</td>\n",
              "      <td>R Sai Kishore</td>\n",
              "      <td>Rajasthan Royals</td>\n",
              "    </tr>\n",
              "    <tr>\n",
              "      <th>49</th>\n",
              "      <td>1312200</td>\n",
              "      <td>1</td>\n",
              "      <td>8</td>\n",
              "      <td>2</td>\n",
              "      <td>SV Samson</td>\n",
              "      <td>HH Pandya</td>\n",
              "      <td>JC Buttler</td>\n",
              "      <td>NaN</td>\n",
              "      <td>0</td>\n",
              "      <td>0</td>\n",
              "      <td>0</td>\n",
              "      <td>0</td>\n",
              "      <td>1</td>\n",
              "      <td>SV Samson</td>\n",
              "      <td>caught</td>\n",
              "      <td>R Sai Kishore</td>\n",
              "      <td>Rajasthan Royals</td>\n",
              "    </tr>\n",
              "    <tr>\n",
              "      <th>70</th>\n",
              "      <td>1312200</td>\n",
              "      <td>1</td>\n",
              "      <td>11</td>\n",
              "      <td>5</td>\n",
              "      <td>D Padikkal</td>\n",
              "      <td>Rashid Khan</td>\n",
              "      <td>JC Buttler</td>\n",
              "      <td>NaN</td>\n",
              "      <td>0</td>\n",
              "      <td>0</td>\n",
              "      <td>0</td>\n",
              "      <td>0</td>\n",
              "      <td>1</td>\n",
              "      <td>D Padikkal</td>\n",
              "      <td>caught</td>\n",
              "      <td>Mohammed Shami</td>\n",
              "      <td>Rajasthan Royals</td>\n",
              "    </tr>\n",
              "    <tr>\n",
              "      <th>72</th>\n",
              "      <td>1312200</td>\n",
              "      <td>1</td>\n",
              "      <td>12</td>\n",
              "      <td>1</td>\n",
              "      <td>JC Buttler</td>\n",
              "      <td>HH Pandya</td>\n",
              "      <td>SO Hetmyer</td>\n",
              "      <td>NaN</td>\n",
              "      <td>0</td>\n",
              "      <td>0</td>\n",
              "      <td>0</td>\n",
              "      <td>0</td>\n",
              "      <td>1</td>\n",
              "      <td>JC Buttler</td>\n",
              "      <td>caught</td>\n",
              "      <td>WP Saha</td>\n",
              "      <td>Rajasthan Royals</td>\n",
              "    </tr>\n",
              "    <tr>\n",
              "      <th>89</th>\n",
              "      <td>1312200</td>\n",
              "      <td>1</td>\n",
              "      <td>14</td>\n",
              "      <td>6</td>\n",
              "      <td>SO Hetmyer</td>\n",
              "      <td>HH Pandya</td>\n",
              "      <td>R Ashwin</td>\n",
              "      <td>NaN</td>\n",
              "      <td>0</td>\n",
              "      <td>0</td>\n",
              "      <td>0</td>\n",
              "      <td>0</td>\n",
              "      <td>1</td>\n",
              "      <td>SO Hetmyer</td>\n",
              "      <td>caught and bowled</td>\n",
              "      <td>NaN</td>\n",
              "      <td>Rajasthan Royals</td>\n",
              "    </tr>\n",
              "    <tr>\n",
              "      <th>...</th>\n",
              "      <td>...</td>\n",
              "      <td>...</td>\n",
              "      <td>...</td>\n",
              "      <td>...</td>\n",
              "      <td>...</td>\n",
              "      <td>...</td>\n",
              "      <td>...</td>\n",
              "      <td>...</td>\n",
              "      <td>...</td>\n",
              "      <td>...</td>\n",
              "      <td>...</td>\n",
              "      <td>...</td>\n",
              "      <td>...</td>\n",
              "      <td>...</td>\n",
              "      <td>...</td>\n",
              "      <td>...</td>\n",
              "      <td>...</td>\n",
              "    </tr>\n",
              "    <tr>\n",
              "      <th>17743</th>\n",
              "      <td>1304047</td>\n",
              "      <td>1</td>\n",
              "      <td>10</td>\n",
              "      <td>5</td>\n",
              "      <td>S Dube</td>\n",
              "      <td>AD Russell</td>\n",
              "      <td>RA Jadeja</td>\n",
              "      <td>NaN</td>\n",
              "      <td>0</td>\n",
              "      <td>0</td>\n",
              "      <td>0</td>\n",
              "      <td>0</td>\n",
              "      <td>1</td>\n",
              "      <td>S Dube</td>\n",
              "      <td>caught</td>\n",
              "      <td>SP Narine</td>\n",
              "      <td>Chennai Super Kings</td>\n",
              "    </tr>\n",
              "    <tr>\n",
              "      <th>17838</th>\n",
              "      <td>1304047</td>\n",
              "      <td>2</td>\n",
              "      <td>6</td>\n",
              "      <td>2</td>\n",
              "      <td>VR Iyer</td>\n",
              "      <td>DJ Bravo</td>\n",
              "      <td>AM Rahane</td>\n",
              "      <td>NaN</td>\n",
              "      <td>0</td>\n",
              "      <td>0</td>\n",
              "      <td>0</td>\n",
              "      <td>0</td>\n",
              "      <td>1</td>\n",
              "      <td>VR Iyer</td>\n",
              "      <td>caught</td>\n",
              "      <td>MS Dhoni</td>\n",
              "      <td>Kolkata Knight Riders</td>\n",
              "    </tr>\n",
              "    <tr>\n",
              "      <th>17860</th>\n",
              "      <td>1304047</td>\n",
              "      <td>2</td>\n",
              "      <td>9</td>\n",
              "      <td>6</td>\n",
              "      <td>N Rana</td>\n",
              "      <td>DJ Bravo</td>\n",
              "      <td>AM Rahane</td>\n",
              "      <td>NaN</td>\n",
              "      <td>0</td>\n",
              "      <td>0</td>\n",
              "      <td>0</td>\n",
              "      <td>0</td>\n",
              "      <td>1</td>\n",
              "      <td>N Rana</td>\n",
              "      <td>caught</td>\n",
              "      <td>AT Rayudu</td>\n",
              "      <td>Kolkata Knight Riders</td>\n",
              "    </tr>\n",
              "    <tr>\n",
              "      <th>17870</th>\n",
              "      <td>1304047</td>\n",
              "      <td>2</td>\n",
              "      <td>11</td>\n",
              "      <td>4</td>\n",
              "      <td>AM Rahane</td>\n",
              "      <td>MJ Santner</td>\n",
              "      <td>SS Iyer</td>\n",
              "      <td>NaN</td>\n",
              "      <td>0</td>\n",
              "      <td>0</td>\n",
              "      <td>0</td>\n",
              "      <td>0</td>\n",
              "      <td>1</td>\n",
              "      <td>AM Rahane</td>\n",
              "      <td>caught</td>\n",
              "      <td>RA Jadeja</td>\n",
              "      <td>Kolkata Knight Riders</td>\n",
              "    </tr>\n",
              "    <tr>\n",
              "      <th>17905</th>\n",
              "      <td>1304047</td>\n",
              "      <td>2</td>\n",
              "      <td>17</td>\n",
              "      <td>3</td>\n",
              "      <td>SW Billings</td>\n",
              "      <td>DJ Bravo</td>\n",
              "      <td>SS Iyer</td>\n",
              "      <td>NaN</td>\n",
              "      <td>0</td>\n",
              "      <td>0</td>\n",
              "      <td>0</td>\n",
              "      <td>0</td>\n",
              "      <td>1</td>\n",
              "      <td>SW Billings</td>\n",
              "      <td>caught</td>\n",
              "      <td>TU Deshpande</td>\n",
              "      <td>Kolkata Knight Riders</td>\n",
              "    </tr>\n",
              "  </tbody>\n",
              "</table>\n",
              "<p>912 rows × 17 columns</p>\n",
              "</div>\n",
              "      <button class=\"colab-df-convert\" onclick=\"convertToInteractive('df-a727d761-64ce-4f08-b3cb-7cf51d251f29')\"\n",
              "              title=\"Convert this dataframe to an interactive table.\"\n",
              "              style=\"display:none;\">\n",
              "        \n",
              "  <svg xmlns=\"http://www.w3.org/2000/svg\" height=\"24px\"viewBox=\"0 0 24 24\"\n",
              "       width=\"24px\">\n",
              "    <path d=\"M0 0h24v24H0V0z\" fill=\"none\"/>\n",
              "    <path d=\"M18.56 5.44l.94 2.06.94-2.06 2.06-.94-2.06-.94-.94-2.06-.94 2.06-2.06.94zm-11 1L8.5 8.5l.94-2.06 2.06-.94-2.06-.94L8.5 2.5l-.94 2.06-2.06.94zm10 10l.94 2.06.94-2.06 2.06-.94-2.06-.94-.94-2.06-.94 2.06-2.06.94z\"/><path d=\"M17.41 7.96l-1.37-1.37c-.4-.4-.92-.59-1.43-.59-.52 0-1.04.2-1.43.59L10.3 9.45l-7.72 7.72c-.78.78-.78 2.05 0 2.83L4 21.41c.39.39.9.59 1.41.59.51 0 1.02-.2 1.41-.59l7.78-7.78 2.81-2.81c.8-.78.8-2.07 0-2.86zM5.41 20L4 18.59l7.72-7.72 1.47 1.35L5.41 20z\"/>\n",
              "  </svg>\n",
              "      </button>\n",
              "      \n",
              "  <style>\n",
              "    .colab-df-container {\n",
              "      display:flex;\n",
              "      flex-wrap:wrap;\n",
              "      gap: 12px;\n",
              "    }\n",
              "\n",
              "    .colab-df-convert {\n",
              "      background-color: #E8F0FE;\n",
              "      border: none;\n",
              "      border-radius: 50%;\n",
              "      cursor: pointer;\n",
              "      display: none;\n",
              "      fill: #1967D2;\n",
              "      height: 32px;\n",
              "      padding: 0 0 0 0;\n",
              "      width: 32px;\n",
              "    }\n",
              "\n",
              "    .colab-df-convert:hover {\n",
              "      background-color: #E2EBFA;\n",
              "      box-shadow: 0px 1px 2px rgba(60, 64, 67, 0.3), 0px 1px 3px 1px rgba(60, 64, 67, 0.15);\n",
              "      fill: #174EA6;\n",
              "    }\n",
              "\n",
              "    [theme=dark] .colab-df-convert {\n",
              "      background-color: #3B4455;\n",
              "      fill: #D2E3FC;\n",
              "    }\n",
              "\n",
              "    [theme=dark] .colab-df-convert:hover {\n",
              "      background-color: #434B5C;\n",
              "      box-shadow: 0px 1px 3px 1px rgba(0, 0, 0, 0.15);\n",
              "      filter: drop-shadow(0px 1px 2px rgba(0, 0, 0, 0.3));\n",
              "      fill: #FFFFFF;\n",
              "    }\n",
              "  </style>\n",
              "\n",
              "      <script>\n",
              "        const buttonEl =\n",
              "          document.querySelector('#df-a727d761-64ce-4f08-b3cb-7cf51d251f29 button.colab-df-convert');\n",
              "        buttonEl.style.display =\n",
              "          google.colab.kernel.accessAllowed ? 'block' : 'none';\n",
              "\n",
              "        async function convertToInteractive(key) {\n",
              "          const element = document.querySelector('#df-a727d761-64ce-4f08-b3cb-7cf51d251f29');\n",
              "          const dataTable =\n",
              "            await google.colab.kernel.invokeFunction('convertToInteractive',\n",
              "                                                     [key], {});\n",
              "          if (!dataTable) return;\n",
              "\n",
              "          const docLinkHtml = 'Like what you see? Visit the ' +\n",
              "            '<a target=\"_blank\" href=https://colab.research.google.com/notebooks/data_table.ipynb>data table notebook</a>'\n",
              "            + ' to learn more about interactive tables.';\n",
              "          element.innerHTML = '';\n",
              "          dataTable['output_type'] = 'display_data';\n",
              "          await google.colab.output.renderOutput(dataTable, element);\n",
              "          const docLink = document.createElement('div');\n",
              "          docLink.innerHTML = docLinkHtml;\n",
              "          element.appendChild(docLink);\n",
              "        }\n",
              "      </script>\n",
              "    </div>\n",
              "  </div>\n",
              "  "
            ]
          },
          "metadata": {}
        }
      ]
    },
    {
      "cell_type": "code",
      "source": [
        "B_B.extras_run.value_counts()"
      ],
      "metadata": {
        "id": "fvwQJS9QlRf0",
        "outputId": "76fb4177-0c79-42b0-f1c6-57466a2ff753",
        "colab": {
          "base_uri": "https://localhost:8080/"
        }
      },
      "execution_count": 153,
      "outputs": [
        {
          "output_type": "execute_result",
          "data": {
            "text/plain": [
              "0    16862\n",
              "1      942\n",
              "4       38\n",
              "5       36\n",
              "2       33\n",
              "3        1\n",
              "Name: extras_run, dtype: int64"
            ]
          },
          "metadata": {},
          "execution_count": 153
        }
      ]
    },
    {
      "cell_type": "code",
      "source": [
        "mean(B_B.extras_run)"
      ],
      "metadata": {
        "id": "08a6lxlrgk95",
        "outputId": "092e3bdb-aec8-41b4-de5f-7474d889d615",
        "colab": {
          "base_uri": "https://localhost:8080/"
        }
      },
      "execution_count": 154,
      "outputs": [
        {
          "output_type": "execute_result",
          "data": {
            "text/plain": [
              "0.07497766860205449"
            ]
          },
          "metadata": {},
          "execution_count": 154
        }
      ]
    },
    {
      "cell_type": "code",
      "source": [
        "M_D.TossDecision.value_counts()"
      ],
      "metadata": {
        "id": "a6WKLUd3k7zO",
        "outputId": "fd001c60-f80b-43e2-ae29-cc5c0983b77c",
        "colab": {
          "base_uri": "https://localhost:8080/"
        }
      },
      "execution_count": 155,
      "outputs": [
        {
          "output_type": "execute_result",
          "data": {
            "text/plain": [
              "field    59\n",
              "bat      15\n",
              "Name: TossDecision, dtype: int64"
            ]
          },
          "metadata": {},
          "execution_count": 155
        }
      ]
    },
    {
      "cell_type": "code",
      "source": [
        "M_D = M_D.replace({'field': 0, 'bat': 1})\n",
        "mean(M_D.TossDecision)"
      ],
      "metadata": {
        "id": "TTGDX5iCmLL2",
        "outputId": "e25a1193-d9cd-4436-8e9f-a80b79de66fd",
        "colab": {
          "base_uri": "https://localhost:8080/"
        }
      },
      "execution_count": 156,
      "outputs": [
        {
          "output_type": "execute_result",
          "data": {
            "text/plain": [
              "0.20270270270270271"
            ]
          },
          "metadata": {},
          "execution_count": 156
        }
      ]
    },
    {
      "cell_type": "markdown",
      "source": [
        "**Avg Run by Teams in Powerplay**"
      ],
      "metadata": {
        "id": "4HM-emmMLbfi"
      }
    },
    {
      "cell_type": "code",
      "source": [
        "Avg=B_B[B_B['overs']<6].groupby(['ID','BattingTeam']).sum()['total_run'].groupby('BattingTeam').mean().sort_values(ascending=False)[2:]\n",
        "Avg"
      ],
      "metadata": {
        "id": "B4kU4YkfKuxn",
        "outputId": "ab97bde4-4f7b-4f3b-8a7a-0f3d1d753dea",
        "colab": {
          "base_uri": "https://localhost:8080/"
        }
      },
      "execution_count": 157,
      "outputs": [
        {
          "output_type": "execute_result",
          "data": {
            "text/plain": [
              "BattingTeam\n",
              "Rajasthan Royals               50.235294\n",
              "Gujarat Titans                 46.250000\n",
              "Chennai Super Kings            45.000000\n",
              "Mumbai Indians                 44.714286\n",
              "Lucknow Super Giants           44.666667\n",
              "Kolkata Knight Riders          43.571429\n",
              "Royal Challengers Bangalore    43.500000\n",
              "Sunrisers Hyderabad            42.142857\n",
              "Name: total_run, dtype: float64"
            ]
          },
          "metadata": {},
          "execution_count": 157
        }
      ]
    },
    {
      "cell_type": "code",
      "source": [
        "B_B.BattingTeam.value_counts()"
      ],
      "metadata": {
        "id": "F5p59P-tO3G9",
        "outputId": "766bbdbd-5ef4-44c8-8fe3-c5f65f28d606",
        "colab": {
          "base_uri": "https://localhost:8080/"
        }
      },
      "execution_count": 158,
      "outputs": [
        {
          "output_type": "execute_result",
          "data": {
            "text/plain": [
              "Rajasthan Royals               2107\n",
              "Gujarat Titans                 1971\n",
              "Royal Challengers Bangalore    1965\n",
              "Lucknow Super Giants           1840\n",
              "Chennai Super Kings            1719\n",
              "Punjab Kings                   1712\n",
              "Mumbai Indians                 1691\n",
              "Delhi Capitals                 1650\n",
              "Kolkata Knight Riders          1634\n",
              "Sunrisers Hyderabad            1623\n",
              "Name: BattingTeam, dtype: int64"
            ]
          },
          "metadata": {},
          "execution_count": 158
        }
      ]
    },
    {
      "cell_type": "code",
      "source": [
        "plt.figure(figsize=(6,6))\n",
        "sizes = B_B.BattingTeam.value_counts()\n",
        "labels = B_B.BattingTeam.value_counts().index\n",
        "plt.pie(sizes,colors = ['b','g','r'],\n",
        "         labels=labels,\n",
        "         autopct='%1.1f%%',\n",
        "         startangle=90,\n",
        "         pctdistance=0.75,\n",
        "         )\n",
        "\n",
        "#draw white circle\n",
        "centre_circle = plt.Circle((0,0),0.60,fc='white')\n",
        "fig = plt.gcf()\n",
        "fig.gca().add_artist(centre_circle)"
      ],
      "metadata": {
        "id": "OqiCTN4QOTZo",
        "outputId": "ddd48c4c-412e-4002-bf35-c862fecca379",
        "colab": {
          "base_uri": "https://localhost:8080/",
          "height": 375
        }
      },
      "execution_count": 159,
      "outputs": [
        {
          "output_type": "execute_result",
          "data": {
            "text/plain": [
              "<matplotlib.patches.Circle at 0x7f59269eee90>"
            ]
          },
          "metadata": {},
          "execution_count": 159
        },
        {
          "output_type": "display_data",
          "data": {
            "text/plain": [
              "<Figure size 432x432 with 1 Axes>"
            ],
            "image/png": "[encoded data removed]"
          },
          "metadata": {}
        }
      ]
    }
  ]
}